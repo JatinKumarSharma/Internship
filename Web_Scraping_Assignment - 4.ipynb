{
 "cells": [
  {
   "cell_type": "markdown",
   "id": "bdbe060e-25a3-4fc5-9890-edeca39543f6",
   "metadata": {},
   "source": [
    "1."
   ]
  },
  {
   "cell_type": "code",
   "execution_count": 1,
   "id": "423de437-1f45-4053-a0f4-ad6b26572397",
   "metadata": {},
   "outputs": [
    {
     "name": "stdout",
     "output_type": "stream",
     "text": [
      "Requirement already satisfied: selenium in c:\\users\\a k sharma\\anaconda3\\lib\\site-packages (4.21.0)\n",
      "Requirement already satisfied: urllib3<3,>=1.26 in c:\\users\\a k sharma\\anaconda3\\lib\\site-packages (from urllib3[socks]<3,>=1.26->selenium) (2.0.7)\n",
      "Requirement already satisfied: trio~=0.17 in c:\\users\\a k sharma\\anaconda3\\lib\\site-packages (from selenium) (0.25.1)\n",
      "Requirement already satisfied: trio-websocket~=0.9 in c:\\users\\a k sharma\\anaconda3\\lib\\site-packages (from selenium) (0.11.1)\n",
      "Requirement already satisfied: certifi>=2021.10.8 in c:\\users\\a k sharma\\anaconda3\\lib\\site-packages (from selenium) (2024.2.2)\n",
      "Requirement already satisfied: typing_extensions>=4.9.0 in c:\\users\\a k sharma\\anaconda3\\lib\\site-packages (from selenium) (4.9.0)\n",
      "Requirement already satisfied: attrs>=23.2.0 in c:\\users\\a k sharma\\anaconda3\\lib\\site-packages (from trio~=0.17->selenium) (23.2.0)\n",
      "Requirement already satisfied: sortedcontainers in c:\\users\\a k sharma\\anaconda3\\lib\\site-packages (from trio~=0.17->selenium) (2.4.0)\n",
      "Requirement already satisfied: idna in c:\\users\\a k sharma\\anaconda3\\lib\\site-packages (from trio~=0.17->selenium) (3.4)\n",
      "Requirement already satisfied: outcome in c:\\users\\a k sharma\\anaconda3\\lib\\site-packages (from trio~=0.17->selenium) (1.3.0.post0)\n",
      "Requirement already satisfied: sniffio>=1.3.0 in c:\\users\\a k sharma\\anaconda3\\lib\\site-packages (from trio~=0.17->selenium) (1.3.0)\n",
      "Requirement already satisfied: cffi>=1.14 in c:\\users\\a k sharma\\anaconda3\\lib\\site-packages (from trio~=0.17->selenium) (1.16.0)\n",
      "Requirement already satisfied: wsproto>=0.14 in c:\\users\\a k sharma\\anaconda3\\lib\\site-packages (from trio-websocket~=0.9->selenium) (1.2.0)\n",
      "Requirement already satisfied: pysocks!=1.5.7,<2.0,>=1.5.6 in c:\\users\\a k sharma\\anaconda3\\lib\\site-packages (from urllib3[socks]<3,>=1.26->selenium) (1.7.1)\n",
      "Requirement already satisfied: pycparser in c:\\users\\a k sharma\\anaconda3\\lib\\site-packages (from cffi>=1.14->trio~=0.17->selenium) (2.21)\n",
      "Requirement already satisfied: h11<1,>=0.9.0 in c:\\users\\a k sharma\\anaconda3\\lib\\site-packages (from wsproto>=0.14->trio-websocket~=0.9->selenium) (0.14.0)\n",
      "Note: you may need to restart the kernel to use updated packages.\n"
     ]
    }
   ],
   "source": [
    "pip install selenium"
   ]
  },
  {
   "cell_type": "code",
   "execution_count": 2,
   "id": "a8c1bf2b-471b-4f3f-aa58-3e3e4096991a",
   "metadata": {},
   "outputs": [],
   "source": [
    "import selenium\n",
    "import pandas as pd\n",
    "from selenium import webdriver\n",
    "import warnings\n",
    "warnings.filterwarnings('ignore')\n",
    "from selenium.webdriver.common.by import By\n",
    "import time"
   ]
  },
  {
   "cell_type": "code",
   "execution_count": 6,
   "id": "9f4a055e-e00a-4fb8-bdbe-ff258c8a2d72",
   "metadata": {},
   "outputs": [],
   "source": [
    "driver=webdriver.Chrome()"
   ]
  },
  {
   "cell_type": "code",
   "execution_count": 7,
   "id": "3bff2125-2fa3-400a-8fb2-a0e4f2a3c259",
   "metadata": {},
   "outputs": [],
   "source": [
    "driver.get(\"https://en.wikipedia.org/wiki/List_of_most-viewed_YouTube_videos\")"
   ]
  },
  {
   "cell_type": "code",
   "execution_count": 16,
   "id": "1c04c338-f363-4c2f-8c0f-6ccb5ebf4ed6",
   "metadata": {},
   "outputs": [],
   "source": [
    "tada=[]"
   ]
  },
  {
   "cell_type": "code",
   "execution_count": 17,
   "id": "4e3282b6-f5fc-4f71-b22b-8945493ad7fd",
   "metadata": {},
   "outputs": [],
   "source": [
    "table=driver.find_element(By.TAG_NAME,'table')"
   ]
  },
  {
   "cell_type": "code",
   "execution_count": 18,
   "id": "e6a8cae9-df68-487a-9140-f62f7ace793b",
   "metadata": {},
   "outputs": [],
   "source": [
    "rows=table.find_elements(By.TAG_NAME,'tr')"
   ]
  },
  {
   "cell_type": "code",
   "execution_count": 19,
   "id": "c45eb3ce-e438-4c04-82f9-76d2317e8f4b",
   "metadata": {},
   "outputs": [
    {
     "name": "stdout",
     "output_type": "stream",
     "text": [
      "[]\n",
      "['\"Baby Shark Dance\"[7]', \"Pinkfong Baby Shark - Kids' Songs & Stories\", '14.82', 'June 17, 2016', '[A]']\n",
      "['\"Despacito\"[10]', 'Luis Fonsi', '8.49', 'January 12, 2017', '[B]']\n",
      "['\"Johny Johny Yes Papa\"[18]', \"LooLoo Kids - Nursery Rhymes and Children's Songs\", '6.94', 'October 8, 2016', '']\n",
      "['\"Bath Song\"[19]', 'Cocomelon - Nursery Rhymes', '6.79', 'May 2, 2018', '']\n",
      "['\"Wheels on the Bus\"[20]', 'Cocomelon - Nursery Rhymes', '6.34', 'May 24, 2018', '']\n",
      "['\"See You Again\"[21]', 'Wiz Khalifa', '6.33', 'April 6, 2015', '[C]']\n",
      "['\"Shape of You\"[26]', 'Ed Sheeran', '6.30', 'January 30, 2017', '[D]']\n",
      "['\"Phonics Song with Two Words\"[29]', 'ChuChu TV Nursery Rhymes & Kids Songs', '5.90', 'March 6, 2014', '']\n",
      "['\"Uptown Funk\"[30]', 'Mark Ronson', '5.28', 'November 19, 2014', '']\n",
      "['\"Gangnam Style\"[31]', 'Psy', '5.22', 'July 15, 2012', '[E]']\n",
      "['\"Learning Colors – Colorful Eggs on a Farm\"[36]', 'Miroshka TV', '5.15', 'February 27, 2018', '']\n",
      "['\"Dame Tu Cosita\"[37]', 'Ultra Records', '4.72', 'April 5, 2018', '']\n",
      "['\"Axel F\"[38]', 'Crazy Frog', '4.66', 'June 16, 2009', '']\n",
      "['\"Masha and the Bear – Recipe for Disaster\"[39]', 'Get Movies', '4.59', 'January 31, 2012', '']\n",
      "['\"Baa Baa Black Sheep\"[40]', 'Cocomelon - Nursery Rhymes', '4.14', 'June 25, 2018', '']\n",
      "['\"Lakdi Ki Kathi\"[41]', 'Jingle Toons', '4.11', 'June 14, 2018', '']\n",
      "['\"Sugar\"[42]', 'Maroon 5', '4.08', 'January 14, 2015', '']\n",
      "['\"Counting Stars\"[43]', 'OneRepublic', '4.05', 'May 31, 2013', '']\n",
      "['\"Roar\"[44]', 'Katy Perry', '4.03', 'September 5, 2013', '']\n",
      "['\"Waka Waka (This Time for Africa)\"[45]', 'Shakira', '3.99', 'June 4, 2010', '']\n",
      "['\"Shree Hanuman Chalisa\"[46]', 'T-Series Bhakti Sagar', '3.94', 'May 10, 2011', '']\n",
      "['\"Humpty the train on a fruits ride\"[47]', 'Kiddiestv Hindi - Nursery Rhymes & Kids Songs', '3.87', 'January 26, 2018', '']\n",
      "['\"Sorry\"[48]', 'Justin Bieber', '3.83', 'October 22, 2015', '']\n",
      "['\"Thinking Out Loud\"[49]', 'Ed Sheeran', '3.79', 'October 7, 2014', '']\n",
      "['\"Perfect\"[50]', 'Ed Sheeran', '3.77', 'November 9, 2017', '']\n",
      "['\"Dark Horse\"[51]', 'Katy Perry', '3.76', 'February 20, 2014', '']\n",
      "['\"Let Her Go\"[52]', 'Passenger', '3.69', 'July 25, 2012', '']\n",
      "['\"Faded\"[53]', 'Alan Walker', '3.66', 'December 3, 2015', '']\n",
      "['\"Girls Like You\"[54]', 'Maroon 5', '3.64', 'May 31, 2018', '']\n",
      "['\"Lean On\"[55]', 'Major Lazer Official', '3.64', 'March 22, 2015', '']\n",
      "[]\n"
     ]
    }
   ],
   "source": [
    "for r in rows:\n",
    "    c=r.find_elements(By.TAG_NAME,'td')\n",
    "    rd=[i.text for i in c]\n",
    "    tada.append(rd)\n",
    "\n",
    "for r in tada:\n",
    "    print(r)"
   ]
  },
  {
   "cell_type": "code",
   "execution_count": null,
   "id": "2a8083a3-5a59-4dee-bdf8-fe3ee2354829",
   "metadata": {},
   "outputs": [],
   "source": []
  },
  {
   "cell_type": "markdown",
   "id": "5f062608-2f1f-42e7-b433-78d3911e2ba5",
   "metadata": {},
   "source": [
    "2."
   ]
  },
  {
   "cell_type": "code",
   "execution_count": 1,
   "id": "fd10be1d-9a9e-4bc1-a85c-cd00b460e252",
   "metadata": {},
   "outputs": [
    {
     "name": "stdout",
     "output_type": "stream",
     "text": [
      "Requirement already satisfied: selenium in c:\\users\\a k sharma\\anaconda3\\lib\\site-packages (4.21.0)\n",
      "Requirement already satisfied: urllib3<3,>=1.26 in c:\\users\\a k sharma\\anaconda3\\lib\\site-packages (from urllib3[socks]<3,>=1.26->selenium) (2.0.7)\n",
      "Requirement already satisfied: trio~=0.17 in c:\\users\\a k sharma\\anaconda3\\lib\\site-packages (from selenium) (0.25.1)\n",
      "Requirement already satisfied: trio-websocket~=0.9 in c:\\users\\a k sharma\\anaconda3\\lib\\site-packages (from selenium) (0.11.1)\n",
      "Requirement already satisfied: certifi>=2021.10.8 in c:\\users\\a k sharma\\anaconda3\\lib\\site-packages (from selenium) (2024.2.2)\n",
      "Requirement already satisfied: typing_extensions>=4.9.0 in c:\\users\\a k sharma\\anaconda3\\lib\\site-packages (from selenium) (4.9.0)\n",
      "Requirement already satisfied: attrs>=23.2.0 in c:\\users\\a k sharma\\anaconda3\\lib\\site-packages (from trio~=0.17->selenium) (23.2.0)\n",
      "Requirement already satisfied: sortedcontainers in c:\\users\\a k sharma\\anaconda3\\lib\\site-packages (from trio~=0.17->selenium) (2.4.0)\n",
      "Requirement already satisfied: idna in c:\\users\\a k sharma\\anaconda3\\lib\\site-packages (from trio~=0.17->selenium) (3.4)\n",
      "Requirement already satisfied: outcome in c:\\users\\a k sharma\\anaconda3\\lib\\site-packages (from trio~=0.17->selenium) (1.3.0.post0)\n",
      "Requirement already satisfied: sniffio>=1.3.0 in c:\\users\\a k sharma\\anaconda3\\lib\\site-packages (from trio~=0.17->selenium) (1.3.0)\n",
      "Requirement already satisfied: cffi>=1.14 in c:\\users\\a k sharma\\anaconda3\\lib\\site-packages (from trio~=0.17->selenium) (1.16.0)\n",
      "Requirement already satisfied: wsproto>=0.14 in c:\\users\\a k sharma\\anaconda3\\lib\\site-packages (from trio-websocket~=0.9->selenium) (1.2.0)\n",
      "Requirement already satisfied: pysocks!=1.5.7,<2.0,>=1.5.6 in c:\\users\\a k sharma\\anaconda3\\lib\\site-packages (from urllib3[socks]<3,>=1.26->selenium) (1.7.1)\n",
      "Requirement already satisfied: pycparser in c:\\users\\a k sharma\\anaconda3\\lib\\site-packages (from cffi>=1.14->trio~=0.17->selenium) (2.21)\n",
      "Requirement already satisfied: h11<1,>=0.9.0 in c:\\users\\a k sharma\\anaconda3\\lib\\site-packages (from wsproto>=0.14->trio-websocket~=0.9->selenium) (0.14.0)\n",
      "Note: you may need to restart the kernel to use updated packages.\n"
     ]
    }
   ],
   "source": [
    "pip install selenium"
   ]
  },
  {
   "cell_type": "code",
   "execution_count": 2,
   "id": "4ab3b0b6-7df8-44ec-bc55-3bbc3a9c4a20",
   "metadata": {},
   "outputs": [],
   "source": [
    "import selenium\n",
    "import pandas as pd\n",
    "from selenium import webdriver\n",
    "import warnings\n",
    "warnings.filterwarnings('ignore')\n",
    "from selenium.webdriver.common.by import By\n",
    "import time"
   ]
  },
  {
   "cell_type": "code",
   "execution_count": 3,
   "id": "dffed461-80c7-4534-8ba4-9c4b301eb75d",
   "metadata": {},
   "outputs": [],
   "source": [
    "driver=webdriver.Chrome()"
   ]
  },
  {
   "cell_type": "code",
   "execution_count": 4,
   "id": "00786be1-f44c-45c8-979c-c630951dae20",
   "metadata": {},
   "outputs": [],
   "source": [
    "driver.get(\"https://www.bcci.tv/\")"
   ]
  },
  {
   "cell_type": "code",
   "execution_count": 5,
   "id": "77a92a02-40b4-436f-ad9e-8be13c255c95",
   "metadata": {},
   "outputs": [],
   "source": [
    "fix=driver.find_element(By.XPATH,'/html/body/header/div[3]/div[2]/ul/div[1]/a[2]')\n",
    "fix.click()"
   ]
  },
  {
   "cell_type": "code",
   "execution_count": 6,
   "id": "34be72bb-3acd-468a-843e-f1454fdaafac",
   "metadata": {},
   "outputs": [],
   "source": [
    "s=[]\n",
    "p=[]\n",
    "d=[]\n",
    "t=[]"
   ]
  },
  {
   "cell_type": "code",
   "execution_count": 7,
   "id": "481e975b-3767-4158-81c4-033d02cee908",
   "metadata": {},
   "outputs": [],
   "source": [
    "se=driver.find_elements(By.XPATH,'//h5[@class=\"match-tournament-name ng-binding\"]')\n",
    "for i in se:\n",
    "    s.append(i.text)\n",
    "\n",
    "pl=driver.find_elements(By.XPATH,'//div[@class=\"match-venue ng-scope\"]/span')\n",
    "for i in pl:\n",
    "    p.append(i.text)\n",
    "\n",
    "da=driver.find_elements(By.XPATH,'//div[@class=\"match-dates ng-binding\"]')\n",
    "for i in da:\n",
    "    d.append(i.text)\n",
    "\n",
    "ti=driver.find_elements(By.XPATH,'//div[@class=\"match-time no-margin ng-binding\"]')\n",
    "for i in ti:\n",
    "    t.append(i.text)"
   ]
  },
  {
   "cell_type": "code",
   "execution_count": 8,
   "id": "9aafbb1a-fee3-488b-85d0-e6be6e833fa0",
   "metadata": {},
   "outputs": [
    {
     "name": "stdout",
     "output_type": "stream",
     "text": [
      "['India Tour Of Sri Lanka T20 Series 2024', 'Asia Cup Women T20 2024', 'India Tour Of Sri Lanka T20 Series 2024', 'India Tour Of Sri Lanka T20 Series 2024', 'India Tour Of Sri Lanka ODI Series 2024'] ['Pallekele International Cricket Stadium,', 'Pallekele', 'Rangiri Dambulla International Stadium,', 'Dambulla', 'Pallekele International Cricket Stadium,', 'Pallekele', 'Pallekele International Cricket Stadium,', 'Pallekele', 'R Premadasa International Stadium,', 'Colombo'] ['27 Jul', '28 Jul', '28 Jul', '30 Jul', '2 Aug'] ['19:00 IST', '15:00 IST', '19:00 IST', '19:00 IST', '14:30 IST']\n"
     ]
    }
   ],
   "source": [
    "print(s,p,d,t)"
   ]
  },
  {
   "cell_type": "code",
   "execution_count": null,
   "id": "3ce91f36-dcf2-42dc-881d-0e0cb87be33b",
   "metadata": {},
   "outputs": [],
   "source": []
  },
  {
   "cell_type": "markdown",
   "id": "a6be8973-8a23-425b-a7ad-ad2113e6c26f",
   "metadata": {},
   "source": [
    "3."
   ]
  },
  {
   "cell_type": "code",
   "execution_count": 70,
   "id": "20b3fad8-7345-4381-acc0-8243eb34dbac",
   "metadata": {},
   "outputs": [
    {
     "name": "stdout",
     "output_type": "stream",
     "text": [
      "Requirement already satisfied: selenium in c:\\users\\a k sharma\\anaconda3\\lib\\site-packages (4.21.0)\n",
      "Requirement already satisfied: urllib3<3,>=1.26 in c:\\users\\a k sharma\\anaconda3\\lib\\site-packages (from urllib3[socks]<3,>=1.26->selenium) (2.0.7)\n",
      "Requirement already satisfied: trio~=0.17 in c:\\users\\a k sharma\\anaconda3\\lib\\site-packages (from selenium) (0.25.1)\n",
      "Requirement already satisfied: trio-websocket~=0.9 in c:\\users\\a k sharma\\anaconda3\\lib\\site-packages (from selenium) (0.11.1)\n",
      "Requirement already satisfied: certifi>=2021.10.8 in c:\\users\\a k sharma\\anaconda3\\lib\\site-packages (from selenium) (2024.2.2)\n",
      "Requirement already satisfied: typing_extensions>=4.9.0 in c:\\users\\a k sharma\\anaconda3\\lib\\site-packages (from selenium) (4.9.0)\n",
      "Requirement already satisfied: attrs>=23.2.0 in c:\\users\\a k sharma\\anaconda3\\lib\\site-packages (from trio~=0.17->selenium) (23.2.0)\n",
      "Requirement already satisfied: sortedcontainers in c:\\users\\a k sharma\\anaconda3\\lib\\site-packages (from trio~=0.17->selenium) (2.4.0)\n",
      "Requirement already satisfied: idna in c:\\users\\a k sharma\\anaconda3\\lib\\site-packages (from trio~=0.17->selenium) (3.4)\n",
      "Requirement already satisfied: outcome in c:\\users\\a k sharma\\anaconda3\\lib\\site-packages (from trio~=0.17->selenium) (1.3.0.post0)\n",
      "Requirement already satisfied: sniffio>=1.3.0 in c:\\users\\a k sharma\\anaconda3\\lib\\site-packages (from trio~=0.17->selenium) (1.3.0)\n",
      "Requirement already satisfied: cffi>=1.14 in c:\\users\\a k sharma\\anaconda3\\lib\\site-packages (from trio~=0.17->selenium) (1.16.0)\n",
      "Requirement already satisfied: wsproto>=0.14 in c:\\users\\a k sharma\\anaconda3\\lib\\site-packages (from trio-websocket~=0.9->selenium) (1.2.0)\n",
      "Requirement already satisfied: pysocks!=1.5.7,<2.0,>=1.5.6 in c:\\users\\a k sharma\\anaconda3\\lib\\site-packages (from urllib3[socks]<3,>=1.26->selenium) (1.7.1)\n",
      "Requirement already satisfied: pycparser in c:\\users\\a k sharma\\anaconda3\\lib\\site-packages (from cffi>=1.14->trio~=0.17->selenium) (2.21)\n",
      "Requirement already satisfied: h11<1,>=0.9.0 in c:\\users\\a k sharma\\anaconda3\\lib\\site-packages (from wsproto>=0.14->trio-websocket~=0.9->selenium) (0.14.0)\n",
      "Note: you may need to restart the kernel to use updated packages.\n"
     ]
    }
   ],
   "source": [
    "pip install selenium"
   ]
  },
  {
   "cell_type": "code",
   "execution_count": 71,
   "id": "1f35b357-9753-462d-8653-fdc411cde272",
   "metadata": {},
   "outputs": [],
   "source": [
    "import selenium\n",
    "import pandas as pd\n",
    "from selenium import webdriver\n",
    "import warnings\n",
    "warnings.filterwarnings('ignore')\n",
    "from selenium.webdriver.common.by import By\n",
    "import time"
   ]
  },
  {
   "cell_type": "code",
   "execution_count": 72,
   "id": "362eb5f2-4a95-4367-803d-958588dd5cea",
   "metadata": {},
   "outputs": [],
   "source": [
    "driver=webdriver.Chrome()"
   ]
  },
  {
   "cell_type": "code",
   "execution_count": 73,
   "id": "0a4ed548-04ab-4391-b6e7-b132923b5f87",
   "metadata": {},
   "outputs": [],
   "source": [
    "driver.get(\"http://statisticstimes.com/\")"
   ]
  },
  {
   "cell_type": "code",
   "execution_count": 74,
   "id": "238a331a-86c4-4698-a246-2e9548b6060a",
   "metadata": {},
   "outputs": [],
   "source": [
    "drop=driver.find_element(By.XPATH,'/html/body/div[2]/div[1]/div[2]/div[2]/button')\n",
    "drop.click()"
   ]
  },
  {
   "cell_type": "code",
   "execution_count": 75,
   "id": "e4966b59-fdf8-4c44-b9b6-9cb01094819e",
   "metadata": {},
   "outputs": [],
   "source": [
    "op=driver.find_element(By.XPATH,'/html/body/div[2]/div[1]/div[2]/div[2]/div/a[3]')\n",
    "op.click()"
   ]
  },
  {
   "cell_type": "code",
   "execution_count": 76,
   "id": "346727ae-2e91-4d44-9f6e-a8857c43e0cf",
   "metadata": {},
   "outputs": [],
   "source": [
    "gois=driver.find_element(By.XPATH,'/html/body/div[2]/div[2]/div[2]/ul/li[1]/a')\n",
    "gois.click()"
   ]
  },
  {
   "cell_type": "code",
   "execution_count": 32,
   "id": "fc87895c-9d56-4a67-958f-6b0e450ec5c0",
   "metadata": {},
   "outputs": [],
   "source": [
    "tada1=[]"
   ]
  },
  {
   "cell_type": "code",
   "execution_count": 34,
   "id": "f4949fef-3aeb-4fc3-a90c-7da530dd467a",
   "metadata": {},
   "outputs": [],
   "source": [
    "t=driver.find_element(By.XPATH,'//table[@id=\"table_id\"]')"
   ]
  },
  {
   "cell_type": "code",
   "execution_count": 35,
   "id": "d3203a83-f004-4e20-9c88-01822553ce5f",
   "metadata": {},
   "outputs": [],
   "source": [
    "rows=t.find_elements(By.TAG_NAME,'tr')"
   ]
  },
  {
   "cell_type": "code",
   "execution_count": 36,
   "id": "ee26f4b0-8f87-4327-86af-59046709b844",
   "metadata": {},
   "outputs": [
    {
     "name": "stdout",
     "output_type": "stream",
     "text": [
      "[]\n",
      "[]\n",
      "['1', 'Maharashtra', '-', '-', '3,108,022', '13.17%', '414.928', '-', '-', '2,027,971']\n",
      "['2', 'Tamil Nadu', '2,700,109', '2,364,514', '2,071,286', '8.78%', '276.522', '1,572,601', '1,453,321', '1,343,287']\n",
      "['3', 'Karnataka', '2,500,733', '2,269,995', '1,978,094', '8.38%', '264.080', '1,423,229', '1,335,052', '1,235,377']\n",
      "['4', 'Uttar Pradesh', '2,547,861', '2,258,040', '1,975,595', '8.37%', '263.747', '1,423,358', '1,318,027', '1,200,093']\n",
      "['5', 'Gujarat', '-', '2,230,609', '1,928,683', '8.17%', '257.484', '-', '1,475,629', '1,365,922']\n",
      "['6', 'West Bengal', '1,700,939', '1,531,758', '1,329,238', '5.63%', '177.456', '904,088', '839,805', '787,439']\n",
      "['7', 'Rajasthan', '1,524,030', '1,365,849', '1,193,489', '5.06%', '159.334', '842,621', '784,655', '727,805']\n",
      "['8', 'Andhra Pradesh', '1,439,674', '1,303,524', '1,148,471', '4.87%', '153.324', '820,894', '764,685', '722,727']\n",
      "['9', 'Telangana', '1,463,960', '1,308,034', '1,124,204', '4.76%', '150.084', '767,936', '715,157', '669,229']\n",
      "['10', 'Madhya Pradesh', '1,363,327', '1,246,471', '1,092,964', '4.63%', '145.913', '660,363', '622,908', '584,470']\n",
      "['11', 'Kerala', '-', '1,046,188', '934,542', '3.96%', '124.764', '-', '616,189', '578,057']\n",
      "['12', 'Delhi', '1,107,746', '1,014,688', '881,336', '3.73%', '117.660', '672,247', '625,981', '580,396']\n",
      "['13', 'Haryana', '1,095,535', '984,055', '868,905', '3.68%', '116.001', '634,027', '587,198', '544,317']\n",
      "['14', 'Odisha', '832,790', '753,177', '662,886', '2.81%', '88.497', '503,871', '464,574', '430,541']\n",
      "['15', 'Bihar', '-', '751,396', '650,302', '2.76%', '86.817', '-', '442,473', '399,930']\n",
      "['16', 'Punjab', '736,423', '676,164', '617,192', '2.62%', '82.397', '493,283', '462,053', '434,261']\n",
      "['17', 'Assam', '565,401', '493,167', '411,454', '1.74%', '54.930', '318,559', '300,799', '278,835']\n",
      "['18', 'Chhattisgarh', '505,887', '464,399', '410,525', '1.74%', '54.806', '321,945', '302,119', '280,609']\n",
      "['19', 'Jharkhand', '-', '393,722', '358,863', '1.52%', '47.909', '-', '259,800', '243,348']\n",
      "['20', 'Uttarakhand', '346,206', '303,781', '267,143', '1.13%', '35.664', '213,378', '198,341', '184,274']\n",
      "['21', 'Jammu & Kashmir', '246,465', '224,226', '193,352', '0.82%', '25.813', '139,171', '129,573', '119,174']\n",
      "['22', 'Himachal Pradesh', '207,430', '191,728', '172,162', '0.73%', '22.984', '142,800', '133,372', '124,770']\n",
      "['23', 'Goa', '-', '93,672', '84,266', '0.36%', '11.250', '-', '59,867', '55,342']\n",
      "['24', 'Tripura', '-', '72,636', '62,550', '0.27%', '8.351', '-', '42,997', '39,487']\n",
      "['25', 'Chandigarh', '-', '54,285', '46,096', '0.20%', '6.154', '-', '33,879', '30,587']\n",
      "['26', 'Puducherry', '-', '49,643', '43,810', '0.19%', '5.849', '-', '28,849', '27,131']\n",
      "['27', 'Meghalaya', '47,381', '42,697', '38,785', '0.16%', '5.178', '26,524', '25,209', '24,267']\n",
      "['28', 'Sikkim', '-', '42,756', '37,557', '0.16%', '5.014', '-', '22,144', '20,728']\n",
      "['29', 'Manipur', '-', '-', '36,594', '0.16%', '4.885', '-', '-', '20,515']\n",
      "['30', 'Arunachal Pradesh', '-', '39,630', '34,775', '0.15%', '4.643', '-', '21,085', '19,707']\n",
      "['31', 'Nagaland', '-', '35,643', '31,038', '0.13%', '4.144', '-', '18,993', '17,336']\n",
      "['32', 'Mizoram', '-', '-', '27,824', '0.12%', '3.715', '-', '-', '18,494']\n",
      "['33', 'Andaman & Nicobar Islands', '-', '-', '10,371', '0.04%', '1.385', '-', '-', '7,172']\n",
      "['', 'India', '29,389,686', '26,949,646', '23,597,399', '', '3,150', '17,290,281', '16,071,429', '15,021,846']\n"
     ]
    }
   ],
   "source": [
    "for r in rows:\n",
    "    c=r.find_elements(By.TAG_NAME,'td')\n",
    "    rd=[i.text for i in c]\n",
    "    tada1.append(rd)\n",
    "\n",
    "for r in tada1:\n",
    "    print(r)"
   ]
  },
  {
   "cell_type": "code",
   "execution_count": null,
   "id": "4a20b0b5-119c-4ebd-977b-97b73afa8eb6",
   "metadata": {},
   "outputs": [],
   "source": []
  },
  {
   "cell_type": "markdown",
   "id": "82d1d2c3-51bc-46cd-ad2a-8f23d4cc9e1b",
   "metadata": {},
   "source": [
    "OR"
   ]
  },
  {
   "cell_type": "code",
   "execution_count": 77,
   "id": "4fb143a9-e929-457f-8fe6-d980bd0f3235",
   "metadata": {},
   "outputs": [],
   "source": [
    "tada3=[]"
   ]
  },
  {
   "cell_type": "code",
   "execution_count": 78,
   "id": "f01303f3-73fa-46bb-b5fa-18c6b65c9505",
   "metadata": {},
   "outputs": [],
   "source": [
    "tab1=driver.find_element(By.XPATH,'//table[@id=\"table_id\"]')"
   ]
  },
  {
   "cell_type": "code",
   "execution_count": 79,
   "id": "705f3d55-da95-438a-b3dc-2d35997bc701",
   "metadata": {},
   "outputs": [],
   "source": [
    "rows1=tab1.find_elements(By.TAG_NAME,'tr')"
   ]
  },
  {
   "cell_type": "code",
   "execution_count": 80,
   "id": "9517f1af-7d7b-457d-9b9a-4b45436a3477",
   "metadata": {},
   "outputs": [
    {
     "name": "stdout",
     "output_type": "stream",
     "text": [
      "['1', '2', '3', '4', '5', '6', '7', '8', '9', '10', '11', '12', '13', '14', '15', '16', '17', '18', '19', '20', '21', '22', '23', '24', '25', '26', '27', '28', '29', '30', '31', '32', '33', '', '1', '2', '3', '4', '5', '6', '7', '8', '9', '10', '11', '12', '13', '14', '15', '16', '17', '18', '19', '20', '21', '22', '23', '24', '25', '26', '27', '28', '29', '30', '31', '32', '33', '']\n",
      "['Maharashtra', 'Tamil Nadu', 'Karnataka', 'Uttar Pradesh', 'Gujarat', 'West Bengal', 'Rajasthan', 'Andhra Pradesh', 'Telangana', 'Madhya Pradesh', 'Kerala', 'Delhi', 'Haryana', 'Odisha', 'Bihar', 'Punjab', 'Assam', 'Chhattisgarh', 'Jharkhand', 'Uttarakhand', 'Jammu & Kashmir', 'Himachal Pradesh', 'Goa', 'Tripura', 'Chandigarh', 'Puducherry', 'Meghalaya', 'Sikkim', 'Manipur', 'Arunachal Pradesh', 'Nagaland', 'Mizoram', 'Andaman & Nicobar Islands', 'India', 'Maharashtra', 'Tamil Nadu', 'Karnataka', 'Uttar Pradesh', 'Gujarat', 'West Bengal', 'Rajasthan', 'Andhra Pradesh', 'Telangana', 'Madhya Pradesh', 'Kerala', 'Delhi', 'Haryana', 'Bihar', 'Odisha', 'Punjab', 'Assam', 'Chhattisgarh', 'Jharkhand', 'Uttarakhand', 'Jammu & Kashmir', 'Himachal Pradesh', 'Goa', 'Tripura', 'Chandigarh', 'Puducherry', 'Meghalaya', 'Manipur', 'Sikkim', 'Arunachal Pradesh', 'Nagaland', 'Mizoram', 'Andaman & Nicobar Islands', 'India']\n",
      "['-', '2,700,109', '2,500,733', '2,547,861', '-', '1,700,939', '1,524,030', '1,439,674', '1,463,960', '1,363,327', '-', '1,107,746', '1,095,535', '832,790', '-', '736,423', '565,401', '505,887', '-', '346,206', '246,465', '207,430', '-', '-', '-', '-', '47,381', '-', '-', '-', '-', '-', '-', '29,389,686', '-', '2,417,237', '2,261,867', '2,217,055', '-', '1,531,371', '1,366,626', '1,291,518', '1,326,022', '1,242,883', '-', '997,171', '985,877', '-', '749,809', '639,252', '487,584', '447,682', '-', '304,592', '200,046', '176,164', '-', '-', '-', '-', '42,214', '-', '-', '-', '-', '-', '-', '25,561,438']\n",
      "['13.17%', '8.78%', '8.38%', '8.37%', '8.17%', '5.63%', '5.06%', '4.87%', '4.76%', '4.63%', '3.96%', '3.73%', '3.68%', '2.81%', '2.76%', '2.62%', '1.74%', '1.74%', '1.52%', '1.13%', '0.82%', '0.73%', '0.36%', '0.27%', '0.20%', '0.19%', '0.16%', '0.16%', '0.16%', '0.15%', '0.13%', '0.12%', '0.04%', '23,597,399', '13.03%', '8.98%', '8.67%', '8.31%', '8.23%', '5.81%', '5.18%', '4.99%', '4.93%', '4.81%', '3.99%', '3.79%', '3.77%', '2.86%', '2.81%', '2.62%', '1.77%', '1.77%', '1.58%', '1.14%', '0.76%', '0.70%', '0.36%', '0.27%', '0.20%', '0.19%', '0.17%', '0.16%', '0.15%', '0.15%', '0.13%', '0.12%', '0.04%', '20,652,786']\n",
      "['414.928', '276.522', '264.080', '263.747', '257.484', '177.456', '159.334', '153.324', '150.084', '145.913', '124.764', '117.660', '116.001', '88.497', '86.817', '82.397', '54.930', '54.806', '47.909', '35.664', '25.813', '22.984', '11.250', '8.351', '6.154', '5.849', '5.178', '5.014', '4.885', '4.643', '4.144', '3.715', '1.385', '', '-', '1,384,921', '1,263,925', '1,206,156', '-', '791,144', '737,042', '723,343', '679,552', '579,234', '-', '590,836', '561,368', '-', '443,233', '424,857', '288,842', '279,803', '-', '186,484', '108,830', '120,733', '-', '-', '-', '-', '23,063', '-', '-', '-', '-', '-', '-', '']\n",
      "['1', '2', '3', '4', '5', '6', '7', '8', '9', '10', '11', '12', '13', '14', '15', '16', '17', '18', '19', '20', '21', '22', '23', '24', '25', '26', '27', '28', '29', '30', '31', '32', '33', '', '1', '2', '3', '4', '5', '6', '7', '8', '9', '10', '11', '12', '13', '14', '15', '16', '17', '18', '19', '20', '21', '22', '23', '24', '25', '26', '27', '28', '29', '30', '31', '32', '33', '']\n",
      "['Maharashtra', 'Tamil Nadu', 'Karnataka', 'Uttar Pradesh', 'Gujarat', 'West Bengal', 'Rajasthan', 'Andhra Pradesh', 'Telangana', 'Madhya Pradesh', 'Kerala', 'Delhi', 'Haryana', 'Odisha', 'Bihar', 'Punjab', 'Assam', 'Chhattisgarh', 'Jharkhand', 'Uttarakhand', 'Jammu & Kashmir', 'Himachal Pradesh', 'Goa', 'Tripura', 'Chandigarh', 'Puducherry', 'Meghalaya', 'Sikkim', 'Manipur', 'Arunachal Pradesh', 'Nagaland', 'Mizoram', 'Andaman & Nicobar Islands', 'India', 'Maharashtra', 'Tamil Nadu', 'Karnataka', 'Uttar Pradesh', 'Gujarat', 'West Bengal', 'Rajasthan', 'Andhra Pradesh', 'Telangana', 'Madhya Pradesh', 'Kerala', 'Delhi', 'Haryana', 'Bihar', 'Odisha', 'Punjab', 'Assam', 'Chhattisgarh', 'Jharkhand', 'Uttarakhand', 'Jammu & Kashmir', 'Himachal Pradesh', 'Goa', 'Tripura', 'Chandigarh', 'Puducherry', 'Meghalaya', 'Manipur', 'Sikkim', 'Arunachal Pradesh', 'Nagaland', 'Mizoram', 'Andaman & Nicobar Islands', 'India']\n",
      "['-', '2,700,109', '2,500,733', '2,547,861', '-', '1,700,939', '1,524,030', '1,439,674', '1,463,960', '1,363,327', '-', '1,107,746', '1,095,535', '832,790', '-', '736,423', '565,401', '505,887', '-', '346,206', '246,465', '207,430', '-', '-', '-', '-', '47,381', '-', '-', '-', '-', '-', '-', '29,389,686', '-', '2,417,237', '2,261,867', '2,217,055', '-', '1,531,371', '1,366,626', '1,291,518', '1,326,022', '1,242,883', '-', '997,171', '985,877', '-', '749,809', '639,252', '487,584', '447,682', '-', '304,592', '200,046', '176,164', '-', '-', '-', '-', '42,214', '-', '-', '-', '-', '-', '-', '25,561,438']\n",
      "['13.17%', '8.78%', '8.38%', '8.37%', '8.17%', '5.63%', '5.06%', '4.87%', '4.76%', '4.63%', '3.96%', '3.73%', '3.68%', '2.81%', '2.76%', '2.62%', '1.74%', '1.74%', '1.52%', '1.13%', '0.82%', '0.73%', '0.36%', '0.27%', '0.20%', '0.19%', '0.16%', '0.16%', '0.16%', '0.15%', '0.13%', '0.12%', '0.04%', '23,597,399', '13.03%', '8.98%', '8.67%', '8.31%', '8.23%', '5.81%', '5.18%', '4.99%', '4.93%', '4.81%', '3.99%', '3.79%', '3.77%', '2.86%', '2.81%', '2.62%', '1.77%', '1.77%', '1.58%', '1.14%', '0.76%', '0.70%', '0.36%', '0.27%', '0.20%', '0.19%', '0.17%', '0.16%', '0.15%', '0.15%', '0.13%', '0.12%', '0.04%', '20,652,786']\n",
      "['414.928', '276.522', '264.080', '263.747', '257.484', '177.456', '159.334', '153.324', '150.084', '145.913', '124.764', '117.660', '116.001', '88.497', '86.817', '82.397', '54.930', '54.806', '47.909', '35.664', '25.813', '22.984', '11.250', '8.351', '6.154', '5.849', '5.178', '5.014', '4.885', '4.643', '4.144', '3.715', '1.385', '', '-', '1,384,921', '1,263,925', '1,206,156', '-', '791,144', '737,042', '723,343', '679,552', '579,234', '-', '590,836', '561,368', '-', '443,233', '424,857', '288,842', '279,803', '-', '186,484', '108,830', '120,733', '-', '-', '-', '-', '23,063', '-', '-', '-', '-', '-', '-', '']\n",
      "['1', '2', '3', '4', '5', '6', '7', '8', '9', '10', '11', '12', '13', '14', '15', '16', '17', '18', '19', '20', '21', '22', '23', '24', '25', '26', '27', '28', '29', '30', '31', '32', '33', '', '1', '2', '3', '4', '5', '6', '7', '8', '9', '10', '11', '12', '13', '14', '15', '16', '17', '18', '19', '20', '21', '22', '23', '24', '25', '26', '27', '28', '29', '30', '31', '32', '33', '']\n",
      "['Maharashtra', 'Tamil Nadu', 'Karnataka', 'Uttar Pradesh', 'Gujarat', 'West Bengal', 'Rajasthan', 'Andhra Pradesh', 'Telangana', 'Madhya Pradesh', 'Kerala', 'Delhi', 'Haryana', 'Odisha', 'Bihar', 'Punjab', 'Assam', 'Chhattisgarh', 'Jharkhand', 'Uttarakhand', 'Jammu & Kashmir', 'Himachal Pradesh', 'Goa', 'Tripura', 'Chandigarh', 'Puducherry', 'Meghalaya', 'Sikkim', 'Manipur', 'Arunachal Pradesh', 'Nagaland', 'Mizoram', 'Andaman & Nicobar Islands', 'India', 'Maharashtra', 'Tamil Nadu', 'Karnataka', 'Uttar Pradesh', 'Gujarat', 'West Bengal', 'Rajasthan', 'Andhra Pradesh', 'Telangana', 'Madhya Pradesh', 'Kerala', 'Delhi', 'Haryana', 'Bihar', 'Odisha', 'Punjab', 'Assam', 'Chhattisgarh', 'Jharkhand', 'Uttarakhand', 'Jammu & Kashmir', 'Himachal Pradesh', 'Goa', 'Tripura', 'Chandigarh', 'Puducherry', 'Meghalaya', 'Manipur', 'Sikkim', 'Arunachal Pradesh', 'Nagaland', 'Mizoram', 'Andaman & Nicobar Islands', 'India']\n",
      "['-', '2,700,109', '2,500,733', '2,547,861', '-', '1,700,939', '1,524,030', '1,439,674', '1,463,960', '1,363,327', '-', '1,107,746', '1,095,535', '832,790', '-', '736,423', '565,401', '505,887', '-', '346,206', '246,465', '207,430', '-', '-', '-', '-', '47,381', '-', '-', '-', '-', '-', '-', '29,389,686', '-', '2,417,237', '2,261,867', '2,217,055', '-', '1,531,371', '1,366,626', '1,291,518', '1,326,022', '1,242,883', '-', '997,171', '985,877', '-', '749,809', '639,252', '487,584', '447,682', '-', '304,592', '200,046', '176,164', '-', '-', '-', '-', '42,214', '-', '-', '-', '-', '-', '-', '25,561,438']\n",
      "['13.17%', '8.78%', '8.38%', '8.37%', '8.17%', '5.63%', '5.06%', '4.87%', '4.76%', '4.63%', '3.96%', '3.73%', '3.68%', '2.81%', '2.76%', '2.62%', '1.74%', '1.74%', '1.52%', '1.13%', '0.82%', '0.73%', '0.36%', '0.27%', '0.20%', '0.19%', '0.16%', '0.16%', '0.16%', '0.15%', '0.13%', '0.12%', '0.04%', '23,597,399', '13.03%', '8.98%', '8.67%', '8.31%', '8.23%', '5.81%', '5.18%', '4.99%', '4.93%', '4.81%', '3.99%', '3.79%', '3.77%', '2.86%', '2.81%', '2.62%', '1.77%', '1.77%', '1.58%', '1.14%', '0.76%', '0.70%', '0.36%', '0.27%', '0.20%', '0.19%', '0.17%', '0.16%', '0.15%', '0.15%', '0.13%', '0.12%', '0.04%', '20,652,786']\n",
      "['414.928', '276.522', '264.080', '263.747', '257.484', '177.456', '159.334', '153.324', '150.084', '145.913', '124.764', '117.660', '116.001', '88.497', '86.817', '82.397', '54.930', '54.806', '47.909', '35.664', '25.813', '22.984', '11.250', '8.351', '6.154', '5.849', '5.178', '5.014', '4.885', '4.643', '4.144', '3.715', '1.385', '', '-', '1,384,921', '1,263,925', '1,206,156', '-', '791,144', '737,042', '723,343', '679,552', '579,234', '-', '590,836', '561,368', '-', '443,233', '424,857', '288,842', '279,803', '-', '186,484', '108,830', '120,733', '-', '-', '-', '-', '23,063', '-', '-', '-', '-', '-', '-', '']\n",
      "['1', '2', '3', '4', '5', '6', '7', '8', '9', '10', '11', '12', '13', '14', '15', '16', '17', '18', '19', '20', '21', '22', '23', '24', '25', '26', '27', '28', '29', '30', '31', '32', '33', '', '1', '2', '3', '4', '5', '6', '7', '8', '9', '10', '11', '12', '13', '14', '15', '16', '17', '18', '19', '20', '21', '22', '23', '24', '25', '26', '27', '28', '29', '30', '31', '32', '33', '']\n",
      "['Maharashtra', 'Tamil Nadu', 'Karnataka', 'Uttar Pradesh', 'Gujarat', 'West Bengal', 'Rajasthan', 'Andhra Pradesh', 'Telangana', 'Madhya Pradesh', 'Kerala', 'Delhi', 'Haryana', 'Odisha', 'Bihar', 'Punjab', 'Assam', 'Chhattisgarh', 'Jharkhand', 'Uttarakhand', 'Jammu & Kashmir', 'Himachal Pradesh', 'Goa', 'Tripura', 'Chandigarh', 'Puducherry', 'Meghalaya', 'Sikkim', 'Manipur', 'Arunachal Pradesh', 'Nagaland', 'Mizoram', 'Andaman & Nicobar Islands', 'India', 'Maharashtra', 'Tamil Nadu', 'Karnataka', 'Uttar Pradesh', 'Gujarat', 'West Bengal', 'Rajasthan', 'Andhra Pradesh', 'Telangana', 'Madhya Pradesh', 'Kerala', 'Delhi', 'Haryana', 'Bihar', 'Odisha', 'Punjab', 'Assam', 'Chhattisgarh', 'Jharkhand', 'Uttarakhand', 'Jammu & Kashmir', 'Himachal Pradesh', 'Goa', 'Tripura', 'Chandigarh', 'Puducherry', 'Meghalaya', 'Manipur', 'Sikkim', 'Arunachal Pradesh', 'Nagaland', 'Mizoram', 'Andaman & Nicobar Islands', 'India']\n",
      "['-', '2,700,109', '2,500,733', '2,547,861', '-', '1,700,939', '1,524,030', '1,439,674', '1,463,960', '1,363,327', '-', '1,107,746', '1,095,535', '832,790', '-', '736,423', '565,401', '505,887', '-', '346,206', '246,465', '207,430', '-', '-', '-', '-', '47,381', '-', '-', '-', '-', '-', '-', '29,389,686', '-', '2,417,237', '2,261,867', '2,217,055', '-', '1,531,371', '1,366,626', '1,291,518', '1,326,022', '1,242,883', '-', '997,171', '985,877', '-', '749,809', '639,252', '487,584', '447,682', '-', '304,592', '200,046', '176,164', '-', '-', '-', '-', '42,214', '-', '-', '-', '-', '-', '-', '25,561,438']\n",
      "['13.17%', '8.78%', '8.38%', '8.37%', '8.17%', '5.63%', '5.06%', '4.87%', '4.76%', '4.63%', '3.96%', '3.73%', '3.68%', '2.81%', '2.76%', '2.62%', '1.74%', '1.74%', '1.52%', '1.13%', '0.82%', '0.73%', '0.36%', '0.27%', '0.20%', '0.19%', '0.16%', '0.16%', '0.16%', '0.15%', '0.13%', '0.12%', '0.04%', '23,597,399', '13.03%', '8.98%', '8.67%', '8.31%', '8.23%', '5.81%', '5.18%', '4.99%', '4.93%', '4.81%', '3.99%', '3.79%', '3.77%', '2.86%', '2.81%', '2.62%', '1.77%', '1.77%', '1.58%', '1.14%', '0.76%', '0.70%', '0.36%', '0.27%', '0.20%', '0.19%', '0.17%', '0.16%', '0.15%', '0.15%', '0.13%', '0.12%', '0.04%', '20,652,786']\n",
      "['414.928', '276.522', '264.080', '263.747', '257.484', '177.456', '159.334', '153.324', '150.084', '145.913', '124.764', '117.660', '116.001', '88.497', '86.817', '82.397', '54.930', '54.806', '47.909', '35.664', '25.813', '22.984', '11.250', '8.351', '6.154', '5.849', '5.178', '5.014', '4.885', '4.643', '4.144', '3.715', '1.385', '', '-', '1,384,921', '1,263,925', '1,206,156', '-', '791,144', '737,042', '723,343', '679,552', '579,234', '-', '590,836', '561,368', '-', '443,233', '424,857', '288,842', '279,803', '-', '186,484', '108,830', '120,733', '-', '-', '-', '-', '23,063', '-', '-', '-', '-', '-', '-', '']\n",
      "['1', '2', '3', '4', '5', '6', '7', '8', '9', '10', '11', '12', '13', '14', '15', '16', '17', '18', '19', '20', '21', '22', '23', '24', '25', '26', '27', '28', '29', '30', '31', '32', '33', '', '1', '2', '3', '4', '5', '6', '7', '8', '9', '10', '11', '12', '13', '14', '15', '16', '17', '18', '19', '20', '21', '22', '23', '24', '25', '26', '27', '28', '29', '30', '31', '32', '33', '']\n",
      "['Maharashtra', 'Tamil Nadu', 'Karnataka', 'Uttar Pradesh', 'Gujarat', 'West Bengal', 'Rajasthan', 'Andhra Pradesh', 'Telangana', 'Madhya Pradesh', 'Kerala', 'Delhi', 'Haryana', 'Odisha', 'Bihar', 'Punjab', 'Assam', 'Chhattisgarh', 'Jharkhand', 'Uttarakhand', 'Jammu & Kashmir', 'Himachal Pradesh', 'Goa', 'Tripura', 'Chandigarh', 'Puducherry', 'Meghalaya', 'Sikkim', 'Manipur', 'Arunachal Pradesh', 'Nagaland', 'Mizoram', 'Andaman & Nicobar Islands', 'India', 'Maharashtra', 'Tamil Nadu', 'Karnataka', 'Uttar Pradesh', 'Gujarat', 'West Bengal', 'Rajasthan', 'Andhra Pradesh', 'Telangana', 'Madhya Pradesh', 'Kerala', 'Delhi', 'Haryana', 'Bihar', 'Odisha', 'Punjab', 'Assam', 'Chhattisgarh', 'Jharkhand', 'Uttarakhand', 'Jammu & Kashmir', 'Himachal Pradesh', 'Goa', 'Tripura', 'Chandigarh', 'Puducherry', 'Meghalaya', 'Manipur', 'Sikkim', 'Arunachal Pradesh', 'Nagaland', 'Mizoram', 'Andaman & Nicobar Islands', 'India']\n",
      "['-', '2,700,109', '2,500,733', '2,547,861', '-', '1,700,939', '1,524,030', '1,439,674', '1,463,960', '1,363,327', '-', '1,107,746', '1,095,535', '832,790', '-', '736,423', '565,401', '505,887', '-', '346,206', '246,465', '207,430', '-', '-', '-', '-', '47,381', '-', '-', '-', '-', '-', '-', '29,389,686', '-', '2,417,237', '2,261,867', '2,217,055', '-', '1,531,371', '1,366,626', '1,291,518', '1,326,022', '1,242,883', '-', '997,171', '985,877', '-', '749,809', '639,252', '487,584', '447,682', '-', '304,592', '200,046', '176,164', '-', '-', '-', '-', '42,214', '-', '-', '-', '-', '-', '-', '25,561,438']\n",
      "['13.17%', '8.78%', '8.38%', '8.37%', '8.17%', '5.63%', '5.06%', '4.87%', '4.76%', '4.63%', '3.96%', '3.73%', '3.68%', '2.81%', '2.76%', '2.62%', '1.74%', '1.74%', '1.52%', '1.13%', '0.82%', '0.73%', '0.36%', '0.27%', '0.20%', '0.19%', '0.16%', '0.16%', '0.16%', '0.15%', '0.13%', '0.12%', '0.04%', '23,597,399', '13.03%', '8.98%', '8.67%', '8.31%', '8.23%', '5.81%', '5.18%', '4.99%', '4.93%', '4.81%', '3.99%', '3.79%', '3.77%', '2.86%', '2.81%', '2.62%', '1.77%', '1.77%', '1.58%', '1.14%', '0.76%', '0.70%', '0.36%', '0.27%', '0.20%', '0.19%', '0.17%', '0.16%', '0.15%', '0.15%', '0.13%', '0.12%', '0.04%', '20,652,786']\n",
      "['414.928', '276.522', '264.080', '263.747', '257.484', '177.456', '159.334', '153.324', '150.084', '145.913', '124.764', '117.660', '116.001', '88.497', '86.817', '82.397', '54.930', '54.806', '47.909', '35.664', '25.813', '22.984', '11.250', '8.351', '6.154', '5.849', '5.178', '5.014', '4.885', '4.643', '4.144', '3.715', '1.385', '', '-', '1,384,921', '1,263,925', '1,206,156', '-', '791,144', '737,042', '723,343', '679,552', '579,234', '-', '590,836', '561,368', '-', '443,233', '424,857', '288,842', '279,803', '-', '186,484', '108,830', '120,733', '-', '-', '-', '-', '23,063', '-', '-', '-', '-', '-', '-', '']\n",
      "['1', '2', '3', '4', '5', '6', '7', '8', '9', '10', '11', '12', '13', '14', '15', '16', '17', '18', '19', '20', '21', '22', '23', '24', '25', '26', '27', '28', '29', '30', '31', '32', '33', '', '1', '2', '3', '4', '5', '6', '7', '8', '9', '10', '11', '12', '13', '14', '15', '16', '17', '18', '19', '20', '21', '22', '23', '24', '25', '26', '27', '28', '29', '30', '31', '32', '33', '']\n",
      "['Maharashtra', 'Tamil Nadu', 'Karnataka', 'Uttar Pradesh', 'Gujarat', 'West Bengal', 'Rajasthan', 'Andhra Pradesh', 'Telangana', 'Madhya Pradesh', 'Kerala', 'Delhi', 'Haryana', 'Odisha', 'Bihar', 'Punjab', 'Assam', 'Chhattisgarh', 'Jharkhand', 'Uttarakhand', 'Jammu & Kashmir', 'Himachal Pradesh', 'Goa', 'Tripura', 'Chandigarh', 'Puducherry', 'Meghalaya', 'Sikkim', 'Manipur', 'Arunachal Pradesh', 'Nagaland', 'Mizoram', 'Andaman & Nicobar Islands', 'India', 'Maharashtra', 'Tamil Nadu', 'Karnataka', 'Uttar Pradesh', 'Gujarat', 'West Bengal', 'Rajasthan', 'Andhra Pradesh', 'Telangana', 'Madhya Pradesh', 'Kerala', 'Delhi', 'Haryana', 'Bihar', 'Odisha', 'Punjab', 'Assam', 'Chhattisgarh', 'Jharkhand', 'Uttarakhand', 'Jammu & Kashmir', 'Himachal Pradesh', 'Goa', 'Tripura', 'Chandigarh', 'Puducherry', 'Meghalaya', 'Manipur', 'Sikkim', 'Arunachal Pradesh', 'Nagaland', 'Mizoram', 'Andaman & Nicobar Islands', 'India']\n",
      "['-', '2,700,109', '2,500,733', '2,547,861', '-', '1,700,939', '1,524,030', '1,439,674', '1,463,960', '1,363,327', '-', '1,107,746', '1,095,535', '832,790', '-', '736,423', '565,401', '505,887', '-', '346,206', '246,465', '207,430', '-', '-', '-', '-', '47,381', '-', '-', '-', '-', '-', '-', '29,389,686', '-', '2,417,237', '2,261,867', '2,217,055', '-', '1,531,371', '1,366,626', '1,291,518', '1,326,022', '1,242,883', '-', '997,171', '985,877', '-', '749,809', '639,252', '487,584', '447,682', '-', '304,592', '200,046', '176,164', '-', '-', '-', '-', '42,214', '-', '-', '-', '-', '-', '-', '25,561,438']\n",
      "['13.17%', '8.78%', '8.38%', '8.37%', '8.17%', '5.63%', '5.06%', '4.87%', '4.76%', '4.63%', '3.96%', '3.73%', '3.68%', '2.81%', '2.76%', '2.62%', '1.74%', '1.74%', '1.52%', '1.13%', '0.82%', '0.73%', '0.36%', '0.27%', '0.20%', '0.19%', '0.16%', '0.16%', '0.16%', '0.15%', '0.13%', '0.12%', '0.04%', '23,597,399', '13.03%', '8.98%', '8.67%', '8.31%', '8.23%', '5.81%', '5.18%', '4.99%', '4.93%', '4.81%', '3.99%', '3.79%', '3.77%', '2.86%', '2.81%', '2.62%', '1.77%', '1.77%', '1.58%', '1.14%', '0.76%', '0.70%', '0.36%', '0.27%', '0.20%', '0.19%', '0.17%', '0.16%', '0.15%', '0.15%', '0.13%', '0.12%', '0.04%', '20,652,786']\n",
      "['414.928', '276.522', '264.080', '263.747', '257.484', '177.456', '159.334', '153.324', '150.084', '145.913', '124.764', '117.660', '116.001', '88.497', '86.817', '82.397', '54.930', '54.806', '47.909', '35.664', '25.813', '22.984', '11.250', '8.351', '6.154', '5.849', '5.178', '5.014', '4.885', '4.643', '4.144', '3.715', '1.385', '', '-', '1,384,921', '1,263,925', '1,206,156', '-', '791,144', '737,042', '723,343', '679,552', '579,234', '-', '590,836', '561,368', '-', '443,233', '424,857', '288,842', '279,803', '-', '186,484', '108,830', '120,733', '-', '-', '-', '-', '23,063', '-', '-', '-', '-', '-', '-', '']\n",
      "['1', '2', '3', '4', '5', '6', '7', '8', '9', '10', '11', '12', '13', '14', '15', '16', '17', '18', '19', '20', '21', '22', '23', '24', '25', '26', '27', '28', '29', '30', '31', '32', '33', '', '1', '2', '3', '4', '5', '6', '7', '8', '9', '10', '11', '12', '13', '14', '15', '16', '17', '18', '19', '20', '21', '22', '23', '24', '25', '26', '27', '28', '29', '30', '31', '32', '33', '']\n",
      "['Maharashtra', 'Tamil Nadu', 'Karnataka', 'Uttar Pradesh', 'Gujarat', 'West Bengal', 'Rajasthan', 'Andhra Pradesh', 'Telangana', 'Madhya Pradesh', 'Kerala', 'Delhi', 'Haryana', 'Odisha', 'Bihar', 'Punjab', 'Assam', 'Chhattisgarh', 'Jharkhand', 'Uttarakhand', 'Jammu & Kashmir', 'Himachal Pradesh', 'Goa', 'Tripura', 'Chandigarh', 'Puducherry', 'Meghalaya', 'Sikkim', 'Manipur', 'Arunachal Pradesh', 'Nagaland', 'Mizoram', 'Andaman & Nicobar Islands', 'India', 'Maharashtra', 'Tamil Nadu', 'Karnataka', 'Uttar Pradesh', 'Gujarat', 'West Bengal', 'Rajasthan', 'Andhra Pradesh', 'Telangana', 'Madhya Pradesh', 'Kerala', 'Delhi', 'Haryana', 'Bihar', 'Odisha', 'Punjab', 'Assam', 'Chhattisgarh', 'Jharkhand', 'Uttarakhand', 'Jammu & Kashmir', 'Himachal Pradesh', 'Goa', 'Tripura', 'Chandigarh', 'Puducherry', 'Meghalaya', 'Manipur', 'Sikkim', 'Arunachal Pradesh', 'Nagaland', 'Mizoram', 'Andaman & Nicobar Islands', 'India']\n",
      "['-', '2,700,109', '2,500,733', '2,547,861', '-', '1,700,939', '1,524,030', '1,439,674', '1,463,960', '1,363,327', '-', '1,107,746', '1,095,535', '832,790', '-', '736,423', '565,401', '505,887', '-', '346,206', '246,465', '207,430', '-', '-', '-', '-', '47,381', '-', '-', '-', '-', '-', '-', '29,389,686', '-', '2,417,237', '2,261,867', '2,217,055', '-', '1,531,371', '1,366,626', '1,291,518', '1,326,022', '1,242,883', '-', '997,171', '985,877', '-', '749,809', '639,252', '487,584', '447,682', '-', '304,592', '200,046', '176,164', '-', '-', '-', '-', '42,214', '-', '-', '-', '-', '-', '-', '25,561,438']\n",
      "['13.17%', '8.78%', '8.38%', '8.37%', '8.17%', '5.63%', '5.06%', '4.87%', '4.76%', '4.63%', '3.96%', '3.73%', '3.68%', '2.81%', '2.76%', '2.62%', '1.74%', '1.74%', '1.52%', '1.13%', '0.82%', '0.73%', '0.36%', '0.27%', '0.20%', '0.19%', '0.16%', '0.16%', '0.16%', '0.15%', '0.13%', '0.12%', '0.04%', '23,597,399', '13.03%', '8.98%', '8.67%', '8.31%', '8.23%', '5.81%', '5.18%', '4.99%', '4.93%', '4.81%', '3.99%', '3.79%', '3.77%', '2.86%', '2.81%', '2.62%', '1.77%', '1.77%', '1.58%', '1.14%', '0.76%', '0.70%', '0.36%', '0.27%', '0.20%', '0.19%', '0.17%', '0.16%', '0.15%', '0.15%', '0.13%', '0.12%', '0.04%', '20,652,786']\n",
      "['414.928', '276.522', '264.080', '263.747', '257.484', '177.456', '159.334', '153.324', '150.084', '145.913', '124.764', '117.660', '116.001', '88.497', '86.817', '82.397', '54.930', '54.806', '47.909', '35.664', '25.813', '22.984', '11.250', '8.351', '6.154', '5.849', '5.178', '5.014', '4.885', '4.643', '4.144', '3.715', '1.385', '', '-', '1,384,921', '1,263,925', '1,206,156', '-', '791,144', '737,042', '723,343', '679,552', '579,234', '-', '590,836', '561,368', '-', '443,233', '424,857', '288,842', '279,803', '-', '186,484', '108,830', '120,733', '-', '-', '-', '-', '23,063', '-', '-', '-', '-', '-', '-', '']\n",
      "['1', '2', '3', '4', '5', '6', '7', '8', '9', '10', '11', '12', '13', '14', '15', '16', '17', '18', '19', '20', '21', '22', '23', '24', '25', '26', '27', '28', '29', '30', '31', '32', '33', '', '1', '2', '3', '4', '5', '6', '7', '8', '9', '10', '11', '12', '13', '14', '15', '16', '17', '18', '19', '20', '21', '22', '23', '24', '25', '26', '27', '28', '29', '30', '31', '32', '33', '']\n",
      "['Maharashtra', 'Tamil Nadu', 'Karnataka', 'Uttar Pradesh', 'Gujarat', 'West Bengal', 'Rajasthan', 'Andhra Pradesh', 'Telangana', 'Madhya Pradesh', 'Kerala', 'Delhi', 'Haryana', 'Odisha', 'Bihar', 'Punjab', 'Assam', 'Chhattisgarh', 'Jharkhand', 'Uttarakhand', 'Jammu & Kashmir', 'Himachal Pradesh', 'Goa', 'Tripura', 'Chandigarh', 'Puducherry', 'Meghalaya', 'Sikkim', 'Manipur', 'Arunachal Pradesh', 'Nagaland', 'Mizoram', 'Andaman & Nicobar Islands', 'India', 'Maharashtra', 'Tamil Nadu', 'Karnataka', 'Uttar Pradesh', 'Gujarat', 'West Bengal', 'Rajasthan', 'Andhra Pradesh', 'Telangana', 'Madhya Pradesh', 'Kerala', 'Delhi', 'Haryana', 'Bihar', 'Odisha', 'Punjab', 'Assam', 'Chhattisgarh', 'Jharkhand', 'Uttarakhand', 'Jammu & Kashmir', 'Himachal Pradesh', 'Goa', 'Tripura', 'Chandigarh', 'Puducherry', 'Meghalaya', 'Manipur', 'Sikkim', 'Arunachal Pradesh', 'Nagaland', 'Mizoram', 'Andaman & Nicobar Islands', 'India']\n",
      "['-', '2,700,109', '2,500,733', '2,547,861', '-', '1,700,939', '1,524,030', '1,439,674', '1,463,960', '1,363,327', '-', '1,107,746', '1,095,535', '832,790', '-', '736,423', '565,401', '505,887', '-', '346,206', '246,465', '207,430', '-', '-', '-', '-', '47,381', '-', '-', '-', '-', '-', '-', '29,389,686', '-', '2,417,237', '2,261,867', '2,217,055', '-', '1,531,371', '1,366,626', '1,291,518', '1,326,022', '1,242,883', '-', '997,171', '985,877', '-', '749,809', '639,252', '487,584', '447,682', '-', '304,592', '200,046', '176,164', '-', '-', '-', '-', '42,214', '-', '-', '-', '-', '-', '-', '25,561,438']\n",
      "['13.17%', '8.78%', '8.38%', '8.37%', '8.17%', '5.63%', '5.06%', '4.87%', '4.76%', '4.63%', '3.96%', '3.73%', '3.68%', '2.81%', '2.76%', '2.62%', '1.74%', '1.74%', '1.52%', '1.13%', '0.82%', '0.73%', '0.36%', '0.27%', '0.20%', '0.19%', '0.16%', '0.16%', '0.16%', '0.15%', '0.13%', '0.12%', '0.04%', '23,597,399', '13.03%', '8.98%', '8.67%', '8.31%', '8.23%', '5.81%', '5.18%', '4.99%', '4.93%', '4.81%', '3.99%', '3.79%', '3.77%', '2.86%', '2.81%', '2.62%', '1.77%', '1.77%', '1.58%', '1.14%', '0.76%', '0.70%', '0.36%', '0.27%', '0.20%', '0.19%', '0.17%', '0.16%', '0.15%', '0.15%', '0.13%', '0.12%', '0.04%', '20,652,786']\n",
      "['414.928', '276.522', '264.080', '263.747', '257.484', '177.456', '159.334', '153.324', '150.084', '145.913', '124.764', '117.660', '116.001', '88.497', '86.817', '82.397', '54.930', '54.806', '47.909', '35.664', '25.813', '22.984', '11.250', '8.351', '6.154', '5.849', '5.178', '5.014', '4.885', '4.643', '4.144', '3.715', '1.385', '', '-', '1,384,921', '1,263,925', '1,206,156', '-', '791,144', '737,042', '723,343', '679,552', '579,234', '-', '590,836', '561,368', '-', '443,233', '424,857', '288,842', '279,803', '-', '186,484', '108,830', '120,733', '-', '-', '-', '-', '23,063', '-', '-', '-', '-', '-', '-', '']\n",
      "['1', '2', '3', '4', '5', '6', '7', '8', '9', '10', '11', '12', '13', '14', '15', '16', '17', '18', '19', '20', '21', '22', '23', '24', '25', '26', '27', '28', '29', '30', '31', '32', '33', '', '1', '2', '3', '4', '5', '6', '7', '8', '9', '10', '11', '12', '13', '14', '15', '16', '17', '18', '19', '20', '21', '22', '23', '24', '25', '26', '27', '28', '29', '30', '31', '32', '33', '']\n",
      "['Maharashtra', 'Tamil Nadu', 'Karnataka', 'Uttar Pradesh', 'Gujarat', 'West Bengal', 'Rajasthan', 'Andhra Pradesh', 'Telangana', 'Madhya Pradesh', 'Kerala', 'Delhi', 'Haryana', 'Odisha', 'Bihar', 'Punjab', 'Assam', 'Chhattisgarh', 'Jharkhand', 'Uttarakhand', 'Jammu & Kashmir', 'Himachal Pradesh', 'Goa', 'Tripura', 'Chandigarh', 'Puducherry', 'Meghalaya', 'Sikkim', 'Manipur', 'Arunachal Pradesh', 'Nagaland', 'Mizoram', 'Andaman & Nicobar Islands', 'India', 'Maharashtra', 'Tamil Nadu', 'Karnataka', 'Uttar Pradesh', 'Gujarat', 'West Bengal', 'Rajasthan', 'Andhra Pradesh', 'Telangana', 'Madhya Pradesh', 'Kerala', 'Delhi', 'Haryana', 'Bihar', 'Odisha', 'Punjab', 'Assam', 'Chhattisgarh', 'Jharkhand', 'Uttarakhand', 'Jammu & Kashmir', 'Himachal Pradesh', 'Goa', 'Tripura', 'Chandigarh', 'Puducherry', 'Meghalaya', 'Manipur', 'Sikkim', 'Arunachal Pradesh', 'Nagaland', 'Mizoram', 'Andaman & Nicobar Islands', 'India']\n",
      "['-', '2,700,109', '2,500,733', '2,547,861', '-', '1,700,939', '1,524,030', '1,439,674', '1,463,960', '1,363,327', '-', '1,107,746', '1,095,535', '832,790', '-', '736,423', '565,401', '505,887', '-', '346,206', '246,465', '207,430', '-', '-', '-', '-', '47,381', '-', '-', '-', '-', '-', '-', '29,389,686', '-', '2,417,237', '2,261,867', '2,217,055', '-', '1,531,371', '1,366,626', '1,291,518', '1,326,022', '1,242,883', '-', '997,171', '985,877', '-', '749,809', '639,252', '487,584', '447,682', '-', '304,592', '200,046', '176,164', '-', '-', '-', '-', '42,214', '-', '-', '-', '-', '-', '-', '25,561,438']\n",
      "['13.17%', '8.78%', '8.38%', '8.37%', '8.17%', '5.63%', '5.06%', '4.87%', '4.76%', '4.63%', '3.96%', '3.73%', '3.68%', '2.81%', '2.76%', '2.62%', '1.74%', '1.74%', '1.52%', '1.13%', '0.82%', '0.73%', '0.36%', '0.27%', '0.20%', '0.19%', '0.16%', '0.16%', '0.16%', '0.15%', '0.13%', '0.12%', '0.04%', '23,597,399', '13.03%', '8.98%', '8.67%', '8.31%', '8.23%', '5.81%', '5.18%', '4.99%', '4.93%', '4.81%', '3.99%', '3.79%', '3.77%', '2.86%', '2.81%', '2.62%', '1.77%', '1.77%', '1.58%', '1.14%', '0.76%', '0.70%', '0.36%', '0.27%', '0.20%', '0.19%', '0.17%', '0.16%', '0.15%', '0.15%', '0.13%', '0.12%', '0.04%', '20,652,786']\n",
      "['414.928', '276.522', '264.080', '263.747', '257.484', '177.456', '159.334', '153.324', '150.084', '145.913', '124.764', '117.660', '116.001', '88.497', '86.817', '82.397', '54.930', '54.806', '47.909', '35.664', '25.813', '22.984', '11.250', '8.351', '6.154', '5.849', '5.178', '5.014', '4.885', '4.643', '4.144', '3.715', '1.385', '', '-', '1,384,921', '1,263,925', '1,206,156', '-', '791,144', '737,042', '723,343', '679,552', '579,234', '-', '590,836', '561,368', '-', '443,233', '424,857', '288,842', '279,803', '-', '186,484', '108,830', '120,733', '-', '-', '-', '-', '23,063', '-', '-', '-', '-', '-', '-', '']\n",
      "['1', '2', '3', '4', '5', '6', '7', '8', '9', '10', '11', '12', '13', '14', '15', '16', '17', '18', '19', '20', '21', '22', '23', '24', '25', '26', '27', '28', '29', '30', '31', '32', '33', '', '1', '2', '3', '4', '5', '6', '7', '8', '9', '10', '11', '12', '13', '14', '15', '16', '17', '18', '19', '20', '21', '22', '23', '24', '25', '26', '27', '28', '29', '30', '31', '32', '33', '']\n",
      "['Maharashtra', 'Tamil Nadu', 'Karnataka', 'Uttar Pradesh', 'Gujarat', 'West Bengal', 'Rajasthan', 'Andhra Pradesh', 'Telangana', 'Madhya Pradesh', 'Kerala', 'Delhi', 'Haryana', 'Odisha', 'Bihar', 'Punjab', 'Assam', 'Chhattisgarh', 'Jharkhand', 'Uttarakhand', 'Jammu & Kashmir', 'Himachal Pradesh', 'Goa', 'Tripura', 'Chandigarh', 'Puducherry', 'Meghalaya', 'Sikkim', 'Manipur', 'Arunachal Pradesh', 'Nagaland', 'Mizoram', 'Andaman & Nicobar Islands', 'India', 'Maharashtra', 'Tamil Nadu', 'Karnataka', 'Uttar Pradesh', 'Gujarat', 'West Bengal', 'Rajasthan', 'Andhra Pradesh', 'Telangana', 'Madhya Pradesh', 'Kerala', 'Delhi', 'Haryana', 'Bihar', 'Odisha', 'Punjab', 'Assam', 'Chhattisgarh', 'Jharkhand', 'Uttarakhand', 'Jammu & Kashmir', 'Himachal Pradesh', 'Goa', 'Tripura', 'Chandigarh', 'Puducherry', 'Meghalaya', 'Manipur', 'Sikkim', 'Arunachal Pradesh', 'Nagaland', 'Mizoram', 'Andaman & Nicobar Islands', 'India']\n",
      "['-', '2,700,109', '2,500,733', '2,547,861', '-', '1,700,939', '1,524,030', '1,439,674', '1,463,960', '1,363,327', '-', '1,107,746', '1,095,535', '832,790', '-', '736,423', '565,401', '505,887', '-', '346,206', '246,465', '207,430', '-', '-', '-', '-', '47,381', '-', '-', '-', '-', '-', '-', '29,389,686', '-', '2,417,237', '2,261,867', '2,217,055', '-', '1,531,371', '1,366,626', '1,291,518', '1,326,022', '1,242,883', '-', '997,171', '985,877', '-', '749,809', '639,252', '487,584', '447,682', '-', '304,592', '200,046', '176,164', '-', '-', '-', '-', '42,214', '-', '-', '-', '-', '-', '-', '25,561,438']\n",
      "['13.17%', '8.78%', '8.38%', '8.37%', '8.17%', '5.63%', '5.06%', '4.87%', '4.76%', '4.63%', '3.96%', '3.73%', '3.68%', '2.81%', '2.76%', '2.62%', '1.74%', '1.74%', '1.52%', '1.13%', '0.82%', '0.73%', '0.36%', '0.27%', '0.20%', '0.19%', '0.16%', '0.16%', '0.16%', '0.15%', '0.13%', '0.12%', '0.04%', '23,597,399', '13.03%', '8.98%', '8.67%', '8.31%', '8.23%', '5.81%', '5.18%', '4.99%', '4.93%', '4.81%', '3.99%', '3.79%', '3.77%', '2.86%', '2.81%', '2.62%', '1.77%', '1.77%', '1.58%', '1.14%', '0.76%', '0.70%', '0.36%', '0.27%', '0.20%', '0.19%', '0.17%', '0.16%', '0.15%', '0.15%', '0.13%', '0.12%', '0.04%', '20,652,786']\n",
      "['414.928', '276.522', '264.080', '263.747', '257.484', '177.456', '159.334', '153.324', '150.084', '145.913', '124.764', '117.660', '116.001', '88.497', '86.817', '82.397', '54.930', '54.806', '47.909', '35.664', '25.813', '22.984', '11.250', '8.351', '6.154', '5.849', '5.178', '5.014', '4.885', '4.643', '4.144', '3.715', '1.385', '', '-', '1,384,921', '1,263,925', '1,206,156', '-', '791,144', '737,042', '723,343', '679,552', '579,234', '-', '590,836', '561,368', '-', '443,233', '424,857', '288,842', '279,803', '-', '186,484', '108,830', '120,733', '-', '-', '-', '-', '23,063', '-', '-', '-', '-', '-', '-', '']\n",
      "['1', '2', '3', '4', '5', '6', '7', '8', '9', '10', '11', '12', '13', '14', '15', '16', '17', '18', '19', '20', '21', '22', '23', '24', '25', '26', '27', '28', '29', '30', '31', '32', '33', '', '1', '2', '3', '4', '5', '6', '7', '8', '9', '10', '11', '12', '13', '14', '15', '16', '17', '18', '19', '20', '21', '22', '23', '24', '25', '26', '27', '28', '29', '30', '31', '32', '33', '']\n",
      "['Maharashtra', 'Tamil Nadu', 'Karnataka', 'Uttar Pradesh', 'Gujarat', 'West Bengal', 'Rajasthan', 'Andhra Pradesh', 'Telangana', 'Madhya Pradesh', 'Kerala', 'Delhi', 'Haryana', 'Odisha', 'Bihar', 'Punjab', 'Assam', 'Chhattisgarh', 'Jharkhand', 'Uttarakhand', 'Jammu & Kashmir', 'Himachal Pradesh', 'Goa', 'Tripura', 'Chandigarh', 'Puducherry', 'Meghalaya', 'Sikkim', 'Manipur', 'Arunachal Pradesh', 'Nagaland', 'Mizoram', 'Andaman & Nicobar Islands', 'India', 'Maharashtra', 'Tamil Nadu', 'Karnataka', 'Uttar Pradesh', 'Gujarat', 'West Bengal', 'Rajasthan', 'Andhra Pradesh', 'Telangana', 'Madhya Pradesh', 'Kerala', 'Delhi', 'Haryana', 'Bihar', 'Odisha', 'Punjab', 'Assam', 'Chhattisgarh', 'Jharkhand', 'Uttarakhand', 'Jammu & Kashmir', 'Himachal Pradesh', 'Goa', 'Tripura', 'Chandigarh', 'Puducherry', 'Meghalaya', 'Manipur', 'Sikkim', 'Arunachal Pradesh', 'Nagaland', 'Mizoram', 'Andaman & Nicobar Islands', 'India']\n",
      "['-', '2,700,109', '2,500,733', '2,547,861', '-', '1,700,939', '1,524,030', '1,439,674', '1,463,960', '1,363,327', '-', '1,107,746', '1,095,535', '832,790', '-', '736,423', '565,401', '505,887', '-', '346,206', '246,465', '207,430', '-', '-', '-', '-', '47,381', '-', '-', '-', '-', '-', '-', '29,389,686', '-', '2,417,237', '2,261,867', '2,217,055', '-', '1,531,371', '1,366,626', '1,291,518', '1,326,022', '1,242,883', '-', '997,171', '985,877', '-', '749,809', '639,252', '487,584', '447,682', '-', '304,592', '200,046', '176,164', '-', '-', '-', '-', '42,214', '-', '-', '-', '-', '-', '-', '25,561,438']\n",
      "['13.17%', '8.78%', '8.38%', '8.37%', '8.17%', '5.63%', '5.06%', '4.87%', '4.76%', '4.63%', '3.96%', '3.73%', '3.68%', '2.81%', '2.76%', '2.62%', '1.74%', '1.74%', '1.52%', '1.13%', '0.82%', '0.73%', '0.36%', '0.27%', '0.20%', '0.19%', '0.16%', '0.16%', '0.16%', '0.15%', '0.13%', '0.12%', '0.04%', '23,597,399', '13.03%', '8.98%', '8.67%', '8.31%', '8.23%', '5.81%', '5.18%', '4.99%', '4.93%', '4.81%', '3.99%', '3.79%', '3.77%', '2.86%', '2.81%', '2.62%', '1.77%', '1.77%', '1.58%', '1.14%', '0.76%', '0.70%', '0.36%', '0.27%', '0.20%', '0.19%', '0.17%', '0.16%', '0.15%', '0.15%', '0.13%', '0.12%', '0.04%', '20,652,786']\n",
      "['414.928', '276.522', '264.080', '263.747', '257.484', '177.456', '159.334', '153.324', '150.084', '145.913', '124.764', '117.660', '116.001', '88.497', '86.817', '82.397', '54.930', '54.806', '47.909', '35.664', '25.813', '22.984', '11.250', '8.351', '6.154', '5.849', '5.178', '5.014', '4.885', '4.643', '4.144', '3.715', '1.385', '', '-', '1,384,921', '1,263,925', '1,206,156', '-', '791,144', '737,042', '723,343', '679,552', '579,234', '-', '590,836', '561,368', '-', '443,233', '424,857', '288,842', '279,803', '-', '186,484', '108,830', '120,733', '-', '-', '-', '-', '23,063', '-', '-', '-', '-', '-', '-', '']\n",
      "['1', '2', '3', '4', '5', '6', '7', '8', '9', '10', '11', '12', '13', '14', '15', '16', '17', '18', '19', '20', '21', '22', '23', '24', '25', '26', '27', '28', '29', '30', '31', '32', '33', '', '1', '2', '3', '4', '5', '6', '7', '8', '9', '10', '11', '12', '13', '14', '15', '16', '17', '18', '19', '20', '21', '22', '23', '24', '25', '26', '27', '28', '29', '30', '31', '32', '33', '']\n",
      "['Maharashtra', 'Tamil Nadu', 'Karnataka', 'Uttar Pradesh', 'Gujarat', 'West Bengal', 'Rajasthan', 'Andhra Pradesh', 'Telangana', 'Madhya Pradesh', 'Kerala', 'Delhi', 'Haryana', 'Odisha', 'Bihar', 'Punjab', 'Assam', 'Chhattisgarh', 'Jharkhand', 'Uttarakhand', 'Jammu & Kashmir', 'Himachal Pradesh', 'Goa', 'Tripura', 'Chandigarh', 'Puducherry', 'Meghalaya', 'Sikkim', 'Manipur', 'Arunachal Pradesh', 'Nagaland', 'Mizoram', 'Andaman & Nicobar Islands', 'India', 'Maharashtra', 'Tamil Nadu', 'Karnataka', 'Uttar Pradesh', 'Gujarat', 'West Bengal', 'Rajasthan', 'Andhra Pradesh', 'Telangana', 'Madhya Pradesh', 'Kerala', 'Delhi', 'Haryana', 'Bihar', 'Odisha', 'Punjab', 'Assam', 'Chhattisgarh', 'Jharkhand', 'Uttarakhand', 'Jammu & Kashmir', 'Himachal Pradesh', 'Goa', 'Tripura', 'Chandigarh', 'Puducherry', 'Meghalaya', 'Manipur', 'Sikkim', 'Arunachal Pradesh', 'Nagaland', 'Mizoram', 'Andaman & Nicobar Islands', 'India']\n",
      "['-', '2,700,109', '2,500,733', '2,547,861', '-', '1,700,939', '1,524,030', '1,439,674', '1,463,960', '1,363,327', '-', '1,107,746', '1,095,535', '832,790', '-', '736,423', '565,401', '505,887', '-', '346,206', '246,465', '207,430', '-', '-', '-', '-', '47,381', '-', '-', '-', '-', '-', '-', '29,389,686', '-', '2,417,237', '2,261,867', '2,217,055', '-', '1,531,371', '1,366,626', '1,291,518', '1,326,022', '1,242,883', '-', '997,171', '985,877', '-', '749,809', '639,252', '487,584', '447,682', '-', '304,592', '200,046', '176,164', '-', '-', '-', '-', '42,214', '-', '-', '-', '-', '-', '-', '25,561,438']\n",
      "['13.17%', '8.78%', '8.38%', '8.37%', '8.17%', '5.63%', '5.06%', '4.87%', '4.76%', '4.63%', '3.96%', '3.73%', '3.68%', '2.81%', '2.76%', '2.62%', '1.74%', '1.74%', '1.52%', '1.13%', '0.82%', '0.73%', '0.36%', '0.27%', '0.20%', '0.19%', '0.16%', '0.16%', '0.16%', '0.15%', '0.13%', '0.12%', '0.04%', '23,597,399', '13.03%', '8.98%', '8.67%', '8.31%', '8.23%', '5.81%', '5.18%', '4.99%', '4.93%', '4.81%', '3.99%', '3.79%', '3.77%', '2.86%', '2.81%', '2.62%', '1.77%', '1.77%', '1.58%', '1.14%', '0.76%', '0.70%', '0.36%', '0.27%', '0.20%', '0.19%', '0.17%', '0.16%', '0.15%', '0.15%', '0.13%', '0.12%', '0.04%', '20,652,786']\n",
      "['414.928', '276.522', '264.080', '263.747', '257.484', '177.456', '159.334', '153.324', '150.084', '145.913', '124.764', '117.660', '116.001', '88.497', '86.817', '82.397', '54.930', '54.806', '47.909', '35.664', '25.813', '22.984', '11.250', '8.351', '6.154', '5.849', '5.178', '5.014', '4.885', '4.643', '4.144', '3.715', '1.385', '', '-', '1,384,921', '1,263,925', '1,206,156', '-', '791,144', '737,042', '723,343', '679,552', '579,234', '-', '590,836', '561,368', '-', '443,233', '424,857', '288,842', '279,803', '-', '186,484', '108,830', '120,733', '-', '-', '-', '-', '23,063', '-', '-', '-', '-', '-', '-', '']\n",
      "['1', '2', '3', '4', '5', '6', '7', '8', '9', '10', '11', '12', '13', '14', '15', '16', '17', '18', '19', '20', '21', '22', '23', '24', '25', '26', '27', '28', '29', '30', '31', '32', '33', '', '1', '2', '3', '4', '5', '6', '7', '8', '9', '10', '11', '12', '13', '14', '15', '16', '17', '18', '19', '20', '21', '22', '23', '24', '25', '26', '27', '28', '29', '30', '31', '32', '33', '']\n",
      "['Maharashtra', 'Tamil Nadu', 'Karnataka', 'Uttar Pradesh', 'Gujarat', 'West Bengal', 'Rajasthan', 'Andhra Pradesh', 'Telangana', 'Madhya Pradesh', 'Kerala', 'Delhi', 'Haryana', 'Odisha', 'Bihar', 'Punjab', 'Assam', 'Chhattisgarh', 'Jharkhand', 'Uttarakhand', 'Jammu & Kashmir', 'Himachal Pradesh', 'Goa', 'Tripura', 'Chandigarh', 'Puducherry', 'Meghalaya', 'Sikkim', 'Manipur', 'Arunachal Pradesh', 'Nagaland', 'Mizoram', 'Andaman & Nicobar Islands', 'India', 'Maharashtra', 'Tamil Nadu', 'Karnataka', 'Uttar Pradesh', 'Gujarat', 'West Bengal', 'Rajasthan', 'Andhra Pradesh', 'Telangana', 'Madhya Pradesh', 'Kerala', 'Delhi', 'Haryana', 'Bihar', 'Odisha', 'Punjab', 'Assam', 'Chhattisgarh', 'Jharkhand', 'Uttarakhand', 'Jammu & Kashmir', 'Himachal Pradesh', 'Goa', 'Tripura', 'Chandigarh', 'Puducherry', 'Meghalaya', 'Manipur', 'Sikkim', 'Arunachal Pradesh', 'Nagaland', 'Mizoram', 'Andaman & Nicobar Islands', 'India']\n",
      "['-', '2,700,109', '2,500,733', '2,547,861', '-', '1,700,939', '1,524,030', '1,439,674', '1,463,960', '1,363,327', '-', '1,107,746', '1,095,535', '832,790', '-', '736,423', '565,401', '505,887', '-', '346,206', '246,465', '207,430', '-', '-', '-', '-', '47,381', '-', '-', '-', '-', '-', '-', '29,389,686', '-', '2,417,237', '2,261,867', '2,217,055', '-', '1,531,371', '1,366,626', '1,291,518', '1,326,022', '1,242,883', '-', '997,171', '985,877', '-', '749,809', '639,252', '487,584', '447,682', '-', '304,592', '200,046', '176,164', '-', '-', '-', '-', '42,214', '-', '-', '-', '-', '-', '-', '25,561,438']\n",
      "['13.17%', '8.78%', '8.38%', '8.37%', '8.17%', '5.63%', '5.06%', '4.87%', '4.76%', '4.63%', '3.96%', '3.73%', '3.68%', '2.81%', '2.76%', '2.62%', '1.74%', '1.74%', '1.52%', '1.13%', '0.82%', '0.73%', '0.36%', '0.27%', '0.20%', '0.19%', '0.16%', '0.16%', '0.16%', '0.15%', '0.13%', '0.12%', '0.04%', '23,597,399', '13.03%', '8.98%', '8.67%', '8.31%', '8.23%', '5.81%', '5.18%', '4.99%', '4.93%', '4.81%', '3.99%', '3.79%', '3.77%', '2.86%', '2.81%', '2.62%', '1.77%', '1.77%', '1.58%', '1.14%', '0.76%', '0.70%', '0.36%', '0.27%', '0.20%', '0.19%', '0.17%', '0.16%', '0.15%', '0.15%', '0.13%', '0.12%', '0.04%', '20,652,786']\n",
      "['414.928', '276.522', '264.080', '263.747', '257.484', '177.456', '159.334', '153.324', '150.084', '145.913', '124.764', '117.660', '116.001', '88.497', '86.817', '82.397', '54.930', '54.806', '47.909', '35.664', '25.813', '22.984', '11.250', '8.351', '6.154', '5.849', '5.178', '5.014', '4.885', '4.643', '4.144', '3.715', '1.385', '', '-', '1,384,921', '1,263,925', '1,206,156', '-', '791,144', '737,042', '723,343', '679,552', '579,234', '-', '590,836', '561,368', '-', '443,233', '424,857', '288,842', '279,803', '-', '186,484', '108,830', '120,733', '-', '-', '-', '-', '23,063', '-', '-', '-', '-', '-', '-', '']\n",
      "['1', '2', '3', '4', '5', '6', '7', '8', '9', '10', '11', '12', '13', '14', '15', '16', '17', '18', '19', '20', '21', '22', '23', '24', '25', '26', '27', '28', '29', '30', '31', '32', '33', '', '1', '2', '3', '4', '5', '6', '7', '8', '9', '10', '11', '12', '13', '14', '15', '16', '17', '18', '19', '20', '21', '22', '23', '24', '25', '26', '27', '28', '29', '30', '31', '32', '33', '']\n",
      "['Maharashtra', 'Tamil Nadu', 'Karnataka', 'Uttar Pradesh', 'Gujarat', 'West Bengal', 'Rajasthan', 'Andhra Pradesh', 'Telangana', 'Madhya Pradesh', 'Kerala', 'Delhi', 'Haryana', 'Odisha', 'Bihar', 'Punjab', 'Assam', 'Chhattisgarh', 'Jharkhand', 'Uttarakhand', 'Jammu & Kashmir', 'Himachal Pradesh', 'Goa', 'Tripura', 'Chandigarh', 'Puducherry', 'Meghalaya', 'Sikkim', 'Manipur', 'Arunachal Pradesh', 'Nagaland', 'Mizoram', 'Andaman & Nicobar Islands', 'India', 'Maharashtra', 'Tamil Nadu', 'Karnataka', 'Uttar Pradesh', 'Gujarat', 'West Bengal', 'Rajasthan', 'Andhra Pradesh', 'Telangana', 'Madhya Pradesh', 'Kerala', 'Delhi', 'Haryana', 'Bihar', 'Odisha', 'Punjab', 'Assam', 'Chhattisgarh', 'Jharkhand', 'Uttarakhand', 'Jammu & Kashmir', 'Himachal Pradesh', 'Goa', 'Tripura', 'Chandigarh', 'Puducherry', 'Meghalaya', 'Manipur', 'Sikkim', 'Arunachal Pradesh', 'Nagaland', 'Mizoram', 'Andaman & Nicobar Islands', 'India']\n",
      "['-', '2,700,109', '2,500,733', '2,547,861', '-', '1,700,939', '1,524,030', '1,439,674', '1,463,960', '1,363,327', '-', '1,107,746', '1,095,535', '832,790', '-', '736,423', '565,401', '505,887', '-', '346,206', '246,465', '207,430', '-', '-', '-', '-', '47,381', '-', '-', '-', '-', '-', '-', '29,389,686', '-', '2,417,237', '2,261,867', '2,217,055', '-', '1,531,371', '1,366,626', '1,291,518', '1,326,022', '1,242,883', '-', '997,171', '985,877', '-', '749,809', '639,252', '487,584', '447,682', '-', '304,592', '200,046', '176,164', '-', '-', '-', '-', '42,214', '-', '-', '-', '-', '-', '-', '25,561,438']\n",
      "['13.17%', '8.78%', '8.38%', '8.37%', '8.17%', '5.63%', '5.06%', '4.87%', '4.76%', '4.63%', '3.96%', '3.73%', '3.68%', '2.81%', '2.76%', '2.62%', '1.74%', '1.74%', '1.52%', '1.13%', '0.82%', '0.73%', '0.36%', '0.27%', '0.20%', '0.19%', '0.16%', '0.16%', '0.16%', '0.15%', '0.13%', '0.12%', '0.04%', '23,597,399', '13.03%', '8.98%', '8.67%', '8.31%', '8.23%', '5.81%', '5.18%', '4.99%', '4.93%', '4.81%', '3.99%', '3.79%', '3.77%', '2.86%', '2.81%', '2.62%', '1.77%', '1.77%', '1.58%', '1.14%', '0.76%', '0.70%', '0.36%', '0.27%', '0.20%', '0.19%', '0.17%', '0.16%', '0.15%', '0.15%', '0.13%', '0.12%', '0.04%', '20,652,786']\n",
      "['414.928', '276.522', '264.080', '263.747', '257.484', '177.456', '159.334', '153.324', '150.084', '145.913', '124.764', '117.660', '116.001', '88.497', '86.817', '82.397', '54.930', '54.806', '47.909', '35.664', '25.813', '22.984', '11.250', '8.351', '6.154', '5.849', '5.178', '5.014', '4.885', '4.643', '4.144', '3.715', '1.385', '', '-', '1,384,921', '1,263,925', '1,206,156', '-', '791,144', '737,042', '723,343', '679,552', '579,234', '-', '590,836', '561,368', '-', '443,233', '424,857', '288,842', '279,803', '-', '186,484', '108,830', '120,733', '-', '-', '-', '-', '23,063', '-', '-', '-', '-', '-', '-', '']\n",
      "['1', '2', '3', '4', '5', '6', '7', '8', '9', '10', '11', '12', '13', '14', '15', '16', '17', '18', '19', '20', '21', '22', '23', '24', '25', '26', '27', '28', '29', '30', '31', '32', '33', '', '1', '2', '3', '4', '5', '6', '7', '8', '9', '10', '11', '12', '13', '14', '15', '16', '17', '18', '19', '20', '21', '22', '23', '24', '25', '26', '27', '28', '29', '30', '31', '32', '33', '']\n",
      "['Maharashtra', 'Tamil Nadu', 'Karnataka', 'Uttar Pradesh', 'Gujarat', 'West Bengal', 'Rajasthan', 'Andhra Pradesh', 'Telangana', 'Madhya Pradesh', 'Kerala', 'Delhi', 'Haryana', 'Odisha', 'Bihar', 'Punjab', 'Assam', 'Chhattisgarh', 'Jharkhand', 'Uttarakhand', 'Jammu & Kashmir', 'Himachal Pradesh', 'Goa', 'Tripura', 'Chandigarh', 'Puducherry', 'Meghalaya', 'Sikkim', 'Manipur', 'Arunachal Pradesh', 'Nagaland', 'Mizoram', 'Andaman & Nicobar Islands', 'India', 'Maharashtra', 'Tamil Nadu', 'Karnataka', 'Uttar Pradesh', 'Gujarat', 'West Bengal', 'Rajasthan', 'Andhra Pradesh', 'Telangana', 'Madhya Pradesh', 'Kerala', 'Delhi', 'Haryana', 'Bihar', 'Odisha', 'Punjab', 'Assam', 'Chhattisgarh', 'Jharkhand', 'Uttarakhand', 'Jammu & Kashmir', 'Himachal Pradesh', 'Goa', 'Tripura', 'Chandigarh', 'Puducherry', 'Meghalaya', 'Manipur', 'Sikkim', 'Arunachal Pradesh', 'Nagaland', 'Mizoram', 'Andaman & Nicobar Islands', 'India']\n",
      "['-', '2,700,109', '2,500,733', '2,547,861', '-', '1,700,939', '1,524,030', '1,439,674', '1,463,960', '1,363,327', '-', '1,107,746', '1,095,535', '832,790', '-', '736,423', '565,401', '505,887', '-', '346,206', '246,465', '207,430', '-', '-', '-', '-', '47,381', '-', '-', '-', '-', '-', '-', '29,389,686', '-', '2,417,237', '2,261,867', '2,217,055', '-', '1,531,371', '1,366,626', '1,291,518', '1,326,022', '1,242,883', '-', '997,171', '985,877', '-', '749,809', '639,252', '487,584', '447,682', '-', '304,592', '200,046', '176,164', '-', '-', '-', '-', '42,214', '-', '-', '-', '-', '-', '-', '25,561,438']\n",
      "['13.17%', '8.78%', '8.38%', '8.37%', '8.17%', '5.63%', '5.06%', '4.87%', '4.76%', '4.63%', '3.96%', '3.73%', '3.68%', '2.81%', '2.76%', '2.62%', '1.74%', '1.74%', '1.52%', '1.13%', '0.82%', '0.73%', '0.36%', '0.27%', '0.20%', '0.19%', '0.16%', '0.16%', '0.16%', '0.15%', '0.13%', '0.12%', '0.04%', '23,597,399', '13.03%', '8.98%', '8.67%', '8.31%', '8.23%', '5.81%', '5.18%', '4.99%', '4.93%', '4.81%', '3.99%', '3.79%', '3.77%', '2.86%', '2.81%', '2.62%', '1.77%', '1.77%', '1.58%', '1.14%', '0.76%', '0.70%', '0.36%', '0.27%', '0.20%', '0.19%', '0.17%', '0.16%', '0.15%', '0.15%', '0.13%', '0.12%', '0.04%', '20,652,786']\n",
      "['414.928', '276.522', '264.080', '263.747', '257.484', '177.456', '159.334', '153.324', '150.084', '145.913', '124.764', '117.660', '116.001', '88.497', '86.817', '82.397', '54.930', '54.806', '47.909', '35.664', '25.813', '22.984', '11.250', '8.351', '6.154', '5.849', '5.178', '5.014', '4.885', '4.643', '4.144', '3.715', '1.385', '', '-', '1,384,921', '1,263,925', '1,206,156', '-', '791,144', '737,042', '723,343', '679,552', '579,234', '-', '590,836', '561,368', '-', '443,233', '424,857', '288,842', '279,803', '-', '186,484', '108,830', '120,733', '-', '-', '-', '-', '23,063', '-', '-', '-', '-', '-', '-', '']\n",
      "['1', '2', '3', '4', '5', '6', '7', '8', '9', '10', '11', '12', '13', '14', '15', '16', '17', '18', '19', '20', '21', '22', '23', '24', '25', '26', '27', '28', '29', '30', '31', '32', '33', '', '1', '2', '3', '4', '5', '6', '7', '8', '9', '10', '11', '12', '13', '14', '15', '16', '17', '18', '19', '20', '21', '22', '23', '24', '25', '26', '27', '28', '29', '30', '31', '32', '33', '']\n",
      "['Maharashtra', 'Tamil Nadu', 'Karnataka', 'Uttar Pradesh', 'Gujarat', 'West Bengal', 'Rajasthan', 'Andhra Pradesh', 'Telangana', 'Madhya Pradesh', 'Kerala', 'Delhi', 'Haryana', 'Odisha', 'Bihar', 'Punjab', 'Assam', 'Chhattisgarh', 'Jharkhand', 'Uttarakhand', 'Jammu & Kashmir', 'Himachal Pradesh', 'Goa', 'Tripura', 'Chandigarh', 'Puducherry', 'Meghalaya', 'Sikkim', 'Manipur', 'Arunachal Pradesh', 'Nagaland', 'Mizoram', 'Andaman & Nicobar Islands', 'India', 'Maharashtra', 'Tamil Nadu', 'Karnataka', 'Uttar Pradesh', 'Gujarat', 'West Bengal', 'Rajasthan', 'Andhra Pradesh', 'Telangana', 'Madhya Pradesh', 'Kerala', 'Delhi', 'Haryana', 'Bihar', 'Odisha', 'Punjab', 'Assam', 'Chhattisgarh', 'Jharkhand', 'Uttarakhand', 'Jammu & Kashmir', 'Himachal Pradesh', 'Goa', 'Tripura', 'Chandigarh', 'Puducherry', 'Meghalaya', 'Manipur', 'Sikkim', 'Arunachal Pradesh', 'Nagaland', 'Mizoram', 'Andaman & Nicobar Islands', 'India']\n",
      "['-', '2,700,109', '2,500,733', '2,547,861', '-', '1,700,939', '1,524,030', '1,439,674', '1,463,960', '1,363,327', '-', '1,107,746', '1,095,535', '832,790', '-', '736,423', '565,401', '505,887', '-', '346,206', '246,465', '207,430', '-', '-', '-', '-', '47,381', '-', '-', '-', '-', '-', '-', '29,389,686', '-', '2,417,237', '2,261,867', '2,217,055', '-', '1,531,371', '1,366,626', '1,291,518', '1,326,022', '1,242,883', '-', '997,171', '985,877', '-', '749,809', '639,252', '487,584', '447,682', '-', '304,592', '200,046', '176,164', '-', '-', '-', '-', '42,214', '-', '-', '-', '-', '-', '-', '25,561,438']\n",
      "['13.17%', '8.78%', '8.38%', '8.37%', '8.17%', '5.63%', '5.06%', '4.87%', '4.76%', '4.63%', '3.96%', '3.73%', '3.68%', '2.81%', '2.76%', '2.62%', '1.74%', '1.74%', '1.52%', '1.13%', '0.82%', '0.73%', '0.36%', '0.27%', '0.20%', '0.19%', '0.16%', '0.16%', '0.16%', '0.15%', '0.13%', '0.12%', '0.04%', '23,597,399', '13.03%', '8.98%', '8.67%', '8.31%', '8.23%', '5.81%', '5.18%', '4.99%', '4.93%', '4.81%', '3.99%', '3.79%', '3.77%', '2.86%', '2.81%', '2.62%', '1.77%', '1.77%', '1.58%', '1.14%', '0.76%', '0.70%', '0.36%', '0.27%', '0.20%', '0.19%', '0.17%', '0.16%', '0.15%', '0.15%', '0.13%', '0.12%', '0.04%', '20,652,786']\n",
      "['414.928', '276.522', '264.080', '263.747', '257.484', '177.456', '159.334', '153.324', '150.084', '145.913', '124.764', '117.660', '116.001', '88.497', '86.817', '82.397', '54.930', '54.806', '47.909', '35.664', '25.813', '22.984', '11.250', '8.351', '6.154', '5.849', '5.178', '5.014', '4.885', '4.643', '4.144', '3.715', '1.385', '', '-', '1,384,921', '1,263,925', '1,206,156', '-', '791,144', '737,042', '723,343', '679,552', '579,234', '-', '590,836', '561,368', '-', '443,233', '424,857', '288,842', '279,803', '-', '186,484', '108,830', '120,733', '-', '-', '-', '-', '23,063', '-', '-', '-', '-', '-', '-', '']\n",
      "['1', '2', '3', '4', '5', '6', '7', '8', '9', '10', '11', '12', '13', '14', '15', '16', '17', '18', '19', '20', '21', '22', '23', '24', '25', '26', '27', '28', '29', '30', '31', '32', '33', '', '1', '2', '3', '4', '5', '6', '7', '8', '9', '10', '11', '12', '13', '14', '15', '16', '17', '18', '19', '20', '21', '22', '23', '24', '25', '26', '27', '28', '29', '30', '31', '32', '33', '']\n",
      "['Maharashtra', 'Tamil Nadu', 'Karnataka', 'Uttar Pradesh', 'Gujarat', 'West Bengal', 'Rajasthan', 'Andhra Pradesh', 'Telangana', 'Madhya Pradesh', 'Kerala', 'Delhi', 'Haryana', 'Odisha', 'Bihar', 'Punjab', 'Assam', 'Chhattisgarh', 'Jharkhand', 'Uttarakhand', 'Jammu & Kashmir', 'Himachal Pradesh', 'Goa', 'Tripura', 'Chandigarh', 'Puducherry', 'Meghalaya', 'Sikkim', 'Manipur', 'Arunachal Pradesh', 'Nagaland', 'Mizoram', 'Andaman & Nicobar Islands', 'India', 'Maharashtra', 'Tamil Nadu', 'Karnataka', 'Uttar Pradesh', 'Gujarat', 'West Bengal', 'Rajasthan', 'Andhra Pradesh', 'Telangana', 'Madhya Pradesh', 'Kerala', 'Delhi', 'Haryana', 'Bihar', 'Odisha', 'Punjab', 'Assam', 'Chhattisgarh', 'Jharkhand', 'Uttarakhand', 'Jammu & Kashmir', 'Himachal Pradesh', 'Goa', 'Tripura', 'Chandigarh', 'Puducherry', 'Meghalaya', 'Manipur', 'Sikkim', 'Arunachal Pradesh', 'Nagaland', 'Mizoram', 'Andaman & Nicobar Islands', 'India']\n",
      "['-', '2,700,109', '2,500,733', '2,547,861', '-', '1,700,939', '1,524,030', '1,439,674', '1,463,960', '1,363,327', '-', '1,107,746', '1,095,535', '832,790', '-', '736,423', '565,401', '505,887', '-', '346,206', '246,465', '207,430', '-', '-', '-', '-', '47,381', '-', '-', '-', '-', '-', '-', '29,389,686', '-', '2,417,237', '2,261,867', '2,217,055', '-', '1,531,371', '1,366,626', '1,291,518', '1,326,022', '1,242,883', '-', '997,171', '985,877', '-', '749,809', '639,252', '487,584', '447,682', '-', '304,592', '200,046', '176,164', '-', '-', '-', '-', '42,214', '-', '-', '-', '-', '-', '-', '25,561,438']\n",
      "['13.17%', '8.78%', '8.38%', '8.37%', '8.17%', '5.63%', '5.06%', '4.87%', '4.76%', '4.63%', '3.96%', '3.73%', '3.68%', '2.81%', '2.76%', '2.62%', '1.74%', '1.74%', '1.52%', '1.13%', '0.82%', '0.73%', '0.36%', '0.27%', '0.20%', '0.19%', '0.16%', '0.16%', '0.16%', '0.15%', '0.13%', '0.12%', '0.04%', '23,597,399', '13.03%', '8.98%', '8.67%', '8.31%', '8.23%', '5.81%', '5.18%', '4.99%', '4.93%', '4.81%', '3.99%', '3.79%', '3.77%', '2.86%', '2.81%', '2.62%', '1.77%', '1.77%', '1.58%', '1.14%', '0.76%', '0.70%', '0.36%', '0.27%', '0.20%', '0.19%', '0.17%', '0.16%', '0.15%', '0.15%', '0.13%', '0.12%', '0.04%', '20,652,786']\n",
      "['414.928', '276.522', '264.080', '263.747', '257.484', '177.456', '159.334', '153.324', '150.084', '145.913', '124.764', '117.660', '116.001', '88.497', '86.817', '82.397', '54.930', '54.806', '47.909', '35.664', '25.813', '22.984', '11.250', '8.351', '6.154', '5.849', '5.178', '5.014', '4.885', '4.643', '4.144', '3.715', '1.385', '', '-', '1,384,921', '1,263,925', '1,206,156', '-', '791,144', '737,042', '723,343', '679,552', '579,234', '-', '590,836', '561,368', '-', '443,233', '424,857', '288,842', '279,803', '-', '186,484', '108,830', '120,733', '-', '-', '-', '-', '23,063', '-', '-', '-', '-', '-', '-', '']\n",
      "['1', '2', '3', '4', '5', '6', '7', '8', '9', '10', '11', '12', '13', '14', '15', '16', '17', '18', '19', '20', '21', '22', '23', '24', '25', '26', '27', '28', '29', '30', '31', '32', '33', '', '1', '2', '3', '4', '5', '6', '7', '8', '9', '10', '11', '12', '13', '14', '15', '16', '17', '18', '19', '20', '21', '22', '23', '24', '25', '26', '27', '28', '29', '30', '31', '32', '33', '']\n",
      "['Maharashtra', 'Tamil Nadu', 'Karnataka', 'Uttar Pradesh', 'Gujarat', 'West Bengal', 'Rajasthan', 'Andhra Pradesh', 'Telangana', 'Madhya Pradesh', 'Kerala', 'Delhi', 'Haryana', 'Odisha', 'Bihar', 'Punjab', 'Assam', 'Chhattisgarh', 'Jharkhand', 'Uttarakhand', 'Jammu & Kashmir', 'Himachal Pradesh', 'Goa', 'Tripura', 'Chandigarh', 'Puducherry', 'Meghalaya', 'Sikkim', 'Manipur', 'Arunachal Pradesh', 'Nagaland', 'Mizoram', 'Andaman & Nicobar Islands', 'India', 'Maharashtra', 'Tamil Nadu', 'Karnataka', 'Uttar Pradesh', 'Gujarat', 'West Bengal', 'Rajasthan', 'Andhra Pradesh', 'Telangana', 'Madhya Pradesh', 'Kerala', 'Delhi', 'Haryana', 'Bihar', 'Odisha', 'Punjab', 'Assam', 'Chhattisgarh', 'Jharkhand', 'Uttarakhand', 'Jammu & Kashmir', 'Himachal Pradesh', 'Goa', 'Tripura', 'Chandigarh', 'Puducherry', 'Meghalaya', 'Manipur', 'Sikkim', 'Arunachal Pradesh', 'Nagaland', 'Mizoram', 'Andaman & Nicobar Islands', 'India']\n",
      "['-', '2,700,109', '2,500,733', '2,547,861', '-', '1,700,939', '1,524,030', '1,439,674', '1,463,960', '1,363,327', '-', '1,107,746', '1,095,535', '832,790', '-', '736,423', '565,401', '505,887', '-', '346,206', '246,465', '207,430', '-', '-', '-', '-', '47,381', '-', '-', '-', '-', '-', '-', '29,389,686', '-', '2,417,237', '2,261,867', '2,217,055', '-', '1,531,371', '1,366,626', '1,291,518', '1,326,022', '1,242,883', '-', '997,171', '985,877', '-', '749,809', '639,252', '487,584', '447,682', '-', '304,592', '200,046', '176,164', '-', '-', '-', '-', '42,214', '-', '-', '-', '-', '-', '-', '25,561,438']\n",
      "['13.17%', '8.78%', '8.38%', '8.37%', '8.17%', '5.63%', '5.06%', '4.87%', '4.76%', '4.63%', '3.96%', '3.73%', '3.68%', '2.81%', '2.76%', '2.62%', '1.74%', '1.74%', '1.52%', '1.13%', '0.82%', '0.73%', '0.36%', '0.27%', '0.20%', '0.19%', '0.16%', '0.16%', '0.16%', '0.15%', '0.13%', '0.12%', '0.04%', '23,597,399', '13.03%', '8.98%', '8.67%', '8.31%', '8.23%', '5.81%', '5.18%', '4.99%', '4.93%', '4.81%', '3.99%', '3.79%', '3.77%', '2.86%', '2.81%', '2.62%', '1.77%', '1.77%', '1.58%', '1.14%', '0.76%', '0.70%', '0.36%', '0.27%', '0.20%', '0.19%', '0.17%', '0.16%', '0.15%', '0.15%', '0.13%', '0.12%', '0.04%', '20,652,786']\n",
      "['414.928', '276.522', '264.080', '263.747', '257.484', '177.456', '159.334', '153.324', '150.084', '145.913', '124.764', '117.660', '116.001', '88.497', '86.817', '82.397', '54.930', '54.806', '47.909', '35.664', '25.813', '22.984', '11.250', '8.351', '6.154', '5.849', '5.178', '5.014', '4.885', '4.643', '4.144', '3.715', '1.385', '', '-', '1,384,921', '1,263,925', '1,206,156', '-', '791,144', '737,042', '723,343', '679,552', '579,234', '-', '590,836', '561,368', '-', '443,233', '424,857', '288,842', '279,803', '-', '186,484', '108,830', '120,733', '-', '-', '-', '-', '23,063', '-', '-', '-', '-', '-', '-', '']\n",
      "['1', '2', '3', '4', '5', '6', '7', '8', '9', '10', '11', '12', '13', '14', '15', '16', '17', '18', '19', '20', '21', '22', '23', '24', '25', '26', '27', '28', '29', '30', '31', '32', '33', '', '1', '2', '3', '4', '5', '6', '7', '8', '9', '10', '11', '12', '13', '14', '15', '16', '17', '18', '19', '20', '21', '22', '23', '24', '25', '26', '27', '28', '29', '30', '31', '32', '33', '']\n",
      "['Maharashtra', 'Tamil Nadu', 'Karnataka', 'Uttar Pradesh', 'Gujarat', 'West Bengal', 'Rajasthan', 'Andhra Pradesh', 'Telangana', 'Madhya Pradesh', 'Kerala', 'Delhi', 'Haryana', 'Odisha', 'Bihar', 'Punjab', 'Assam', 'Chhattisgarh', 'Jharkhand', 'Uttarakhand', 'Jammu & Kashmir', 'Himachal Pradesh', 'Goa', 'Tripura', 'Chandigarh', 'Puducherry', 'Meghalaya', 'Sikkim', 'Manipur', 'Arunachal Pradesh', 'Nagaland', 'Mizoram', 'Andaman & Nicobar Islands', 'India', 'Maharashtra', 'Tamil Nadu', 'Karnataka', 'Uttar Pradesh', 'Gujarat', 'West Bengal', 'Rajasthan', 'Andhra Pradesh', 'Telangana', 'Madhya Pradesh', 'Kerala', 'Delhi', 'Haryana', 'Bihar', 'Odisha', 'Punjab', 'Assam', 'Chhattisgarh', 'Jharkhand', 'Uttarakhand', 'Jammu & Kashmir', 'Himachal Pradesh', 'Goa', 'Tripura', 'Chandigarh', 'Puducherry', 'Meghalaya', 'Manipur', 'Sikkim', 'Arunachal Pradesh', 'Nagaland', 'Mizoram', 'Andaman & Nicobar Islands', 'India']\n",
      "['-', '2,700,109', '2,500,733', '2,547,861', '-', '1,700,939', '1,524,030', '1,439,674', '1,463,960', '1,363,327', '-', '1,107,746', '1,095,535', '832,790', '-', '736,423', '565,401', '505,887', '-', '346,206', '246,465', '207,430', '-', '-', '-', '-', '47,381', '-', '-', '-', '-', '-', '-', '29,389,686', '-', '2,417,237', '2,261,867', '2,217,055', '-', '1,531,371', '1,366,626', '1,291,518', '1,326,022', '1,242,883', '-', '997,171', '985,877', '-', '749,809', '639,252', '487,584', '447,682', '-', '304,592', '200,046', '176,164', '-', '-', '-', '-', '42,214', '-', '-', '-', '-', '-', '-', '25,561,438']\n",
      "['13.17%', '8.78%', '8.38%', '8.37%', '8.17%', '5.63%', '5.06%', '4.87%', '4.76%', '4.63%', '3.96%', '3.73%', '3.68%', '2.81%', '2.76%', '2.62%', '1.74%', '1.74%', '1.52%', '1.13%', '0.82%', '0.73%', '0.36%', '0.27%', '0.20%', '0.19%', '0.16%', '0.16%', '0.16%', '0.15%', '0.13%', '0.12%', '0.04%', '23,597,399', '13.03%', '8.98%', '8.67%', '8.31%', '8.23%', '5.81%', '5.18%', '4.99%', '4.93%', '4.81%', '3.99%', '3.79%', '3.77%', '2.86%', '2.81%', '2.62%', '1.77%', '1.77%', '1.58%', '1.14%', '0.76%', '0.70%', '0.36%', '0.27%', '0.20%', '0.19%', '0.17%', '0.16%', '0.15%', '0.15%', '0.13%', '0.12%', '0.04%', '20,652,786']\n",
      "['414.928', '276.522', '264.080', '263.747', '257.484', '177.456', '159.334', '153.324', '150.084', '145.913', '124.764', '117.660', '116.001', '88.497', '86.817', '82.397', '54.930', '54.806', '47.909', '35.664', '25.813', '22.984', '11.250', '8.351', '6.154', '5.849', '5.178', '5.014', '4.885', '4.643', '4.144', '3.715', '1.385', '', '-', '1,384,921', '1,263,925', '1,206,156', '-', '791,144', '737,042', '723,343', '679,552', '579,234', '-', '590,836', '561,368', '-', '443,233', '424,857', '288,842', '279,803', '-', '186,484', '108,830', '120,733', '-', '-', '-', '-', '23,063', '-', '-', '-', '-', '-', '-', '']\n",
      "['1', '2', '3', '4', '5', '6', '7', '8', '9', '10', '11', '12', '13', '14', '15', '16', '17', '18', '19', '20', '21', '22', '23', '24', '25', '26', '27', '28', '29', '30', '31', '32', '33', '', '1', '2', '3', '4', '5', '6', '7', '8', '9', '10', '11', '12', '13', '14', '15', '16', '17', '18', '19', '20', '21', '22', '23', '24', '25', '26', '27', '28', '29', '30', '31', '32', '33', '']\n",
      "['Maharashtra', 'Tamil Nadu', 'Karnataka', 'Uttar Pradesh', 'Gujarat', 'West Bengal', 'Rajasthan', 'Andhra Pradesh', 'Telangana', 'Madhya Pradesh', 'Kerala', 'Delhi', 'Haryana', 'Odisha', 'Bihar', 'Punjab', 'Assam', 'Chhattisgarh', 'Jharkhand', 'Uttarakhand', 'Jammu & Kashmir', 'Himachal Pradesh', 'Goa', 'Tripura', 'Chandigarh', 'Puducherry', 'Meghalaya', 'Sikkim', 'Manipur', 'Arunachal Pradesh', 'Nagaland', 'Mizoram', 'Andaman & Nicobar Islands', 'India', 'Maharashtra', 'Tamil Nadu', 'Karnataka', 'Uttar Pradesh', 'Gujarat', 'West Bengal', 'Rajasthan', 'Andhra Pradesh', 'Telangana', 'Madhya Pradesh', 'Kerala', 'Delhi', 'Haryana', 'Bihar', 'Odisha', 'Punjab', 'Assam', 'Chhattisgarh', 'Jharkhand', 'Uttarakhand', 'Jammu & Kashmir', 'Himachal Pradesh', 'Goa', 'Tripura', 'Chandigarh', 'Puducherry', 'Meghalaya', 'Manipur', 'Sikkim', 'Arunachal Pradesh', 'Nagaland', 'Mizoram', 'Andaman & Nicobar Islands', 'India']\n",
      "['-', '2,700,109', '2,500,733', '2,547,861', '-', '1,700,939', '1,524,030', '1,439,674', '1,463,960', '1,363,327', '-', '1,107,746', '1,095,535', '832,790', '-', '736,423', '565,401', '505,887', '-', '346,206', '246,465', '207,430', '-', '-', '-', '-', '47,381', '-', '-', '-', '-', '-', '-', '29,389,686', '-', '2,417,237', '2,261,867', '2,217,055', '-', '1,531,371', '1,366,626', '1,291,518', '1,326,022', '1,242,883', '-', '997,171', '985,877', '-', '749,809', '639,252', '487,584', '447,682', '-', '304,592', '200,046', '176,164', '-', '-', '-', '-', '42,214', '-', '-', '-', '-', '-', '-', '25,561,438']\n",
      "['13.17%', '8.78%', '8.38%', '8.37%', '8.17%', '5.63%', '5.06%', '4.87%', '4.76%', '4.63%', '3.96%', '3.73%', '3.68%', '2.81%', '2.76%', '2.62%', '1.74%', '1.74%', '1.52%', '1.13%', '0.82%', '0.73%', '0.36%', '0.27%', '0.20%', '0.19%', '0.16%', '0.16%', '0.16%', '0.15%', '0.13%', '0.12%', '0.04%', '23,597,399', '13.03%', '8.98%', '8.67%', '8.31%', '8.23%', '5.81%', '5.18%', '4.99%', '4.93%', '4.81%', '3.99%', '3.79%', '3.77%', '2.86%', '2.81%', '2.62%', '1.77%', '1.77%', '1.58%', '1.14%', '0.76%', '0.70%', '0.36%', '0.27%', '0.20%', '0.19%', '0.17%', '0.16%', '0.15%', '0.15%', '0.13%', '0.12%', '0.04%', '20,652,786']\n",
      "['414.928', '276.522', '264.080', '263.747', '257.484', '177.456', '159.334', '153.324', '150.084', '145.913', '124.764', '117.660', '116.001', '88.497', '86.817', '82.397', '54.930', '54.806', '47.909', '35.664', '25.813', '22.984', '11.250', '8.351', '6.154', '5.849', '5.178', '5.014', '4.885', '4.643', '4.144', '3.715', '1.385', '', '-', '1,384,921', '1,263,925', '1,206,156', '-', '791,144', '737,042', '723,343', '679,552', '579,234', '-', '590,836', '561,368', '-', '443,233', '424,857', '288,842', '279,803', '-', '186,484', '108,830', '120,733', '-', '-', '-', '-', '23,063', '-', '-', '-', '-', '-', '-', '']\n",
      "['1', '2', '3', '4', '5', '6', '7', '8', '9', '10', '11', '12', '13', '14', '15', '16', '17', '18', '19', '20', '21', '22', '23', '24', '25', '26', '27', '28', '29', '30', '31', '32', '33', '', '1', '2', '3', '4', '5', '6', '7', '8', '9', '10', '11', '12', '13', '14', '15', '16', '17', '18', '19', '20', '21', '22', '23', '24', '25', '26', '27', '28', '29', '30', '31', '32', '33', '']\n",
      "['Maharashtra', 'Tamil Nadu', 'Karnataka', 'Uttar Pradesh', 'Gujarat', 'West Bengal', 'Rajasthan', 'Andhra Pradesh', 'Telangana', 'Madhya Pradesh', 'Kerala', 'Delhi', 'Haryana', 'Odisha', 'Bihar', 'Punjab', 'Assam', 'Chhattisgarh', 'Jharkhand', 'Uttarakhand', 'Jammu & Kashmir', 'Himachal Pradesh', 'Goa', 'Tripura', 'Chandigarh', 'Puducherry', 'Meghalaya', 'Sikkim', 'Manipur', 'Arunachal Pradesh', 'Nagaland', 'Mizoram', 'Andaman & Nicobar Islands', 'India', 'Maharashtra', 'Tamil Nadu', 'Karnataka', 'Uttar Pradesh', 'Gujarat', 'West Bengal', 'Rajasthan', 'Andhra Pradesh', 'Telangana', 'Madhya Pradesh', 'Kerala', 'Delhi', 'Haryana', 'Bihar', 'Odisha', 'Punjab', 'Assam', 'Chhattisgarh', 'Jharkhand', 'Uttarakhand', 'Jammu & Kashmir', 'Himachal Pradesh', 'Goa', 'Tripura', 'Chandigarh', 'Puducherry', 'Meghalaya', 'Manipur', 'Sikkim', 'Arunachal Pradesh', 'Nagaland', 'Mizoram', 'Andaman & Nicobar Islands', 'India']\n",
      "['-', '2,700,109', '2,500,733', '2,547,861', '-', '1,700,939', '1,524,030', '1,439,674', '1,463,960', '1,363,327', '-', '1,107,746', '1,095,535', '832,790', '-', '736,423', '565,401', '505,887', '-', '346,206', '246,465', '207,430', '-', '-', '-', '-', '47,381', '-', '-', '-', '-', '-', '-', '29,389,686', '-', '2,417,237', '2,261,867', '2,217,055', '-', '1,531,371', '1,366,626', '1,291,518', '1,326,022', '1,242,883', '-', '997,171', '985,877', '-', '749,809', '639,252', '487,584', '447,682', '-', '304,592', '200,046', '176,164', '-', '-', '-', '-', '42,214', '-', '-', '-', '-', '-', '-', '25,561,438']\n",
      "['13.17%', '8.78%', '8.38%', '8.37%', '8.17%', '5.63%', '5.06%', '4.87%', '4.76%', '4.63%', '3.96%', '3.73%', '3.68%', '2.81%', '2.76%', '2.62%', '1.74%', '1.74%', '1.52%', '1.13%', '0.82%', '0.73%', '0.36%', '0.27%', '0.20%', '0.19%', '0.16%', '0.16%', '0.16%', '0.15%', '0.13%', '0.12%', '0.04%', '23,597,399', '13.03%', '8.98%', '8.67%', '8.31%', '8.23%', '5.81%', '5.18%', '4.99%', '4.93%', '4.81%', '3.99%', '3.79%', '3.77%', '2.86%', '2.81%', '2.62%', '1.77%', '1.77%', '1.58%', '1.14%', '0.76%', '0.70%', '0.36%', '0.27%', '0.20%', '0.19%', '0.17%', '0.16%', '0.15%', '0.15%', '0.13%', '0.12%', '0.04%', '20,652,786']\n",
      "['414.928', '276.522', '264.080', '263.747', '257.484', '177.456', '159.334', '153.324', '150.084', '145.913', '124.764', '117.660', '116.001', '88.497', '86.817', '82.397', '54.930', '54.806', '47.909', '35.664', '25.813', '22.984', '11.250', '8.351', '6.154', '5.849', '5.178', '5.014', '4.885', '4.643', '4.144', '3.715', '1.385', '', '-', '1,384,921', '1,263,925', '1,206,156', '-', '791,144', '737,042', '723,343', '679,552', '579,234', '-', '590,836', '561,368', '-', '443,233', '424,857', '288,842', '279,803', '-', '186,484', '108,830', '120,733', '-', '-', '-', '-', '23,063', '-', '-', '-', '-', '-', '-', '']\n",
      "['1', '2', '3', '4', '5', '6', '7', '8', '9', '10', '11', '12', '13', '14', '15', '16', '17', '18', '19', '20', '21', '22', '23', '24', '25', '26', '27', '28', '29', '30', '31', '32', '33', '', '1', '2', '3', '4', '5', '6', '7', '8', '9', '10', '11', '12', '13', '14', '15', '16', '17', '18', '19', '20', '21', '22', '23', '24', '25', '26', '27', '28', '29', '30', '31', '32', '33', '']\n",
      "['Maharashtra', 'Tamil Nadu', 'Karnataka', 'Uttar Pradesh', 'Gujarat', 'West Bengal', 'Rajasthan', 'Andhra Pradesh', 'Telangana', 'Madhya Pradesh', 'Kerala', 'Delhi', 'Haryana', 'Odisha', 'Bihar', 'Punjab', 'Assam', 'Chhattisgarh', 'Jharkhand', 'Uttarakhand', 'Jammu & Kashmir', 'Himachal Pradesh', 'Goa', 'Tripura', 'Chandigarh', 'Puducherry', 'Meghalaya', 'Sikkim', 'Manipur', 'Arunachal Pradesh', 'Nagaland', 'Mizoram', 'Andaman & Nicobar Islands', 'India', 'Maharashtra', 'Tamil Nadu', 'Karnataka', 'Uttar Pradesh', 'Gujarat', 'West Bengal', 'Rajasthan', 'Andhra Pradesh', 'Telangana', 'Madhya Pradesh', 'Kerala', 'Delhi', 'Haryana', 'Bihar', 'Odisha', 'Punjab', 'Assam', 'Chhattisgarh', 'Jharkhand', 'Uttarakhand', 'Jammu & Kashmir', 'Himachal Pradesh', 'Goa', 'Tripura', 'Chandigarh', 'Puducherry', 'Meghalaya', 'Manipur', 'Sikkim', 'Arunachal Pradesh', 'Nagaland', 'Mizoram', 'Andaman & Nicobar Islands', 'India']\n",
      "['-', '2,700,109', '2,500,733', '2,547,861', '-', '1,700,939', '1,524,030', '1,439,674', '1,463,960', '1,363,327', '-', '1,107,746', '1,095,535', '832,790', '-', '736,423', '565,401', '505,887', '-', '346,206', '246,465', '207,430', '-', '-', '-', '-', '47,381', '-', '-', '-', '-', '-', '-', '29,389,686', '-', '2,417,237', '2,261,867', '2,217,055', '-', '1,531,371', '1,366,626', '1,291,518', '1,326,022', '1,242,883', '-', '997,171', '985,877', '-', '749,809', '639,252', '487,584', '447,682', '-', '304,592', '200,046', '176,164', '-', '-', '-', '-', '42,214', '-', '-', '-', '-', '-', '-', '25,561,438']\n",
      "['13.17%', '8.78%', '8.38%', '8.37%', '8.17%', '5.63%', '5.06%', '4.87%', '4.76%', '4.63%', '3.96%', '3.73%', '3.68%', '2.81%', '2.76%', '2.62%', '1.74%', '1.74%', '1.52%', '1.13%', '0.82%', '0.73%', '0.36%', '0.27%', '0.20%', '0.19%', '0.16%', '0.16%', '0.16%', '0.15%', '0.13%', '0.12%', '0.04%', '23,597,399', '13.03%', '8.98%', '8.67%', '8.31%', '8.23%', '5.81%', '5.18%', '4.99%', '4.93%', '4.81%', '3.99%', '3.79%', '3.77%', '2.86%', '2.81%', '2.62%', '1.77%', '1.77%', '1.58%', '1.14%', '0.76%', '0.70%', '0.36%', '0.27%', '0.20%', '0.19%', '0.17%', '0.16%', '0.15%', '0.15%', '0.13%', '0.12%', '0.04%', '20,652,786']\n",
      "['414.928', '276.522', '264.080', '263.747', '257.484', '177.456', '159.334', '153.324', '150.084', '145.913', '124.764', '117.660', '116.001', '88.497', '86.817', '82.397', '54.930', '54.806', '47.909', '35.664', '25.813', '22.984', '11.250', '8.351', '6.154', '5.849', '5.178', '5.014', '4.885', '4.643', '4.144', '3.715', '1.385', '', '-', '1,384,921', '1,263,925', '1,206,156', '-', '791,144', '737,042', '723,343', '679,552', '579,234', '-', '590,836', '561,368', '-', '443,233', '424,857', '288,842', '279,803', '-', '186,484', '108,830', '120,733', '-', '-', '-', '-', '23,063', '-', '-', '-', '-', '-', '-', '']\n",
      "['1', '2', '3', '4', '5', '6', '7', '8', '9', '10', '11', '12', '13', '14', '15', '16', '17', '18', '19', '20', '21', '22', '23', '24', '25', '26', '27', '28', '29', '30', '31', '32', '33', '', '1', '2', '3', '4', '5', '6', '7', '8', '9', '10', '11', '12', '13', '14', '15', '16', '17', '18', '19', '20', '21', '22', '23', '24', '25', '26', '27', '28', '29', '30', '31', '32', '33', '']\n",
      "['Maharashtra', 'Tamil Nadu', 'Karnataka', 'Uttar Pradesh', 'Gujarat', 'West Bengal', 'Rajasthan', 'Andhra Pradesh', 'Telangana', 'Madhya Pradesh', 'Kerala', 'Delhi', 'Haryana', 'Odisha', 'Bihar', 'Punjab', 'Assam', 'Chhattisgarh', 'Jharkhand', 'Uttarakhand', 'Jammu & Kashmir', 'Himachal Pradesh', 'Goa', 'Tripura', 'Chandigarh', 'Puducherry', 'Meghalaya', 'Sikkim', 'Manipur', 'Arunachal Pradesh', 'Nagaland', 'Mizoram', 'Andaman & Nicobar Islands', 'India', 'Maharashtra', 'Tamil Nadu', 'Karnataka', 'Uttar Pradesh', 'Gujarat', 'West Bengal', 'Rajasthan', 'Andhra Pradesh', 'Telangana', 'Madhya Pradesh', 'Kerala', 'Delhi', 'Haryana', 'Bihar', 'Odisha', 'Punjab', 'Assam', 'Chhattisgarh', 'Jharkhand', 'Uttarakhand', 'Jammu & Kashmir', 'Himachal Pradesh', 'Goa', 'Tripura', 'Chandigarh', 'Puducherry', 'Meghalaya', 'Manipur', 'Sikkim', 'Arunachal Pradesh', 'Nagaland', 'Mizoram', 'Andaman & Nicobar Islands', 'India']\n",
      "['-', '2,700,109', '2,500,733', '2,547,861', '-', '1,700,939', '1,524,030', '1,439,674', '1,463,960', '1,363,327', '-', '1,107,746', '1,095,535', '832,790', '-', '736,423', '565,401', '505,887', '-', '346,206', '246,465', '207,430', '-', '-', '-', '-', '47,381', '-', '-', '-', '-', '-', '-', '29,389,686', '-', '2,417,237', '2,261,867', '2,217,055', '-', '1,531,371', '1,366,626', '1,291,518', '1,326,022', '1,242,883', '-', '997,171', '985,877', '-', '749,809', '639,252', '487,584', '447,682', '-', '304,592', '200,046', '176,164', '-', '-', '-', '-', '42,214', '-', '-', '-', '-', '-', '-', '25,561,438']\n",
      "['13.17%', '8.78%', '8.38%', '8.37%', '8.17%', '5.63%', '5.06%', '4.87%', '4.76%', '4.63%', '3.96%', '3.73%', '3.68%', '2.81%', '2.76%', '2.62%', '1.74%', '1.74%', '1.52%', '1.13%', '0.82%', '0.73%', '0.36%', '0.27%', '0.20%', '0.19%', '0.16%', '0.16%', '0.16%', '0.15%', '0.13%', '0.12%', '0.04%', '23,597,399', '13.03%', '8.98%', '8.67%', '8.31%', '8.23%', '5.81%', '5.18%', '4.99%', '4.93%', '4.81%', '3.99%', '3.79%', '3.77%', '2.86%', '2.81%', '2.62%', '1.77%', '1.77%', '1.58%', '1.14%', '0.76%', '0.70%', '0.36%', '0.27%', '0.20%', '0.19%', '0.17%', '0.16%', '0.15%', '0.15%', '0.13%', '0.12%', '0.04%', '20,652,786']\n",
      "['414.928', '276.522', '264.080', '263.747', '257.484', '177.456', '159.334', '153.324', '150.084', '145.913', '124.764', '117.660', '116.001', '88.497', '86.817', '82.397', '54.930', '54.806', '47.909', '35.664', '25.813', '22.984', '11.250', '8.351', '6.154', '5.849', '5.178', '5.014', '4.885', '4.643', '4.144', '3.715', '1.385', '', '-', '1,384,921', '1,263,925', '1,206,156', '-', '791,144', '737,042', '723,343', '679,552', '579,234', '-', '590,836', '561,368', '-', '443,233', '424,857', '288,842', '279,803', '-', '186,484', '108,830', '120,733', '-', '-', '-', '-', '23,063', '-', '-', '-', '-', '-', '-', '']\n",
      "['1', '2', '3', '4', '5', '6', '7', '8', '9', '10', '11', '12', '13', '14', '15', '16', '17', '18', '19', '20', '21', '22', '23', '24', '25', '26', '27', '28', '29', '30', '31', '32', '33', '', '1', '2', '3', '4', '5', '6', '7', '8', '9', '10', '11', '12', '13', '14', '15', '16', '17', '18', '19', '20', '21', '22', '23', '24', '25', '26', '27', '28', '29', '30', '31', '32', '33', '']\n",
      "['Maharashtra', 'Tamil Nadu', 'Karnataka', 'Uttar Pradesh', 'Gujarat', 'West Bengal', 'Rajasthan', 'Andhra Pradesh', 'Telangana', 'Madhya Pradesh', 'Kerala', 'Delhi', 'Haryana', 'Odisha', 'Bihar', 'Punjab', 'Assam', 'Chhattisgarh', 'Jharkhand', 'Uttarakhand', 'Jammu & Kashmir', 'Himachal Pradesh', 'Goa', 'Tripura', 'Chandigarh', 'Puducherry', 'Meghalaya', 'Sikkim', 'Manipur', 'Arunachal Pradesh', 'Nagaland', 'Mizoram', 'Andaman & Nicobar Islands', 'India', 'Maharashtra', 'Tamil Nadu', 'Karnataka', 'Uttar Pradesh', 'Gujarat', 'West Bengal', 'Rajasthan', 'Andhra Pradesh', 'Telangana', 'Madhya Pradesh', 'Kerala', 'Delhi', 'Haryana', 'Bihar', 'Odisha', 'Punjab', 'Assam', 'Chhattisgarh', 'Jharkhand', 'Uttarakhand', 'Jammu & Kashmir', 'Himachal Pradesh', 'Goa', 'Tripura', 'Chandigarh', 'Puducherry', 'Meghalaya', 'Manipur', 'Sikkim', 'Arunachal Pradesh', 'Nagaland', 'Mizoram', 'Andaman & Nicobar Islands', 'India']\n",
      "['-', '2,700,109', '2,500,733', '2,547,861', '-', '1,700,939', '1,524,030', '1,439,674', '1,463,960', '1,363,327', '-', '1,107,746', '1,095,535', '832,790', '-', '736,423', '565,401', '505,887', '-', '346,206', '246,465', '207,430', '-', '-', '-', '-', '47,381', '-', '-', '-', '-', '-', '-', '29,389,686', '-', '2,417,237', '2,261,867', '2,217,055', '-', '1,531,371', '1,366,626', '1,291,518', '1,326,022', '1,242,883', '-', '997,171', '985,877', '-', '749,809', '639,252', '487,584', '447,682', '-', '304,592', '200,046', '176,164', '-', '-', '-', '-', '42,214', '-', '-', '-', '-', '-', '-', '25,561,438']\n",
      "['13.17%', '8.78%', '8.38%', '8.37%', '8.17%', '5.63%', '5.06%', '4.87%', '4.76%', '4.63%', '3.96%', '3.73%', '3.68%', '2.81%', '2.76%', '2.62%', '1.74%', '1.74%', '1.52%', '1.13%', '0.82%', '0.73%', '0.36%', '0.27%', '0.20%', '0.19%', '0.16%', '0.16%', '0.16%', '0.15%', '0.13%', '0.12%', '0.04%', '23,597,399', '13.03%', '8.98%', '8.67%', '8.31%', '8.23%', '5.81%', '5.18%', '4.99%', '4.93%', '4.81%', '3.99%', '3.79%', '3.77%', '2.86%', '2.81%', '2.62%', '1.77%', '1.77%', '1.58%', '1.14%', '0.76%', '0.70%', '0.36%', '0.27%', '0.20%', '0.19%', '0.17%', '0.16%', '0.15%', '0.15%', '0.13%', '0.12%', '0.04%', '20,652,786']\n",
      "['414.928', '276.522', '264.080', '263.747', '257.484', '177.456', '159.334', '153.324', '150.084', '145.913', '124.764', '117.660', '116.001', '88.497', '86.817', '82.397', '54.930', '54.806', '47.909', '35.664', '25.813', '22.984', '11.250', '8.351', '6.154', '5.849', '5.178', '5.014', '4.885', '4.643', '4.144', '3.715', '1.385', '', '-', '1,384,921', '1,263,925', '1,206,156', '-', '791,144', '737,042', '723,343', '679,552', '579,234', '-', '590,836', '561,368', '-', '443,233', '424,857', '288,842', '279,803', '-', '186,484', '108,830', '120,733', '-', '-', '-', '-', '23,063', '-', '-', '-', '-', '-', '-', '']\n",
      "['1', '2', '3', '4', '5', '6', '7', '8', '9', '10', '11', '12', '13', '14', '15', '16', '17', '18', '19', '20', '21', '22', '23', '24', '25', '26', '27', '28', '29', '30', '31', '32', '33', '', '1', '2', '3', '4', '5', '6', '7', '8', '9', '10', '11', '12', '13', '14', '15', '16', '17', '18', '19', '20', '21', '22', '23', '24', '25', '26', '27', '28', '29', '30', '31', '32', '33', '']\n",
      "['Maharashtra', 'Tamil Nadu', 'Karnataka', 'Uttar Pradesh', 'Gujarat', 'West Bengal', 'Rajasthan', 'Andhra Pradesh', 'Telangana', 'Madhya Pradesh', 'Kerala', 'Delhi', 'Haryana', 'Odisha', 'Bihar', 'Punjab', 'Assam', 'Chhattisgarh', 'Jharkhand', 'Uttarakhand', 'Jammu & Kashmir', 'Himachal Pradesh', 'Goa', 'Tripura', 'Chandigarh', 'Puducherry', 'Meghalaya', 'Sikkim', 'Manipur', 'Arunachal Pradesh', 'Nagaland', 'Mizoram', 'Andaman & Nicobar Islands', 'India', 'Maharashtra', 'Tamil Nadu', 'Karnataka', 'Uttar Pradesh', 'Gujarat', 'West Bengal', 'Rajasthan', 'Andhra Pradesh', 'Telangana', 'Madhya Pradesh', 'Kerala', 'Delhi', 'Haryana', 'Bihar', 'Odisha', 'Punjab', 'Assam', 'Chhattisgarh', 'Jharkhand', 'Uttarakhand', 'Jammu & Kashmir', 'Himachal Pradesh', 'Goa', 'Tripura', 'Chandigarh', 'Puducherry', 'Meghalaya', 'Manipur', 'Sikkim', 'Arunachal Pradesh', 'Nagaland', 'Mizoram', 'Andaman & Nicobar Islands', 'India']\n",
      "['-', '2,700,109', '2,500,733', '2,547,861', '-', '1,700,939', '1,524,030', '1,439,674', '1,463,960', '1,363,327', '-', '1,107,746', '1,095,535', '832,790', '-', '736,423', '565,401', '505,887', '-', '346,206', '246,465', '207,430', '-', '-', '-', '-', '47,381', '-', '-', '-', '-', '-', '-', '29,389,686', '-', '2,417,237', '2,261,867', '2,217,055', '-', '1,531,371', '1,366,626', '1,291,518', '1,326,022', '1,242,883', '-', '997,171', '985,877', '-', '749,809', '639,252', '487,584', '447,682', '-', '304,592', '200,046', '176,164', '-', '-', '-', '-', '42,214', '-', '-', '-', '-', '-', '-', '25,561,438']\n",
      "['13.17%', '8.78%', '8.38%', '8.37%', '8.17%', '5.63%', '5.06%', '4.87%', '4.76%', '4.63%', '3.96%', '3.73%', '3.68%', '2.81%', '2.76%', '2.62%', '1.74%', '1.74%', '1.52%', '1.13%', '0.82%', '0.73%', '0.36%', '0.27%', '0.20%', '0.19%', '0.16%', '0.16%', '0.16%', '0.15%', '0.13%', '0.12%', '0.04%', '23,597,399', '13.03%', '8.98%', '8.67%', '8.31%', '8.23%', '5.81%', '5.18%', '4.99%', '4.93%', '4.81%', '3.99%', '3.79%', '3.77%', '2.86%', '2.81%', '2.62%', '1.77%', '1.77%', '1.58%', '1.14%', '0.76%', '0.70%', '0.36%', '0.27%', '0.20%', '0.19%', '0.17%', '0.16%', '0.15%', '0.15%', '0.13%', '0.12%', '0.04%', '20,652,786']\n",
      "['414.928', '276.522', '264.080', '263.747', '257.484', '177.456', '159.334', '153.324', '150.084', '145.913', '124.764', '117.660', '116.001', '88.497', '86.817', '82.397', '54.930', '54.806', '47.909', '35.664', '25.813', '22.984', '11.250', '8.351', '6.154', '5.849', '5.178', '5.014', '4.885', '4.643', '4.144', '3.715', '1.385', '', '-', '1,384,921', '1,263,925', '1,206,156', '-', '791,144', '737,042', '723,343', '679,552', '579,234', '-', '590,836', '561,368', '-', '443,233', '424,857', '288,842', '279,803', '-', '186,484', '108,830', '120,733', '-', '-', '-', '-', '23,063', '-', '-', '-', '-', '-', '-', '']\n",
      "['1', '2', '3', '4', '5', '6', '7', '8', '9', '10', '11', '12', '13', '14', '15', '16', '17', '18', '19', '20', '21', '22', '23', '24', '25', '26', '27', '28', '29', '30', '31', '32', '33', '', '1', '2', '3', '4', '5', '6', '7', '8', '9', '10', '11', '12', '13', '14', '15', '16', '17', '18', '19', '20', '21', '22', '23', '24', '25', '26', '27', '28', '29', '30', '31', '32', '33', '']\n",
      "['Maharashtra', 'Tamil Nadu', 'Karnataka', 'Uttar Pradesh', 'Gujarat', 'West Bengal', 'Rajasthan', 'Andhra Pradesh', 'Telangana', 'Madhya Pradesh', 'Kerala', 'Delhi', 'Haryana', 'Odisha', 'Bihar', 'Punjab', 'Assam', 'Chhattisgarh', 'Jharkhand', 'Uttarakhand', 'Jammu & Kashmir', 'Himachal Pradesh', 'Goa', 'Tripura', 'Chandigarh', 'Puducherry', 'Meghalaya', 'Sikkim', 'Manipur', 'Arunachal Pradesh', 'Nagaland', 'Mizoram', 'Andaman & Nicobar Islands', 'India', 'Maharashtra', 'Tamil Nadu', 'Karnataka', 'Uttar Pradesh', 'Gujarat', 'West Bengal', 'Rajasthan', 'Andhra Pradesh', 'Telangana', 'Madhya Pradesh', 'Kerala', 'Delhi', 'Haryana', 'Bihar', 'Odisha', 'Punjab', 'Assam', 'Chhattisgarh', 'Jharkhand', 'Uttarakhand', 'Jammu & Kashmir', 'Himachal Pradesh', 'Goa', 'Tripura', 'Chandigarh', 'Puducherry', 'Meghalaya', 'Manipur', 'Sikkim', 'Arunachal Pradesh', 'Nagaland', 'Mizoram', 'Andaman & Nicobar Islands', 'India']\n",
      "['-', '2,700,109', '2,500,733', '2,547,861', '-', '1,700,939', '1,524,030', '1,439,674', '1,463,960', '1,363,327', '-', '1,107,746', '1,095,535', '832,790', '-', '736,423', '565,401', '505,887', '-', '346,206', '246,465', '207,430', '-', '-', '-', '-', '47,381', '-', '-', '-', '-', '-', '-', '29,389,686', '-', '2,417,237', '2,261,867', '2,217,055', '-', '1,531,371', '1,366,626', '1,291,518', '1,326,022', '1,242,883', '-', '997,171', '985,877', '-', '749,809', '639,252', '487,584', '447,682', '-', '304,592', '200,046', '176,164', '-', '-', '-', '-', '42,214', '-', '-', '-', '-', '-', '-', '25,561,438']\n",
      "['13.17%', '8.78%', '8.38%', '8.37%', '8.17%', '5.63%', '5.06%', '4.87%', '4.76%', '4.63%', '3.96%', '3.73%', '3.68%', '2.81%', '2.76%', '2.62%', '1.74%', '1.74%', '1.52%', '1.13%', '0.82%', '0.73%', '0.36%', '0.27%', '0.20%', '0.19%', '0.16%', '0.16%', '0.16%', '0.15%', '0.13%', '0.12%', '0.04%', '23,597,399', '13.03%', '8.98%', '8.67%', '8.31%', '8.23%', '5.81%', '5.18%', '4.99%', '4.93%', '4.81%', '3.99%', '3.79%', '3.77%', '2.86%', '2.81%', '2.62%', '1.77%', '1.77%', '1.58%', '1.14%', '0.76%', '0.70%', '0.36%', '0.27%', '0.20%', '0.19%', '0.17%', '0.16%', '0.15%', '0.15%', '0.13%', '0.12%', '0.04%', '20,652,786']\n",
      "['414.928', '276.522', '264.080', '263.747', '257.484', '177.456', '159.334', '153.324', '150.084', '145.913', '124.764', '117.660', '116.001', '88.497', '86.817', '82.397', '54.930', '54.806', '47.909', '35.664', '25.813', '22.984', '11.250', '8.351', '6.154', '5.849', '5.178', '5.014', '4.885', '4.643', '4.144', '3.715', '1.385', '', '-', '1,384,921', '1,263,925', '1,206,156', '-', '791,144', '737,042', '723,343', '679,552', '579,234', '-', '590,836', '561,368', '-', '443,233', '424,857', '288,842', '279,803', '-', '186,484', '108,830', '120,733', '-', '-', '-', '-', '23,063', '-', '-', '-', '-', '-', '-', '']\n",
      "['1', '2', '3', '4', '5', '6', '7', '8', '9', '10', '11', '12', '13', '14', '15', '16', '17', '18', '19', '20', '21', '22', '23', '24', '25', '26', '27', '28', '29', '30', '31', '32', '33', '', '1', '2', '3', '4', '5', '6', '7', '8', '9', '10', '11', '12', '13', '14', '15', '16', '17', '18', '19', '20', '21', '22', '23', '24', '25', '26', '27', '28', '29', '30', '31', '32', '33', '']\n",
      "['Maharashtra', 'Tamil Nadu', 'Karnataka', 'Uttar Pradesh', 'Gujarat', 'West Bengal', 'Rajasthan', 'Andhra Pradesh', 'Telangana', 'Madhya Pradesh', 'Kerala', 'Delhi', 'Haryana', 'Odisha', 'Bihar', 'Punjab', 'Assam', 'Chhattisgarh', 'Jharkhand', 'Uttarakhand', 'Jammu & Kashmir', 'Himachal Pradesh', 'Goa', 'Tripura', 'Chandigarh', 'Puducherry', 'Meghalaya', 'Sikkim', 'Manipur', 'Arunachal Pradesh', 'Nagaland', 'Mizoram', 'Andaman & Nicobar Islands', 'India', 'Maharashtra', 'Tamil Nadu', 'Karnataka', 'Uttar Pradesh', 'Gujarat', 'West Bengal', 'Rajasthan', 'Andhra Pradesh', 'Telangana', 'Madhya Pradesh', 'Kerala', 'Delhi', 'Haryana', 'Bihar', 'Odisha', 'Punjab', 'Assam', 'Chhattisgarh', 'Jharkhand', 'Uttarakhand', 'Jammu & Kashmir', 'Himachal Pradesh', 'Goa', 'Tripura', 'Chandigarh', 'Puducherry', 'Meghalaya', 'Manipur', 'Sikkim', 'Arunachal Pradesh', 'Nagaland', 'Mizoram', 'Andaman & Nicobar Islands', 'India']\n",
      "['-', '2,700,109', '2,500,733', '2,547,861', '-', '1,700,939', '1,524,030', '1,439,674', '1,463,960', '1,363,327', '-', '1,107,746', '1,095,535', '832,790', '-', '736,423', '565,401', '505,887', '-', '346,206', '246,465', '207,430', '-', '-', '-', '-', '47,381', '-', '-', '-', '-', '-', '-', '29,389,686', '-', '2,417,237', '2,261,867', '2,217,055', '-', '1,531,371', '1,366,626', '1,291,518', '1,326,022', '1,242,883', '-', '997,171', '985,877', '-', '749,809', '639,252', '487,584', '447,682', '-', '304,592', '200,046', '176,164', '-', '-', '-', '-', '42,214', '-', '-', '-', '-', '-', '-', '25,561,438']\n",
      "['13.17%', '8.78%', '8.38%', '8.37%', '8.17%', '5.63%', '5.06%', '4.87%', '4.76%', '4.63%', '3.96%', '3.73%', '3.68%', '2.81%', '2.76%', '2.62%', '1.74%', '1.74%', '1.52%', '1.13%', '0.82%', '0.73%', '0.36%', '0.27%', '0.20%', '0.19%', '0.16%', '0.16%', '0.16%', '0.15%', '0.13%', '0.12%', '0.04%', '23,597,399', '13.03%', '8.98%', '8.67%', '8.31%', '8.23%', '5.81%', '5.18%', '4.99%', '4.93%', '4.81%', '3.99%', '3.79%', '3.77%', '2.86%', '2.81%', '2.62%', '1.77%', '1.77%', '1.58%', '1.14%', '0.76%', '0.70%', '0.36%', '0.27%', '0.20%', '0.19%', '0.17%', '0.16%', '0.15%', '0.15%', '0.13%', '0.12%', '0.04%', '20,652,786']\n",
      "['414.928', '276.522', '264.080', '263.747', '257.484', '177.456', '159.334', '153.324', '150.084', '145.913', '124.764', '117.660', '116.001', '88.497', '86.817', '82.397', '54.930', '54.806', '47.909', '35.664', '25.813', '22.984', '11.250', '8.351', '6.154', '5.849', '5.178', '5.014', '4.885', '4.643', '4.144', '3.715', '1.385', '', '-', '1,384,921', '1,263,925', '1,206,156', '-', '791,144', '737,042', '723,343', '679,552', '579,234', '-', '590,836', '561,368', '-', '443,233', '424,857', '288,842', '279,803', '-', '186,484', '108,830', '120,733', '-', '-', '-', '-', '23,063', '-', '-', '-', '-', '-', '-', '']\n",
      "['1', '2', '3', '4', '5', '6', '7', '8', '9', '10', '11', '12', '13', '14', '15', '16', '17', '18', '19', '20', '21', '22', '23', '24', '25', '26', '27', '28', '29', '30', '31', '32', '33', '', '1', '2', '3', '4', '5', '6', '7', '8', '9', '10', '11', '12', '13', '14', '15', '16', '17', '18', '19', '20', '21', '22', '23', '24', '25', '26', '27', '28', '29', '30', '31', '32', '33', '']\n",
      "['Maharashtra', 'Tamil Nadu', 'Karnataka', 'Uttar Pradesh', 'Gujarat', 'West Bengal', 'Rajasthan', 'Andhra Pradesh', 'Telangana', 'Madhya Pradesh', 'Kerala', 'Delhi', 'Haryana', 'Odisha', 'Bihar', 'Punjab', 'Assam', 'Chhattisgarh', 'Jharkhand', 'Uttarakhand', 'Jammu & Kashmir', 'Himachal Pradesh', 'Goa', 'Tripura', 'Chandigarh', 'Puducherry', 'Meghalaya', 'Sikkim', 'Manipur', 'Arunachal Pradesh', 'Nagaland', 'Mizoram', 'Andaman & Nicobar Islands', 'India', 'Maharashtra', 'Tamil Nadu', 'Karnataka', 'Uttar Pradesh', 'Gujarat', 'West Bengal', 'Rajasthan', 'Andhra Pradesh', 'Telangana', 'Madhya Pradesh', 'Kerala', 'Delhi', 'Haryana', 'Bihar', 'Odisha', 'Punjab', 'Assam', 'Chhattisgarh', 'Jharkhand', 'Uttarakhand', 'Jammu & Kashmir', 'Himachal Pradesh', 'Goa', 'Tripura', 'Chandigarh', 'Puducherry', 'Meghalaya', 'Manipur', 'Sikkim', 'Arunachal Pradesh', 'Nagaland', 'Mizoram', 'Andaman & Nicobar Islands', 'India']\n",
      "['-', '2,700,109', '2,500,733', '2,547,861', '-', '1,700,939', '1,524,030', '1,439,674', '1,463,960', '1,363,327', '-', '1,107,746', '1,095,535', '832,790', '-', '736,423', '565,401', '505,887', '-', '346,206', '246,465', '207,430', '-', '-', '-', '-', '47,381', '-', '-', '-', '-', '-', '-', '29,389,686', '-', '2,417,237', '2,261,867', '2,217,055', '-', '1,531,371', '1,366,626', '1,291,518', '1,326,022', '1,242,883', '-', '997,171', '985,877', '-', '749,809', '639,252', '487,584', '447,682', '-', '304,592', '200,046', '176,164', '-', '-', '-', '-', '42,214', '-', '-', '-', '-', '-', '-', '25,561,438']\n",
      "['13.17%', '8.78%', '8.38%', '8.37%', '8.17%', '5.63%', '5.06%', '4.87%', '4.76%', '4.63%', '3.96%', '3.73%', '3.68%', '2.81%', '2.76%', '2.62%', '1.74%', '1.74%', '1.52%', '1.13%', '0.82%', '0.73%', '0.36%', '0.27%', '0.20%', '0.19%', '0.16%', '0.16%', '0.16%', '0.15%', '0.13%', '0.12%', '0.04%', '23,597,399', '13.03%', '8.98%', '8.67%', '8.31%', '8.23%', '5.81%', '5.18%', '4.99%', '4.93%', '4.81%', '3.99%', '3.79%', '3.77%', '2.86%', '2.81%', '2.62%', '1.77%', '1.77%', '1.58%', '1.14%', '0.76%', '0.70%', '0.36%', '0.27%', '0.20%', '0.19%', '0.17%', '0.16%', '0.15%', '0.15%', '0.13%', '0.12%', '0.04%', '20,652,786']\n",
      "['414.928', '276.522', '264.080', '263.747', '257.484', '177.456', '159.334', '153.324', '150.084', '145.913', '124.764', '117.660', '116.001', '88.497', '86.817', '82.397', '54.930', '54.806', '47.909', '35.664', '25.813', '22.984', '11.250', '8.351', '6.154', '5.849', '5.178', '5.014', '4.885', '4.643', '4.144', '3.715', '1.385', '', '-', '1,384,921', '1,263,925', '1,206,156', '-', '791,144', '737,042', '723,343', '679,552', '579,234', '-', '590,836', '561,368', '-', '443,233', '424,857', '288,842', '279,803', '-', '186,484', '108,830', '120,733', '-', '-', '-', '-', '23,063', '-', '-', '-', '-', '-', '-', '']\n",
      "['1', '2', '3', '4', '5', '6', '7', '8', '9', '10', '11', '12', '13', '14', '15', '16', '17', '18', '19', '20', '21', '22', '23', '24', '25', '26', '27', '28', '29', '30', '31', '32', '33', '', '1', '2', '3', '4', '5', '6', '7', '8', '9', '10', '11', '12', '13', '14', '15', '16', '17', '18', '19', '20', '21', '22', '23', '24', '25', '26', '27', '28', '29', '30', '31', '32', '33', '']\n",
      "['Maharashtra', 'Tamil Nadu', 'Karnataka', 'Uttar Pradesh', 'Gujarat', 'West Bengal', 'Rajasthan', 'Andhra Pradesh', 'Telangana', 'Madhya Pradesh', 'Kerala', 'Delhi', 'Haryana', 'Odisha', 'Bihar', 'Punjab', 'Assam', 'Chhattisgarh', 'Jharkhand', 'Uttarakhand', 'Jammu & Kashmir', 'Himachal Pradesh', 'Goa', 'Tripura', 'Chandigarh', 'Puducherry', 'Meghalaya', 'Sikkim', 'Manipur', 'Arunachal Pradesh', 'Nagaland', 'Mizoram', 'Andaman & Nicobar Islands', 'India', 'Maharashtra', 'Tamil Nadu', 'Karnataka', 'Uttar Pradesh', 'Gujarat', 'West Bengal', 'Rajasthan', 'Andhra Pradesh', 'Telangana', 'Madhya Pradesh', 'Kerala', 'Delhi', 'Haryana', 'Bihar', 'Odisha', 'Punjab', 'Assam', 'Chhattisgarh', 'Jharkhand', 'Uttarakhand', 'Jammu & Kashmir', 'Himachal Pradesh', 'Goa', 'Tripura', 'Chandigarh', 'Puducherry', 'Meghalaya', 'Manipur', 'Sikkim', 'Arunachal Pradesh', 'Nagaland', 'Mizoram', 'Andaman & Nicobar Islands', 'India']\n",
      "['-', '2,700,109', '2,500,733', '2,547,861', '-', '1,700,939', '1,524,030', '1,439,674', '1,463,960', '1,363,327', '-', '1,107,746', '1,095,535', '832,790', '-', '736,423', '565,401', '505,887', '-', '346,206', '246,465', '207,430', '-', '-', '-', '-', '47,381', '-', '-', '-', '-', '-', '-', '29,389,686', '-', '2,417,237', '2,261,867', '2,217,055', '-', '1,531,371', '1,366,626', '1,291,518', '1,326,022', '1,242,883', '-', '997,171', '985,877', '-', '749,809', '639,252', '487,584', '447,682', '-', '304,592', '200,046', '176,164', '-', '-', '-', '-', '42,214', '-', '-', '-', '-', '-', '-', '25,561,438']\n",
      "['13.17%', '8.78%', '8.38%', '8.37%', '8.17%', '5.63%', '5.06%', '4.87%', '4.76%', '4.63%', '3.96%', '3.73%', '3.68%', '2.81%', '2.76%', '2.62%', '1.74%', '1.74%', '1.52%', '1.13%', '0.82%', '0.73%', '0.36%', '0.27%', '0.20%', '0.19%', '0.16%', '0.16%', '0.16%', '0.15%', '0.13%', '0.12%', '0.04%', '23,597,399', '13.03%', '8.98%', '8.67%', '8.31%', '8.23%', '5.81%', '5.18%', '4.99%', '4.93%', '4.81%', '3.99%', '3.79%', '3.77%', '2.86%', '2.81%', '2.62%', '1.77%', '1.77%', '1.58%', '1.14%', '0.76%', '0.70%', '0.36%', '0.27%', '0.20%', '0.19%', '0.17%', '0.16%', '0.15%', '0.15%', '0.13%', '0.12%', '0.04%', '20,652,786']\n",
      "['414.928', '276.522', '264.080', '263.747', '257.484', '177.456', '159.334', '153.324', '150.084', '145.913', '124.764', '117.660', '116.001', '88.497', '86.817', '82.397', '54.930', '54.806', '47.909', '35.664', '25.813', '22.984', '11.250', '8.351', '6.154', '5.849', '5.178', '5.014', '4.885', '4.643', '4.144', '3.715', '1.385', '', '-', '1,384,921', '1,263,925', '1,206,156', '-', '791,144', '737,042', '723,343', '679,552', '579,234', '-', '590,836', '561,368', '-', '443,233', '424,857', '288,842', '279,803', '-', '186,484', '108,830', '120,733', '-', '-', '-', '-', '23,063', '-', '-', '-', '-', '-', '-', '']\n",
      "['1', '2', '3', '4', '5', '6', '7', '8', '9', '10', '11', '12', '13', '14', '15', '16', '17', '18', '19', '20', '21', '22', '23', '24', '25', '26', '27', '28', '29', '30', '31', '32', '33', '', '1', '2', '3', '4', '5', '6', '7', '8', '9', '10', '11', '12', '13', '14', '15', '16', '17', '18', '19', '20', '21', '22', '23', '24', '25', '26', '27', '28', '29', '30', '31', '32', '33', '']\n",
      "['Maharashtra', 'Tamil Nadu', 'Karnataka', 'Uttar Pradesh', 'Gujarat', 'West Bengal', 'Rajasthan', 'Andhra Pradesh', 'Telangana', 'Madhya Pradesh', 'Kerala', 'Delhi', 'Haryana', 'Odisha', 'Bihar', 'Punjab', 'Assam', 'Chhattisgarh', 'Jharkhand', 'Uttarakhand', 'Jammu & Kashmir', 'Himachal Pradesh', 'Goa', 'Tripura', 'Chandigarh', 'Puducherry', 'Meghalaya', 'Sikkim', 'Manipur', 'Arunachal Pradesh', 'Nagaland', 'Mizoram', 'Andaman & Nicobar Islands', 'India', 'Maharashtra', 'Tamil Nadu', 'Karnataka', 'Uttar Pradesh', 'Gujarat', 'West Bengal', 'Rajasthan', 'Andhra Pradesh', 'Telangana', 'Madhya Pradesh', 'Kerala', 'Delhi', 'Haryana', 'Bihar', 'Odisha', 'Punjab', 'Assam', 'Chhattisgarh', 'Jharkhand', 'Uttarakhand', 'Jammu & Kashmir', 'Himachal Pradesh', 'Goa', 'Tripura', 'Chandigarh', 'Puducherry', 'Meghalaya', 'Manipur', 'Sikkim', 'Arunachal Pradesh', 'Nagaland', 'Mizoram', 'Andaman & Nicobar Islands', 'India']\n",
      "['-', '2,700,109', '2,500,733', '2,547,861', '-', '1,700,939', '1,524,030', '1,439,674', '1,463,960', '1,363,327', '-', '1,107,746', '1,095,535', '832,790', '-', '736,423', '565,401', '505,887', '-', '346,206', '246,465', '207,430', '-', '-', '-', '-', '47,381', '-', '-', '-', '-', '-', '-', '29,389,686', '-', '2,417,237', '2,261,867', '2,217,055', '-', '1,531,371', '1,366,626', '1,291,518', '1,326,022', '1,242,883', '-', '997,171', '985,877', '-', '749,809', '639,252', '487,584', '447,682', '-', '304,592', '200,046', '176,164', '-', '-', '-', '-', '42,214', '-', '-', '-', '-', '-', '-', '25,561,438']\n",
      "['13.17%', '8.78%', '8.38%', '8.37%', '8.17%', '5.63%', '5.06%', '4.87%', '4.76%', '4.63%', '3.96%', '3.73%', '3.68%', '2.81%', '2.76%', '2.62%', '1.74%', '1.74%', '1.52%', '1.13%', '0.82%', '0.73%', '0.36%', '0.27%', '0.20%', '0.19%', '0.16%', '0.16%', '0.16%', '0.15%', '0.13%', '0.12%', '0.04%', '23,597,399', '13.03%', '8.98%', '8.67%', '8.31%', '8.23%', '5.81%', '5.18%', '4.99%', '4.93%', '4.81%', '3.99%', '3.79%', '3.77%', '2.86%', '2.81%', '2.62%', '1.77%', '1.77%', '1.58%', '1.14%', '0.76%', '0.70%', '0.36%', '0.27%', '0.20%', '0.19%', '0.17%', '0.16%', '0.15%', '0.15%', '0.13%', '0.12%', '0.04%', '20,652,786']\n",
      "['414.928', '276.522', '264.080', '263.747', '257.484', '177.456', '159.334', '153.324', '150.084', '145.913', '124.764', '117.660', '116.001', '88.497', '86.817', '82.397', '54.930', '54.806', '47.909', '35.664', '25.813', '22.984', '11.250', '8.351', '6.154', '5.849', '5.178', '5.014', '4.885', '4.643', '4.144', '3.715', '1.385', '', '-', '1,384,921', '1,263,925', '1,206,156', '-', '791,144', '737,042', '723,343', '679,552', '579,234', '-', '590,836', '561,368', '-', '443,233', '424,857', '288,842', '279,803', '-', '186,484', '108,830', '120,733', '-', '-', '-', '-', '23,063', '-', '-', '-', '-', '-', '-', '']\n",
      "['1', '2', '3', '4', '5', '6', '7', '8', '9', '10', '11', '12', '13', '14', '15', '16', '17', '18', '19', '20', '21', '22', '23', '24', '25', '26', '27', '28', '29', '30', '31', '32', '33', '', '1', '2', '3', '4', '5', '6', '7', '8', '9', '10', '11', '12', '13', '14', '15', '16', '17', '18', '19', '20', '21', '22', '23', '24', '25', '26', '27', '28', '29', '30', '31', '32', '33', '']\n",
      "['Maharashtra', 'Tamil Nadu', 'Karnataka', 'Uttar Pradesh', 'Gujarat', 'West Bengal', 'Rajasthan', 'Andhra Pradesh', 'Telangana', 'Madhya Pradesh', 'Kerala', 'Delhi', 'Haryana', 'Odisha', 'Bihar', 'Punjab', 'Assam', 'Chhattisgarh', 'Jharkhand', 'Uttarakhand', 'Jammu & Kashmir', 'Himachal Pradesh', 'Goa', 'Tripura', 'Chandigarh', 'Puducherry', 'Meghalaya', 'Sikkim', 'Manipur', 'Arunachal Pradesh', 'Nagaland', 'Mizoram', 'Andaman & Nicobar Islands', 'India', 'Maharashtra', 'Tamil Nadu', 'Karnataka', 'Uttar Pradesh', 'Gujarat', 'West Bengal', 'Rajasthan', 'Andhra Pradesh', 'Telangana', 'Madhya Pradesh', 'Kerala', 'Delhi', 'Haryana', 'Bihar', 'Odisha', 'Punjab', 'Assam', 'Chhattisgarh', 'Jharkhand', 'Uttarakhand', 'Jammu & Kashmir', 'Himachal Pradesh', 'Goa', 'Tripura', 'Chandigarh', 'Puducherry', 'Meghalaya', 'Manipur', 'Sikkim', 'Arunachal Pradesh', 'Nagaland', 'Mizoram', 'Andaman & Nicobar Islands', 'India']\n",
      "['-', '2,700,109', '2,500,733', '2,547,861', '-', '1,700,939', '1,524,030', '1,439,674', '1,463,960', '1,363,327', '-', '1,107,746', '1,095,535', '832,790', '-', '736,423', '565,401', '505,887', '-', '346,206', '246,465', '207,430', '-', '-', '-', '-', '47,381', '-', '-', '-', '-', '-', '-', '29,389,686', '-', '2,417,237', '2,261,867', '2,217,055', '-', '1,531,371', '1,366,626', '1,291,518', '1,326,022', '1,242,883', '-', '997,171', '985,877', '-', '749,809', '639,252', '487,584', '447,682', '-', '304,592', '200,046', '176,164', '-', '-', '-', '-', '42,214', '-', '-', '-', '-', '-', '-', '25,561,438']\n",
      "['13.17%', '8.78%', '8.38%', '8.37%', '8.17%', '5.63%', '5.06%', '4.87%', '4.76%', '4.63%', '3.96%', '3.73%', '3.68%', '2.81%', '2.76%', '2.62%', '1.74%', '1.74%', '1.52%', '1.13%', '0.82%', '0.73%', '0.36%', '0.27%', '0.20%', '0.19%', '0.16%', '0.16%', '0.16%', '0.15%', '0.13%', '0.12%', '0.04%', '23,597,399', '13.03%', '8.98%', '8.67%', '8.31%', '8.23%', '5.81%', '5.18%', '4.99%', '4.93%', '4.81%', '3.99%', '3.79%', '3.77%', '2.86%', '2.81%', '2.62%', '1.77%', '1.77%', '1.58%', '1.14%', '0.76%', '0.70%', '0.36%', '0.27%', '0.20%', '0.19%', '0.17%', '0.16%', '0.15%', '0.15%', '0.13%', '0.12%', '0.04%', '20,652,786']\n",
      "['414.928', '276.522', '264.080', '263.747', '257.484', '177.456', '159.334', '153.324', '150.084', '145.913', '124.764', '117.660', '116.001', '88.497', '86.817', '82.397', '54.930', '54.806', '47.909', '35.664', '25.813', '22.984', '11.250', '8.351', '6.154', '5.849', '5.178', '5.014', '4.885', '4.643', '4.144', '3.715', '1.385', '', '-', '1,384,921', '1,263,925', '1,206,156', '-', '791,144', '737,042', '723,343', '679,552', '579,234', '-', '590,836', '561,368', '-', '443,233', '424,857', '288,842', '279,803', '-', '186,484', '108,830', '120,733', '-', '-', '-', '-', '23,063', '-', '-', '-', '-', '-', '-', '']\n",
      "['1', '2', '3', '4', '5', '6', '7', '8', '9', '10', '11', '12', '13', '14', '15', '16', '17', '18', '19', '20', '21', '22', '23', '24', '25', '26', '27', '28', '29', '30', '31', '32', '33', '', '1', '2', '3', '4', '5', '6', '7', '8', '9', '10', '11', '12', '13', '14', '15', '16', '17', '18', '19', '20', '21', '22', '23', '24', '25', '26', '27', '28', '29', '30', '31', '32', '33', '']\n",
      "['Maharashtra', 'Tamil Nadu', 'Karnataka', 'Uttar Pradesh', 'Gujarat', 'West Bengal', 'Rajasthan', 'Andhra Pradesh', 'Telangana', 'Madhya Pradesh', 'Kerala', 'Delhi', 'Haryana', 'Odisha', 'Bihar', 'Punjab', 'Assam', 'Chhattisgarh', 'Jharkhand', 'Uttarakhand', 'Jammu & Kashmir', 'Himachal Pradesh', 'Goa', 'Tripura', 'Chandigarh', 'Puducherry', 'Meghalaya', 'Sikkim', 'Manipur', 'Arunachal Pradesh', 'Nagaland', 'Mizoram', 'Andaman & Nicobar Islands', 'India', 'Maharashtra', 'Tamil Nadu', 'Karnataka', 'Uttar Pradesh', 'Gujarat', 'West Bengal', 'Rajasthan', 'Andhra Pradesh', 'Telangana', 'Madhya Pradesh', 'Kerala', 'Delhi', 'Haryana', 'Bihar', 'Odisha', 'Punjab', 'Assam', 'Chhattisgarh', 'Jharkhand', 'Uttarakhand', 'Jammu & Kashmir', 'Himachal Pradesh', 'Goa', 'Tripura', 'Chandigarh', 'Puducherry', 'Meghalaya', 'Manipur', 'Sikkim', 'Arunachal Pradesh', 'Nagaland', 'Mizoram', 'Andaman & Nicobar Islands', 'India']\n",
      "['-', '2,700,109', '2,500,733', '2,547,861', '-', '1,700,939', '1,524,030', '1,439,674', '1,463,960', '1,363,327', '-', '1,107,746', '1,095,535', '832,790', '-', '736,423', '565,401', '505,887', '-', '346,206', '246,465', '207,430', '-', '-', '-', '-', '47,381', '-', '-', '-', '-', '-', '-', '29,389,686', '-', '2,417,237', '2,261,867', '2,217,055', '-', '1,531,371', '1,366,626', '1,291,518', '1,326,022', '1,242,883', '-', '997,171', '985,877', '-', '749,809', '639,252', '487,584', '447,682', '-', '304,592', '200,046', '176,164', '-', '-', '-', '-', '42,214', '-', '-', '-', '-', '-', '-', '25,561,438']\n",
      "['13.17%', '8.78%', '8.38%', '8.37%', '8.17%', '5.63%', '5.06%', '4.87%', '4.76%', '4.63%', '3.96%', '3.73%', '3.68%', '2.81%', '2.76%', '2.62%', '1.74%', '1.74%', '1.52%', '1.13%', '0.82%', '0.73%', '0.36%', '0.27%', '0.20%', '0.19%', '0.16%', '0.16%', '0.16%', '0.15%', '0.13%', '0.12%', '0.04%', '23,597,399', '13.03%', '8.98%', '8.67%', '8.31%', '8.23%', '5.81%', '5.18%', '4.99%', '4.93%', '4.81%', '3.99%', '3.79%', '3.77%', '2.86%', '2.81%', '2.62%', '1.77%', '1.77%', '1.58%', '1.14%', '0.76%', '0.70%', '0.36%', '0.27%', '0.20%', '0.19%', '0.17%', '0.16%', '0.15%', '0.15%', '0.13%', '0.12%', '0.04%', '20,652,786']\n",
      "['414.928', '276.522', '264.080', '263.747', '257.484', '177.456', '159.334', '153.324', '150.084', '145.913', '124.764', '117.660', '116.001', '88.497', '86.817', '82.397', '54.930', '54.806', '47.909', '35.664', '25.813', '22.984', '11.250', '8.351', '6.154', '5.849', '5.178', '5.014', '4.885', '4.643', '4.144', '3.715', '1.385', '', '-', '1,384,921', '1,263,925', '1,206,156', '-', '791,144', '737,042', '723,343', '679,552', '579,234', '-', '590,836', '561,368', '-', '443,233', '424,857', '288,842', '279,803', '-', '186,484', '108,830', '120,733', '-', '-', '-', '-', '23,063', '-', '-', '-', '-', '-', '-', '']\n",
      "['1', '2', '3', '4', '5', '6', '7', '8', '9', '10', '11', '12', '13', '14', '15', '16', '17', '18', '19', '20', '21', '22', '23', '24', '25', '26', '27', '28', '29', '30', '31', '32', '33', '', '1', '2', '3', '4', '5', '6', '7', '8', '9', '10', '11', '12', '13', '14', '15', '16', '17', '18', '19', '20', '21', '22', '23', '24', '25', '26', '27', '28', '29', '30', '31', '32', '33', '']\n",
      "['Maharashtra', 'Tamil Nadu', 'Karnataka', 'Uttar Pradesh', 'Gujarat', 'West Bengal', 'Rajasthan', 'Andhra Pradesh', 'Telangana', 'Madhya Pradesh', 'Kerala', 'Delhi', 'Haryana', 'Odisha', 'Bihar', 'Punjab', 'Assam', 'Chhattisgarh', 'Jharkhand', 'Uttarakhand', 'Jammu & Kashmir', 'Himachal Pradesh', 'Goa', 'Tripura', 'Chandigarh', 'Puducherry', 'Meghalaya', 'Sikkim', 'Manipur', 'Arunachal Pradesh', 'Nagaland', 'Mizoram', 'Andaman & Nicobar Islands', 'India', 'Maharashtra', 'Tamil Nadu', 'Karnataka', 'Uttar Pradesh', 'Gujarat', 'West Bengal', 'Rajasthan', 'Andhra Pradesh', 'Telangana', 'Madhya Pradesh', 'Kerala', 'Delhi', 'Haryana', 'Bihar', 'Odisha', 'Punjab', 'Assam', 'Chhattisgarh', 'Jharkhand', 'Uttarakhand', 'Jammu & Kashmir', 'Himachal Pradesh', 'Goa', 'Tripura', 'Chandigarh', 'Puducherry', 'Meghalaya', 'Manipur', 'Sikkim', 'Arunachal Pradesh', 'Nagaland', 'Mizoram', 'Andaman & Nicobar Islands', 'India']\n",
      "['-', '2,700,109', '2,500,733', '2,547,861', '-', '1,700,939', '1,524,030', '1,439,674', '1,463,960', '1,363,327', '-', '1,107,746', '1,095,535', '832,790', '-', '736,423', '565,401', '505,887', '-', '346,206', '246,465', '207,430', '-', '-', '-', '-', '47,381', '-', '-', '-', '-', '-', '-', '29,389,686', '-', '2,417,237', '2,261,867', '2,217,055', '-', '1,531,371', '1,366,626', '1,291,518', '1,326,022', '1,242,883', '-', '997,171', '985,877', '-', '749,809', '639,252', '487,584', '447,682', '-', '304,592', '200,046', '176,164', '-', '-', '-', '-', '42,214', '-', '-', '-', '-', '-', '-', '25,561,438']\n",
      "['13.17%', '8.78%', '8.38%', '8.37%', '8.17%', '5.63%', '5.06%', '4.87%', '4.76%', '4.63%', '3.96%', '3.73%', '3.68%', '2.81%', '2.76%', '2.62%', '1.74%', '1.74%', '1.52%', '1.13%', '0.82%', '0.73%', '0.36%', '0.27%', '0.20%', '0.19%', '0.16%', '0.16%', '0.16%', '0.15%', '0.13%', '0.12%', '0.04%', '23,597,399', '13.03%', '8.98%', '8.67%', '8.31%', '8.23%', '5.81%', '5.18%', '4.99%', '4.93%', '4.81%', '3.99%', '3.79%', '3.77%', '2.86%', '2.81%', '2.62%', '1.77%', '1.77%', '1.58%', '1.14%', '0.76%', '0.70%', '0.36%', '0.27%', '0.20%', '0.19%', '0.17%', '0.16%', '0.15%', '0.15%', '0.13%', '0.12%', '0.04%', '20,652,786']\n",
      "['414.928', '276.522', '264.080', '263.747', '257.484', '177.456', '159.334', '153.324', '150.084', '145.913', '124.764', '117.660', '116.001', '88.497', '86.817', '82.397', '54.930', '54.806', '47.909', '35.664', '25.813', '22.984', '11.250', '8.351', '6.154', '5.849', '5.178', '5.014', '4.885', '4.643', '4.144', '3.715', '1.385', '', '-', '1,384,921', '1,263,925', '1,206,156', '-', '791,144', '737,042', '723,343', '679,552', '579,234', '-', '590,836', '561,368', '-', '443,233', '424,857', '288,842', '279,803', '-', '186,484', '108,830', '120,733', '-', '-', '-', '-', '23,063', '-', '-', '-', '-', '-', '-', '']\n",
      "['1', '2', '3', '4', '5', '6', '7', '8', '9', '10', '11', '12', '13', '14', '15', '16', '17', '18', '19', '20', '21', '22', '23', '24', '25', '26', '27', '28', '29', '30', '31', '32', '33', '', '1', '2', '3', '4', '5', '6', '7', '8', '9', '10', '11', '12', '13', '14', '15', '16', '17', '18', '19', '20', '21', '22', '23', '24', '25', '26', '27', '28', '29', '30', '31', '32', '33', '']\n",
      "['Maharashtra', 'Tamil Nadu', 'Karnataka', 'Uttar Pradesh', 'Gujarat', 'West Bengal', 'Rajasthan', 'Andhra Pradesh', 'Telangana', 'Madhya Pradesh', 'Kerala', 'Delhi', 'Haryana', 'Odisha', 'Bihar', 'Punjab', 'Assam', 'Chhattisgarh', 'Jharkhand', 'Uttarakhand', 'Jammu & Kashmir', 'Himachal Pradesh', 'Goa', 'Tripura', 'Chandigarh', 'Puducherry', 'Meghalaya', 'Sikkim', 'Manipur', 'Arunachal Pradesh', 'Nagaland', 'Mizoram', 'Andaman & Nicobar Islands', 'India', 'Maharashtra', 'Tamil Nadu', 'Karnataka', 'Uttar Pradesh', 'Gujarat', 'West Bengal', 'Rajasthan', 'Andhra Pradesh', 'Telangana', 'Madhya Pradesh', 'Kerala', 'Delhi', 'Haryana', 'Bihar', 'Odisha', 'Punjab', 'Assam', 'Chhattisgarh', 'Jharkhand', 'Uttarakhand', 'Jammu & Kashmir', 'Himachal Pradesh', 'Goa', 'Tripura', 'Chandigarh', 'Puducherry', 'Meghalaya', 'Manipur', 'Sikkim', 'Arunachal Pradesh', 'Nagaland', 'Mizoram', 'Andaman & Nicobar Islands', 'India']\n",
      "['-', '2,700,109', '2,500,733', '2,547,861', '-', '1,700,939', '1,524,030', '1,439,674', '1,463,960', '1,363,327', '-', '1,107,746', '1,095,535', '832,790', '-', '736,423', '565,401', '505,887', '-', '346,206', '246,465', '207,430', '-', '-', '-', '-', '47,381', '-', '-', '-', '-', '-', '-', '29,389,686', '-', '2,417,237', '2,261,867', '2,217,055', '-', '1,531,371', '1,366,626', '1,291,518', '1,326,022', '1,242,883', '-', '997,171', '985,877', '-', '749,809', '639,252', '487,584', '447,682', '-', '304,592', '200,046', '176,164', '-', '-', '-', '-', '42,214', '-', '-', '-', '-', '-', '-', '25,561,438']\n",
      "['13.17%', '8.78%', '8.38%', '8.37%', '8.17%', '5.63%', '5.06%', '4.87%', '4.76%', '4.63%', '3.96%', '3.73%', '3.68%', '2.81%', '2.76%', '2.62%', '1.74%', '1.74%', '1.52%', '1.13%', '0.82%', '0.73%', '0.36%', '0.27%', '0.20%', '0.19%', '0.16%', '0.16%', '0.16%', '0.15%', '0.13%', '0.12%', '0.04%', '23,597,399', '13.03%', '8.98%', '8.67%', '8.31%', '8.23%', '5.81%', '5.18%', '4.99%', '4.93%', '4.81%', '3.99%', '3.79%', '3.77%', '2.86%', '2.81%', '2.62%', '1.77%', '1.77%', '1.58%', '1.14%', '0.76%', '0.70%', '0.36%', '0.27%', '0.20%', '0.19%', '0.17%', '0.16%', '0.15%', '0.15%', '0.13%', '0.12%', '0.04%', '20,652,786']\n",
      "['414.928', '276.522', '264.080', '263.747', '257.484', '177.456', '159.334', '153.324', '150.084', '145.913', '124.764', '117.660', '116.001', '88.497', '86.817', '82.397', '54.930', '54.806', '47.909', '35.664', '25.813', '22.984', '11.250', '8.351', '6.154', '5.849', '5.178', '5.014', '4.885', '4.643', '4.144', '3.715', '1.385', '', '-', '1,384,921', '1,263,925', '1,206,156', '-', '791,144', '737,042', '723,343', '679,552', '579,234', '-', '590,836', '561,368', '-', '443,233', '424,857', '288,842', '279,803', '-', '186,484', '108,830', '120,733', '-', '-', '-', '-', '23,063', '-', '-', '-', '-', '-', '-', '']\n",
      "['1', '2', '3', '4', '5', '6', '7', '8', '9', '10', '11', '12', '13', '14', '15', '16', '17', '18', '19', '20', '21', '22', '23', '24', '25', '26', '27', '28', '29', '30', '31', '32', '33', '', '1', '2', '3', '4', '5', '6', '7', '8', '9', '10', '11', '12', '13', '14', '15', '16', '17', '18', '19', '20', '21', '22', '23', '24', '25', '26', '27', '28', '29', '30', '31', '32', '33', '']\n",
      "['Maharashtra', 'Tamil Nadu', 'Karnataka', 'Uttar Pradesh', 'Gujarat', 'West Bengal', 'Rajasthan', 'Andhra Pradesh', 'Telangana', 'Madhya Pradesh', 'Kerala', 'Delhi', 'Haryana', 'Odisha', 'Bihar', 'Punjab', 'Assam', 'Chhattisgarh', 'Jharkhand', 'Uttarakhand', 'Jammu & Kashmir', 'Himachal Pradesh', 'Goa', 'Tripura', 'Chandigarh', 'Puducherry', 'Meghalaya', 'Sikkim', 'Manipur', 'Arunachal Pradesh', 'Nagaland', 'Mizoram', 'Andaman & Nicobar Islands', 'India', 'Maharashtra', 'Tamil Nadu', 'Karnataka', 'Uttar Pradesh', 'Gujarat', 'West Bengal', 'Rajasthan', 'Andhra Pradesh', 'Telangana', 'Madhya Pradesh', 'Kerala', 'Delhi', 'Haryana', 'Bihar', 'Odisha', 'Punjab', 'Assam', 'Chhattisgarh', 'Jharkhand', 'Uttarakhand', 'Jammu & Kashmir', 'Himachal Pradesh', 'Goa', 'Tripura', 'Chandigarh', 'Puducherry', 'Meghalaya', 'Manipur', 'Sikkim', 'Arunachal Pradesh', 'Nagaland', 'Mizoram', 'Andaman & Nicobar Islands', 'India']\n",
      "['-', '2,700,109', '2,500,733', '2,547,861', '-', '1,700,939', '1,524,030', '1,439,674', '1,463,960', '1,363,327', '-', '1,107,746', '1,095,535', '832,790', '-', '736,423', '565,401', '505,887', '-', '346,206', '246,465', '207,430', '-', '-', '-', '-', '47,381', '-', '-', '-', '-', '-', '-', '29,389,686', '-', '2,417,237', '2,261,867', '2,217,055', '-', '1,531,371', '1,366,626', '1,291,518', '1,326,022', '1,242,883', '-', '997,171', '985,877', '-', '749,809', '639,252', '487,584', '447,682', '-', '304,592', '200,046', '176,164', '-', '-', '-', '-', '42,214', '-', '-', '-', '-', '-', '-', '25,561,438']\n",
      "['13.17%', '8.78%', '8.38%', '8.37%', '8.17%', '5.63%', '5.06%', '4.87%', '4.76%', '4.63%', '3.96%', '3.73%', '3.68%', '2.81%', '2.76%', '2.62%', '1.74%', '1.74%', '1.52%', '1.13%', '0.82%', '0.73%', '0.36%', '0.27%', '0.20%', '0.19%', '0.16%', '0.16%', '0.16%', '0.15%', '0.13%', '0.12%', '0.04%', '23,597,399', '13.03%', '8.98%', '8.67%', '8.31%', '8.23%', '5.81%', '5.18%', '4.99%', '4.93%', '4.81%', '3.99%', '3.79%', '3.77%', '2.86%', '2.81%', '2.62%', '1.77%', '1.77%', '1.58%', '1.14%', '0.76%', '0.70%', '0.36%', '0.27%', '0.20%', '0.19%', '0.17%', '0.16%', '0.15%', '0.15%', '0.13%', '0.12%', '0.04%', '20,652,786']\n",
      "['414.928', '276.522', '264.080', '263.747', '257.484', '177.456', '159.334', '153.324', '150.084', '145.913', '124.764', '117.660', '116.001', '88.497', '86.817', '82.397', '54.930', '54.806', '47.909', '35.664', '25.813', '22.984', '11.250', '8.351', '6.154', '5.849', '5.178', '5.014', '4.885', '4.643', '4.144', '3.715', '1.385', '', '-', '1,384,921', '1,263,925', '1,206,156', '-', '791,144', '737,042', '723,343', '679,552', '579,234', '-', '590,836', '561,368', '-', '443,233', '424,857', '288,842', '279,803', '-', '186,484', '108,830', '120,733', '-', '-', '-', '-', '23,063', '-', '-', '-', '-', '-', '-', '']\n",
      "['1', '2', '3', '4', '5', '6', '7', '8', '9', '10', '11', '12', '13', '14', '15', '16', '17', '18', '19', '20', '21', '22', '23', '24', '25', '26', '27', '28', '29', '30', '31', '32', '33', '', '1', '2', '3', '4', '5', '6', '7', '8', '9', '10', '11', '12', '13', '14', '15', '16', '17', '18', '19', '20', '21', '22', '23', '24', '25', '26', '27', '28', '29', '30', '31', '32', '33', '']\n",
      "['Maharashtra', 'Tamil Nadu', 'Karnataka', 'Uttar Pradesh', 'Gujarat', 'West Bengal', 'Rajasthan', 'Andhra Pradesh', 'Telangana', 'Madhya Pradesh', 'Kerala', 'Delhi', 'Haryana', 'Odisha', 'Bihar', 'Punjab', 'Assam', 'Chhattisgarh', 'Jharkhand', 'Uttarakhand', 'Jammu & Kashmir', 'Himachal Pradesh', 'Goa', 'Tripura', 'Chandigarh', 'Puducherry', 'Meghalaya', 'Sikkim', 'Manipur', 'Arunachal Pradesh', 'Nagaland', 'Mizoram', 'Andaman & Nicobar Islands', 'India', 'Maharashtra', 'Tamil Nadu', 'Karnataka', 'Uttar Pradesh', 'Gujarat', 'West Bengal', 'Rajasthan', 'Andhra Pradesh', 'Telangana', 'Madhya Pradesh', 'Kerala', 'Delhi', 'Haryana', 'Bihar', 'Odisha', 'Punjab', 'Assam', 'Chhattisgarh', 'Jharkhand', 'Uttarakhand', 'Jammu & Kashmir', 'Himachal Pradesh', 'Goa', 'Tripura', 'Chandigarh', 'Puducherry', 'Meghalaya', 'Manipur', 'Sikkim', 'Arunachal Pradesh', 'Nagaland', 'Mizoram', 'Andaman & Nicobar Islands', 'India']\n",
      "['-', '2,700,109', '2,500,733', '2,547,861', '-', '1,700,939', '1,524,030', '1,439,674', '1,463,960', '1,363,327', '-', '1,107,746', '1,095,535', '832,790', '-', '736,423', '565,401', '505,887', '-', '346,206', '246,465', '207,430', '-', '-', '-', '-', '47,381', '-', '-', '-', '-', '-', '-', '29,389,686', '-', '2,417,237', '2,261,867', '2,217,055', '-', '1,531,371', '1,366,626', '1,291,518', '1,326,022', '1,242,883', '-', '997,171', '985,877', '-', '749,809', '639,252', '487,584', '447,682', '-', '304,592', '200,046', '176,164', '-', '-', '-', '-', '42,214', '-', '-', '-', '-', '-', '-', '25,561,438']\n",
      "['13.17%', '8.78%', '8.38%', '8.37%', '8.17%', '5.63%', '5.06%', '4.87%', '4.76%', '4.63%', '3.96%', '3.73%', '3.68%', '2.81%', '2.76%', '2.62%', '1.74%', '1.74%', '1.52%', '1.13%', '0.82%', '0.73%', '0.36%', '0.27%', '0.20%', '0.19%', '0.16%', '0.16%', '0.16%', '0.15%', '0.13%', '0.12%', '0.04%', '23,597,399', '13.03%', '8.98%', '8.67%', '8.31%', '8.23%', '5.81%', '5.18%', '4.99%', '4.93%', '4.81%', '3.99%', '3.79%', '3.77%', '2.86%', '2.81%', '2.62%', '1.77%', '1.77%', '1.58%', '1.14%', '0.76%', '0.70%', '0.36%', '0.27%', '0.20%', '0.19%', '0.17%', '0.16%', '0.15%', '0.15%', '0.13%', '0.12%', '0.04%', '20,652,786']\n",
      "['414.928', '276.522', '264.080', '263.747', '257.484', '177.456', '159.334', '153.324', '150.084', '145.913', '124.764', '117.660', '116.001', '88.497', '86.817', '82.397', '54.930', '54.806', '47.909', '35.664', '25.813', '22.984', '11.250', '8.351', '6.154', '5.849', '5.178', '5.014', '4.885', '4.643', '4.144', '3.715', '1.385', '', '-', '1,384,921', '1,263,925', '1,206,156', '-', '791,144', '737,042', '723,343', '679,552', '579,234', '-', '590,836', '561,368', '-', '443,233', '424,857', '288,842', '279,803', '-', '186,484', '108,830', '120,733', '-', '-', '-', '-', '23,063', '-', '-', '-', '-', '-', '-', '']\n"
     ]
    }
   ],
   "source": [
    "for ro1 in rows1:\n",
    "    co1=ro1.find_elements(By.XPATH,'//td[@class=\"data1\"][1]')\n",
    "    rod=[a.text for a in co1]\n",
    "    co2=ro1.find_elements(By.XPATH,'//td[@class=\"name\"][1]')\n",
    "    roe=[b.text for b in co2]\n",
    "    co3=ro1.find_elements(By.XPATH,'//td[@class=\"data\"][1]')\n",
    "    rof=[c.text for c in co3]\n",
    "    co4=ro1.find_elements(By.XPATH,'//td[@class=\"data\"][3]')\n",
    "    rog=[d.text for d in co4]\n",
    "    co5=ro1.find_elements(By.XPATH,'//td[@class=\"data\"][4]')\n",
    "    roh=[e.text for e in co5]\n",
    "    tada3.extend([rod,roe,rof,rog,roh])\n",
    "\n",
    "for ro1 in tada3:\n",
    "    print(ro1)"
   ]
  },
  {
   "cell_type": "code",
   "execution_count": 81,
   "id": "2435c76a-61e2-4738-9832-361eef1a8753",
   "metadata": {},
   "outputs": [
    {
     "name": "stdout",
     "output_type": "stream",
     "text": [
      "[['1', '2', '3', '4', '5', '6', '7', '8', '9', '10', '11', '12', '13', '14', '15', '16', '17', '18', '19', '20', '21', '22', '23', '24', '25', '26', '27', '28', '29', '30', '31', '32', '33', '', '1', '2', '3', '4', '5', '6', '7', '8', '9', '10', '11', '12', '13', '14', '15', '16', '17', '18', '19', '20', '21', '22', '23', '24', '25', '26', '27', '28', '29', '30', '31', '32', '33', ''], ['Maharashtra', 'Tamil Nadu', 'Karnataka', 'Uttar Pradesh', 'Gujarat', 'West Bengal', 'Rajasthan', 'Andhra Pradesh', 'Telangana', 'Madhya Pradesh', 'Kerala', 'Delhi', 'Haryana', 'Odisha', 'Bihar', 'Punjab', 'Assam', 'Chhattisgarh', 'Jharkhand', 'Uttarakhand', 'Jammu & Kashmir', 'Himachal Pradesh', 'Goa', 'Tripura', 'Chandigarh', 'Puducherry', 'Meghalaya', 'Sikkim', 'Manipur', 'Arunachal Pradesh', 'Nagaland', 'Mizoram', 'Andaman & Nicobar Islands', 'India', 'Maharashtra', 'Tamil Nadu', 'Karnataka', 'Uttar Pradesh', 'Gujarat', 'West Bengal', 'Rajasthan', 'Andhra Pradesh', 'Telangana', 'Madhya Pradesh', 'Kerala', 'Delhi', 'Haryana', 'Bihar', 'Odisha', 'Punjab', 'Assam', 'Chhattisgarh', 'Jharkhand', 'Uttarakhand', 'Jammu & Kashmir', 'Himachal Pradesh', 'Goa', 'Tripura', 'Chandigarh', 'Puducherry', 'Meghalaya', 'Manipur', 'Sikkim', 'Arunachal Pradesh', 'Nagaland', 'Mizoram', 'Andaman & Nicobar Islands', 'India'], ['-', '2,700,109', '2,500,733', '2,547,861', '-', '1,700,939', '1,524,030', '1,439,674', '1,463,960', '1,363,327', '-', '1,107,746', '1,095,535', '832,790', '-', '736,423', '565,401', '505,887', '-', '346,206', '246,465', '207,430', '-', '-', '-', '-', '47,381', '-', '-', '-', '-', '-', '-', '29,389,686', '-', '2,417,237', '2,261,867', '2,217,055', '-', '1,531,371', '1,366,626', '1,291,518', '1,326,022', '1,242,883', '-', '997,171', '985,877', '-', '749,809', '639,252', '487,584', '447,682', '-', '304,592', '200,046', '176,164', '-', '-', '-', '-', '42,214', '-', '-', '-', '-', '-', '-', '25,561,438'], ['13.17%', '8.78%', '8.38%', '8.37%', '8.17%', '5.63%', '5.06%', '4.87%', '4.76%', '4.63%', '3.96%', '3.73%', '3.68%', '2.81%', '2.76%', '2.62%', '1.74%', '1.74%', '1.52%', '1.13%', '0.82%', '0.73%', '0.36%', '0.27%', '0.20%', '0.19%', '0.16%', '0.16%', '0.16%', '0.15%', '0.13%', '0.12%', '0.04%', '23,597,399', '13.03%', '8.98%', '8.67%', '8.31%', '8.23%', '5.81%', '5.18%', '4.99%', '4.93%', '4.81%', '3.99%', '3.79%', '3.77%', '2.86%', '2.81%', '2.62%', '1.77%', '1.77%', '1.58%', '1.14%', '0.76%', '0.70%', '0.36%', '0.27%', '0.20%', '0.19%', '0.17%', '0.16%', '0.15%', '0.15%', '0.13%', '0.12%', '0.04%', '20,652,786'], ['414.928', '276.522', '264.080', '263.747', '257.484', '177.456', '159.334', '153.324', '150.084', '145.913', '124.764', '117.660', '116.001', '88.497', '86.817', '82.397', '54.930', '54.806', '47.909', '35.664', '25.813', '22.984', '11.250', '8.351', '6.154', '5.849', '5.178', '5.014', '4.885', '4.643', '4.144', '3.715', '1.385', '', '-', '1,384,921', '1,263,925', '1,206,156', '-', '791,144', '737,042', '723,343', '679,552', '579,234', '-', '590,836', '561,368', '-', '443,233', '424,857', '288,842', '279,803', '-', '186,484', '108,830', '120,733', '-', '-', '-', '-', '23,063', '-', '-', '-', '-', '-', '-', ''], ['1', '2', '3', '4', '5', '6', '7', '8', '9', '10', '11', '12', '13', '14', '15', '16', '17', '18', '19', '20', '21', '22', '23', '24', '25', '26', '27', '28', '29', '30', '31', '32', '33', '', '1', '2', '3', '4', '5', '6', '7', '8', '9', '10', '11', '12', '13', '14', '15', '16', '17', '18', '19', '20', '21', '22', '23', '24', '25', '26', '27', '28', '29', '30', '31', '32', '33', ''], ['Maharashtra', 'Tamil Nadu', 'Karnataka', 'Uttar Pradesh', 'Gujarat', 'West Bengal', 'Rajasthan', 'Andhra Pradesh', 'Telangana', 'Madhya Pradesh', 'Kerala', 'Delhi', 'Haryana', 'Odisha', 'Bihar', 'Punjab', 'Assam', 'Chhattisgarh', 'Jharkhand', 'Uttarakhand', 'Jammu & Kashmir', 'Himachal Pradesh', 'Goa', 'Tripura', 'Chandigarh', 'Puducherry', 'Meghalaya', 'Sikkim', 'Manipur', 'Arunachal Pradesh', 'Nagaland', 'Mizoram', 'Andaman & Nicobar Islands', 'India', 'Maharashtra', 'Tamil Nadu', 'Karnataka', 'Uttar Pradesh', 'Gujarat', 'West Bengal', 'Rajasthan', 'Andhra Pradesh', 'Telangana', 'Madhya Pradesh', 'Kerala', 'Delhi', 'Haryana', 'Bihar', 'Odisha', 'Punjab', 'Assam', 'Chhattisgarh', 'Jharkhand', 'Uttarakhand', 'Jammu & Kashmir', 'Himachal Pradesh', 'Goa', 'Tripura', 'Chandigarh', 'Puducherry', 'Meghalaya', 'Manipur', 'Sikkim', 'Arunachal Pradesh', 'Nagaland', 'Mizoram', 'Andaman & Nicobar Islands', 'India'], ['-', '2,700,109', '2,500,733', '2,547,861', '-', '1,700,939', '1,524,030', '1,439,674', '1,463,960', '1,363,327', '-', '1,107,746', '1,095,535', '832,790', '-', '736,423', '565,401', '505,887', '-', '346,206', '246,465', '207,430', '-', '-', '-', '-', '47,381', '-', '-', '-', '-', '-', '-', '29,389,686', '-', '2,417,237', '2,261,867', '2,217,055', '-', '1,531,371', '1,366,626', '1,291,518', '1,326,022', '1,242,883', '-', '997,171', '985,877', '-', '749,809', '639,252', '487,584', '447,682', '-', '304,592', '200,046', '176,164', '-', '-', '-', '-', '42,214', '-', '-', '-', '-', '-', '-', '25,561,438'], ['13.17%', '8.78%', '8.38%', '8.37%', '8.17%', '5.63%', '5.06%', '4.87%', '4.76%', '4.63%', '3.96%', '3.73%', '3.68%', '2.81%', '2.76%', '2.62%', '1.74%', '1.74%', '1.52%', '1.13%', '0.82%', '0.73%', '0.36%', '0.27%', '0.20%', '0.19%', '0.16%', '0.16%', '0.16%', '0.15%', '0.13%', '0.12%', '0.04%', '23,597,399', '13.03%', '8.98%', '8.67%', '8.31%', '8.23%', '5.81%', '5.18%', '4.99%', '4.93%', '4.81%', '3.99%', '3.79%', '3.77%', '2.86%', '2.81%', '2.62%', '1.77%', '1.77%', '1.58%', '1.14%', '0.76%', '0.70%', '0.36%', '0.27%', '0.20%', '0.19%', '0.17%', '0.16%', '0.15%', '0.15%', '0.13%', '0.12%', '0.04%', '20,652,786'], ['414.928', '276.522', '264.080', '263.747', '257.484', '177.456', '159.334', '153.324', '150.084', '145.913', '124.764', '117.660', '116.001', '88.497', '86.817', '82.397', '54.930', '54.806', '47.909', '35.664', '25.813', '22.984', '11.250', '8.351', '6.154', '5.849', '5.178', '5.014', '4.885', '4.643', '4.144', '3.715', '1.385', '', '-', '1,384,921', '1,263,925', '1,206,156', '-', '791,144', '737,042', '723,343', '679,552', '579,234', '-', '590,836', '561,368', '-', '443,233', '424,857', '288,842', '279,803', '-', '186,484', '108,830', '120,733', '-', '-', '-', '-', '23,063', '-', '-', '-', '-', '-', '-', ''], ['1', '2', '3', '4', '5', '6', '7', '8', '9', '10', '11', '12', '13', '14', '15', '16', '17', '18', '19', '20', '21', '22', '23', '24', '25', '26', '27', '28', '29', '30', '31', '32', '33', '', '1', '2', '3', '4', '5', '6', '7', '8', '9', '10', '11', '12', '13', '14', '15', '16', '17', '18', '19', '20', '21', '22', '23', '24', '25', '26', '27', '28', '29', '30', '31', '32', '33', ''], ['Maharashtra', 'Tamil Nadu', 'Karnataka', 'Uttar Pradesh', 'Gujarat', 'West Bengal', 'Rajasthan', 'Andhra Pradesh', 'Telangana', 'Madhya Pradesh', 'Kerala', 'Delhi', 'Haryana', 'Odisha', 'Bihar', 'Punjab', 'Assam', 'Chhattisgarh', 'Jharkhand', 'Uttarakhand', 'Jammu & Kashmir', 'Himachal Pradesh', 'Goa', 'Tripura', 'Chandigarh', 'Puducherry', 'Meghalaya', 'Sikkim', 'Manipur', 'Arunachal Pradesh', 'Nagaland', 'Mizoram', 'Andaman & Nicobar Islands', 'India', 'Maharashtra', 'Tamil Nadu', 'Karnataka', 'Uttar Pradesh', 'Gujarat', 'West Bengal', 'Rajasthan', 'Andhra Pradesh', 'Telangana', 'Madhya Pradesh', 'Kerala', 'Delhi', 'Haryana', 'Bihar', 'Odisha', 'Punjab', 'Assam', 'Chhattisgarh', 'Jharkhand', 'Uttarakhand', 'Jammu & Kashmir', 'Himachal Pradesh', 'Goa', 'Tripura', 'Chandigarh', 'Puducherry', 'Meghalaya', 'Manipur', 'Sikkim', 'Arunachal Pradesh', 'Nagaland', 'Mizoram', 'Andaman & Nicobar Islands', 'India'], ['-', '2,700,109', '2,500,733', '2,547,861', '-', '1,700,939', '1,524,030', '1,439,674', '1,463,960', '1,363,327', '-', '1,107,746', '1,095,535', '832,790', '-', '736,423', '565,401', '505,887', '-', '346,206', '246,465', '207,430', '-', '-', '-', '-', '47,381', '-', '-', '-', '-', '-', '-', '29,389,686', '-', '2,417,237', '2,261,867', '2,217,055', '-', '1,531,371', '1,366,626', '1,291,518', '1,326,022', '1,242,883', '-', '997,171', '985,877', '-', '749,809', '639,252', '487,584', '447,682', '-', '304,592', '200,046', '176,164', '-', '-', '-', '-', '42,214', '-', '-', '-', '-', '-', '-', '25,561,438'], ['13.17%', '8.78%', '8.38%', '8.37%', '8.17%', '5.63%', '5.06%', '4.87%', '4.76%', '4.63%', '3.96%', '3.73%', '3.68%', '2.81%', '2.76%', '2.62%', '1.74%', '1.74%', '1.52%', '1.13%', '0.82%', '0.73%', '0.36%', '0.27%', '0.20%', '0.19%', '0.16%', '0.16%', '0.16%', '0.15%', '0.13%', '0.12%', '0.04%', '23,597,399', '13.03%', '8.98%', '8.67%', '8.31%', '8.23%', '5.81%', '5.18%', '4.99%', '4.93%', '4.81%', '3.99%', '3.79%', '3.77%', '2.86%', '2.81%', '2.62%', '1.77%', '1.77%', '1.58%', '1.14%', '0.76%', '0.70%', '0.36%', '0.27%', '0.20%', '0.19%', '0.17%', '0.16%', '0.15%', '0.15%', '0.13%', '0.12%', '0.04%', '20,652,786'], ['414.928', '276.522', '264.080', '263.747', '257.484', '177.456', '159.334', '153.324', '150.084', '145.913', '124.764', '117.660', '116.001', '88.497', '86.817', '82.397', '54.930', '54.806', '47.909', '35.664', '25.813', '22.984', '11.250', '8.351', '6.154', '5.849', '5.178', '5.014', '4.885', '4.643', '4.144', '3.715', '1.385', '', '-', '1,384,921', '1,263,925', '1,206,156', '-', '791,144', '737,042', '723,343', '679,552', '579,234', '-', '590,836', '561,368', '-', '443,233', '424,857', '288,842', '279,803', '-', '186,484', '108,830', '120,733', '-', '-', '-', '-', '23,063', '-', '-', '-', '-', '-', '-', ''], ['1', '2', '3', '4', '5', '6', '7', '8', '9', '10', '11', '12', '13', '14', '15', '16', '17', '18', '19', '20', '21', '22', '23', '24', '25', '26', '27', '28', '29', '30', '31', '32', '33', '', '1', '2', '3', '4', '5', '6', '7', '8', '9', '10', '11', '12', '13', '14', '15', '16', '17', '18', '19', '20', '21', '22', '23', '24', '25', '26', '27', '28', '29', '30', '31', '32', '33', ''], ['Maharashtra', 'Tamil Nadu', 'Karnataka', 'Uttar Pradesh', 'Gujarat', 'West Bengal', 'Rajasthan', 'Andhra Pradesh', 'Telangana', 'Madhya Pradesh', 'Kerala', 'Delhi', 'Haryana', 'Odisha', 'Bihar', 'Punjab', 'Assam', 'Chhattisgarh', 'Jharkhand', 'Uttarakhand', 'Jammu & Kashmir', 'Himachal Pradesh', 'Goa', 'Tripura', 'Chandigarh', 'Puducherry', 'Meghalaya', 'Sikkim', 'Manipur', 'Arunachal Pradesh', 'Nagaland', 'Mizoram', 'Andaman & Nicobar Islands', 'India', 'Maharashtra', 'Tamil Nadu', 'Karnataka', 'Uttar Pradesh', 'Gujarat', 'West Bengal', 'Rajasthan', 'Andhra Pradesh', 'Telangana', 'Madhya Pradesh', 'Kerala', 'Delhi', 'Haryana', 'Bihar', 'Odisha', 'Punjab', 'Assam', 'Chhattisgarh', 'Jharkhand', 'Uttarakhand', 'Jammu & Kashmir', 'Himachal Pradesh', 'Goa', 'Tripura', 'Chandigarh', 'Puducherry', 'Meghalaya', 'Manipur', 'Sikkim', 'Arunachal Pradesh', 'Nagaland', 'Mizoram', 'Andaman & Nicobar Islands', 'India'], ['-', '2,700,109', '2,500,733', '2,547,861', '-', '1,700,939', '1,524,030', '1,439,674', '1,463,960', '1,363,327', '-', '1,107,746', '1,095,535', '832,790', '-', '736,423', '565,401', '505,887', '-', '346,206', '246,465', '207,430', '-', '-', '-', '-', '47,381', '-', '-', '-', '-', '-', '-', '29,389,686', '-', '2,417,237', '2,261,867', '2,217,055', '-', '1,531,371', '1,366,626', '1,291,518', '1,326,022', '1,242,883', '-', '997,171', '985,877', '-', '749,809', '639,252', '487,584', '447,682', '-', '304,592', '200,046', '176,164', '-', '-', '-', '-', '42,214', '-', '-', '-', '-', '-', '-', '25,561,438'], ['13.17%', '8.78%', '8.38%', '8.37%', '8.17%', '5.63%', '5.06%', '4.87%', '4.76%', '4.63%', '3.96%', '3.73%', '3.68%', '2.81%', '2.76%', '2.62%', '1.74%', '1.74%', '1.52%', '1.13%', '0.82%', '0.73%', '0.36%', '0.27%', '0.20%', '0.19%', '0.16%', '0.16%', '0.16%', '0.15%', '0.13%', '0.12%', '0.04%', '23,597,399', '13.03%', '8.98%', '8.67%', '8.31%', '8.23%', '5.81%', '5.18%', '4.99%', '4.93%', '4.81%', '3.99%', '3.79%', '3.77%', '2.86%', '2.81%', '2.62%', '1.77%', '1.77%', '1.58%', '1.14%', '0.76%', '0.70%', '0.36%', '0.27%', '0.20%', '0.19%', '0.17%', '0.16%', '0.15%', '0.15%', '0.13%', '0.12%', '0.04%', '20,652,786'], ['414.928', '276.522', '264.080', '263.747', '257.484', '177.456', '159.334', '153.324', '150.084', '145.913', '124.764', '117.660', '116.001', '88.497', '86.817', '82.397', '54.930', '54.806', '47.909', '35.664', '25.813', '22.984', '11.250', '8.351', '6.154', '5.849', '5.178', '5.014', '4.885', '4.643', '4.144', '3.715', '1.385', '', '-', '1,384,921', '1,263,925', '1,206,156', '-', '791,144', '737,042', '723,343', '679,552', '579,234', '-', '590,836', '561,368', '-', '443,233', '424,857', '288,842', '279,803', '-', '186,484', '108,830', '120,733', '-', '-', '-', '-', '23,063', '-', '-', '-', '-', '-', '-', ''], ['1', '2', '3', '4', '5', '6', '7', '8', '9', '10', '11', '12', '13', '14', '15', '16', '17', '18', '19', '20', '21', '22', '23', '24', '25', '26', '27', '28', '29', '30', '31', '32', '33', '', '1', '2', '3', '4', '5', '6', '7', '8', '9', '10', '11', '12', '13', '14', '15', '16', '17', '18', '19', '20', '21', '22', '23', '24', '25', '26', '27', '28', '29', '30', '31', '32', '33', ''], ['Maharashtra', 'Tamil Nadu', 'Karnataka', 'Uttar Pradesh', 'Gujarat', 'West Bengal', 'Rajasthan', 'Andhra Pradesh', 'Telangana', 'Madhya Pradesh', 'Kerala', 'Delhi', 'Haryana', 'Odisha', 'Bihar', 'Punjab', 'Assam', 'Chhattisgarh', 'Jharkhand', 'Uttarakhand', 'Jammu & Kashmir', 'Himachal Pradesh', 'Goa', 'Tripura', 'Chandigarh', 'Puducherry', 'Meghalaya', 'Sikkim', 'Manipur', 'Arunachal Pradesh', 'Nagaland', 'Mizoram', 'Andaman & Nicobar Islands', 'India', 'Maharashtra', 'Tamil Nadu', 'Karnataka', 'Uttar Pradesh', 'Gujarat', 'West Bengal', 'Rajasthan', 'Andhra Pradesh', 'Telangana', 'Madhya Pradesh', 'Kerala', 'Delhi', 'Haryana', 'Bihar', 'Odisha', 'Punjab', 'Assam', 'Chhattisgarh', 'Jharkhand', 'Uttarakhand', 'Jammu & Kashmir', 'Himachal Pradesh', 'Goa', 'Tripura', 'Chandigarh', 'Puducherry', 'Meghalaya', 'Manipur', 'Sikkim', 'Arunachal Pradesh', 'Nagaland', 'Mizoram', 'Andaman & Nicobar Islands', 'India'], ['-', '2,700,109', '2,500,733', '2,547,861', '-', '1,700,939', '1,524,030', '1,439,674', '1,463,960', '1,363,327', '-', '1,107,746', '1,095,535', '832,790', '-', '736,423', '565,401', '505,887', '-', '346,206', '246,465', '207,430', '-', '-', '-', '-', '47,381', '-', '-', '-', '-', '-', '-', '29,389,686', '-', '2,417,237', '2,261,867', '2,217,055', '-', '1,531,371', '1,366,626', '1,291,518', '1,326,022', '1,242,883', '-', '997,171', '985,877', '-', '749,809', '639,252', '487,584', '447,682', '-', '304,592', '200,046', '176,164', '-', '-', '-', '-', '42,214', '-', '-', '-', '-', '-', '-', '25,561,438'], ['13.17%', '8.78%', '8.38%', '8.37%', '8.17%', '5.63%', '5.06%', '4.87%', '4.76%', '4.63%', '3.96%', '3.73%', '3.68%', '2.81%', '2.76%', '2.62%', '1.74%', '1.74%', '1.52%', '1.13%', '0.82%', '0.73%', '0.36%', '0.27%', '0.20%', '0.19%', '0.16%', '0.16%', '0.16%', '0.15%', '0.13%', '0.12%', '0.04%', '23,597,399', '13.03%', '8.98%', '8.67%', '8.31%', '8.23%', '5.81%', '5.18%', '4.99%', '4.93%', '4.81%', '3.99%', '3.79%', '3.77%', '2.86%', '2.81%', '2.62%', '1.77%', '1.77%', '1.58%', '1.14%', '0.76%', '0.70%', '0.36%', '0.27%', '0.20%', '0.19%', '0.17%', '0.16%', '0.15%', '0.15%', '0.13%', '0.12%', '0.04%', '20,652,786'], ['414.928', '276.522', '264.080', '263.747', '257.484', '177.456', '159.334', '153.324', '150.084', '145.913', '124.764', '117.660', '116.001', '88.497', '86.817', '82.397', '54.930', '54.806', '47.909', '35.664', '25.813', '22.984', '11.250', '8.351', '6.154', '5.849', '5.178', '5.014', '4.885', '4.643', '4.144', '3.715', '1.385', '', '-', '1,384,921', '1,263,925', '1,206,156', '-', '791,144', '737,042', '723,343', '679,552', '579,234', '-', '590,836', '561,368', '-', '443,233', '424,857', '288,842', '279,803', '-', '186,484', '108,830', '120,733', '-', '-', '-', '-', '23,063', '-', '-', '-', '-', '-', '-', ''], ['1', '2', '3', '4', '5', '6', '7', '8', '9', '10', '11', '12', '13', '14', '15', '16', '17', '18', '19', '20', '21', '22', '23', '24', '25', '26', '27', '28', '29', '30', '31', '32', '33', '', '1', '2', '3', '4', '5', '6', '7', '8', '9', '10', '11', '12', '13', '14', '15', '16', '17', '18', '19', '20', '21', '22', '23', '24', '25', '26', '27', '28', '29', '30', '31', '32', '33', ''], ['Maharashtra', 'Tamil Nadu', 'Karnataka', 'Uttar Pradesh', 'Gujarat', 'West Bengal', 'Rajasthan', 'Andhra Pradesh', 'Telangana', 'Madhya Pradesh', 'Kerala', 'Delhi', 'Haryana', 'Odisha', 'Bihar', 'Punjab', 'Assam', 'Chhattisgarh', 'Jharkhand', 'Uttarakhand', 'Jammu & Kashmir', 'Himachal Pradesh', 'Goa', 'Tripura', 'Chandigarh', 'Puducherry', 'Meghalaya', 'Sikkim', 'Manipur', 'Arunachal Pradesh', 'Nagaland', 'Mizoram', 'Andaman & Nicobar Islands', 'India', 'Maharashtra', 'Tamil Nadu', 'Karnataka', 'Uttar Pradesh', 'Gujarat', 'West Bengal', 'Rajasthan', 'Andhra Pradesh', 'Telangana', 'Madhya Pradesh', 'Kerala', 'Delhi', 'Haryana', 'Bihar', 'Odisha', 'Punjab', 'Assam', 'Chhattisgarh', 'Jharkhand', 'Uttarakhand', 'Jammu & Kashmir', 'Himachal Pradesh', 'Goa', 'Tripura', 'Chandigarh', 'Puducherry', 'Meghalaya', 'Manipur', 'Sikkim', 'Arunachal Pradesh', 'Nagaland', 'Mizoram', 'Andaman & Nicobar Islands', 'India'], ['-', '2,700,109', '2,500,733', '2,547,861', '-', '1,700,939', '1,524,030', '1,439,674', '1,463,960', '1,363,327', '-', '1,107,746', '1,095,535', '832,790', '-', '736,423', '565,401', '505,887', '-', '346,206', '246,465', '207,430', '-', '-', '-', '-', '47,381', '-', '-', '-', '-', '-', '-', '29,389,686', '-', '2,417,237', '2,261,867', '2,217,055', '-', '1,531,371', '1,366,626', '1,291,518', '1,326,022', '1,242,883', '-', '997,171', '985,877', '-', '749,809', '639,252', '487,584', '447,682', '-', '304,592', '200,046', '176,164', '-', '-', '-', '-', '42,214', '-', '-', '-', '-', '-', '-', '25,561,438'], ['13.17%', '8.78%', '8.38%', '8.37%', '8.17%', '5.63%', '5.06%', '4.87%', '4.76%', '4.63%', '3.96%', '3.73%', '3.68%', '2.81%', '2.76%', '2.62%', '1.74%', '1.74%', '1.52%', '1.13%', '0.82%', '0.73%', '0.36%', '0.27%', '0.20%', '0.19%', '0.16%', '0.16%', '0.16%', '0.15%', '0.13%', '0.12%', '0.04%', '23,597,399', '13.03%', '8.98%', '8.67%', '8.31%', '8.23%', '5.81%', '5.18%', '4.99%', '4.93%', '4.81%', '3.99%', '3.79%', '3.77%', '2.86%', '2.81%', '2.62%', '1.77%', '1.77%', '1.58%', '1.14%', '0.76%', '0.70%', '0.36%', '0.27%', '0.20%', '0.19%', '0.17%', '0.16%', '0.15%', '0.15%', '0.13%', '0.12%', '0.04%', '20,652,786'], ['414.928', '276.522', '264.080', '263.747', '257.484', '177.456', '159.334', '153.324', '150.084', '145.913', '124.764', '117.660', '116.001', '88.497', '86.817', '82.397', '54.930', '54.806', '47.909', '35.664', '25.813', '22.984', '11.250', '8.351', '6.154', '5.849', '5.178', '5.014', '4.885', '4.643', '4.144', '3.715', '1.385', '', '-', '1,384,921', '1,263,925', '1,206,156', '-', '791,144', '737,042', '723,343', '679,552', '579,234', '-', '590,836', '561,368', '-', '443,233', '424,857', '288,842', '279,803', '-', '186,484', '108,830', '120,733', '-', '-', '-', '-', '23,063', '-', '-', '-', '-', '-', '-', ''], ['1', '2', '3', '4', '5', '6', '7', '8', '9', '10', '11', '12', '13', '14', '15', '16', '17', '18', '19', '20', '21', '22', '23', '24', '25', '26', '27', '28', '29', '30', '31', '32', '33', '', '1', '2', '3', '4', '5', '6', '7', '8', '9', '10', '11', '12', '13', '14', '15', '16', '17', '18', '19', '20', '21', '22', '23', '24', '25', '26', '27', '28', '29', '30', '31', '32', '33', ''], ['Maharashtra', 'Tamil Nadu', 'Karnataka', 'Uttar Pradesh', 'Gujarat', 'West Bengal', 'Rajasthan', 'Andhra Pradesh', 'Telangana', 'Madhya Pradesh', 'Kerala', 'Delhi', 'Haryana', 'Odisha', 'Bihar', 'Punjab', 'Assam', 'Chhattisgarh', 'Jharkhand', 'Uttarakhand', 'Jammu & Kashmir', 'Himachal Pradesh', 'Goa', 'Tripura', 'Chandigarh', 'Puducherry', 'Meghalaya', 'Sikkim', 'Manipur', 'Arunachal Pradesh', 'Nagaland', 'Mizoram', 'Andaman & Nicobar Islands', 'India', 'Maharashtra', 'Tamil Nadu', 'Karnataka', 'Uttar Pradesh', 'Gujarat', 'West Bengal', 'Rajasthan', 'Andhra Pradesh', 'Telangana', 'Madhya Pradesh', 'Kerala', 'Delhi', 'Haryana', 'Bihar', 'Odisha', 'Punjab', 'Assam', 'Chhattisgarh', 'Jharkhand', 'Uttarakhand', 'Jammu & Kashmir', 'Himachal Pradesh', 'Goa', 'Tripura', 'Chandigarh', 'Puducherry', 'Meghalaya', 'Manipur', 'Sikkim', 'Arunachal Pradesh', 'Nagaland', 'Mizoram', 'Andaman & Nicobar Islands', 'India'], ['-', '2,700,109', '2,500,733', '2,547,861', '-', '1,700,939', '1,524,030', '1,439,674', '1,463,960', '1,363,327', '-', '1,107,746', '1,095,535', '832,790', '-', '736,423', '565,401', '505,887', '-', '346,206', '246,465', '207,430', '-', '-', '-', '-', '47,381', '-', '-', '-', '-', '-', '-', '29,389,686', '-', '2,417,237', '2,261,867', '2,217,055', '-', '1,531,371', '1,366,626', '1,291,518', '1,326,022', '1,242,883', '-', '997,171', '985,877', '-', '749,809', '639,252', '487,584', '447,682', '-', '304,592', '200,046', '176,164', '-', '-', '-', '-', '42,214', '-', '-', '-', '-', '-', '-', '25,561,438'], ['13.17%', '8.78%', '8.38%', '8.37%', '8.17%', '5.63%', '5.06%', '4.87%', '4.76%', '4.63%', '3.96%', '3.73%', '3.68%', '2.81%', '2.76%', '2.62%', '1.74%', '1.74%', '1.52%', '1.13%', '0.82%', '0.73%', '0.36%', '0.27%', '0.20%', '0.19%', '0.16%', '0.16%', '0.16%', '0.15%', '0.13%', '0.12%', '0.04%', '23,597,399', '13.03%', '8.98%', '8.67%', '8.31%', '8.23%', '5.81%', '5.18%', '4.99%', '4.93%', '4.81%', '3.99%', '3.79%', '3.77%', '2.86%', '2.81%', '2.62%', '1.77%', '1.77%', '1.58%', '1.14%', '0.76%', '0.70%', '0.36%', '0.27%', '0.20%', '0.19%', '0.17%', '0.16%', '0.15%', '0.15%', '0.13%', '0.12%', '0.04%', '20,652,786'], ['414.928', '276.522', '264.080', '263.747', '257.484', '177.456', '159.334', '153.324', '150.084', '145.913', '124.764', '117.660', '116.001', '88.497', '86.817', '82.397', '54.930', '54.806', '47.909', '35.664', '25.813', '22.984', '11.250', '8.351', '6.154', '5.849', '5.178', '5.014', '4.885', '4.643', '4.144', '3.715', '1.385', '', '-', '1,384,921', '1,263,925', '1,206,156', '-', '791,144', '737,042', '723,343', '679,552', '579,234', '-', '590,836', '561,368', '-', '443,233', '424,857', '288,842', '279,803', '-', '186,484', '108,830', '120,733', '-', '-', '-', '-', '23,063', '-', '-', '-', '-', '-', '-', ''], ['1', '2', '3', '4', '5', '6', '7', '8', '9', '10', '11', '12', '13', '14', '15', '16', '17', '18', '19', '20', '21', '22', '23', '24', '25', '26', '27', '28', '29', '30', '31', '32', '33', '', '1', '2', '3', '4', '5', '6', '7', '8', '9', '10', '11', '12', '13', '14', '15', '16', '17', '18', '19', '20', '21', '22', '23', '24', '25', '26', '27', '28', '29', '30', '31', '32', '33', ''], ['Maharashtra', 'Tamil Nadu', 'Karnataka', 'Uttar Pradesh', 'Gujarat', 'West Bengal', 'Rajasthan', 'Andhra Pradesh', 'Telangana', 'Madhya Pradesh', 'Kerala', 'Delhi', 'Haryana', 'Odisha', 'Bihar', 'Punjab', 'Assam', 'Chhattisgarh', 'Jharkhand', 'Uttarakhand', 'Jammu & Kashmir', 'Himachal Pradesh', 'Goa', 'Tripura', 'Chandigarh', 'Puducherry', 'Meghalaya', 'Sikkim', 'Manipur', 'Arunachal Pradesh', 'Nagaland', 'Mizoram', 'Andaman & Nicobar Islands', 'India', 'Maharashtra', 'Tamil Nadu', 'Karnataka', 'Uttar Pradesh', 'Gujarat', 'West Bengal', 'Rajasthan', 'Andhra Pradesh', 'Telangana', 'Madhya Pradesh', 'Kerala', 'Delhi', 'Haryana', 'Bihar', 'Odisha', 'Punjab', 'Assam', 'Chhattisgarh', 'Jharkhand', 'Uttarakhand', 'Jammu & Kashmir', 'Himachal Pradesh', 'Goa', 'Tripura', 'Chandigarh', 'Puducherry', 'Meghalaya', 'Manipur', 'Sikkim', 'Arunachal Pradesh', 'Nagaland', 'Mizoram', 'Andaman & Nicobar Islands', 'India'], ['-', '2,700,109', '2,500,733', '2,547,861', '-', '1,700,939', '1,524,030', '1,439,674', '1,463,960', '1,363,327', '-', '1,107,746', '1,095,535', '832,790', '-', '736,423', '565,401', '505,887', '-', '346,206', '246,465', '207,430', '-', '-', '-', '-', '47,381', '-', '-', '-', '-', '-', '-', '29,389,686', '-', '2,417,237', '2,261,867', '2,217,055', '-', '1,531,371', '1,366,626', '1,291,518', '1,326,022', '1,242,883', '-', '997,171', '985,877', '-', '749,809', '639,252', '487,584', '447,682', '-', '304,592', '200,046', '176,164', '-', '-', '-', '-', '42,214', '-', '-', '-', '-', '-', '-', '25,561,438'], ['13.17%', '8.78%', '8.38%', '8.37%', '8.17%', '5.63%', '5.06%', '4.87%', '4.76%', '4.63%', '3.96%', '3.73%', '3.68%', '2.81%', '2.76%', '2.62%', '1.74%', '1.74%', '1.52%', '1.13%', '0.82%', '0.73%', '0.36%', '0.27%', '0.20%', '0.19%', '0.16%', '0.16%', '0.16%', '0.15%', '0.13%', '0.12%', '0.04%', '23,597,399', '13.03%', '8.98%', '8.67%', '8.31%', '8.23%', '5.81%', '5.18%', '4.99%', '4.93%', '4.81%', '3.99%', '3.79%', '3.77%', '2.86%', '2.81%', '2.62%', '1.77%', '1.77%', '1.58%', '1.14%', '0.76%', '0.70%', '0.36%', '0.27%', '0.20%', '0.19%', '0.17%', '0.16%', '0.15%', '0.15%', '0.13%', '0.12%', '0.04%', '20,652,786'], ['414.928', '276.522', '264.080', '263.747', '257.484', '177.456', '159.334', '153.324', '150.084', '145.913', '124.764', '117.660', '116.001', '88.497', '86.817', '82.397', '54.930', '54.806', '47.909', '35.664', '25.813', '22.984', '11.250', '8.351', '6.154', '5.849', '5.178', '5.014', '4.885', '4.643', '4.144', '3.715', '1.385', '', '-', '1,384,921', '1,263,925', '1,206,156', '-', '791,144', '737,042', '723,343', '679,552', '579,234', '-', '590,836', '561,368', '-', '443,233', '424,857', '288,842', '279,803', '-', '186,484', '108,830', '120,733', '-', '-', '-', '-', '23,063', '-', '-', '-', '-', '-', '-', ''], ['1', '2', '3', '4', '5', '6', '7', '8', '9', '10', '11', '12', '13', '14', '15', '16', '17', '18', '19', '20', '21', '22', '23', '24', '25', '26', '27', '28', '29', '30', '31', '32', '33', '', '1', '2', '3', '4', '5', '6', '7', '8', '9', '10', '11', '12', '13', '14', '15', '16', '17', '18', '19', '20', '21', '22', '23', '24', '25', '26', '27', '28', '29', '30', '31', '32', '33', ''], ['Maharashtra', 'Tamil Nadu', 'Karnataka', 'Uttar Pradesh', 'Gujarat', 'West Bengal', 'Rajasthan', 'Andhra Pradesh', 'Telangana', 'Madhya Pradesh', 'Kerala', 'Delhi', 'Haryana', 'Odisha', 'Bihar', 'Punjab', 'Assam', 'Chhattisgarh', 'Jharkhand', 'Uttarakhand', 'Jammu & Kashmir', 'Himachal Pradesh', 'Goa', 'Tripura', 'Chandigarh', 'Puducherry', 'Meghalaya', 'Sikkim', 'Manipur', 'Arunachal Pradesh', 'Nagaland', 'Mizoram', 'Andaman & Nicobar Islands', 'India', 'Maharashtra', 'Tamil Nadu', 'Karnataka', 'Uttar Pradesh', 'Gujarat', 'West Bengal', 'Rajasthan', 'Andhra Pradesh', 'Telangana', 'Madhya Pradesh', 'Kerala', 'Delhi', 'Haryana', 'Bihar', 'Odisha', 'Punjab', 'Assam', 'Chhattisgarh', 'Jharkhand', 'Uttarakhand', 'Jammu & Kashmir', 'Himachal Pradesh', 'Goa', 'Tripura', 'Chandigarh', 'Puducherry', 'Meghalaya', 'Manipur', 'Sikkim', 'Arunachal Pradesh', 'Nagaland', 'Mizoram', 'Andaman & Nicobar Islands', 'India'], ['-', '2,700,109', '2,500,733', '2,547,861', '-', '1,700,939', '1,524,030', '1,439,674', '1,463,960', '1,363,327', '-', '1,107,746', '1,095,535', '832,790', '-', '736,423', '565,401', '505,887', '-', '346,206', '246,465', '207,430', '-', '-', '-', '-', '47,381', '-', '-', '-', '-', '-', '-', '29,389,686', '-', '2,417,237', '2,261,867', '2,217,055', '-', '1,531,371', '1,366,626', '1,291,518', '1,326,022', '1,242,883', '-', '997,171', '985,877', '-', '749,809', '639,252', '487,584', '447,682', '-', '304,592', '200,046', '176,164', '-', '-', '-', '-', '42,214', '-', '-', '-', '-', '-', '-', '25,561,438'], ['13.17%', '8.78%', '8.38%', '8.37%', '8.17%', '5.63%', '5.06%', '4.87%', '4.76%', '4.63%', '3.96%', '3.73%', '3.68%', '2.81%', '2.76%', '2.62%', '1.74%', '1.74%', '1.52%', '1.13%', '0.82%', '0.73%', '0.36%', '0.27%', '0.20%', '0.19%', '0.16%', '0.16%', '0.16%', '0.15%', '0.13%', '0.12%', '0.04%', '23,597,399', '13.03%', '8.98%', '8.67%', '8.31%', '8.23%', '5.81%', '5.18%', '4.99%', '4.93%', '4.81%', '3.99%', '3.79%', '3.77%', '2.86%', '2.81%', '2.62%', '1.77%', '1.77%', '1.58%', '1.14%', '0.76%', '0.70%', '0.36%', '0.27%', '0.20%', '0.19%', '0.17%', '0.16%', '0.15%', '0.15%', '0.13%', '0.12%', '0.04%', '20,652,786'], ['414.928', '276.522', '264.080', '263.747', '257.484', '177.456', '159.334', '153.324', '150.084', '145.913', '124.764', '117.660', '116.001', '88.497', '86.817', '82.397', '54.930', '54.806', '47.909', '35.664', '25.813', '22.984', '11.250', '8.351', '6.154', '5.849', '5.178', '5.014', '4.885', '4.643', '4.144', '3.715', '1.385', '', '-', '1,384,921', '1,263,925', '1,206,156', '-', '791,144', '737,042', '723,343', '679,552', '579,234', '-', '590,836', '561,368', '-', '443,233', '424,857', '288,842', '279,803', '-', '186,484', '108,830', '120,733', '-', '-', '-', '-', '23,063', '-', '-', '-', '-', '-', '-', ''], ['1', '2', '3', '4', '5', '6', '7', '8', '9', '10', '11', '12', '13', '14', '15', '16', '17', '18', '19', '20', '21', '22', '23', '24', '25', '26', '27', '28', '29', '30', '31', '32', '33', '', '1', '2', '3', '4', '5', '6', '7', '8', '9', '10', '11', '12', '13', '14', '15', '16', '17', '18', '19', '20', '21', '22', '23', '24', '25', '26', '27', '28', '29', '30', '31', '32', '33', ''], ['Maharashtra', 'Tamil Nadu', 'Karnataka', 'Uttar Pradesh', 'Gujarat', 'West Bengal', 'Rajasthan', 'Andhra Pradesh', 'Telangana', 'Madhya Pradesh', 'Kerala', 'Delhi', 'Haryana', 'Odisha', 'Bihar', 'Punjab', 'Assam', 'Chhattisgarh', 'Jharkhand', 'Uttarakhand', 'Jammu & Kashmir', 'Himachal Pradesh', 'Goa', 'Tripura', 'Chandigarh', 'Puducherry', 'Meghalaya', 'Sikkim', 'Manipur', 'Arunachal Pradesh', 'Nagaland', 'Mizoram', 'Andaman & Nicobar Islands', 'India', 'Maharashtra', 'Tamil Nadu', 'Karnataka', 'Uttar Pradesh', 'Gujarat', 'West Bengal', 'Rajasthan', 'Andhra Pradesh', 'Telangana', 'Madhya Pradesh', 'Kerala', 'Delhi', 'Haryana', 'Bihar', 'Odisha', 'Punjab', 'Assam', 'Chhattisgarh', 'Jharkhand', 'Uttarakhand', 'Jammu & Kashmir', 'Himachal Pradesh', 'Goa', 'Tripura', 'Chandigarh', 'Puducherry', 'Meghalaya', 'Manipur', 'Sikkim', 'Arunachal Pradesh', 'Nagaland', 'Mizoram', 'Andaman & Nicobar Islands', 'India'], ['-', '2,700,109', '2,500,733', '2,547,861', '-', '1,700,939', '1,524,030', '1,439,674', '1,463,960', '1,363,327', '-', '1,107,746', '1,095,535', '832,790', '-', '736,423', '565,401', '505,887', '-', '346,206', '246,465', '207,430', '-', '-', '-', '-', '47,381', '-', '-', '-', '-', '-', '-', '29,389,686', '-', '2,417,237', '2,261,867', '2,217,055', '-', '1,531,371', '1,366,626', '1,291,518', '1,326,022', '1,242,883', '-', '997,171', '985,877', '-', '749,809', '639,252', '487,584', '447,682', '-', '304,592', '200,046', '176,164', '-', '-', '-', '-', '42,214', '-', '-', '-', '-', '-', '-', '25,561,438'], ['13.17%', '8.78%', '8.38%', '8.37%', '8.17%', '5.63%', '5.06%', '4.87%', '4.76%', '4.63%', '3.96%', '3.73%', '3.68%', '2.81%', '2.76%', '2.62%', '1.74%', '1.74%', '1.52%', '1.13%', '0.82%', '0.73%', '0.36%', '0.27%', '0.20%', '0.19%', '0.16%', '0.16%', '0.16%', '0.15%', '0.13%', '0.12%', '0.04%', '23,597,399', '13.03%', '8.98%', '8.67%', '8.31%', '8.23%', '5.81%', '5.18%', '4.99%', '4.93%', '4.81%', '3.99%', '3.79%', '3.77%', '2.86%', '2.81%', '2.62%', '1.77%', '1.77%', '1.58%', '1.14%', '0.76%', '0.70%', '0.36%', '0.27%', '0.20%', '0.19%', '0.17%', '0.16%', '0.15%', '0.15%', '0.13%', '0.12%', '0.04%', '20,652,786'], ['414.928', '276.522', '264.080', '263.747', '257.484', '177.456', '159.334', '153.324', '150.084', '145.913', '124.764', '117.660', '116.001', '88.497', '86.817', '82.397', '54.930', '54.806', '47.909', '35.664', '25.813', '22.984', '11.250', '8.351', '6.154', '5.849', '5.178', '5.014', '4.885', '4.643', '4.144', '3.715', '1.385', '', '-', '1,384,921', '1,263,925', '1,206,156', '-', '791,144', '737,042', '723,343', '679,552', '579,234', '-', '590,836', '561,368', '-', '443,233', '424,857', '288,842', '279,803', '-', '186,484', '108,830', '120,733', '-', '-', '-', '-', '23,063', '-', '-', '-', '-', '-', '-', ''], ['1', '2', '3', '4', '5', '6', '7', '8', '9', '10', '11', '12', '13', '14', '15', '16', '17', '18', '19', '20', '21', '22', '23', '24', '25', '26', '27', '28', '29', '30', '31', '32', '33', '', '1', '2', '3', '4', '5', '6', '7', '8', '9', '10', '11', '12', '13', '14', '15', '16', '17', '18', '19', '20', '21', '22', '23', '24', '25', '26', '27', '28', '29', '30', '31', '32', '33', ''], ['Maharashtra', 'Tamil Nadu', 'Karnataka', 'Uttar Pradesh', 'Gujarat', 'West Bengal', 'Rajasthan', 'Andhra Pradesh', 'Telangana', 'Madhya Pradesh', 'Kerala', 'Delhi', 'Haryana', 'Odisha', 'Bihar', 'Punjab', 'Assam', 'Chhattisgarh', 'Jharkhand', 'Uttarakhand', 'Jammu & Kashmir', 'Himachal Pradesh', 'Goa', 'Tripura', 'Chandigarh', 'Puducherry', 'Meghalaya', 'Sikkim', 'Manipur', 'Arunachal Pradesh', 'Nagaland', 'Mizoram', 'Andaman & Nicobar Islands', 'India', 'Maharashtra', 'Tamil Nadu', 'Karnataka', 'Uttar Pradesh', 'Gujarat', 'West Bengal', 'Rajasthan', 'Andhra Pradesh', 'Telangana', 'Madhya Pradesh', 'Kerala', 'Delhi', 'Haryana', 'Bihar', 'Odisha', 'Punjab', 'Assam', 'Chhattisgarh', 'Jharkhand', 'Uttarakhand', 'Jammu & Kashmir', 'Himachal Pradesh', 'Goa', 'Tripura', 'Chandigarh', 'Puducherry', 'Meghalaya', 'Manipur', 'Sikkim', 'Arunachal Pradesh', 'Nagaland', 'Mizoram', 'Andaman & Nicobar Islands', 'India'], ['-', '2,700,109', '2,500,733', '2,547,861', '-', '1,700,939', '1,524,030', '1,439,674', '1,463,960', '1,363,327', '-', '1,107,746', '1,095,535', '832,790', '-', '736,423', '565,401', '505,887', '-', '346,206', '246,465', '207,430', '-', '-', '-', '-', '47,381', '-', '-', '-', '-', '-', '-', '29,389,686', '-', '2,417,237', '2,261,867', '2,217,055', '-', '1,531,371', '1,366,626', '1,291,518', '1,326,022', '1,242,883', '-', '997,171', '985,877', '-', '749,809', '639,252', '487,584', '447,682', '-', '304,592', '200,046', '176,164', '-', '-', '-', '-', '42,214', '-', '-', '-', '-', '-', '-', '25,561,438'], ['13.17%', '8.78%', '8.38%', '8.37%', '8.17%', '5.63%', '5.06%', '4.87%', '4.76%', '4.63%', '3.96%', '3.73%', '3.68%', '2.81%', '2.76%', '2.62%', '1.74%', '1.74%', '1.52%', '1.13%', '0.82%', '0.73%', '0.36%', '0.27%', '0.20%', '0.19%', '0.16%', '0.16%', '0.16%', '0.15%', '0.13%', '0.12%', '0.04%', '23,597,399', '13.03%', '8.98%', '8.67%', '8.31%', '8.23%', '5.81%', '5.18%', '4.99%', '4.93%', '4.81%', '3.99%', '3.79%', '3.77%', '2.86%', '2.81%', '2.62%', '1.77%', '1.77%', '1.58%', '1.14%', '0.76%', '0.70%', '0.36%', '0.27%', '0.20%', '0.19%', '0.17%', '0.16%', '0.15%', '0.15%', '0.13%', '0.12%', '0.04%', '20,652,786'], ['414.928', '276.522', '264.080', '263.747', '257.484', '177.456', '159.334', '153.324', '150.084', '145.913', '124.764', '117.660', '116.001', '88.497', '86.817', '82.397', '54.930', '54.806', '47.909', '35.664', '25.813', '22.984', '11.250', '8.351', '6.154', '5.849', '5.178', '5.014', '4.885', '4.643', '4.144', '3.715', '1.385', '', '-', '1,384,921', '1,263,925', '1,206,156', '-', '791,144', '737,042', '723,343', '679,552', '579,234', '-', '590,836', '561,368', '-', '443,233', '424,857', '288,842', '279,803', '-', '186,484', '108,830', '120,733', '-', '-', '-', '-', '23,063', '-', '-', '-', '-', '-', '-', ''], ['1', '2', '3', '4', '5', '6', '7', '8', '9', '10', '11', '12', '13', '14', '15', '16', '17', '18', '19', '20', '21', '22', '23', '24', '25', '26', '27', '28', '29', '30', '31', '32', '33', '', '1', '2', '3', '4', '5', '6', '7', '8', '9', '10', '11', '12', '13', '14', '15', '16', '17', '18', '19', '20', '21', '22', '23', '24', '25', '26', '27', '28', '29', '30', '31', '32', '33', ''], ['Maharashtra', 'Tamil Nadu', 'Karnataka', 'Uttar Pradesh', 'Gujarat', 'West Bengal', 'Rajasthan', 'Andhra Pradesh', 'Telangana', 'Madhya Pradesh', 'Kerala', 'Delhi', 'Haryana', 'Odisha', 'Bihar', 'Punjab', 'Assam', 'Chhattisgarh', 'Jharkhand', 'Uttarakhand', 'Jammu & Kashmir', 'Himachal Pradesh', 'Goa', 'Tripura', 'Chandigarh', 'Puducherry', 'Meghalaya', 'Sikkim', 'Manipur', 'Arunachal Pradesh', 'Nagaland', 'Mizoram', 'Andaman & Nicobar Islands', 'India', 'Maharashtra', 'Tamil Nadu', 'Karnataka', 'Uttar Pradesh', 'Gujarat', 'West Bengal', 'Rajasthan', 'Andhra Pradesh', 'Telangana', 'Madhya Pradesh', 'Kerala', 'Delhi', 'Haryana', 'Bihar', 'Odisha', 'Punjab', 'Assam', 'Chhattisgarh', 'Jharkhand', 'Uttarakhand', 'Jammu & Kashmir', 'Himachal Pradesh', 'Goa', 'Tripura', 'Chandigarh', 'Puducherry', 'Meghalaya', 'Manipur', 'Sikkim', 'Arunachal Pradesh', 'Nagaland', 'Mizoram', 'Andaman & Nicobar Islands', 'India'], ['-', '2,700,109', '2,500,733', '2,547,861', '-', '1,700,939', '1,524,030', '1,439,674', '1,463,960', '1,363,327', '-', '1,107,746', '1,095,535', '832,790', '-', '736,423', '565,401', '505,887', '-', '346,206', '246,465', '207,430', '-', '-', '-', '-', '47,381', '-', '-', '-', '-', '-', '-', '29,389,686', '-', '2,417,237', '2,261,867', '2,217,055', '-', '1,531,371', '1,366,626', '1,291,518', '1,326,022', '1,242,883', '-', '997,171', '985,877', '-', '749,809', '639,252', '487,584', '447,682', '-', '304,592', '200,046', '176,164', '-', '-', '-', '-', '42,214', '-', '-', '-', '-', '-', '-', '25,561,438'], ['13.17%', '8.78%', '8.38%', '8.37%', '8.17%', '5.63%', '5.06%', '4.87%', '4.76%', '4.63%', '3.96%', '3.73%', '3.68%', '2.81%', '2.76%', '2.62%', '1.74%', '1.74%', '1.52%', '1.13%', '0.82%', '0.73%', '0.36%', '0.27%', '0.20%', '0.19%', '0.16%', '0.16%', '0.16%', '0.15%', '0.13%', '0.12%', '0.04%', '23,597,399', '13.03%', '8.98%', '8.67%', '8.31%', '8.23%', '5.81%', '5.18%', '4.99%', '4.93%', '4.81%', '3.99%', '3.79%', '3.77%', '2.86%', '2.81%', '2.62%', '1.77%', '1.77%', '1.58%', '1.14%', '0.76%', '0.70%', '0.36%', '0.27%', '0.20%', '0.19%', '0.17%', '0.16%', '0.15%', '0.15%', '0.13%', '0.12%', '0.04%', '20,652,786'], ['414.928', '276.522', '264.080', '263.747', '257.484', '177.456', '159.334', '153.324', '150.084', '145.913', '124.764', '117.660', '116.001', '88.497', '86.817', '82.397', '54.930', '54.806', '47.909', '35.664', '25.813', '22.984', '11.250', '8.351', '6.154', '5.849', '5.178', '5.014', '4.885', '4.643', '4.144', '3.715', '1.385', '', '-', '1,384,921', '1,263,925', '1,206,156', '-', '791,144', '737,042', '723,343', '679,552', '579,234', '-', '590,836', '561,368', '-', '443,233', '424,857', '288,842', '279,803', '-', '186,484', '108,830', '120,733', '-', '-', '-', '-', '23,063', '-', '-', '-', '-', '-', '-', ''], ['1', '2', '3', '4', '5', '6', '7', '8', '9', '10', '11', '12', '13', '14', '15', '16', '17', '18', '19', '20', '21', '22', '23', '24', '25', '26', '27', '28', '29', '30', '31', '32', '33', '', '1', '2', '3', '4', '5', '6', '7', '8', '9', '10', '11', '12', '13', '14', '15', '16', '17', '18', '19', '20', '21', '22', '23', '24', '25', '26', '27', '28', '29', '30', '31', '32', '33', ''], ['Maharashtra', 'Tamil Nadu', 'Karnataka', 'Uttar Pradesh', 'Gujarat', 'West Bengal', 'Rajasthan', 'Andhra Pradesh', 'Telangana', 'Madhya Pradesh', 'Kerala', 'Delhi', 'Haryana', 'Odisha', 'Bihar', 'Punjab', 'Assam', 'Chhattisgarh', 'Jharkhand', 'Uttarakhand', 'Jammu & Kashmir', 'Himachal Pradesh', 'Goa', 'Tripura', 'Chandigarh', 'Puducherry', 'Meghalaya', 'Sikkim', 'Manipur', 'Arunachal Pradesh', 'Nagaland', 'Mizoram', 'Andaman & Nicobar Islands', 'India', 'Maharashtra', 'Tamil Nadu', 'Karnataka', 'Uttar Pradesh', 'Gujarat', 'West Bengal', 'Rajasthan', 'Andhra Pradesh', 'Telangana', 'Madhya Pradesh', 'Kerala', 'Delhi', 'Haryana', 'Bihar', 'Odisha', 'Punjab', 'Assam', 'Chhattisgarh', 'Jharkhand', 'Uttarakhand', 'Jammu & Kashmir', 'Himachal Pradesh', 'Goa', 'Tripura', 'Chandigarh', 'Puducherry', 'Meghalaya', 'Manipur', 'Sikkim', 'Arunachal Pradesh', 'Nagaland', 'Mizoram', 'Andaman & Nicobar Islands', 'India'], ['-', '2,700,109', '2,500,733', '2,547,861', '-', '1,700,939', '1,524,030', '1,439,674', '1,463,960', '1,363,327', '-', '1,107,746', '1,095,535', '832,790', '-', '736,423', '565,401', '505,887', '-', '346,206', '246,465', '207,430', '-', '-', '-', '-', '47,381', '-', '-', '-', '-', '-', '-', '29,389,686', '-', '2,417,237', '2,261,867', '2,217,055', '-', '1,531,371', '1,366,626', '1,291,518', '1,326,022', '1,242,883', '-', '997,171', '985,877', '-', '749,809', '639,252', '487,584', '447,682', '-', '304,592', '200,046', '176,164', '-', '-', '-', '-', '42,214', '-', '-', '-', '-', '-', '-', '25,561,438'], ['13.17%', '8.78%', '8.38%', '8.37%', '8.17%', '5.63%', '5.06%', '4.87%', '4.76%', '4.63%', '3.96%', '3.73%', '3.68%', '2.81%', '2.76%', '2.62%', '1.74%', '1.74%', '1.52%', '1.13%', '0.82%', '0.73%', '0.36%', '0.27%', '0.20%', '0.19%', '0.16%', '0.16%', '0.16%', '0.15%', '0.13%', '0.12%', '0.04%', '23,597,399', '13.03%', '8.98%', '8.67%', '8.31%', '8.23%', '5.81%', '5.18%', '4.99%', '4.93%', '4.81%', '3.99%', '3.79%', '3.77%', '2.86%', '2.81%', '2.62%', '1.77%', '1.77%', '1.58%', '1.14%', '0.76%', '0.70%', '0.36%', '0.27%', '0.20%', '0.19%', '0.17%', '0.16%', '0.15%', '0.15%', '0.13%', '0.12%', '0.04%', '20,652,786'], ['414.928', '276.522', '264.080', '263.747', '257.484', '177.456', '159.334', '153.324', '150.084', '145.913', '124.764', '117.660', '116.001', '88.497', '86.817', '82.397', '54.930', '54.806', '47.909', '35.664', '25.813', '22.984', '11.250', '8.351', '6.154', '5.849', '5.178', '5.014', '4.885', '4.643', '4.144', '3.715', '1.385', '', '-', '1,384,921', '1,263,925', '1,206,156', '-', '791,144', '737,042', '723,343', '679,552', '579,234', '-', '590,836', '561,368', '-', '443,233', '424,857', '288,842', '279,803', '-', '186,484', '108,830', '120,733', '-', '-', '-', '-', '23,063', '-', '-', '-', '-', '-', '-', ''], ['1', '2', '3', '4', '5', '6', '7', '8', '9', '10', '11', '12', '13', '14', '15', '16', '17', '18', '19', '20', '21', '22', '23', '24', '25', '26', '27', '28', '29', '30', '31', '32', '33', '', '1', '2', '3', '4', '5', '6', '7', '8', '9', '10', '11', '12', '13', '14', '15', '16', '17', '18', '19', '20', '21', '22', '23', '24', '25', '26', '27', '28', '29', '30', '31', '32', '33', ''], ['Maharashtra', 'Tamil Nadu', 'Karnataka', 'Uttar Pradesh', 'Gujarat', 'West Bengal', 'Rajasthan', 'Andhra Pradesh', 'Telangana', 'Madhya Pradesh', 'Kerala', 'Delhi', 'Haryana', 'Odisha', 'Bihar', 'Punjab', 'Assam', 'Chhattisgarh', 'Jharkhand', 'Uttarakhand', 'Jammu & Kashmir', 'Himachal Pradesh', 'Goa', 'Tripura', 'Chandigarh', 'Puducherry', 'Meghalaya', 'Sikkim', 'Manipur', 'Arunachal Pradesh', 'Nagaland', 'Mizoram', 'Andaman & Nicobar Islands', 'India', 'Maharashtra', 'Tamil Nadu', 'Karnataka', 'Uttar Pradesh', 'Gujarat', 'West Bengal', 'Rajasthan', 'Andhra Pradesh', 'Telangana', 'Madhya Pradesh', 'Kerala', 'Delhi', 'Haryana', 'Bihar', 'Odisha', 'Punjab', 'Assam', 'Chhattisgarh', 'Jharkhand', 'Uttarakhand', 'Jammu & Kashmir', 'Himachal Pradesh', 'Goa', 'Tripura', 'Chandigarh', 'Puducherry', 'Meghalaya', 'Manipur', 'Sikkim', 'Arunachal Pradesh', 'Nagaland', 'Mizoram', 'Andaman & Nicobar Islands', 'India'], ['-', '2,700,109', '2,500,733', '2,547,861', '-', '1,700,939', '1,524,030', '1,439,674', '1,463,960', '1,363,327', '-', '1,107,746', '1,095,535', '832,790', '-', '736,423', '565,401', '505,887', '-', '346,206', '246,465', '207,430', '-', '-', '-', '-', '47,381', '-', '-', '-', '-', '-', '-', '29,389,686', '-', '2,417,237', '2,261,867', '2,217,055', '-', '1,531,371', '1,366,626', '1,291,518', '1,326,022', '1,242,883', '-', '997,171', '985,877', '-', '749,809', '639,252', '487,584', '447,682', '-', '304,592', '200,046', '176,164', '-', '-', '-', '-', '42,214', '-', '-', '-', '-', '-', '-', '25,561,438'], ['13.17%', '8.78%', '8.38%', '8.37%', '8.17%', '5.63%', '5.06%', '4.87%', '4.76%', '4.63%', '3.96%', '3.73%', '3.68%', '2.81%', '2.76%', '2.62%', '1.74%', '1.74%', '1.52%', '1.13%', '0.82%', '0.73%', '0.36%', '0.27%', '0.20%', '0.19%', '0.16%', '0.16%', '0.16%', '0.15%', '0.13%', '0.12%', '0.04%', '23,597,399', '13.03%', '8.98%', '8.67%', '8.31%', '8.23%', '5.81%', '5.18%', '4.99%', '4.93%', '4.81%', '3.99%', '3.79%', '3.77%', '2.86%', '2.81%', '2.62%', '1.77%', '1.77%', '1.58%', '1.14%', '0.76%', '0.70%', '0.36%', '0.27%', '0.20%', '0.19%', '0.17%', '0.16%', '0.15%', '0.15%', '0.13%', '0.12%', '0.04%', '20,652,786'], ['414.928', '276.522', '264.080', '263.747', '257.484', '177.456', '159.334', '153.324', '150.084', '145.913', '124.764', '117.660', '116.001', '88.497', '86.817', '82.397', '54.930', '54.806', '47.909', '35.664', '25.813', '22.984', '11.250', '8.351', '6.154', '5.849', '5.178', '5.014', '4.885', '4.643', '4.144', '3.715', '1.385', '', '-', '1,384,921', '1,263,925', '1,206,156', '-', '791,144', '737,042', '723,343', '679,552', '579,234', '-', '590,836', '561,368', '-', '443,233', '424,857', '288,842', '279,803', '-', '186,484', '108,830', '120,733', '-', '-', '-', '-', '23,063', '-', '-', '-', '-', '-', '-', ''], ['1', '2', '3', '4', '5', '6', '7', '8', '9', '10', '11', '12', '13', '14', '15', '16', '17', '18', '19', '20', '21', '22', '23', '24', '25', '26', '27', '28', '29', '30', '31', '32', '33', '', '1', '2', '3', '4', '5', '6', '7', '8', '9', '10', '11', '12', '13', '14', '15', '16', '17', '18', '19', '20', '21', '22', '23', '24', '25', '26', '27', '28', '29', '30', '31', '32', '33', ''], ['Maharashtra', 'Tamil Nadu', 'Karnataka', 'Uttar Pradesh', 'Gujarat', 'West Bengal', 'Rajasthan', 'Andhra Pradesh', 'Telangana', 'Madhya Pradesh', 'Kerala', 'Delhi', 'Haryana', 'Odisha', 'Bihar', 'Punjab', 'Assam', 'Chhattisgarh', 'Jharkhand', 'Uttarakhand', 'Jammu & Kashmir', 'Himachal Pradesh', 'Goa', 'Tripura', 'Chandigarh', 'Puducherry', 'Meghalaya', 'Sikkim', 'Manipur', 'Arunachal Pradesh', 'Nagaland', 'Mizoram', 'Andaman & Nicobar Islands', 'India', 'Maharashtra', 'Tamil Nadu', 'Karnataka', 'Uttar Pradesh', 'Gujarat', 'West Bengal', 'Rajasthan', 'Andhra Pradesh', 'Telangana', 'Madhya Pradesh', 'Kerala', 'Delhi', 'Haryana', 'Bihar', 'Odisha', 'Punjab', 'Assam', 'Chhattisgarh', 'Jharkhand', 'Uttarakhand', 'Jammu & Kashmir', 'Himachal Pradesh', 'Goa', 'Tripura', 'Chandigarh', 'Puducherry', 'Meghalaya', 'Manipur', 'Sikkim', 'Arunachal Pradesh', 'Nagaland', 'Mizoram', 'Andaman & Nicobar Islands', 'India'], ['-', '2,700,109', '2,500,733', '2,547,861', '-', '1,700,939', '1,524,030', '1,439,674', '1,463,960', '1,363,327', '-', '1,107,746', '1,095,535', '832,790', '-', '736,423', '565,401', '505,887', '-', '346,206', '246,465', '207,430', '-', '-', '-', '-', '47,381', '-', '-', '-', '-', '-', '-', '29,389,686', '-', '2,417,237', '2,261,867', '2,217,055', '-', '1,531,371', '1,366,626', '1,291,518', '1,326,022', '1,242,883', '-', '997,171', '985,877', '-', '749,809', '639,252', '487,584', '447,682', '-', '304,592', '200,046', '176,164', '-', '-', '-', '-', '42,214', '-', '-', '-', '-', '-', '-', '25,561,438'], ['13.17%', '8.78%', '8.38%', '8.37%', '8.17%', '5.63%', '5.06%', '4.87%', '4.76%', '4.63%', '3.96%', '3.73%', '3.68%', '2.81%', '2.76%', '2.62%', '1.74%', '1.74%', '1.52%', '1.13%', '0.82%', '0.73%', '0.36%', '0.27%', '0.20%', '0.19%', '0.16%', '0.16%', '0.16%', '0.15%', '0.13%', '0.12%', '0.04%', '23,597,399', '13.03%', '8.98%', '8.67%', '8.31%', '8.23%', '5.81%', '5.18%', '4.99%', '4.93%', '4.81%', '3.99%', '3.79%', '3.77%', '2.86%', '2.81%', '2.62%', '1.77%', '1.77%', '1.58%', '1.14%', '0.76%', '0.70%', '0.36%', '0.27%', '0.20%', '0.19%', '0.17%', '0.16%', '0.15%', '0.15%', '0.13%', '0.12%', '0.04%', '20,652,786'], ['414.928', '276.522', '264.080', '263.747', '257.484', '177.456', '159.334', '153.324', '150.084', '145.913', '124.764', '117.660', '116.001', '88.497', '86.817', '82.397', '54.930', '54.806', '47.909', '35.664', '25.813', '22.984', '11.250', '8.351', '6.154', '5.849', '5.178', '5.014', '4.885', '4.643', '4.144', '3.715', '1.385', '', '-', '1,384,921', '1,263,925', '1,206,156', '-', '791,144', '737,042', '723,343', '679,552', '579,234', '-', '590,836', '561,368', '-', '443,233', '424,857', '288,842', '279,803', '-', '186,484', '108,830', '120,733', '-', '-', '-', '-', '23,063', '-', '-', '-', '-', '-', '-', ''], ['1', '2', '3', '4', '5', '6', '7', '8', '9', '10', '11', '12', '13', '14', '15', '16', '17', '18', '19', '20', '21', '22', '23', '24', '25', '26', '27', '28', '29', '30', '31', '32', '33', '', '1', '2', '3', '4', '5', '6', '7', '8', '9', '10', '11', '12', '13', '14', '15', '16', '17', '18', '19', '20', '21', '22', '23', '24', '25', '26', '27', '28', '29', '30', '31', '32', '33', ''], ['Maharashtra', 'Tamil Nadu', 'Karnataka', 'Uttar Pradesh', 'Gujarat', 'West Bengal', 'Rajasthan', 'Andhra Pradesh', 'Telangana', 'Madhya Pradesh', 'Kerala', 'Delhi', 'Haryana', 'Odisha', 'Bihar', 'Punjab', 'Assam', 'Chhattisgarh', 'Jharkhand', 'Uttarakhand', 'Jammu & Kashmir', 'Himachal Pradesh', 'Goa', 'Tripura', 'Chandigarh', 'Puducherry', 'Meghalaya', 'Sikkim', 'Manipur', 'Arunachal Pradesh', 'Nagaland', 'Mizoram', 'Andaman & Nicobar Islands', 'India', 'Maharashtra', 'Tamil Nadu', 'Karnataka', 'Uttar Pradesh', 'Gujarat', 'West Bengal', 'Rajasthan', 'Andhra Pradesh', 'Telangana', 'Madhya Pradesh', 'Kerala', 'Delhi', 'Haryana', 'Bihar', 'Odisha', 'Punjab', 'Assam', 'Chhattisgarh', 'Jharkhand', 'Uttarakhand', 'Jammu & Kashmir', 'Himachal Pradesh', 'Goa', 'Tripura', 'Chandigarh', 'Puducherry', 'Meghalaya', 'Manipur', 'Sikkim', 'Arunachal Pradesh', 'Nagaland', 'Mizoram', 'Andaman & Nicobar Islands', 'India'], ['-', '2,700,109', '2,500,733', '2,547,861', '-', '1,700,939', '1,524,030', '1,439,674', '1,463,960', '1,363,327', '-', '1,107,746', '1,095,535', '832,790', '-', '736,423', '565,401', '505,887', '-', '346,206', '246,465', '207,430', '-', '-', '-', '-', '47,381', '-', '-', '-', '-', '-', '-', '29,389,686', '-', '2,417,237', '2,261,867', '2,217,055', '-', '1,531,371', '1,366,626', '1,291,518', '1,326,022', '1,242,883', '-', '997,171', '985,877', '-', '749,809', '639,252', '487,584', '447,682', '-', '304,592', '200,046', '176,164', '-', '-', '-', '-', '42,214', '-', '-', '-', '-', '-', '-', '25,561,438'], ['13.17%', '8.78%', '8.38%', '8.37%', '8.17%', '5.63%', '5.06%', '4.87%', '4.76%', '4.63%', '3.96%', '3.73%', '3.68%', '2.81%', '2.76%', '2.62%', '1.74%', '1.74%', '1.52%', '1.13%', '0.82%', '0.73%', '0.36%', '0.27%', '0.20%', '0.19%', '0.16%', '0.16%', '0.16%', '0.15%', '0.13%', '0.12%', '0.04%', '23,597,399', '13.03%', '8.98%', '8.67%', '8.31%', '8.23%', '5.81%', '5.18%', '4.99%', '4.93%', '4.81%', '3.99%', '3.79%', '3.77%', '2.86%', '2.81%', '2.62%', '1.77%', '1.77%', '1.58%', '1.14%', '0.76%', '0.70%', '0.36%', '0.27%', '0.20%', '0.19%', '0.17%', '0.16%', '0.15%', '0.15%', '0.13%', '0.12%', '0.04%', '20,652,786'], ['414.928', '276.522', '264.080', '263.747', '257.484', '177.456', '159.334', '153.324', '150.084', '145.913', '124.764', '117.660', '116.001', '88.497', '86.817', '82.397', '54.930', '54.806', '47.909', '35.664', '25.813', '22.984', '11.250', '8.351', '6.154', '5.849', '5.178', '5.014', '4.885', '4.643', '4.144', '3.715', '1.385', '', '-', '1,384,921', '1,263,925', '1,206,156', '-', '791,144', '737,042', '723,343', '679,552', '579,234', '-', '590,836', '561,368', '-', '443,233', '424,857', '288,842', '279,803', '-', '186,484', '108,830', '120,733', '-', '-', '-', '-', '23,063', '-', '-', '-', '-', '-', '-', ''], ['1', '2', '3', '4', '5', '6', '7', '8', '9', '10', '11', '12', '13', '14', '15', '16', '17', '18', '19', '20', '21', '22', '23', '24', '25', '26', '27', '28', '29', '30', '31', '32', '33', '', '1', '2', '3', '4', '5', '6', '7', '8', '9', '10', '11', '12', '13', '14', '15', '16', '17', '18', '19', '20', '21', '22', '23', '24', '25', '26', '27', '28', '29', '30', '31', '32', '33', ''], ['Maharashtra', 'Tamil Nadu', 'Karnataka', 'Uttar Pradesh', 'Gujarat', 'West Bengal', 'Rajasthan', 'Andhra Pradesh', 'Telangana', 'Madhya Pradesh', 'Kerala', 'Delhi', 'Haryana', 'Odisha', 'Bihar', 'Punjab', 'Assam', 'Chhattisgarh', 'Jharkhand', 'Uttarakhand', 'Jammu & Kashmir', 'Himachal Pradesh', 'Goa', 'Tripura', 'Chandigarh', 'Puducherry', 'Meghalaya', 'Sikkim', 'Manipur', 'Arunachal Pradesh', 'Nagaland', 'Mizoram', 'Andaman & Nicobar Islands', 'India', 'Maharashtra', 'Tamil Nadu', 'Karnataka', 'Uttar Pradesh', 'Gujarat', 'West Bengal', 'Rajasthan', 'Andhra Pradesh', 'Telangana', 'Madhya Pradesh', 'Kerala', 'Delhi', 'Haryana', 'Bihar', 'Odisha', 'Punjab', 'Assam', 'Chhattisgarh', 'Jharkhand', 'Uttarakhand', 'Jammu & Kashmir', 'Himachal Pradesh', 'Goa', 'Tripura', 'Chandigarh', 'Puducherry', 'Meghalaya', 'Manipur', 'Sikkim', 'Arunachal Pradesh', 'Nagaland', 'Mizoram', 'Andaman & Nicobar Islands', 'India'], ['-', '2,700,109', '2,500,733', '2,547,861', '-', '1,700,939', '1,524,030', '1,439,674', '1,463,960', '1,363,327', '-', '1,107,746', '1,095,535', '832,790', '-', '736,423', '565,401', '505,887', '-', '346,206', '246,465', '207,430', '-', '-', '-', '-', '47,381', '-', '-', '-', '-', '-', '-', '29,389,686', '-', '2,417,237', '2,261,867', '2,217,055', '-', '1,531,371', '1,366,626', '1,291,518', '1,326,022', '1,242,883', '-', '997,171', '985,877', '-', '749,809', '639,252', '487,584', '447,682', '-', '304,592', '200,046', '176,164', '-', '-', '-', '-', '42,214', '-', '-', '-', '-', '-', '-', '25,561,438'], ['13.17%', '8.78%', '8.38%', '8.37%', '8.17%', '5.63%', '5.06%', '4.87%', '4.76%', '4.63%', '3.96%', '3.73%', '3.68%', '2.81%', '2.76%', '2.62%', '1.74%', '1.74%', '1.52%', '1.13%', '0.82%', '0.73%', '0.36%', '0.27%', '0.20%', '0.19%', '0.16%', '0.16%', '0.16%', '0.15%', '0.13%', '0.12%', '0.04%', '23,597,399', '13.03%', '8.98%', '8.67%', '8.31%', '8.23%', '5.81%', '5.18%', '4.99%', '4.93%', '4.81%', '3.99%', '3.79%', '3.77%', '2.86%', '2.81%', '2.62%', '1.77%', '1.77%', '1.58%', '1.14%', '0.76%', '0.70%', '0.36%', '0.27%', '0.20%', '0.19%', '0.17%', '0.16%', '0.15%', '0.15%', '0.13%', '0.12%', '0.04%', '20,652,786'], ['414.928', '276.522', '264.080', '263.747', '257.484', '177.456', '159.334', '153.324', '150.084', '145.913', '124.764', '117.660', '116.001', '88.497', '86.817', '82.397', '54.930', '54.806', '47.909', '35.664', '25.813', '22.984', '11.250', '8.351', '6.154', '5.849', '5.178', '5.014', '4.885', '4.643', '4.144', '3.715', '1.385', '', '-', '1,384,921', '1,263,925', '1,206,156', '-', '791,144', '737,042', '723,343', '679,552', '579,234', '-', '590,836', '561,368', '-', '443,233', '424,857', '288,842', '279,803', '-', '186,484', '108,830', '120,733', '-', '-', '-', '-', '23,063', '-', '-', '-', '-', '-', '-', ''], ['1', '2', '3', '4', '5', '6', '7', '8', '9', '10', '11', '12', '13', '14', '15', '16', '17', '18', '19', '20', '21', '22', '23', '24', '25', '26', '27', '28', '29', '30', '31', '32', '33', '', '1', '2', '3', '4', '5', '6', '7', '8', '9', '10', '11', '12', '13', '14', '15', '16', '17', '18', '19', '20', '21', '22', '23', '24', '25', '26', '27', '28', '29', '30', '31', '32', '33', ''], ['Maharashtra', 'Tamil Nadu', 'Karnataka', 'Uttar Pradesh', 'Gujarat', 'West Bengal', 'Rajasthan', 'Andhra Pradesh', 'Telangana', 'Madhya Pradesh', 'Kerala', 'Delhi', 'Haryana', 'Odisha', 'Bihar', 'Punjab', 'Assam', 'Chhattisgarh', 'Jharkhand', 'Uttarakhand', 'Jammu & Kashmir', 'Himachal Pradesh', 'Goa', 'Tripura', 'Chandigarh', 'Puducherry', 'Meghalaya', 'Sikkim', 'Manipur', 'Arunachal Pradesh', 'Nagaland', 'Mizoram', 'Andaman & Nicobar Islands', 'India', 'Maharashtra', 'Tamil Nadu', 'Karnataka', 'Uttar Pradesh', 'Gujarat', 'West Bengal', 'Rajasthan', 'Andhra Pradesh', 'Telangana', 'Madhya Pradesh', 'Kerala', 'Delhi', 'Haryana', 'Bihar', 'Odisha', 'Punjab', 'Assam', 'Chhattisgarh', 'Jharkhand', 'Uttarakhand', 'Jammu & Kashmir', 'Himachal Pradesh', 'Goa', 'Tripura', 'Chandigarh', 'Puducherry', 'Meghalaya', 'Manipur', 'Sikkim', 'Arunachal Pradesh', 'Nagaland', 'Mizoram', 'Andaman & Nicobar Islands', 'India'], ['-', '2,700,109', '2,500,733', '2,547,861', '-', '1,700,939', '1,524,030', '1,439,674', '1,463,960', '1,363,327', '-', '1,107,746', '1,095,535', '832,790', '-', '736,423', '565,401', '505,887', '-', '346,206', '246,465', '207,430', '-', '-', '-', '-', '47,381', '-', '-', '-', '-', '-', '-', '29,389,686', '-', '2,417,237', '2,261,867', '2,217,055', '-', '1,531,371', '1,366,626', '1,291,518', '1,326,022', '1,242,883', '-', '997,171', '985,877', '-', '749,809', '639,252', '487,584', '447,682', '-', '304,592', '200,046', '176,164', '-', '-', '-', '-', '42,214', '-', '-', '-', '-', '-', '-', '25,561,438'], ['13.17%', '8.78%', '8.38%', '8.37%', '8.17%', '5.63%', '5.06%', '4.87%', '4.76%', '4.63%', '3.96%', '3.73%', '3.68%', '2.81%', '2.76%', '2.62%', '1.74%', '1.74%', '1.52%', '1.13%', '0.82%', '0.73%', '0.36%', '0.27%', '0.20%', '0.19%', '0.16%', '0.16%', '0.16%', '0.15%', '0.13%', '0.12%', '0.04%', '23,597,399', '13.03%', '8.98%', '8.67%', '8.31%', '8.23%', '5.81%', '5.18%', '4.99%', '4.93%', '4.81%', '3.99%', '3.79%', '3.77%', '2.86%', '2.81%', '2.62%', '1.77%', '1.77%', '1.58%', '1.14%', '0.76%', '0.70%', '0.36%', '0.27%', '0.20%', '0.19%', '0.17%', '0.16%', '0.15%', '0.15%', '0.13%', '0.12%', '0.04%', '20,652,786'], ['414.928', '276.522', '264.080', '263.747', '257.484', '177.456', '159.334', '153.324', '150.084', '145.913', '124.764', '117.660', '116.001', '88.497', '86.817', '82.397', '54.930', '54.806', '47.909', '35.664', '25.813', '22.984', '11.250', '8.351', '6.154', '5.849', '5.178', '5.014', '4.885', '4.643', '4.144', '3.715', '1.385', '', '-', '1,384,921', '1,263,925', '1,206,156', '-', '791,144', '737,042', '723,343', '679,552', '579,234', '-', '590,836', '561,368', '-', '443,233', '424,857', '288,842', '279,803', '-', '186,484', '108,830', '120,733', '-', '-', '-', '-', '23,063', '-', '-', '-', '-', '-', '-', ''], ['1', '2', '3', '4', '5', '6', '7', '8', '9', '10', '11', '12', '13', '14', '15', '16', '17', '18', '19', '20', '21', '22', '23', '24', '25', '26', '27', '28', '29', '30', '31', '32', '33', '', '1', '2', '3', '4', '5', '6', '7', '8', '9', '10', '11', '12', '13', '14', '15', '16', '17', '18', '19', '20', '21', '22', '23', '24', '25', '26', '27', '28', '29', '30', '31', '32', '33', ''], ['Maharashtra', 'Tamil Nadu', 'Karnataka', 'Uttar Pradesh', 'Gujarat', 'West Bengal', 'Rajasthan', 'Andhra Pradesh', 'Telangana', 'Madhya Pradesh', 'Kerala', 'Delhi', 'Haryana', 'Odisha', 'Bihar', 'Punjab', 'Assam', 'Chhattisgarh', 'Jharkhand', 'Uttarakhand', 'Jammu & Kashmir', 'Himachal Pradesh', 'Goa', 'Tripura', 'Chandigarh', 'Puducherry', 'Meghalaya', 'Sikkim', 'Manipur', 'Arunachal Pradesh', 'Nagaland', 'Mizoram', 'Andaman & Nicobar Islands', 'India', 'Maharashtra', 'Tamil Nadu', 'Karnataka', 'Uttar Pradesh', 'Gujarat', 'West Bengal', 'Rajasthan', 'Andhra Pradesh', 'Telangana', 'Madhya Pradesh', 'Kerala', 'Delhi', 'Haryana', 'Bihar', 'Odisha', 'Punjab', 'Assam', 'Chhattisgarh', 'Jharkhand', 'Uttarakhand', 'Jammu & Kashmir', 'Himachal Pradesh', 'Goa', 'Tripura', 'Chandigarh', 'Puducherry', 'Meghalaya', 'Manipur', 'Sikkim', 'Arunachal Pradesh', 'Nagaland', 'Mizoram', 'Andaman & Nicobar Islands', 'India'], ['-', '2,700,109', '2,500,733', '2,547,861', '-', '1,700,939', '1,524,030', '1,439,674', '1,463,960', '1,363,327', '-', '1,107,746', '1,095,535', '832,790', '-', '736,423', '565,401', '505,887', '-', '346,206', '246,465', '207,430', '-', '-', '-', '-', '47,381', '-', '-', '-', '-', '-', '-', '29,389,686', '-', '2,417,237', '2,261,867', '2,217,055', '-', '1,531,371', '1,366,626', '1,291,518', '1,326,022', '1,242,883', '-', '997,171', '985,877', '-', '749,809', '639,252', '487,584', '447,682', '-', '304,592', '200,046', '176,164', '-', '-', '-', '-', '42,214', '-', '-', '-', '-', '-', '-', '25,561,438'], ['13.17%', '8.78%', '8.38%', '8.37%', '8.17%', '5.63%', '5.06%', '4.87%', '4.76%', '4.63%', '3.96%', '3.73%', '3.68%', '2.81%', '2.76%', '2.62%', '1.74%', '1.74%', '1.52%', '1.13%', '0.82%', '0.73%', '0.36%', '0.27%', '0.20%', '0.19%', '0.16%', '0.16%', '0.16%', '0.15%', '0.13%', '0.12%', '0.04%', '23,597,399', '13.03%', '8.98%', '8.67%', '8.31%', '8.23%', '5.81%', '5.18%', '4.99%', '4.93%', '4.81%', '3.99%', '3.79%', '3.77%', '2.86%', '2.81%', '2.62%', '1.77%', '1.77%', '1.58%', '1.14%', '0.76%', '0.70%', '0.36%', '0.27%', '0.20%', '0.19%', '0.17%', '0.16%', '0.15%', '0.15%', '0.13%', '0.12%', '0.04%', '20,652,786'], ['414.928', '276.522', '264.080', '263.747', '257.484', '177.456', '159.334', '153.324', '150.084', '145.913', '124.764', '117.660', '116.001', '88.497', '86.817', '82.397', '54.930', '54.806', '47.909', '35.664', '25.813', '22.984', '11.250', '8.351', '6.154', '5.849', '5.178', '5.014', '4.885', '4.643', '4.144', '3.715', '1.385', '', '-', '1,384,921', '1,263,925', '1,206,156', '-', '791,144', '737,042', '723,343', '679,552', '579,234', '-', '590,836', '561,368', '-', '443,233', '424,857', '288,842', '279,803', '-', '186,484', '108,830', '120,733', '-', '-', '-', '-', '23,063', '-', '-', '-', '-', '-', '-', ''], ['1', '2', '3', '4', '5', '6', '7', '8', '9', '10', '11', '12', '13', '14', '15', '16', '17', '18', '19', '20', '21', '22', '23', '24', '25', '26', '27', '28', '29', '30', '31', '32', '33', '', '1', '2', '3', '4', '5', '6', '7', '8', '9', '10', '11', '12', '13', '14', '15', '16', '17', '18', '19', '20', '21', '22', '23', '24', '25', '26', '27', '28', '29', '30', '31', '32', '33', ''], ['Maharashtra', 'Tamil Nadu', 'Karnataka', 'Uttar Pradesh', 'Gujarat', 'West Bengal', 'Rajasthan', 'Andhra Pradesh', 'Telangana', 'Madhya Pradesh', 'Kerala', 'Delhi', 'Haryana', 'Odisha', 'Bihar', 'Punjab', 'Assam', 'Chhattisgarh', 'Jharkhand', 'Uttarakhand', 'Jammu & Kashmir', 'Himachal Pradesh', 'Goa', 'Tripura', 'Chandigarh', 'Puducherry', 'Meghalaya', 'Sikkim', 'Manipur', 'Arunachal Pradesh', 'Nagaland', 'Mizoram', 'Andaman & Nicobar Islands', 'India', 'Maharashtra', 'Tamil Nadu', 'Karnataka', 'Uttar Pradesh', 'Gujarat', 'West Bengal', 'Rajasthan', 'Andhra Pradesh', 'Telangana', 'Madhya Pradesh', 'Kerala', 'Delhi', 'Haryana', 'Bihar', 'Odisha', 'Punjab', 'Assam', 'Chhattisgarh', 'Jharkhand', 'Uttarakhand', 'Jammu & Kashmir', 'Himachal Pradesh', 'Goa', 'Tripura', 'Chandigarh', 'Puducherry', 'Meghalaya', 'Manipur', 'Sikkim', 'Arunachal Pradesh', 'Nagaland', 'Mizoram', 'Andaman & Nicobar Islands', 'India'], ['-', '2,700,109', '2,500,733', '2,547,861', '-', '1,700,939', '1,524,030', '1,439,674', '1,463,960', '1,363,327', '-', '1,107,746', '1,095,535', '832,790', '-', '736,423', '565,401', '505,887', '-', '346,206', '246,465', '207,430', '-', '-', '-', '-', '47,381', '-', '-', '-', '-', '-', '-', '29,389,686', '-', '2,417,237', '2,261,867', '2,217,055', '-', '1,531,371', '1,366,626', '1,291,518', '1,326,022', '1,242,883', '-', '997,171', '985,877', '-', '749,809', '639,252', '487,584', '447,682', '-', '304,592', '200,046', '176,164', '-', '-', '-', '-', '42,214', '-', '-', '-', '-', '-', '-', '25,561,438'], ['13.17%', '8.78%', '8.38%', '8.37%', '8.17%', '5.63%', '5.06%', '4.87%', '4.76%', '4.63%', '3.96%', '3.73%', '3.68%', '2.81%', '2.76%', '2.62%', '1.74%', '1.74%', '1.52%', '1.13%', '0.82%', '0.73%', '0.36%', '0.27%', '0.20%', '0.19%', '0.16%', '0.16%', '0.16%', '0.15%', '0.13%', '0.12%', '0.04%', '23,597,399', '13.03%', '8.98%', '8.67%', '8.31%', '8.23%', '5.81%', '5.18%', '4.99%', '4.93%', '4.81%', '3.99%', '3.79%', '3.77%', '2.86%', '2.81%', '2.62%', '1.77%', '1.77%', '1.58%', '1.14%', '0.76%', '0.70%', '0.36%', '0.27%', '0.20%', '0.19%', '0.17%', '0.16%', '0.15%', '0.15%', '0.13%', '0.12%', '0.04%', '20,652,786'], ['414.928', '276.522', '264.080', '263.747', '257.484', '177.456', '159.334', '153.324', '150.084', '145.913', '124.764', '117.660', '116.001', '88.497', '86.817', '82.397', '54.930', '54.806', '47.909', '35.664', '25.813', '22.984', '11.250', '8.351', '6.154', '5.849', '5.178', '5.014', '4.885', '4.643', '4.144', '3.715', '1.385', '', '-', '1,384,921', '1,263,925', '1,206,156', '-', '791,144', '737,042', '723,343', '679,552', '579,234', '-', '590,836', '561,368', '-', '443,233', '424,857', '288,842', '279,803', '-', '186,484', '108,830', '120,733', '-', '-', '-', '-', '23,063', '-', '-', '-', '-', '-', '-', ''], ['1', '2', '3', '4', '5', '6', '7', '8', '9', '10', '11', '12', '13', '14', '15', '16', '17', '18', '19', '20', '21', '22', '23', '24', '25', '26', '27', '28', '29', '30', '31', '32', '33', '', '1', '2', '3', '4', '5', '6', '7', '8', '9', '10', '11', '12', '13', '14', '15', '16', '17', '18', '19', '20', '21', '22', '23', '24', '25', '26', '27', '28', '29', '30', '31', '32', '33', ''], ['Maharashtra', 'Tamil Nadu', 'Karnataka', 'Uttar Pradesh', 'Gujarat', 'West Bengal', 'Rajasthan', 'Andhra Pradesh', 'Telangana', 'Madhya Pradesh', 'Kerala', 'Delhi', 'Haryana', 'Odisha', 'Bihar', 'Punjab', 'Assam', 'Chhattisgarh', 'Jharkhand', 'Uttarakhand', 'Jammu & Kashmir', 'Himachal Pradesh', 'Goa', 'Tripura', 'Chandigarh', 'Puducherry', 'Meghalaya', 'Sikkim', 'Manipur', 'Arunachal Pradesh', 'Nagaland', 'Mizoram', 'Andaman & Nicobar Islands', 'India', 'Maharashtra', 'Tamil Nadu', 'Karnataka', 'Uttar Pradesh', 'Gujarat', 'West Bengal', 'Rajasthan', 'Andhra Pradesh', 'Telangana', 'Madhya Pradesh', 'Kerala', 'Delhi', 'Haryana', 'Bihar', 'Odisha', 'Punjab', 'Assam', 'Chhattisgarh', 'Jharkhand', 'Uttarakhand', 'Jammu & Kashmir', 'Himachal Pradesh', 'Goa', 'Tripura', 'Chandigarh', 'Puducherry', 'Meghalaya', 'Manipur', 'Sikkim', 'Arunachal Pradesh', 'Nagaland', 'Mizoram', 'Andaman & Nicobar Islands', 'India'], ['-', '2,700,109', '2,500,733', '2,547,861', '-', '1,700,939', '1,524,030', '1,439,674', '1,463,960', '1,363,327', '-', '1,107,746', '1,095,535', '832,790', '-', '736,423', '565,401', '505,887', '-', '346,206', '246,465', '207,430', '-', '-', '-', '-', '47,381', '-', '-', '-', '-', '-', '-', '29,389,686', '-', '2,417,237', '2,261,867', '2,217,055', '-', '1,531,371', '1,366,626', '1,291,518', '1,326,022', '1,242,883', '-', '997,171', '985,877', '-', '749,809', '639,252', '487,584', '447,682', '-', '304,592', '200,046', '176,164', '-', '-', '-', '-', '42,214', '-', '-', '-', '-', '-', '-', '25,561,438'], ['13.17%', '8.78%', '8.38%', '8.37%', '8.17%', '5.63%', '5.06%', '4.87%', '4.76%', '4.63%', '3.96%', '3.73%', '3.68%', '2.81%', '2.76%', '2.62%', '1.74%', '1.74%', '1.52%', '1.13%', '0.82%', '0.73%', '0.36%', '0.27%', '0.20%', '0.19%', '0.16%', '0.16%', '0.16%', '0.15%', '0.13%', '0.12%', '0.04%', '23,597,399', '13.03%', '8.98%', '8.67%', '8.31%', '8.23%', '5.81%', '5.18%', '4.99%', '4.93%', '4.81%', '3.99%', '3.79%', '3.77%', '2.86%', '2.81%', '2.62%', '1.77%', '1.77%', '1.58%', '1.14%', '0.76%', '0.70%', '0.36%', '0.27%', '0.20%', '0.19%', '0.17%', '0.16%', '0.15%', '0.15%', '0.13%', '0.12%', '0.04%', '20,652,786'], ['414.928', '276.522', '264.080', '263.747', '257.484', '177.456', '159.334', '153.324', '150.084', '145.913', '124.764', '117.660', '116.001', '88.497', '86.817', '82.397', '54.930', '54.806', '47.909', '35.664', '25.813', '22.984', '11.250', '8.351', '6.154', '5.849', '5.178', '5.014', '4.885', '4.643', '4.144', '3.715', '1.385', '', '-', '1,384,921', '1,263,925', '1,206,156', '-', '791,144', '737,042', '723,343', '679,552', '579,234', '-', '590,836', '561,368', '-', '443,233', '424,857', '288,842', '279,803', '-', '186,484', '108,830', '120,733', '-', '-', '-', '-', '23,063', '-', '-', '-', '-', '-', '-', ''], ['1', '2', '3', '4', '5', '6', '7', '8', '9', '10', '11', '12', '13', '14', '15', '16', '17', '18', '19', '20', '21', '22', '23', '24', '25', '26', '27', '28', '29', '30', '31', '32', '33', '', '1', '2', '3', '4', '5', '6', '7', '8', '9', '10', '11', '12', '13', '14', '15', '16', '17', '18', '19', '20', '21', '22', '23', '24', '25', '26', '27', '28', '29', '30', '31', '32', '33', ''], ['Maharashtra', 'Tamil Nadu', 'Karnataka', 'Uttar Pradesh', 'Gujarat', 'West Bengal', 'Rajasthan', 'Andhra Pradesh', 'Telangana', 'Madhya Pradesh', 'Kerala', 'Delhi', 'Haryana', 'Odisha', 'Bihar', 'Punjab', 'Assam', 'Chhattisgarh', 'Jharkhand', 'Uttarakhand', 'Jammu & Kashmir', 'Himachal Pradesh', 'Goa', 'Tripura', 'Chandigarh', 'Puducherry', 'Meghalaya', 'Sikkim', 'Manipur', 'Arunachal Pradesh', 'Nagaland', 'Mizoram', 'Andaman & Nicobar Islands', 'India', 'Maharashtra', 'Tamil Nadu', 'Karnataka', 'Uttar Pradesh', 'Gujarat', 'West Bengal', 'Rajasthan', 'Andhra Pradesh', 'Telangana', 'Madhya Pradesh', 'Kerala', 'Delhi', 'Haryana', 'Bihar', 'Odisha', 'Punjab', 'Assam', 'Chhattisgarh', 'Jharkhand', 'Uttarakhand', 'Jammu & Kashmir', 'Himachal Pradesh', 'Goa', 'Tripura', 'Chandigarh', 'Puducherry', 'Meghalaya', 'Manipur', 'Sikkim', 'Arunachal Pradesh', 'Nagaland', 'Mizoram', 'Andaman & Nicobar Islands', 'India'], ['-', '2,700,109', '2,500,733', '2,547,861', '-', '1,700,939', '1,524,030', '1,439,674', '1,463,960', '1,363,327', '-', '1,107,746', '1,095,535', '832,790', '-', '736,423', '565,401', '505,887', '-', '346,206', '246,465', '207,430', '-', '-', '-', '-', '47,381', '-', '-', '-', '-', '-', '-', '29,389,686', '-', '2,417,237', '2,261,867', '2,217,055', '-', '1,531,371', '1,366,626', '1,291,518', '1,326,022', '1,242,883', '-', '997,171', '985,877', '-', '749,809', '639,252', '487,584', '447,682', '-', '304,592', '200,046', '176,164', '-', '-', '-', '-', '42,214', '-', '-', '-', '-', '-', '-', '25,561,438'], ['13.17%', '8.78%', '8.38%', '8.37%', '8.17%', '5.63%', '5.06%', '4.87%', '4.76%', '4.63%', '3.96%', '3.73%', '3.68%', '2.81%', '2.76%', '2.62%', '1.74%', '1.74%', '1.52%', '1.13%', '0.82%', '0.73%', '0.36%', '0.27%', '0.20%', '0.19%', '0.16%', '0.16%', '0.16%', '0.15%', '0.13%', '0.12%', '0.04%', '23,597,399', '13.03%', '8.98%', '8.67%', '8.31%', '8.23%', '5.81%', '5.18%', '4.99%', '4.93%', '4.81%', '3.99%', '3.79%', '3.77%', '2.86%', '2.81%', '2.62%', '1.77%', '1.77%', '1.58%', '1.14%', '0.76%', '0.70%', '0.36%', '0.27%', '0.20%', '0.19%', '0.17%', '0.16%', '0.15%', '0.15%', '0.13%', '0.12%', '0.04%', '20,652,786'], ['414.928', '276.522', '264.080', '263.747', '257.484', '177.456', '159.334', '153.324', '150.084', '145.913', '124.764', '117.660', '116.001', '88.497', '86.817', '82.397', '54.930', '54.806', '47.909', '35.664', '25.813', '22.984', '11.250', '8.351', '6.154', '5.849', '5.178', '5.014', '4.885', '4.643', '4.144', '3.715', '1.385', '', '-', '1,384,921', '1,263,925', '1,206,156', '-', '791,144', '737,042', '723,343', '679,552', '579,234', '-', '590,836', '561,368', '-', '443,233', '424,857', '288,842', '279,803', '-', '186,484', '108,830', '120,733', '-', '-', '-', '-', '23,063', '-', '-', '-', '-', '-', '-', ''], ['1', '2', '3', '4', '5', '6', '7', '8', '9', '10', '11', '12', '13', '14', '15', '16', '17', '18', '19', '20', '21', '22', '23', '24', '25', '26', '27', '28', '29', '30', '31', '32', '33', '', '1', '2', '3', '4', '5', '6', '7', '8', '9', '10', '11', '12', '13', '14', '15', '16', '17', '18', '19', '20', '21', '22', '23', '24', '25', '26', '27', '28', '29', '30', '31', '32', '33', ''], ['Maharashtra', 'Tamil Nadu', 'Karnataka', 'Uttar Pradesh', 'Gujarat', 'West Bengal', 'Rajasthan', 'Andhra Pradesh', 'Telangana', 'Madhya Pradesh', 'Kerala', 'Delhi', 'Haryana', 'Odisha', 'Bihar', 'Punjab', 'Assam', 'Chhattisgarh', 'Jharkhand', 'Uttarakhand', 'Jammu & Kashmir', 'Himachal Pradesh', 'Goa', 'Tripura', 'Chandigarh', 'Puducherry', 'Meghalaya', 'Sikkim', 'Manipur', 'Arunachal Pradesh', 'Nagaland', 'Mizoram', 'Andaman & Nicobar Islands', 'India', 'Maharashtra', 'Tamil Nadu', 'Karnataka', 'Uttar Pradesh', 'Gujarat', 'West Bengal', 'Rajasthan', 'Andhra Pradesh', 'Telangana', 'Madhya Pradesh', 'Kerala', 'Delhi', 'Haryana', 'Bihar', 'Odisha', 'Punjab', 'Assam', 'Chhattisgarh', 'Jharkhand', 'Uttarakhand', 'Jammu & Kashmir', 'Himachal Pradesh', 'Goa', 'Tripura', 'Chandigarh', 'Puducherry', 'Meghalaya', 'Manipur', 'Sikkim', 'Arunachal Pradesh', 'Nagaland', 'Mizoram', 'Andaman & Nicobar Islands', 'India'], ['-', '2,700,109', '2,500,733', '2,547,861', '-', '1,700,939', '1,524,030', '1,439,674', '1,463,960', '1,363,327', '-', '1,107,746', '1,095,535', '832,790', '-', '736,423', '565,401', '505,887', '-', '346,206', '246,465', '207,430', '-', '-', '-', '-', '47,381', '-', '-', '-', '-', '-', '-', '29,389,686', '-', '2,417,237', '2,261,867', '2,217,055', '-', '1,531,371', '1,366,626', '1,291,518', '1,326,022', '1,242,883', '-', '997,171', '985,877', '-', '749,809', '639,252', '487,584', '447,682', '-', '304,592', '200,046', '176,164', '-', '-', '-', '-', '42,214', '-', '-', '-', '-', '-', '-', '25,561,438'], ['13.17%', '8.78%', '8.38%', '8.37%', '8.17%', '5.63%', '5.06%', '4.87%', '4.76%', '4.63%', '3.96%', '3.73%', '3.68%', '2.81%', '2.76%', '2.62%', '1.74%', '1.74%', '1.52%', '1.13%', '0.82%', '0.73%', '0.36%', '0.27%', '0.20%', '0.19%', '0.16%', '0.16%', '0.16%', '0.15%', '0.13%', '0.12%', '0.04%', '23,597,399', '13.03%', '8.98%', '8.67%', '8.31%', '8.23%', '5.81%', '5.18%', '4.99%', '4.93%', '4.81%', '3.99%', '3.79%', '3.77%', '2.86%', '2.81%', '2.62%', '1.77%', '1.77%', '1.58%', '1.14%', '0.76%', '0.70%', '0.36%', '0.27%', '0.20%', '0.19%', '0.17%', '0.16%', '0.15%', '0.15%', '0.13%', '0.12%', '0.04%', '20,652,786'], ['414.928', '276.522', '264.080', '263.747', '257.484', '177.456', '159.334', '153.324', '150.084', '145.913', '124.764', '117.660', '116.001', '88.497', '86.817', '82.397', '54.930', '54.806', '47.909', '35.664', '25.813', '22.984', '11.250', '8.351', '6.154', '5.849', '5.178', '5.014', '4.885', '4.643', '4.144', '3.715', '1.385', '', '-', '1,384,921', '1,263,925', '1,206,156', '-', '791,144', '737,042', '723,343', '679,552', '579,234', '-', '590,836', '561,368', '-', '443,233', '424,857', '288,842', '279,803', '-', '186,484', '108,830', '120,733', '-', '-', '-', '-', '23,063', '-', '-', '-', '-', '-', '-', ''], ['1', '2', '3', '4', '5', '6', '7', '8', '9', '10', '11', '12', '13', '14', '15', '16', '17', '18', '19', '20', '21', '22', '23', '24', '25', '26', '27', '28', '29', '30', '31', '32', '33', '', '1', '2', '3', '4', '5', '6', '7', '8', '9', '10', '11', '12', '13', '14', '15', '16', '17', '18', '19', '20', '21', '22', '23', '24', '25', '26', '27', '28', '29', '30', '31', '32', '33', ''], ['Maharashtra', 'Tamil Nadu', 'Karnataka', 'Uttar Pradesh', 'Gujarat', 'West Bengal', 'Rajasthan', 'Andhra Pradesh', 'Telangana', 'Madhya Pradesh', 'Kerala', 'Delhi', 'Haryana', 'Odisha', 'Bihar', 'Punjab', 'Assam', 'Chhattisgarh', 'Jharkhand', 'Uttarakhand', 'Jammu & Kashmir', 'Himachal Pradesh', 'Goa', 'Tripura', 'Chandigarh', 'Puducherry', 'Meghalaya', 'Sikkim', 'Manipur', 'Arunachal Pradesh', 'Nagaland', 'Mizoram', 'Andaman & Nicobar Islands', 'India', 'Maharashtra', 'Tamil Nadu', 'Karnataka', 'Uttar Pradesh', 'Gujarat', 'West Bengal', 'Rajasthan', 'Andhra Pradesh', 'Telangana', 'Madhya Pradesh', 'Kerala', 'Delhi', 'Haryana', 'Bihar', 'Odisha', 'Punjab', 'Assam', 'Chhattisgarh', 'Jharkhand', 'Uttarakhand', 'Jammu & Kashmir', 'Himachal Pradesh', 'Goa', 'Tripura', 'Chandigarh', 'Puducherry', 'Meghalaya', 'Manipur', 'Sikkim', 'Arunachal Pradesh', 'Nagaland', 'Mizoram', 'Andaman & Nicobar Islands', 'India'], ['-', '2,700,109', '2,500,733', '2,547,861', '-', '1,700,939', '1,524,030', '1,439,674', '1,463,960', '1,363,327', '-', '1,107,746', '1,095,535', '832,790', '-', '736,423', '565,401', '505,887', '-', '346,206', '246,465', '207,430', '-', '-', '-', '-', '47,381', '-', '-', '-', '-', '-', '-', '29,389,686', '-', '2,417,237', '2,261,867', '2,217,055', '-', '1,531,371', '1,366,626', '1,291,518', '1,326,022', '1,242,883', '-', '997,171', '985,877', '-', '749,809', '639,252', '487,584', '447,682', '-', '304,592', '200,046', '176,164', '-', '-', '-', '-', '42,214', '-', '-', '-', '-', '-', '-', '25,561,438'], ['13.17%', '8.78%', '8.38%', '8.37%', '8.17%', '5.63%', '5.06%', '4.87%', '4.76%', '4.63%', '3.96%', '3.73%', '3.68%', '2.81%', '2.76%', '2.62%', '1.74%', '1.74%', '1.52%', '1.13%', '0.82%', '0.73%', '0.36%', '0.27%', '0.20%', '0.19%', '0.16%', '0.16%', '0.16%', '0.15%', '0.13%', '0.12%', '0.04%', '23,597,399', '13.03%', '8.98%', '8.67%', '8.31%', '8.23%', '5.81%', '5.18%', '4.99%', '4.93%', '4.81%', '3.99%', '3.79%', '3.77%', '2.86%', '2.81%', '2.62%', '1.77%', '1.77%', '1.58%', '1.14%', '0.76%', '0.70%', '0.36%', '0.27%', '0.20%', '0.19%', '0.17%', '0.16%', '0.15%', '0.15%', '0.13%', '0.12%', '0.04%', '20,652,786'], ['414.928', '276.522', '264.080', '263.747', '257.484', '177.456', '159.334', '153.324', '150.084', '145.913', '124.764', '117.660', '116.001', '88.497', '86.817', '82.397', '54.930', '54.806', '47.909', '35.664', '25.813', '22.984', '11.250', '8.351', '6.154', '5.849', '5.178', '5.014', '4.885', '4.643', '4.144', '3.715', '1.385', '', '-', '1,384,921', '1,263,925', '1,206,156', '-', '791,144', '737,042', '723,343', '679,552', '579,234', '-', '590,836', '561,368', '-', '443,233', '424,857', '288,842', '279,803', '-', '186,484', '108,830', '120,733', '-', '-', '-', '-', '23,063', '-', '-', '-', '-', '-', '-', ''], ['1', '2', '3', '4', '5', '6', '7', '8', '9', '10', '11', '12', '13', '14', '15', '16', '17', '18', '19', '20', '21', '22', '23', '24', '25', '26', '27', '28', '29', '30', '31', '32', '33', '', '1', '2', '3', '4', '5', '6', '7', '8', '9', '10', '11', '12', '13', '14', '15', '16', '17', '18', '19', '20', '21', '22', '23', '24', '25', '26', '27', '28', '29', '30', '31', '32', '33', ''], ['Maharashtra', 'Tamil Nadu', 'Karnataka', 'Uttar Pradesh', 'Gujarat', 'West Bengal', 'Rajasthan', 'Andhra Pradesh', 'Telangana', 'Madhya Pradesh', 'Kerala', 'Delhi', 'Haryana', 'Odisha', 'Bihar', 'Punjab', 'Assam', 'Chhattisgarh', 'Jharkhand', 'Uttarakhand', 'Jammu & Kashmir', 'Himachal Pradesh', 'Goa', 'Tripura', 'Chandigarh', 'Puducherry', 'Meghalaya', 'Sikkim', 'Manipur', 'Arunachal Pradesh', 'Nagaland', 'Mizoram', 'Andaman & Nicobar Islands', 'India', 'Maharashtra', 'Tamil Nadu', 'Karnataka', 'Uttar Pradesh', 'Gujarat', 'West Bengal', 'Rajasthan', 'Andhra Pradesh', 'Telangana', 'Madhya Pradesh', 'Kerala', 'Delhi', 'Haryana', 'Bihar', 'Odisha', 'Punjab', 'Assam', 'Chhattisgarh', 'Jharkhand', 'Uttarakhand', 'Jammu & Kashmir', 'Himachal Pradesh', 'Goa', 'Tripura', 'Chandigarh', 'Puducherry', 'Meghalaya', 'Manipur', 'Sikkim', 'Arunachal Pradesh', 'Nagaland', 'Mizoram', 'Andaman & Nicobar Islands', 'India'], ['-', '2,700,109', '2,500,733', '2,547,861', '-', '1,700,939', '1,524,030', '1,439,674', '1,463,960', '1,363,327', '-', '1,107,746', '1,095,535', '832,790', '-', '736,423', '565,401', '505,887', '-', '346,206', '246,465', '207,430', '-', '-', '-', '-', '47,381', '-', '-', '-', '-', '-', '-', '29,389,686', '-', '2,417,237', '2,261,867', '2,217,055', '-', '1,531,371', '1,366,626', '1,291,518', '1,326,022', '1,242,883', '-', '997,171', '985,877', '-', '749,809', '639,252', '487,584', '447,682', '-', '304,592', '200,046', '176,164', '-', '-', '-', '-', '42,214', '-', '-', '-', '-', '-', '-', '25,561,438'], ['13.17%', '8.78%', '8.38%', '8.37%', '8.17%', '5.63%', '5.06%', '4.87%', '4.76%', '4.63%', '3.96%', '3.73%', '3.68%', '2.81%', '2.76%', '2.62%', '1.74%', '1.74%', '1.52%', '1.13%', '0.82%', '0.73%', '0.36%', '0.27%', '0.20%', '0.19%', '0.16%', '0.16%', '0.16%', '0.15%', '0.13%', '0.12%', '0.04%', '23,597,399', '13.03%', '8.98%', '8.67%', '8.31%', '8.23%', '5.81%', '5.18%', '4.99%', '4.93%', '4.81%', '3.99%', '3.79%', '3.77%', '2.86%', '2.81%', '2.62%', '1.77%', '1.77%', '1.58%', '1.14%', '0.76%', '0.70%', '0.36%', '0.27%', '0.20%', '0.19%', '0.17%', '0.16%', '0.15%', '0.15%', '0.13%', '0.12%', '0.04%', '20,652,786'], ['414.928', '276.522', '264.080', '263.747', '257.484', '177.456', '159.334', '153.324', '150.084', '145.913', '124.764', '117.660', '116.001', '88.497', '86.817', '82.397', '54.930', '54.806', '47.909', '35.664', '25.813', '22.984', '11.250', '8.351', '6.154', '5.849', '5.178', '5.014', '4.885', '4.643', '4.144', '3.715', '1.385', '', '-', '1,384,921', '1,263,925', '1,206,156', '-', '791,144', '737,042', '723,343', '679,552', '579,234', '-', '590,836', '561,368', '-', '443,233', '424,857', '288,842', '279,803', '-', '186,484', '108,830', '120,733', '-', '-', '-', '-', '23,063', '-', '-', '-', '-', '-', '-', ''], ['1', '2', '3', '4', '5', '6', '7', '8', '9', '10', '11', '12', '13', '14', '15', '16', '17', '18', '19', '20', '21', '22', '23', '24', '25', '26', '27', '28', '29', '30', '31', '32', '33', '', '1', '2', '3', '4', '5', '6', '7', '8', '9', '10', '11', '12', '13', '14', '15', '16', '17', '18', '19', '20', '21', '22', '23', '24', '25', '26', '27', '28', '29', '30', '31', '32', '33', ''], ['Maharashtra', 'Tamil Nadu', 'Karnataka', 'Uttar Pradesh', 'Gujarat', 'West Bengal', 'Rajasthan', 'Andhra Pradesh', 'Telangana', 'Madhya Pradesh', 'Kerala', 'Delhi', 'Haryana', 'Odisha', 'Bihar', 'Punjab', 'Assam', 'Chhattisgarh', 'Jharkhand', 'Uttarakhand', 'Jammu & Kashmir', 'Himachal Pradesh', 'Goa', 'Tripura', 'Chandigarh', 'Puducherry', 'Meghalaya', 'Sikkim', 'Manipur', 'Arunachal Pradesh', 'Nagaland', 'Mizoram', 'Andaman & Nicobar Islands', 'India', 'Maharashtra', 'Tamil Nadu', 'Karnataka', 'Uttar Pradesh', 'Gujarat', 'West Bengal', 'Rajasthan', 'Andhra Pradesh', 'Telangana', 'Madhya Pradesh', 'Kerala', 'Delhi', 'Haryana', 'Bihar', 'Odisha', 'Punjab', 'Assam', 'Chhattisgarh', 'Jharkhand', 'Uttarakhand', 'Jammu & Kashmir', 'Himachal Pradesh', 'Goa', 'Tripura', 'Chandigarh', 'Puducherry', 'Meghalaya', 'Manipur', 'Sikkim', 'Arunachal Pradesh', 'Nagaland', 'Mizoram', 'Andaman & Nicobar Islands', 'India'], ['-', '2,700,109', '2,500,733', '2,547,861', '-', '1,700,939', '1,524,030', '1,439,674', '1,463,960', '1,363,327', '-', '1,107,746', '1,095,535', '832,790', '-', '736,423', '565,401', '505,887', '-', '346,206', '246,465', '207,430', '-', '-', '-', '-', '47,381', '-', '-', '-', '-', '-', '-', '29,389,686', '-', '2,417,237', '2,261,867', '2,217,055', '-', '1,531,371', '1,366,626', '1,291,518', '1,326,022', '1,242,883', '-', '997,171', '985,877', '-', '749,809', '639,252', '487,584', '447,682', '-', '304,592', '200,046', '176,164', '-', '-', '-', '-', '42,214', '-', '-', '-', '-', '-', '-', '25,561,438'], ['13.17%', '8.78%', '8.38%', '8.37%', '8.17%', '5.63%', '5.06%', '4.87%', '4.76%', '4.63%', '3.96%', '3.73%', '3.68%', '2.81%', '2.76%', '2.62%', '1.74%', '1.74%', '1.52%', '1.13%', '0.82%', '0.73%', '0.36%', '0.27%', '0.20%', '0.19%', '0.16%', '0.16%', '0.16%', '0.15%', '0.13%', '0.12%', '0.04%', '23,597,399', '13.03%', '8.98%', '8.67%', '8.31%', '8.23%', '5.81%', '5.18%', '4.99%', '4.93%', '4.81%', '3.99%', '3.79%', '3.77%', '2.86%', '2.81%', '2.62%', '1.77%', '1.77%', '1.58%', '1.14%', '0.76%', '0.70%', '0.36%', '0.27%', '0.20%', '0.19%', '0.17%', '0.16%', '0.15%', '0.15%', '0.13%', '0.12%', '0.04%', '20,652,786'], ['414.928', '276.522', '264.080', '263.747', '257.484', '177.456', '159.334', '153.324', '150.084', '145.913', '124.764', '117.660', '116.001', '88.497', '86.817', '82.397', '54.930', '54.806', '47.909', '35.664', '25.813', '22.984', '11.250', '8.351', '6.154', '5.849', '5.178', '5.014', '4.885', '4.643', '4.144', '3.715', '1.385', '', '-', '1,384,921', '1,263,925', '1,206,156', '-', '791,144', '737,042', '723,343', '679,552', '579,234', '-', '590,836', '561,368', '-', '443,233', '424,857', '288,842', '279,803', '-', '186,484', '108,830', '120,733', '-', '-', '-', '-', '23,063', '-', '-', '-', '-', '-', '-', ''], ['1', '2', '3', '4', '5', '6', '7', '8', '9', '10', '11', '12', '13', '14', '15', '16', '17', '18', '19', '20', '21', '22', '23', '24', '25', '26', '27', '28', '29', '30', '31', '32', '33', '', '1', '2', '3', '4', '5', '6', '7', '8', '9', '10', '11', '12', '13', '14', '15', '16', '17', '18', '19', '20', '21', '22', '23', '24', '25', '26', '27', '28', '29', '30', '31', '32', '33', ''], ['Maharashtra', 'Tamil Nadu', 'Karnataka', 'Uttar Pradesh', 'Gujarat', 'West Bengal', 'Rajasthan', 'Andhra Pradesh', 'Telangana', 'Madhya Pradesh', 'Kerala', 'Delhi', 'Haryana', 'Odisha', 'Bihar', 'Punjab', 'Assam', 'Chhattisgarh', 'Jharkhand', 'Uttarakhand', 'Jammu & Kashmir', 'Himachal Pradesh', 'Goa', 'Tripura', 'Chandigarh', 'Puducherry', 'Meghalaya', 'Sikkim', 'Manipur', 'Arunachal Pradesh', 'Nagaland', 'Mizoram', 'Andaman & Nicobar Islands', 'India', 'Maharashtra', 'Tamil Nadu', 'Karnataka', 'Uttar Pradesh', 'Gujarat', 'West Bengal', 'Rajasthan', 'Andhra Pradesh', 'Telangana', 'Madhya Pradesh', 'Kerala', 'Delhi', 'Haryana', 'Bihar', 'Odisha', 'Punjab', 'Assam', 'Chhattisgarh', 'Jharkhand', 'Uttarakhand', 'Jammu & Kashmir', 'Himachal Pradesh', 'Goa', 'Tripura', 'Chandigarh', 'Puducherry', 'Meghalaya', 'Manipur', 'Sikkim', 'Arunachal Pradesh', 'Nagaland', 'Mizoram', 'Andaman & Nicobar Islands', 'India'], ['-', '2,700,109', '2,500,733', '2,547,861', '-', '1,700,939', '1,524,030', '1,439,674', '1,463,960', '1,363,327', '-', '1,107,746', '1,095,535', '832,790', '-', '736,423', '565,401', '505,887', '-', '346,206', '246,465', '207,430', '-', '-', '-', '-', '47,381', '-', '-', '-', '-', '-', '-', '29,389,686', '-', '2,417,237', '2,261,867', '2,217,055', '-', '1,531,371', '1,366,626', '1,291,518', '1,326,022', '1,242,883', '-', '997,171', '985,877', '-', '749,809', '639,252', '487,584', '447,682', '-', '304,592', '200,046', '176,164', '-', '-', '-', '-', '42,214', '-', '-', '-', '-', '-', '-', '25,561,438'], ['13.17%', '8.78%', '8.38%', '8.37%', '8.17%', '5.63%', '5.06%', '4.87%', '4.76%', '4.63%', '3.96%', '3.73%', '3.68%', '2.81%', '2.76%', '2.62%', '1.74%', '1.74%', '1.52%', '1.13%', '0.82%', '0.73%', '0.36%', '0.27%', '0.20%', '0.19%', '0.16%', '0.16%', '0.16%', '0.15%', '0.13%', '0.12%', '0.04%', '23,597,399', '13.03%', '8.98%', '8.67%', '8.31%', '8.23%', '5.81%', '5.18%', '4.99%', '4.93%', '4.81%', '3.99%', '3.79%', '3.77%', '2.86%', '2.81%', '2.62%', '1.77%', '1.77%', '1.58%', '1.14%', '0.76%', '0.70%', '0.36%', '0.27%', '0.20%', '0.19%', '0.17%', '0.16%', '0.15%', '0.15%', '0.13%', '0.12%', '0.04%', '20,652,786'], ['414.928', '276.522', '264.080', '263.747', '257.484', '177.456', '159.334', '153.324', '150.084', '145.913', '124.764', '117.660', '116.001', '88.497', '86.817', '82.397', '54.930', '54.806', '47.909', '35.664', '25.813', '22.984', '11.250', '8.351', '6.154', '5.849', '5.178', '5.014', '4.885', '4.643', '4.144', '3.715', '1.385', '', '-', '1,384,921', '1,263,925', '1,206,156', '-', '791,144', '737,042', '723,343', '679,552', '579,234', '-', '590,836', '561,368', '-', '443,233', '424,857', '288,842', '279,803', '-', '186,484', '108,830', '120,733', '-', '-', '-', '-', '23,063', '-', '-', '-', '-', '-', '-', ''], ['1', '2', '3', '4', '5', '6', '7', '8', '9', '10', '11', '12', '13', '14', '15', '16', '17', '18', '19', '20', '21', '22', '23', '24', '25', '26', '27', '28', '29', '30', '31', '32', '33', '', '1', '2', '3', '4', '5', '6', '7', '8', '9', '10', '11', '12', '13', '14', '15', '16', '17', '18', '19', '20', '21', '22', '23', '24', '25', '26', '27', '28', '29', '30', '31', '32', '33', ''], ['Maharashtra', 'Tamil Nadu', 'Karnataka', 'Uttar Pradesh', 'Gujarat', 'West Bengal', 'Rajasthan', 'Andhra Pradesh', 'Telangana', 'Madhya Pradesh', 'Kerala', 'Delhi', 'Haryana', 'Odisha', 'Bihar', 'Punjab', 'Assam', 'Chhattisgarh', 'Jharkhand', 'Uttarakhand', 'Jammu & Kashmir', 'Himachal Pradesh', 'Goa', 'Tripura', 'Chandigarh', 'Puducherry', 'Meghalaya', 'Sikkim', 'Manipur', 'Arunachal Pradesh', 'Nagaland', 'Mizoram', 'Andaman & Nicobar Islands', 'India', 'Maharashtra', 'Tamil Nadu', 'Karnataka', 'Uttar Pradesh', 'Gujarat', 'West Bengal', 'Rajasthan', 'Andhra Pradesh', 'Telangana', 'Madhya Pradesh', 'Kerala', 'Delhi', 'Haryana', 'Bihar', 'Odisha', 'Punjab', 'Assam', 'Chhattisgarh', 'Jharkhand', 'Uttarakhand', 'Jammu & Kashmir', 'Himachal Pradesh', 'Goa', 'Tripura', 'Chandigarh', 'Puducherry', 'Meghalaya', 'Manipur', 'Sikkim', 'Arunachal Pradesh', 'Nagaland', 'Mizoram', 'Andaman & Nicobar Islands', 'India'], ['-', '2,700,109', '2,500,733', '2,547,861', '-', '1,700,939', '1,524,030', '1,439,674', '1,463,960', '1,363,327', '-', '1,107,746', '1,095,535', '832,790', '-', '736,423', '565,401', '505,887', '-', '346,206', '246,465', '207,430', '-', '-', '-', '-', '47,381', '-', '-', '-', '-', '-', '-', '29,389,686', '-', '2,417,237', '2,261,867', '2,217,055', '-', '1,531,371', '1,366,626', '1,291,518', '1,326,022', '1,242,883', '-', '997,171', '985,877', '-', '749,809', '639,252', '487,584', '447,682', '-', '304,592', '200,046', '176,164', '-', '-', '-', '-', '42,214', '-', '-', '-', '-', '-', '-', '25,561,438'], ['13.17%', '8.78%', '8.38%', '8.37%', '8.17%', '5.63%', '5.06%', '4.87%', '4.76%', '4.63%', '3.96%', '3.73%', '3.68%', '2.81%', '2.76%', '2.62%', '1.74%', '1.74%', '1.52%', '1.13%', '0.82%', '0.73%', '0.36%', '0.27%', '0.20%', '0.19%', '0.16%', '0.16%', '0.16%', '0.15%', '0.13%', '0.12%', '0.04%', '23,597,399', '13.03%', '8.98%', '8.67%', '8.31%', '8.23%', '5.81%', '5.18%', '4.99%', '4.93%', '4.81%', '3.99%', '3.79%', '3.77%', '2.86%', '2.81%', '2.62%', '1.77%', '1.77%', '1.58%', '1.14%', '0.76%', '0.70%', '0.36%', '0.27%', '0.20%', '0.19%', '0.17%', '0.16%', '0.15%', '0.15%', '0.13%', '0.12%', '0.04%', '20,652,786'], ['414.928', '276.522', '264.080', '263.747', '257.484', '177.456', '159.334', '153.324', '150.084', '145.913', '124.764', '117.660', '116.001', '88.497', '86.817', '82.397', '54.930', '54.806', '47.909', '35.664', '25.813', '22.984', '11.250', '8.351', '6.154', '5.849', '5.178', '5.014', '4.885', '4.643', '4.144', '3.715', '1.385', '', '-', '1,384,921', '1,263,925', '1,206,156', '-', '791,144', '737,042', '723,343', '679,552', '579,234', '-', '590,836', '561,368', '-', '443,233', '424,857', '288,842', '279,803', '-', '186,484', '108,830', '120,733', '-', '-', '-', '-', '23,063', '-', '-', '-', '-', '-', '-', ''], ['1', '2', '3', '4', '5', '6', '7', '8', '9', '10', '11', '12', '13', '14', '15', '16', '17', '18', '19', '20', '21', '22', '23', '24', '25', '26', '27', '28', '29', '30', '31', '32', '33', '', '1', '2', '3', '4', '5', '6', '7', '8', '9', '10', '11', '12', '13', '14', '15', '16', '17', '18', '19', '20', '21', '22', '23', '24', '25', '26', '27', '28', '29', '30', '31', '32', '33', ''], ['Maharashtra', 'Tamil Nadu', 'Karnataka', 'Uttar Pradesh', 'Gujarat', 'West Bengal', 'Rajasthan', 'Andhra Pradesh', 'Telangana', 'Madhya Pradesh', 'Kerala', 'Delhi', 'Haryana', 'Odisha', 'Bihar', 'Punjab', 'Assam', 'Chhattisgarh', 'Jharkhand', 'Uttarakhand', 'Jammu & Kashmir', 'Himachal Pradesh', 'Goa', 'Tripura', 'Chandigarh', 'Puducherry', 'Meghalaya', 'Sikkim', 'Manipur', 'Arunachal Pradesh', 'Nagaland', 'Mizoram', 'Andaman & Nicobar Islands', 'India', 'Maharashtra', 'Tamil Nadu', 'Karnataka', 'Uttar Pradesh', 'Gujarat', 'West Bengal', 'Rajasthan', 'Andhra Pradesh', 'Telangana', 'Madhya Pradesh', 'Kerala', 'Delhi', 'Haryana', 'Bihar', 'Odisha', 'Punjab', 'Assam', 'Chhattisgarh', 'Jharkhand', 'Uttarakhand', 'Jammu & Kashmir', 'Himachal Pradesh', 'Goa', 'Tripura', 'Chandigarh', 'Puducherry', 'Meghalaya', 'Manipur', 'Sikkim', 'Arunachal Pradesh', 'Nagaland', 'Mizoram', 'Andaman & Nicobar Islands', 'India'], ['-', '2,700,109', '2,500,733', '2,547,861', '-', '1,700,939', '1,524,030', '1,439,674', '1,463,960', '1,363,327', '-', '1,107,746', '1,095,535', '832,790', '-', '736,423', '565,401', '505,887', '-', '346,206', '246,465', '207,430', '-', '-', '-', '-', '47,381', '-', '-', '-', '-', '-', '-', '29,389,686', '-', '2,417,237', '2,261,867', '2,217,055', '-', '1,531,371', '1,366,626', '1,291,518', '1,326,022', '1,242,883', '-', '997,171', '985,877', '-', '749,809', '639,252', '487,584', '447,682', '-', '304,592', '200,046', '176,164', '-', '-', '-', '-', '42,214', '-', '-', '-', '-', '-', '-', '25,561,438'], ['13.17%', '8.78%', '8.38%', '8.37%', '8.17%', '5.63%', '5.06%', '4.87%', '4.76%', '4.63%', '3.96%', '3.73%', '3.68%', '2.81%', '2.76%', '2.62%', '1.74%', '1.74%', '1.52%', '1.13%', '0.82%', '0.73%', '0.36%', '0.27%', '0.20%', '0.19%', '0.16%', '0.16%', '0.16%', '0.15%', '0.13%', '0.12%', '0.04%', '23,597,399', '13.03%', '8.98%', '8.67%', '8.31%', '8.23%', '5.81%', '5.18%', '4.99%', '4.93%', '4.81%', '3.99%', '3.79%', '3.77%', '2.86%', '2.81%', '2.62%', '1.77%', '1.77%', '1.58%', '1.14%', '0.76%', '0.70%', '0.36%', '0.27%', '0.20%', '0.19%', '0.17%', '0.16%', '0.15%', '0.15%', '0.13%', '0.12%', '0.04%', '20,652,786'], ['414.928', '276.522', '264.080', '263.747', '257.484', '177.456', '159.334', '153.324', '150.084', '145.913', '124.764', '117.660', '116.001', '88.497', '86.817', '82.397', '54.930', '54.806', '47.909', '35.664', '25.813', '22.984', '11.250', '8.351', '6.154', '5.849', '5.178', '5.014', '4.885', '4.643', '4.144', '3.715', '1.385', '', '-', '1,384,921', '1,263,925', '1,206,156', '-', '791,144', '737,042', '723,343', '679,552', '579,234', '-', '590,836', '561,368', '-', '443,233', '424,857', '288,842', '279,803', '-', '186,484', '108,830', '120,733', '-', '-', '-', '-', '23,063', '-', '-', '-', '-', '-', '-', ''], ['1', '2', '3', '4', '5', '6', '7', '8', '9', '10', '11', '12', '13', '14', '15', '16', '17', '18', '19', '20', '21', '22', '23', '24', '25', '26', '27', '28', '29', '30', '31', '32', '33', '', '1', '2', '3', '4', '5', '6', '7', '8', '9', '10', '11', '12', '13', '14', '15', '16', '17', '18', '19', '20', '21', '22', '23', '24', '25', '26', '27', '28', '29', '30', '31', '32', '33', ''], ['Maharashtra', 'Tamil Nadu', 'Karnataka', 'Uttar Pradesh', 'Gujarat', 'West Bengal', 'Rajasthan', 'Andhra Pradesh', 'Telangana', 'Madhya Pradesh', 'Kerala', 'Delhi', 'Haryana', 'Odisha', 'Bihar', 'Punjab', 'Assam', 'Chhattisgarh', 'Jharkhand', 'Uttarakhand', 'Jammu & Kashmir', 'Himachal Pradesh', 'Goa', 'Tripura', 'Chandigarh', 'Puducherry', 'Meghalaya', 'Sikkim', 'Manipur', 'Arunachal Pradesh', 'Nagaland', 'Mizoram', 'Andaman & Nicobar Islands', 'India', 'Maharashtra', 'Tamil Nadu', 'Karnataka', 'Uttar Pradesh', 'Gujarat', 'West Bengal', 'Rajasthan', 'Andhra Pradesh', 'Telangana', 'Madhya Pradesh', 'Kerala', 'Delhi', 'Haryana', 'Bihar', 'Odisha', 'Punjab', 'Assam', 'Chhattisgarh', 'Jharkhand', 'Uttarakhand', 'Jammu & Kashmir', 'Himachal Pradesh', 'Goa', 'Tripura', 'Chandigarh', 'Puducherry', 'Meghalaya', 'Manipur', 'Sikkim', 'Arunachal Pradesh', 'Nagaland', 'Mizoram', 'Andaman & Nicobar Islands', 'India'], ['-', '2,700,109', '2,500,733', '2,547,861', '-', '1,700,939', '1,524,030', '1,439,674', '1,463,960', '1,363,327', '-', '1,107,746', '1,095,535', '832,790', '-', '736,423', '565,401', '505,887', '-', '346,206', '246,465', '207,430', '-', '-', '-', '-', '47,381', '-', '-', '-', '-', '-', '-', '29,389,686', '-', '2,417,237', '2,261,867', '2,217,055', '-', '1,531,371', '1,366,626', '1,291,518', '1,326,022', '1,242,883', '-', '997,171', '985,877', '-', '749,809', '639,252', '487,584', '447,682', '-', '304,592', '200,046', '176,164', '-', '-', '-', '-', '42,214', '-', '-', '-', '-', '-', '-', '25,561,438'], ['13.17%', '8.78%', '8.38%', '8.37%', '8.17%', '5.63%', '5.06%', '4.87%', '4.76%', '4.63%', '3.96%', '3.73%', '3.68%', '2.81%', '2.76%', '2.62%', '1.74%', '1.74%', '1.52%', '1.13%', '0.82%', '0.73%', '0.36%', '0.27%', '0.20%', '0.19%', '0.16%', '0.16%', '0.16%', '0.15%', '0.13%', '0.12%', '0.04%', '23,597,399', '13.03%', '8.98%', '8.67%', '8.31%', '8.23%', '5.81%', '5.18%', '4.99%', '4.93%', '4.81%', '3.99%', '3.79%', '3.77%', '2.86%', '2.81%', '2.62%', '1.77%', '1.77%', '1.58%', '1.14%', '0.76%', '0.70%', '0.36%', '0.27%', '0.20%', '0.19%', '0.17%', '0.16%', '0.15%', '0.15%', '0.13%', '0.12%', '0.04%', '20,652,786'], ['414.928', '276.522', '264.080', '263.747', '257.484', '177.456', '159.334', '153.324', '150.084', '145.913', '124.764', '117.660', '116.001', '88.497', '86.817', '82.397', '54.930', '54.806', '47.909', '35.664', '25.813', '22.984', '11.250', '8.351', '6.154', '5.849', '5.178', '5.014', '4.885', '4.643', '4.144', '3.715', '1.385', '', '-', '1,384,921', '1,263,925', '1,206,156', '-', '791,144', '737,042', '723,343', '679,552', '579,234', '-', '590,836', '561,368', '-', '443,233', '424,857', '288,842', '279,803', '-', '186,484', '108,830', '120,733', '-', '-', '-', '-', '23,063', '-', '-', '-', '-', '-', '-', ''], ['1', '2', '3', '4', '5', '6', '7', '8', '9', '10', '11', '12', '13', '14', '15', '16', '17', '18', '19', '20', '21', '22', '23', '24', '25', '26', '27', '28', '29', '30', '31', '32', '33', '', '1', '2', '3', '4', '5', '6', '7', '8', '9', '10', '11', '12', '13', '14', '15', '16', '17', '18', '19', '20', '21', '22', '23', '24', '25', '26', '27', '28', '29', '30', '31', '32', '33', ''], ['Maharashtra', 'Tamil Nadu', 'Karnataka', 'Uttar Pradesh', 'Gujarat', 'West Bengal', 'Rajasthan', 'Andhra Pradesh', 'Telangana', 'Madhya Pradesh', 'Kerala', 'Delhi', 'Haryana', 'Odisha', 'Bihar', 'Punjab', 'Assam', 'Chhattisgarh', 'Jharkhand', 'Uttarakhand', 'Jammu & Kashmir', 'Himachal Pradesh', 'Goa', 'Tripura', 'Chandigarh', 'Puducherry', 'Meghalaya', 'Sikkim', 'Manipur', 'Arunachal Pradesh', 'Nagaland', 'Mizoram', 'Andaman & Nicobar Islands', 'India', 'Maharashtra', 'Tamil Nadu', 'Karnataka', 'Uttar Pradesh', 'Gujarat', 'West Bengal', 'Rajasthan', 'Andhra Pradesh', 'Telangana', 'Madhya Pradesh', 'Kerala', 'Delhi', 'Haryana', 'Bihar', 'Odisha', 'Punjab', 'Assam', 'Chhattisgarh', 'Jharkhand', 'Uttarakhand', 'Jammu & Kashmir', 'Himachal Pradesh', 'Goa', 'Tripura', 'Chandigarh', 'Puducherry', 'Meghalaya', 'Manipur', 'Sikkim', 'Arunachal Pradesh', 'Nagaland', 'Mizoram', 'Andaman & Nicobar Islands', 'India'], ['-', '2,700,109', '2,500,733', '2,547,861', '-', '1,700,939', '1,524,030', '1,439,674', '1,463,960', '1,363,327', '-', '1,107,746', '1,095,535', '832,790', '-', '736,423', '565,401', '505,887', '-', '346,206', '246,465', '207,430', '-', '-', '-', '-', '47,381', '-', '-', '-', '-', '-', '-', '29,389,686', '-', '2,417,237', '2,261,867', '2,217,055', '-', '1,531,371', '1,366,626', '1,291,518', '1,326,022', '1,242,883', '-', '997,171', '985,877', '-', '749,809', '639,252', '487,584', '447,682', '-', '304,592', '200,046', '176,164', '-', '-', '-', '-', '42,214', '-', '-', '-', '-', '-', '-', '25,561,438'], ['13.17%', '8.78%', '8.38%', '8.37%', '8.17%', '5.63%', '5.06%', '4.87%', '4.76%', '4.63%', '3.96%', '3.73%', '3.68%', '2.81%', '2.76%', '2.62%', '1.74%', '1.74%', '1.52%', '1.13%', '0.82%', '0.73%', '0.36%', '0.27%', '0.20%', '0.19%', '0.16%', '0.16%', '0.16%', '0.15%', '0.13%', '0.12%', '0.04%', '23,597,399', '13.03%', '8.98%', '8.67%', '8.31%', '8.23%', '5.81%', '5.18%', '4.99%', '4.93%', '4.81%', '3.99%', '3.79%', '3.77%', '2.86%', '2.81%', '2.62%', '1.77%', '1.77%', '1.58%', '1.14%', '0.76%', '0.70%', '0.36%', '0.27%', '0.20%', '0.19%', '0.17%', '0.16%', '0.15%', '0.15%', '0.13%', '0.12%', '0.04%', '20,652,786'], ['414.928', '276.522', '264.080', '263.747', '257.484', '177.456', '159.334', '153.324', '150.084', '145.913', '124.764', '117.660', '116.001', '88.497', '86.817', '82.397', '54.930', '54.806', '47.909', '35.664', '25.813', '22.984', '11.250', '8.351', '6.154', '5.849', '5.178', '5.014', '4.885', '4.643', '4.144', '3.715', '1.385', '', '-', '1,384,921', '1,263,925', '1,206,156', '-', '791,144', '737,042', '723,343', '679,552', '579,234', '-', '590,836', '561,368', '-', '443,233', '424,857', '288,842', '279,803', '-', '186,484', '108,830', '120,733', '-', '-', '-', '-', '23,063', '-', '-', '-', '-', '-', '-', ''], ['1', '2', '3', '4', '5', '6', '7', '8', '9', '10', '11', '12', '13', '14', '15', '16', '17', '18', '19', '20', '21', '22', '23', '24', '25', '26', '27', '28', '29', '30', '31', '32', '33', '', '1', '2', '3', '4', '5', '6', '7', '8', '9', '10', '11', '12', '13', '14', '15', '16', '17', '18', '19', '20', '21', '22', '23', '24', '25', '26', '27', '28', '29', '30', '31', '32', '33', ''], ['Maharashtra', 'Tamil Nadu', 'Karnataka', 'Uttar Pradesh', 'Gujarat', 'West Bengal', 'Rajasthan', 'Andhra Pradesh', 'Telangana', 'Madhya Pradesh', 'Kerala', 'Delhi', 'Haryana', 'Odisha', 'Bihar', 'Punjab', 'Assam', 'Chhattisgarh', 'Jharkhand', 'Uttarakhand', 'Jammu & Kashmir', 'Himachal Pradesh', 'Goa', 'Tripura', 'Chandigarh', 'Puducherry', 'Meghalaya', 'Sikkim', 'Manipur', 'Arunachal Pradesh', 'Nagaland', 'Mizoram', 'Andaman & Nicobar Islands', 'India', 'Maharashtra', 'Tamil Nadu', 'Karnataka', 'Uttar Pradesh', 'Gujarat', 'West Bengal', 'Rajasthan', 'Andhra Pradesh', 'Telangana', 'Madhya Pradesh', 'Kerala', 'Delhi', 'Haryana', 'Bihar', 'Odisha', 'Punjab', 'Assam', 'Chhattisgarh', 'Jharkhand', 'Uttarakhand', 'Jammu & Kashmir', 'Himachal Pradesh', 'Goa', 'Tripura', 'Chandigarh', 'Puducherry', 'Meghalaya', 'Manipur', 'Sikkim', 'Arunachal Pradesh', 'Nagaland', 'Mizoram', 'Andaman & Nicobar Islands', 'India'], ['-', '2,700,109', '2,500,733', '2,547,861', '-', '1,700,939', '1,524,030', '1,439,674', '1,463,960', '1,363,327', '-', '1,107,746', '1,095,535', '832,790', '-', '736,423', '565,401', '505,887', '-', '346,206', '246,465', '207,430', '-', '-', '-', '-', '47,381', '-', '-', '-', '-', '-', '-', '29,389,686', '-', '2,417,237', '2,261,867', '2,217,055', '-', '1,531,371', '1,366,626', '1,291,518', '1,326,022', '1,242,883', '-', '997,171', '985,877', '-', '749,809', '639,252', '487,584', '447,682', '-', '304,592', '200,046', '176,164', '-', '-', '-', '-', '42,214', '-', '-', '-', '-', '-', '-', '25,561,438'], ['13.17%', '8.78%', '8.38%', '8.37%', '8.17%', '5.63%', '5.06%', '4.87%', '4.76%', '4.63%', '3.96%', '3.73%', '3.68%', '2.81%', '2.76%', '2.62%', '1.74%', '1.74%', '1.52%', '1.13%', '0.82%', '0.73%', '0.36%', '0.27%', '0.20%', '0.19%', '0.16%', '0.16%', '0.16%', '0.15%', '0.13%', '0.12%', '0.04%', '23,597,399', '13.03%', '8.98%', '8.67%', '8.31%', '8.23%', '5.81%', '5.18%', '4.99%', '4.93%', '4.81%', '3.99%', '3.79%', '3.77%', '2.86%', '2.81%', '2.62%', '1.77%', '1.77%', '1.58%', '1.14%', '0.76%', '0.70%', '0.36%', '0.27%', '0.20%', '0.19%', '0.17%', '0.16%', '0.15%', '0.15%', '0.13%', '0.12%', '0.04%', '20,652,786'], ['414.928', '276.522', '264.080', '263.747', '257.484', '177.456', '159.334', '153.324', '150.084', '145.913', '124.764', '117.660', '116.001', '88.497', '86.817', '82.397', '54.930', '54.806', '47.909', '35.664', '25.813', '22.984', '11.250', '8.351', '6.154', '5.849', '5.178', '5.014', '4.885', '4.643', '4.144', '3.715', '1.385', '', '-', '1,384,921', '1,263,925', '1,206,156', '-', '791,144', '737,042', '723,343', '679,552', '579,234', '-', '590,836', '561,368', '-', '443,233', '424,857', '288,842', '279,803', '-', '186,484', '108,830', '120,733', '-', '-', '-', '-', '23,063', '-', '-', '-', '-', '-', '-', ''], ['1', '2', '3', '4', '5', '6', '7', '8', '9', '10', '11', '12', '13', '14', '15', '16', '17', '18', '19', '20', '21', '22', '23', '24', '25', '26', '27', '28', '29', '30', '31', '32', '33', '', '1', '2', '3', '4', '5', '6', '7', '8', '9', '10', '11', '12', '13', '14', '15', '16', '17', '18', '19', '20', '21', '22', '23', '24', '25', '26', '27', '28', '29', '30', '31', '32', '33', ''], ['Maharashtra', 'Tamil Nadu', 'Karnataka', 'Uttar Pradesh', 'Gujarat', 'West Bengal', 'Rajasthan', 'Andhra Pradesh', 'Telangana', 'Madhya Pradesh', 'Kerala', 'Delhi', 'Haryana', 'Odisha', 'Bihar', 'Punjab', 'Assam', 'Chhattisgarh', 'Jharkhand', 'Uttarakhand', 'Jammu & Kashmir', 'Himachal Pradesh', 'Goa', 'Tripura', 'Chandigarh', 'Puducherry', 'Meghalaya', 'Sikkim', 'Manipur', 'Arunachal Pradesh', 'Nagaland', 'Mizoram', 'Andaman & Nicobar Islands', 'India', 'Maharashtra', 'Tamil Nadu', 'Karnataka', 'Uttar Pradesh', 'Gujarat', 'West Bengal', 'Rajasthan', 'Andhra Pradesh', 'Telangana', 'Madhya Pradesh', 'Kerala', 'Delhi', 'Haryana', 'Bihar', 'Odisha', 'Punjab', 'Assam', 'Chhattisgarh', 'Jharkhand', 'Uttarakhand', 'Jammu & Kashmir', 'Himachal Pradesh', 'Goa', 'Tripura', 'Chandigarh', 'Puducherry', 'Meghalaya', 'Manipur', 'Sikkim', 'Arunachal Pradesh', 'Nagaland', 'Mizoram', 'Andaman & Nicobar Islands', 'India'], ['-', '2,700,109', '2,500,733', '2,547,861', '-', '1,700,939', '1,524,030', '1,439,674', '1,463,960', '1,363,327', '-', '1,107,746', '1,095,535', '832,790', '-', '736,423', '565,401', '505,887', '-', '346,206', '246,465', '207,430', '-', '-', '-', '-', '47,381', '-', '-', '-', '-', '-', '-', '29,389,686', '-', '2,417,237', '2,261,867', '2,217,055', '-', '1,531,371', '1,366,626', '1,291,518', '1,326,022', '1,242,883', '-', '997,171', '985,877', '-', '749,809', '639,252', '487,584', '447,682', '-', '304,592', '200,046', '176,164', '-', '-', '-', '-', '42,214', '-', '-', '-', '-', '-', '-', '25,561,438'], ['13.17%', '8.78%', '8.38%', '8.37%', '8.17%', '5.63%', '5.06%', '4.87%', '4.76%', '4.63%', '3.96%', '3.73%', '3.68%', '2.81%', '2.76%', '2.62%', '1.74%', '1.74%', '1.52%', '1.13%', '0.82%', '0.73%', '0.36%', '0.27%', '0.20%', '0.19%', '0.16%', '0.16%', '0.16%', '0.15%', '0.13%', '0.12%', '0.04%', '23,597,399', '13.03%', '8.98%', '8.67%', '8.31%', '8.23%', '5.81%', '5.18%', '4.99%', '4.93%', '4.81%', '3.99%', '3.79%', '3.77%', '2.86%', '2.81%', '2.62%', '1.77%', '1.77%', '1.58%', '1.14%', '0.76%', '0.70%', '0.36%', '0.27%', '0.20%', '0.19%', '0.17%', '0.16%', '0.15%', '0.15%', '0.13%', '0.12%', '0.04%', '20,652,786'], ['414.928', '276.522', '264.080', '263.747', '257.484', '177.456', '159.334', '153.324', '150.084', '145.913', '124.764', '117.660', '116.001', '88.497', '86.817', '82.397', '54.930', '54.806', '47.909', '35.664', '25.813', '22.984', '11.250', '8.351', '6.154', '5.849', '5.178', '5.014', '4.885', '4.643', '4.144', '3.715', '1.385', '', '-', '1,384,921', '1,263,925', '1,206,156', '-', '791,144', '737,042', '723,343', '679,552', '579,234', '-', '590,836', '561,368', '-', '443,233', '424,857', '288,842', '279,803', '-', '186,484', '108,830', '120,733', '-', '-', '-', '-', '23,063', '-', '-', '-', '-', '-', '-', ''], ['1', '2', '3', '4', '5', '6', '7', '8', '9', '10', '11', '12', '13', '14', '15', '16', '17', '18', '19', '20', '21', '22', '23', '24', '25', '26', '27', '28', '29', '30', '31', '32', '33', '', '1', '2', '3', '4', '5', '6', '7', '8', '9', '10', '11', '12', '13', '14', '15', '16', '17', '18', '19', '20', '21', '22', '23', '24', '25', '26', '27', '28', '29', '30', '31', '32', '33', ''], ['Maharashtra', 'Tamil Nadu', 'Karnataka', 'Uttar Pradesh', 'Gujarat', 'West Bengal', 'Rajasthan', 'Andhra Pradesh', 'Telangana', 'Madhya Pradesh', 'Kerala', 'Delhi', 'Haryana', 'Odisha', 'Bihar', 'Punjab', 'Assam', 'Chhattisgarh', 'Jharkhand', 'Uttarakhand', 'Jammu & Kashmir', 'Himachal Pradesh', 'Goa', 'Tripura', 'Chandigarh', 'Puducherry', 'Meghalaya', 'Sikkim', 'Manipur', 'Arunachal Pradesh', 'Nagaland', 'Mizoram', 'Andaman & Nicobar Islands', 'India', 'Maharashtra', 'Tamil Nadu', 'Karnataka', 'Uttar Pradesh', 'Gujarat', 'West Bengal', 'Rajasthan', 'Andhra Pradesh', 'Telangana', 'Madhya Pradesh', 'Kerala', 'Delhi', 'Haryana', 'Bihar', 'Odisha', 'Punjab', 'Assam', 'Chhattisgarh', 'Jharkhand', 'Uttarakhand', 'Jammu & Kashmir', 'Himachal Pradesh', 'Goa', 'Tripura', 'Chandigarh', 'Puducherry', 'Meghalaya', 'Manipur', 'Sikkim', 'Arunachal Pradesh', 'Nagaland', 'Mizoram', 'Andaman & Nicobar Islands', 'India'], ['-', '2,700,109', '2,500,733', '2,547,861', '-', '1,700,939', '1,524,030', '1,439,674', '1,463,960', '1,363,327', '-', '1,107,746', '1,095,535', '832,790', '-', '736,423', '565,401', '505,887', '-', '346,206', '246,465', '207,430', '-', '-', '-', '-', '47,381', '-', '-', '-', '-', '-', '-', '29,389,686', '-', '2,417,237', '2,261,867', '2,217,055', '-', '1,531,371', '1,366,626', '1,291,518', '1,326,022', '1,242,883', '-', '997,171', '985,877', '-', '749,809', '639,252', '487,584', '447,682', '-', '304,592', '200,046', '176,164', '-', '-', '-', '-', '42,214', '-', '-', '-', '-', '-', '-', '25,561,438'], ['13.17%', '8.78%', '8.38%', '8.37%', '8.17%', '5.63%', '5.06%', '4.87%', '4.76%', '4.63%', '3.96%', '3.73%', '3.68%', '2.81%', '2.76%', '2.62%', '1.74%', '1.74%', '1.52%', '1.13%', '0.82%', '0.73%', '0.36%', '0.27%', '0.20%', '0.19%', '0.16%', '0.16%', '0.16%', '0.15%', '0.13%', '0.12%', '0.04%', '23,597,399', '13.03%', '8.98%', '8.67%', '8.31%', '8.23%', '5.81%', '5.18%', '4.99%', '4.93%', '4.81%', '3.99%', '3.79%', '3.77%', '2.86%', '2.81%', '2.62%', '1.77%', '1.77%', '1.58%', '1.14%', '0.76%', '0.70%', '0.36%', '0.27%', '0.20%', '0.19%', '0.17%', '0.16%', '0.15%', '0.15%', '0.13%', '0.12%', '0.04%', '20,652,786'], ['414.928', '276.522', '264.080', '263.747', '257.484', '177.456', '159.334', '153.324', '150.084', '145.913', '124.764', '117.660', '116.001', '88.497', '86.817', '82.397', '54.930', '54.806', '47.909', '35.664', '25.813', '22.984', '11.250', '8.351', '6.154', '5.849', '5.178', '5.014', '4.885', '4.643', '4.144', '3.715', '1.385', '', '-', '1,384,921', '1,263,925', '1,206,156', '-', '791,144', '737,042', '723,343', '679,552', '579,234', '-', '590,836', '561,368', '-', '443,233', '424,857', '288,842', '279,803', '-', '186,484', '108,830', '120,733', '-', '-', '-', '-', '23,063', '-', '-', '-', '-', '-', '-', ''], ['1', '2', '3', '4', '5', '6', '7', '8', '9', '10', '11', '12', '13', '14', '15', '16', '17', '18', '19', '20', '21', '22', '23', '24', '25', '26', '27', '28', '29', '30', '31', '32', '33', '', '1', '2', '3', '4', '5', '6', '7', '8', '9', '10', '11', '12', '13', '14', '15', '16', '17', '18', '19', '20', '21', '22', '23', '24', '25', '26', '27', '28', '29', '30', '31', '32', '33', ''], ['Maharashtra', 'Tamil Nadu', 'Karnataka', 'Uttar Pradesh', 'Gujarat', 'West Bengal', 'Rajasthan', 'Andhra Pradesh', 'Telangana', 'Madhya Pradesh', 'Kerala', 'Delhi', 'Haryana', 'Odisha', 'Bihar', 'Punjab', 'Assam', 'Chhattisgarh', 'Jharkhand', 'Uttarakhand', 'Jammu & Kashmir', 'Himachal Pradesh', 'Goa', 'Tripura', 'Chandigarh', 'Puducherry', 'Meghalaya', 'Sikkim', 'Manipur', 'Arunachal Pradesh', 'Nagaland', 'Mizoram', 'Andaman & Nicobar Islands', 'India', 'Maharashtra', 'Tamil Nadu', 'Karnataka', 'Uttar Pradesh', 'Gujarat', 'West Bengal', 'Rajasthan', 'Andhra Pradesh', 'Telangana', 'Madhya Pradesh', 'Kerala', 'Delhi', 'Haryana', 'Bihar', 'Odisha', 'Punjab', 'Assam', 'Chhattisgarh', 'Jharkhand', 'Uttarakhand', 'Jammu & Kashmir', 'Himachal Pradesh', 'Goa', 'Tripura', 'Chandigarh', 'Puducherry', 'Meghalaya', 'Manipur', 'Sikkim', 'Arunachal Pradesh', 'Nagaland', 'Mizoram', 'Andaman & Nicobar Islands', 'India'], ['-', '2,700,109', '2,500,733', '2,547,861', '-', '1,700,939', '1,524,030', '1,439,674', '1,463,960', '1,363,327', '-', '1,107,746', '1,095,535', '832,790', '-', '736,423', '565,401', '505,887', '-', '346,206', '246,465', '207,430', '-', '-', '-', '-', '47,381', '-', '-', '-', '-', '-', '-', '29,389,686', '-', '2,417,237', '2,261,867', '2,217,055', '-', '1,531,371', '1,366,626', '1,291,518', '1,326,022', '1,242,883', '-', '997,171', '985,877', '-', '749,809', '639,252', '487,584', '447,682', '-', '304,592', '200,046', '176,164', '-', '-', '-', '-', '42,214', '-', '-', '-', '-', '-', '-', '25,561,438'], ['13.17%', '8.78%', '8.38%', '8.37%', '8.17%', '5.63%', '5.06%', '4.87%', '4.76%', '4.63%', '3.96%', '3.73%', '3.68%', '2.81%', '2.76%', '2.62%', '1.74%', '1.74%', '1.52%', '1.13%', '0.82%', '0.73%', '0.36%', '0.27%', '0.20%', '0.19%', '0.16%', '0.16%', '0.16%', '0.15%', '0.13%', '0.12%', '0.04%', '23,597,399', '13.03%', '8.98%', '8.67%', '8.31%', '8.23%', '5.81%', '5.18%', '4.99%', '4.93%', '4.81%', '3.99%', '3.79%', '3.77%', '2.86%', '2.81%', '2.62%', '1.77%', '1.77%', '1.58%', '1.14%', '0.76%', '0.70%', '0.36%', '0.27%', '0.20%', '0.19%', '0.17%', '0.16%', '0.15%', '0.15%', '0.13%', '0.12%', '0.04%', '20,652,786'], ['414.928', '276.522', '264.080', '263.747', '257.484', '177.456', '159.334', '153.324', '150.084', '145.913', '124.764', '117.660', '116.001', '88.497', '86.817', '82.397', '54.930', '54.806', '47.909', '35.664', '25.813', '22.984', '11.250', '8.351', '6.154', '5.849', '5.178', '5.014', '4.885', '4.643', '4.144', '3.715', '1.385', '', '-', '1,384,921', '1,263,925', '1,206,156', '-', '791,144', '737,042', '723,343', '679,552', '579,234', '-', '590,836', '561,368', '-', '443,233', '424,857', '288,842', '279,803', '-', '186,484', '108,830', '120,733', '-', '-', '-', '-', '23,063', '-', '-', '-', '-', '-', '-', ''], ['1', '2', '3', '4', '5', '6', '7', '8', '9', '10', '11', '12', '13', '14', '15', '16', '17', '18', '19', '20', '21', '22', '23', '24', '25', '26', '27', '28', '29', '30', '31', '32', '33', '', '1', '2', '3', '4', '5', '6', '7', '8', '9', '10', '11', '12', '13', '14', '15', '16', '17', '18', '19', '20', '21', '22', '23', '24', '25', '26', '27', '28', '29', '30', '31', '32', '33', ''], ['Maharashtra', 'Tamil Nadu', 'Karnataka', 'Uttar Pradesh', 'Gujarat', 'West Bengal', 'Rajasthan', 'Andhra Pradesh', 'Telangana', 'Madhya Pradesh', 'Kerala', 'Delhi', 'Haryana', 'Odisha', 'Bihar', 'Punjab', 'Assam', 'Chhattisgarh', 'Jharkhand', 'Uttarakhand', 'Jammu & Kashmir', 'Himachal Pradesh', 'Goa', 'Tripura', 'Chandigarh', 'Puducherry', 'Meghalaya', 'Sikkim', 'Manipur', 'Arunachal Pradesh', 'Nagaland', 'Mizoram', 'Andaman & Nicobar Islands', 'India', 'Maharashtra', 'Tamil Nadu', 'Karnataka', 'Uttar Pradesh', 'Gujarat', 'West Bengal', 'Rajasthan', 'Andhra Pradesh', 'Telangana', 'Madhya Pradesh', 'Kerala', 'Delhi', 'Haryana', 'Bihar', 'Odisha', 'Punjab', 'Assam', 'Chhattisgarh', 'Jharkhand', 'Uttarakhand', 'Jammu & Kashmir', 'Himachal Pradesh', 'Goa', 'Tripura', 'Chandigarh', 'Puducherry', 'Meghalaya', 'Manipur', 'Sikkim', 'Arunachal Pradesh', 'Nagaland', 'Mizoram', 'Andaman & Nicobar Islands', 'India'], ['-', '2,700,109', '2,500,733', '2,547,861', '-', '1,700,939', '1,524,030', '1,439,674', '1,463,960', '1,363,327', '-', '1,107,746', '1,095,535', '832,790', '-', '736,423', '565,401', '505,887', '-', '346,206', '246,465', '207,430', '-', '-', '-', '-', '47,381', '-', '-', '-', '-', '-', '-', '29,389,686', '-', '2,417,237', '2,261,867', '2,217,055', '-', '1,531,371', '1,366,626', '1,291,518', '1,326,022', '1,242,883', '-', '997,171', '985,877', '-', '749,809', '639,252', '487,584', '447,682', '-', '304,592', '200,046', '176,164', '-', '-', '-', '-', '42,214', '-', '-', '-', '-', '-', '-', '25,561,438'], ['13.17%', '8.78%', '8.38%', '8.37%', '8.17%', '5.63%', '5.06%', '4.87%', '4.76%', '4.63%', '3.96%', '3.73%', '3.68%', '2.81%', '2.76%', '2.62%', '1.74%', '1.74%', '1.52%', '1.13%', '0.82%', '0.73%', '0.36%', '0.27%', '0.20%', '0.19%', '0.16%', '0.16%', '0.16%', '0.15%', '0.13%', '0.12%', '0.04%', '23,597,399', '13.03%', '8.98%', '8.67%', '8.31%', '8.23%', '5.81%', '5.18%', '4.99%', '4.93%', '4.81%', '3.99%', '3.79%', '3.77%', '2.86%', '2.81%', '2.62%', '1.77%', '1.77%', '1.58%', '1.14%', '0.76%', '0.70%', '0.36%', '0.27%', '0.20%', '0.19%', '0.17%', '0.16%', '0.15%', '0.15%', '0.13%', '0.12%', '0.04%', '20,652,786'], ['414.928', '276.522', '264.080', '263.747', '257.484', '177.456', '159.334', '153.324', '150.084', '145.913', '124.764', '117.660', '116.001', '88.497', '86.817', '82.397', '54.930', '54.806', '47.909', '35.664', '25.813', '22.984', '11.250', '8.351', '6.154', '5.849', '5.178', '5.014', '4.885', '4.643', '4.144', '3.715', '1.385', '', '-', '1,384,921', '1,263,925', '1,206,156', '-', '791,144', '737,042', '723,343', '679,552', '579,234', '-', '590,836', '561,368', '-', '443,233', '424,857', '288,842', '279,803', '-', '186,484', '108,830', '120,733', '-', '-', '-', '-', '23,063', '-', '-', '-', '-', '-', '-', '']]\n"
     ]
    }
   ],
   "source": [
    "print(tada3)"
   ]
  },
  {
   "cell_type": "code",
   "execution_count": 84,
   "id": "2c712770-cc7b-4c98-8e10-9aeac165fbd2",
   "metadata": {},
   "outputs": [
    {
     "data": {
      "text/html": [
       "<div>\n",
       "<style scoped>\n",
       "    .dataframe tbody tr th:only-of-type {\n",
       "        vertical-align: middle;\n",
       "    }\n",
       "\n",
       "    .dataframe tbody tr th {\n",
       "        vertical-align: top;\n",
       "    }\n",
       "\n",
       "    .dataframe thead th {\n",
       "        text-align: right;\n",
       "    }\n",
       "</style>\n",
       "<table border=\"1\" class=\"dataframe\">\n",
       "  <thead>\n",
       "    <tr style=\"text-align: right;\">\n",
       "      <th></th>\n",
       "      <th>Rank</th>\n",
       "      <th>State</th>\n",
       "      <th>GSDP(23-24)</th>\n",
       "      <th>Share</th>\n",
       "      <th>GDP($billion)</th>\n",
       "    </tr>\n",
       "  </thead>\n",
       "  <tbody>\n",
       "    <tr>\n",
       "      <th>0</th>\n",
       "      <td>1</td>\n",
       "      <td>Maharashtra</td>\n",
       "      <td>-</td>\n",
       "      <td>13.17%</td>\n",
       "      <td>414.928</td>\n",
       "    </tr>\n",
       "    <tr>\n",
       "      <th>1</th>\n",
       "      <td>2</td>\n",
       "      <td>Tamil Nadu</td>\n",
       "      <td>2,700,109</td>\n",
       "      <td>8.78%</td>\n",
       "      <td>276.522</td>\n",
       "    </tr>\n",
       "    <tr>\n",
       "      <th>2</th>\n",
       "      <td>3</td>\n",
       "      <td>Karnataka</td>\n",
       "      <td>2,500,733</td>\n",
       "      <td>8.38%</td>\n",
       "      <td>264.080</td>\n",
       "    </tr>\n",
       "    <tr>\n",
       "      <th>3</th>\n",
       "      <td>4</td>\n",
       "      <td>Uttar Pradesh</td>\n",
       "      <td>2,547,861</td>\n",
       "      <td>8.37%</td>\n",
       "      <td>263.747</td>\n",
       "    </tr>\n",
       "    <tr>\n",
       "      <th>4</th>\n",
       "      <td>5</td>\n",
       "      <td>Gujarat</td>\n",
       "      <td>-</td>\n",
       "      <td>8.17%</td>\n",
       "      <td>257.484</td>\n",
       "    </tr>\n",
       "    <tr>\n",
       "      <th>...</th>\n",
       "      <td>...</td>\n",
       "      <td>...</td>\n",
       "      <td>...</td>\n",
       "      <td>...</td>\n",
       "      <td>...</td>\n",
       "    </tr>\n",
       "    <tr>\n",
       "      <th>63</th>\n",
       "      <td>30</td>\n",
       "      <td>Arunachal Pradesh</td>\n",
       "      <td>-</td>\n",
       "      <td>0.15%</td>\n",
       "      <td>-</td>\n",
       "    </tr>\n",
       "    <tr>\n",
       "      <th>64</th>\n",
       "      <td>31</td>\n",
       "      <td>Nagaland</td>\n",
       "      <td>-</td>\n",
       "      <td>0.13%</td>\n",
       "      <td>-</td>\n",
       "    </tr>\n",
       "    <tr>\n",
       "      <th>65</th>\n",
       "      <td>32</td>\n",
       "      <td>Mizoram</td>\n",
       "      <td>-</td>\n",
       "      <td>0.12%</td>\n",
       "      <td>-</td>\n",
       "    </tr>\n",
       "    <tr>\n",
       "      <th>66</th>\n",
       "      <td>33</td>\n",
       "      <td>Andaman &amp; Nicobar Islands</td>\n",
       "      <td>-</td>\n",
       "      <td>0.04%</td>\n",
       "      <td>-</td>\n",
       "    </tr>\n",
       "    <tr>\n",
       "      <th>67</th>\n",
       "      <td></td>\n",
       "      <td>India</td>\n",
       "      <td>25,561,438</td>\n",
       "      <td>20,652,786</td>\n",
       "      <td></td>\n",
       "    </tr>\n",
       "  </tbody>\n",
       "</table>\n",
       "<p>68 rows × 5 columns</p>\n",
       "</div>"
      ],
      "text/plain": [
       "   Rank                      State GSDP(23-24)       Share GDP($billion)\n",
       "0     1                Maharashtra           -      13.17%       414.928\n",
       "1     2                 Tamil Nadu   2,700,109       8.78%       276.522\n",
       "2     3                  Karnataka   2,500,733       8.38%       264.080\n",
       "3     4              Uttar Pradesh   2,547,861       8.37%       263.747\n",
       "4     5                    Gujarat           -       8.17%       257.484\n",
       "..  ...                        ...         ...         ...           ...\n",
       "63   30          Arunachal Pradesh           -       0.15%             -\n",
       "64   31                   Nagaland           -       0.13%             -\n",
       "65   32                    Mizoram           -       0.12%             -\n",
       "66   33  Andaman & Nicobar Islands           -       0.04%             -\n",
       "67                           India  25,561,438  20,652,786              \n",
       "\n",
       "[68 rows x 5 columns]"
      ]
     },
     "execution_count": 84,
     "metadata": {},
     "output_type": "execute_result"
    }
   ],
   "source": [
    "df=pd.DataFrame({'Rank':rod,'State':roe,'GSDP(23-24)':rof,'Share':rog,'GDP($billion)':roh})\n",
    "df"
   ]
  },
  {
   "cell_type": "code",
   "execution_count": null,
   "id": "51e449b9-df81-44fc-9ea8-ca86f46fb618",
   "metadata": {},
   "outputs": [],
   "source": []
  },
  {
   "cell_type": "markdown",
   "id": "c2cc8449-69a6-461d-a674-db4a24887cba",
   "metadata": {},
   "source": [
    "4."
   ]
  },
  {
   "cell_type": "code",
   "execution_count": 1,
   "id": "6ea6fa71-a804-424a-8d86-bb1d02674e2d",
   "metadata": {},
   "outputs": [
    {
     "name": "stdout",
     "output_type": "stream",
     "text": [
      "Requirement already satisfied: selenium in c:\\users\\a k sharma\\anaconda3\\lib\\site-packages (4.21.0)\n",
      "Requirement already satisfied: urllib3<3,>=1.26 in c:\\users\\a k sharma\\anaconda3\\lib\\site-packages (from urllib3[socks]<3,>=1.26->selenium) (2.0.7)\n",
      "Requirement already satisfied: trio~=0.17 in c:\\users\\a k sharma\\anaconda3\\lib\\site-packages (from selenium) (0.25.1)\n",
      "Requirement already satisfied: trio-websocket~=0.9 in c:\\users\\a k sharma\\anaconda3\\lib\\site-packages (from selenium) (0.11.1)\n",
      "Requirement already satisfied: certifi>=2021.10.8 in c:\\users\\a k sharma\\anaconda3\\lib\\site-packages (from selenium) (2024.2.2)\n",
      "Requirement already satisfied: typing_extensions>=4.9.0 in c:\\users\\a k sharma\\anaconda3\\lib\\site-packages (from selenium) (4.9.0)\n",
      "Requirement already satisfied: attrs>=23.2.0 in c:\\users\\a k sharma\\anaconda3\\lib\\site-packages (from trio~=0.17->selenium) (23.2.0)\n",
      "Requirement already satisfied: sortedcontainers in c:\\users\\a k sharma\\anaconda3\\lib\\site-packages (from trio~=0.17->selenium) (2.4.0)\n",
      "Requirement already satisfied: idna in c:\\users\\a k sharma\\anaconda3\\lib\\site-packages (from trio~=0.17->selenium) (3.4)\n",
      "Requirement already satisfied: outcome in c:\\users\\a k sharma\\anaconda3\\lib\\site-packages (from trio~=0.17->selenium) (1.3.0.post0)\n",
      "Requirement already satisfied: sniffio>=1.3.0 in c:\\users\\a k sharma\\anaconda3\\lib\\site-packages (from trio~=0.17->selenium) (1.3.0)\n",
      "Requirement already satisfied: cffi>=1.14 in c:\\users\\a k sharma\\anaconda3\\lib\\site-packages (from trio~=0.17->selenium) (1.16.0)\n",
      "Requirement already satisfied: wsproto>=0.14 in c:\\users\\a k sharma\\anaconda3\\lib\\site-packages (from trio-websocket~=0.9->selenium) (1.2.0)\n",
      "Requirement already satisfied: pysocks!=1.5.7,<2.0,>=1.5.6 in c:\\users\\a k sharma\\anaconda3\\lib\\site-packages (from urllib3[socks]<3,>=1.26->selenium) (1.7.1)\n",
      "Requirement already satisfied: pycparser in c:\\users\\a k sharma\\anaconda3\\lib\\site-packages (from cffi>=1.14->trio~=0.17->selenium) (2.21)\n",
      "Requirement already satisfied: h11<1,>=0.9.0 in c:\\users\\a k sharma\\anaconda3\\lib\\site-packages (from wsproto>=0.14->trio-websocket~=0.9->selenium) (0.14.0)\n",
      "Note: you may need to restart the kernel to use updated packages.\n"
     ]
    }
   ],
   "source": [
    "pip install selenium"
   ]
  },
  {
   "cell_type": "code",
   "execution_count": 2,
   "id": "9e9daf67-e587-430b-a53c-157b352ef8c3",
   "metadata": {},
   "outputs": [],
   "source": [
    "import selenium\n",
    "import pandas as pd\n",
    "from selenium import webdriver\n",
    "import warnings\n",
    "warnings.filterwarnings('ignore')\n",
    "from selenium.webdriver.common.by import By\n",
    "import time"
   ]
  },
  {
   "cell_type": "code",
   "execution_count": 3,
   "id": "8b25b6b6-7a20-418c-b96c-ebbbce1605d6",
   "metadata": {},
   "outputs": [],
   "source": [
    "driver=webdriver.Chrome()"
   ]
  },
  {
   "cell_type": "code",
   "execution_count": 4,
   "id": "c3e4754e-f0f9-4781-b3bc-c8a34bd6bd0d",
   "metadata": {},
   "outputs": [],
   "source": [
    "driver.get(\"https://github.com/\")"
   ]
  },
  {
   "cell_type": "code",
   "execution_count": 5,
   "id": "44a7a86b-0af3-47d0-a04c-12e2fd25269d",
   "metadata": {},
   "outputs": [],
   "source": [
    "menu=driver.find_element(By.XPATH,'/html/body/div[1]/div[1]/header/div/div[1]/deferred-side-panel/include-fragment/button')\n",
    "menu.click()"
   ]
  },
  {
   "cell_type": "code",
   "execution_count": 6,
   "id": "68176eac-64b4-4a1c-b1f9-0a4334726f81",
   "metadata": {},
   "outputs": [],
   "source": [
    "ex=driver.find_element(By.XPATH,'/html/body/div[1]/div[1]/header/div/div[1]/deferred-side-panel/include-fragment/dialog-helper/dialog/scrollable-region/div/div[1]/nav/nav-list/ul/li[8]/a/span[2]')\n",
    "ex.click()"
   ]
  },
  {
   "cell_type": "code",
   "execution_count": 7,
   "id": "a4ea81cf-2040-40c6-8817-276257890cdf",
   "metadata": {},
   "outputs": [],
   "source": [
    "tr=driver.find_element(By.XPATH,'/html/body/div[1]/div[5]/main/div[1]/nav/div/a[3]')\n",
    "tr.click()"
   ]
  },
  {
   "cell_type": "code",
   "execution_count": 10,
   "id": "68c60f52-a0f6-456a-9ea2-38dc139c0833",
   "metadata": {},
   "outputs": [],
   "source": [
    "rt=[]\n",
    "rd=[]\n",
    "cc=[]\n",
    "lu=[]"
   ]
  },
  {
   "cell_type": "code",
   "execution_count": 11,
   "id": "4805e08b-8afe-4bdd-86bb-61a428d20695",
   "metadata": {},
   "outputs": [],
   "source": [
    "try:\n",
    "    ret=driver.find_elements(By.XPATH,'//a[@class=\"Link\"]')\n",
    "    if ret:\n",
    "        for i in ret:\n",
    "            rt.append(i.text)\n",
    "    else:\n",
    "        rt.append('-')\n",
    "except Exception as e:\n",
    "    print(\"Error processing repository title: {e}\")\n",
    "    rt.append('-')\n",
    "\n",
    "try:\n",
    "    red=driver.find_elements(By.XPATH,'//p[@class=\"col-9 color-fg-muted my-1 pr-4\"]')\n",
    "    if red:\n",
    "        for i in red:\n",
    "            rd.append(i.text)\n",
    "    else:\n",
    "        rd.append('-')\n",
    "except Exception as e:\n",
    "    print(\"Error processing repository description: {e}\")\n",
    "    rd.append('-')\n",
    "\n",
    "try:\n",
    "    coc=driver.find_elements(By.XPATH,'//span[@class=\"d-inline-block mr-3\"]')\n",
    "    if coc:\n",
    "        for span in coc:\n",
    "            noa=span.find_elements(By.TAG_NAME,'a')\n",
    "            count=len(noa)\n",
    "        cc.append(count)\n",
    "    else:\n",
    "        cc.append('-')\n",
    "except Exception as e:\n",
    "    print(\"Error processing contributors count: {e}\")\n",
    "    cc.append('-')\n",
    "\n",
    "try:\n",
    "    lau=driver.find_elements(By.XPATH,'//span[@class=\"d-inline-block ml-0 mr-3\"]')\n",
    "    if lau:\n",
    "        for i in lau:\n",
    "            lu.append(i.text)\n",
    "    else:\n",
    "        lu.append('-')\n",
    "except Exception as e:\n",
    "    print(\"Error processing language used: {e}\")\n",
    "    lu.append('-')"
   ]
  },
  {
   "cell_type": "code",
   "execution_count": 12,
   "id": "294afee1-e226-481b-9a58-151dbcb92866",
   "metadata": {},
   "outputs": [
    {
     "name": "stdout",
     "output_type": "stream",
     "text": [
      "['sindresorhus / awesome', 'leanprover / lean4', 'freeCodeCamp / freeCodeCamp', 'facebook / folly', 'drawdb-io / drawdb', 'meta-llama / llama3', 'ollama / ollama', 'lobehub / lobe-chat', 'gabime / spdlog', 'jgthms / bulma', 'DarkFlippers / unleashed-firmware', 'alpkeskin / mosint', 'ollama / ollama-python', 'opendatalab / MinerU', 'jwasham / coding-interview-university', 'freeCodeCamp / devdocs', 'lz4 / lz4'] ['😎 Awesome lists about all kinds of interesting topics', 'Lean 4 programming language and theorem prover', \"freeCodeCamp.org's open-source codebase and curriculum. Learn to code for free.\", 'An open-source C++ library developed and used at Facebook.', 'Free, simple, and intuitive online database design tool and SQL generator.', 'The official Meta Llama 3 GitHub site', 'Get up and running with Llama 3.1, Mistral, Gemma 2, and other large language models.', '🤯 Lobe Chat - an open-source, modern-design LLMs/AI chat framework. Supports Multi AI Providers( OpenAI / Claude 3 / Gemini / Ollama / Bedrock / Azure / Mistral / Perplexity ), Multi-Modals (Vision/TTS) and plugin system. One-click FREE deployment of your private ChatGPT chat application.', 'Fast C++ logging library.', 'Modern CSS framework based on Flexbox', 'Flipper Zero Unleashed Firmware', 'An automated e-mail OSINT tool', 'Ollama Python library', 'A one-stop, open-source, high-quality data extraction tool, supports PDF/webpage/e-book extraction.一站式开源高质量数据提取工具，支持PDF/网页/多格式电子书提取。', 'A complete computer science study plan to become a software engineer.', 'API Documentation Browser', 'Extremely Fast Compression algorithm'] [5] ['Lean', 'TypeScript', 'C++', 'JavaScript', 'Python', 'Go', 'TypeScript', 'C++', 'CSS', 'C', 'Go', 'Python', 'Python', 'Ruby', 'C']\n"
     ]
    }
   ],
   "source": [
    "print(rt,rd,cc,lu)"
   ]
  },
  {
   "cell_type": "code",
   "execution_count": null,
   "id": "f127e5ee-0f3e-4dc8-90ce-4b63e8288dc3",
   "metadata": {},
   "outputs": [],
   "source": []
  },
  {
   "cell_type": "markdown",
   "id": "87a0800e-c4d2-4c6f-ba1f-fb2a4d2a0160",
   "metadata": {},
   "source": [
    "5."
   ]
  },
  {
   "cell_type": "code",
   "execution_count": 2,
   "id": "76ca82cf-6ab0-485d-9bd6-adda812be28c",
   "metadata": {},
   "outputs": [
    {
     "name": "stdout",
     "output_type": "stream",
     "text": [
      "Requirement already satisfied: selenium in c:\\users\\a k sharma\\anaconda3\\lib\\site-packages (4.21.0)\n",
      "Requirement already satisfied: urllib3<3,>=1.26 in c:\\users\\a k sharma\\anaconda3\\lib\\site-packages (from urllib3[socks]<3,>=1.26->selenium) (2.0.7)\n",
      "Requirement already satisfied: trio~=0.17 in c:\\users\\a k sharma\\anaconda3\\lib\\site-packages (from selenium) (0.25.1)\n",
      "Requirement already satisfied: trio-websocket~=0.9 in c:\\users\\a k sharma\\anaconda3\\lib\\site-packages (from selenium) (0.11.1)\n",
      "Requirement already satisfied: certifi>=2021.10.8 in c:\\users\\a k sharma\\anaconda3\\lib\\site-packages (from selenium) (2024.2.2)\n",
      "Requirement already satisfied: typing_extensions>=4.9.0 in c:\\users\\a k sharma\\anaconda3\\lib\\site-packages (from selenium) (4.9.0)\n",
      "Requirement already satisfied: attrs>=23.2.0 in c:\\users\\a k sharma\\anaconda3\\lib\\site-packages (from trio~=0.17->selenium) (23.2.0)\n",
      "Requirement already satisfied: sortedcontainers in c:\\users\\a k sharma\\anaconda3\\lib\\site-packages (from trio~=0.17->selenium) (2.4.0)\n",
      "Requirement already satisfied: idna in c:\\users\\a k sharma\\anaconda3\\lib\\site-packages (from trio~=0.17->selenium) (3.4)\n",
      "Requirement already satisfied: outcome in c:\\users\\a k sharma\\anaconda3\\lib\\site-packages (from trio~=0.17->selenium) (1.3.0.post0)\n",
      "Requirement already satisfied: sniffio>=1.3.0 in c:\\users\\a k sharma\\anaconda3\\lib\\site-packages (from trio~=0.17->selenium) (1.3.0)\n",
      "Requirement already satisfied: cffi>=1.14 in c:\\users\\a k sharma\\anaconda3\\lib\\site-packages (from trio~=0.17->selenium) (1.16.0)\n",
      "Requirement already satisfied: wsproto>=0.14 in c:\\users\\a k sharma\\anaconda3\\lib\\site-packages (from trio-websocket~=0.9->selenium) (1.2.0)\n",
      "Requirement already satisfied: pysocks!=1.5.7,<2.0,>=1.5.6 in c:\\users\\a k sharma\\anaconda3\\lib\\site-packages (from urllib3[socks]<3,>=1.26->selenium) (1.7.1)\n",
      "Requirement already satisfied: pycparser in c:\\users\\a k sharma\\anaconda3\\lib\\site-packages (from cffi>=1.14->trio~=0.17->selenium) (2.21)\n",
      "Requirement already satisfied: h11<1,>=0.9.0 in c:\\users\\a k sharma\\anaconda3\\lib\\site-packages (from wsproto>=0.14->trio-websocket~=0.9->selenium) (0.14.0)\n",
      "Note: you may need to restart the kernel to use updated packages.\n"
     ]
    }
   ],
   "source": [
    "pip install selenium"
   ]
  },
  {
   "cell_type": "code",
   "execution_count": 3,
   "id": "69dfbf6c-2924-452e-950a-f64a82d5e4e5",
   "metadata": {},
   "outputs": [],
   "source": [
    "import selenium\n",
    "import pandas as pd\n",
    "from selenium import webdriver\n",
    "import warnings\n",
    "warnings.filterwarnings('ignore')\n",
    "from selenium.webdriver.common.by import By\n",
    "import time"
   ]
  },
  {
   "cell_type": "code",
   "execution_count": 4,
   "id": "3449724d-bbd3-4ec2-9f76-6f799749b76d",
   "metadata": {},
   "outputs": [],
   "source": [
    "driver=webdriver.Chrome()"
   ]
  },
  {
   "cell_type": "code",
   "execution_count": 5,
   "id": "2aa2e606-219a-463c-add8-e7d68a06ad0a",
   "metadata": {},
   "outputs": [],
   "source": [
    "driver.get(\"https:/www.billboard.com/\")"
   ]
  },
  {
   "cell_type": "code",
   "execution_count": 7,
   "id": "87334aee-7d19-45cb-9a83-09407315a47d",
   "metadata": {},
   "outputs": [],
   "source": [
    "hot=driver.find_element(By.XPATH,'/html/body/div[3]/header/div/div[3]/div/nav/ul/li[1]/a')\n",
    "hot.click()"
   ]
  },
  {
   "cell_type": "code",
   "execution_count": 8,
   "id": "199093c4-0a5f-4ad7-b45b-edfb73c3e1f7",
   "metadata": {},
   "outputs": [],
   "source": [
    "sn=[]\n",
    "an=[]\n",
    "lwr=[]\n",
    "pr=[]\n",
    "wob=[]"
   ]
  },
  {
   "cell_type": "code",
   "execution_count": 9,
   "id": "b597fa3a-191f-416b-b139-c63430aeb1ba",
   "metadata": {},
   "outputs": [],
   "source": [
    "son=driver.find_elements(By.XPATH,'//li[@class=\"lrv-u-width-100p\"]/ul/li/h3')\n",
    "for i in son:\n",
    "    sn.append(i.text)\n",
    "\n",
    "arn=driver.find_elements(By.XPATH,'//span[@class=\"c-label  a-no-trucate a-font-primary-s lrv-u-font-size-14@mobile-max u-line-height-normal@mobile-max u-letter-spacing-0021 lrv-u-display-block a-truncate-ellipsis-2line u-max-width-330 u-max-width-230@tablet-only u-font-size-20@tablet\"]')\n",
    "for i in arn:\n",
    "    an.append(i.text)\n",
    "\n",
    "lw=driver.find_elements(By.XPATH,'//li[@class=\"o-chart-results-list__item // a-chart-color u-width-72 u-width-55@mobile-max u-width-55@tablet-only lrv-u-flex lrv-u-flex-shrink-0 lrv-u-align-items-center lrv-u-justify-content-center lrv-u-border-b-1 u-border-b-0@mobile-max lrv-u-border-color-grey-light u-background-color-white-064@mobile-max u-hidden@mobile-max\"][1]/span')\n",
    "for i in lw:\n",
    "    lwr.append(i.text)\n",
    "\n",
    "per=driver.find_elements(By.XPATH,'//li[@class=\"o-chart-results-list__item // a-chart-bg-color a-chart-color u-width-72 u-width-55@mobile-max u-width-55@tablet-only lrv-u-flex lrv-u-flex-shrink-0 lrv-u-align-items-center lrv-u-justify-content-center lrv-u-background-color-grey-lightest lrv-u-border-b-1 u-border-b-0@mobile-max lrv-u-border-color-grey-light u-hidden@mobile-max\"][2]')\n",
    "for i in per:\n",
    "    pr.append(i.text)\n",
    "\n",
    "wo=driver.find_elements(By.XPATH,'//li[@class=\"o-chart-results-list__item // a-chart-color u-width-72 u-width-55@mobile-max u-width-55@tablet-only lrv-u-flex lrv-u-flex-shrink-0 lrv-u-align-items-center lrv-u-justify-content-center lrv-u-border-b-1 u-border-b-0@mobile-max lrv-u-border-color-grey-light u-background-color-white-064@mobile-max u-hidden@mobile-max\"][2]/span')\n",
    "for i in wo:\n",
    "    wob.append(i.text)"
   ]
  },
  {
   "cell_type": "code",
   "execution_count": 10,
   "id": "c18d658f-ac7d-45a6-8fc1-efd69ca3432f",
   "metadata": {},
   "outputs": [
    {
     "name": "stdout",
     "output_type": "stream",
     "text": [
      "['A Bar Song (Tipsy)', 'I Had Some Help', 'Not Like Us', 'Million Dollar Baby', 'Espresso', 'Please Please Please', 'Too Sweet', 'Lose Control', 'Beautiful Things', 'Houdini', 'Good Luck, Babe!', 'Lies Lies Lies', 'Birds Of A Feather', 'Cowgirls', 'Pink Skies', '28', 'Fortnight', 'Like That', 'Habits', 'Renaissance', 'Fuel', 'Saturn', 'Miles On It', 'Tobey', 'Brand New Dance', 'Austin', 'Somebody Save Me', 'High Road', 'I Remember Everything', 'Evil', 'Trouble', \"Ain't No Love In Oklahoma\", 'Pour Me A Drink', 'Wanna Be', \"We Can't Be Friends (Wait For Your Love)\", 'Lunch', 'Lucifer', 'Feather', 'Antichrist', 'Hot To Go!', 'Si Antes Te Hubiera Conocido', 'Whiskey Whiskey', 'I Can Do It With A Broken Heart', 'Stick Season', 'Guilty Conscience 2', 'I Am Not Okay', 'TGIF', 'Lovin On Me', 'Slow It Down', 'Yeah Glo!', 'Mamushi', 'You Look Like You Love Me', 'Gata Only', 'Bulletproof', 'Stargazing', 'Temporary', 'American Nights', 'Devil Is A Lie', 'Road Rage', 'Tough', 'Dirt Cheap', 'Did It First', \"Woman's World\", 'BAND4BAND', 'Red Wine Supernova', 'Pink Pony Club', 'Illusion', 'Kehlani', 'Bad One', 'Get It Sexyy', 'Nights Like This', 'Head Honcho', 'I Like The Way You Kiss Me', 'Type Shit', 'Euphoria', 'One Of Wun', 'Chihiro', '360', 'We Ride', 'Nasty', 'The Door', 'The Boy Is Mine', \"Wind Up Missin' You\", 'Better Days', 'Wildflower', 'PJ', 'U My Everything', 'Scared To Start', 'Si No Quieres No', 'Casual', 'Indifferent', 'Chevrolet', 'Girls', 'Hang Tight Honey', 'Oak Island', 'Bass Boat', \"Think I'm In Love With You\", 'Beautiful As You', 'Sweet Dreams', 'Sandpaper'] ['Shaboozey'] ['2', '3', '1', '4', '5', '6', '8', '10', '9', '18', '13', '7', '11', '15', '12', '14', '16', '17', '-', '-', '-', '19', '20', '27', '-', '23', '-', '36', '22', '-', '-', '31', '25', '26', '24', '28', '-', '30', '-', '39', '44', '29', '65', '37', '-', '34', '32', '35', '42', '38', '45', '40', '43', '51', '47', '-', '21', '41', '-', '33', '50', '-', '-', '53', '55', '59', '63', '62', '-', '52', '54', '-', '64', '66', '60', '72', '70', '79', '56', '67', '80', '68', '75', '46', '85', '-', '76', '81', '82', '90', '-', '89', '77', '86', '48', '61', '87', '95', '88', '71'] ['1', '1', '1', '2', '3', '1', '1', '1', '2', '2', '10', '7', '9', '12', '6', '14', '1', '1', '19', '20', '21', '6', '20', '24', '25', '19', '27', '27', '1', '30', '31', '23', '12', '11', '1', '5', '37', '21', '39', '35', '34', '21', '3', '9', '45', '29', '28', '1', '34', '28', '45', '36', '27', '37', '41', '56', '21', '32', '59', '33', '43', '62', '63', '18', '46', '56', '43', '52', '69', '20', '47', '72', '12', '2', '3', '26', '12', '73', '56', '61', '76', '16', '63', '46', '17', '86', '44', '54', '53', '82', '91', '89', '51', '86', '48', '61', '49', '83', '35', '71'] ['14', '10', '11', '12', '14', '6', '17', '49', '26', '7', '15', '2', '9', '31', '8', '2', '13', '17', '1', '1', '1', '21', '11', '3', '1', '19', '1', '6', '47', '1', '1', '9', '4', '15', '19', '9', '1', '33', '1', '7', '4', '5', '13', '42', '1', '5', '4', '36', '17', '23', '3', '4', '18', '15', '10', '1', '2', '5', '1', '2', '13', '1', '1', '8', '7', '5', '14', '4', '1', '18', '4', '1', '17', '17', '12', '10', '9', '6', '15', '7', '7', '11', '16', '2', '9', '1', '8', '22', '11', '4', '1', '5', '3', '5', '2', '2', '11', '6', '9', '2']\n"
     ]
    }
   ],
   "source": [
    "print(sn,an,lwr,pr,wob)"
   ]
  },
  {
   "cell_type": "code",
   "execution_count": null,
   "id": "95efaafc-272a-43a5-bf86-1d897efbcf45",
   "metadata": {},
   "outputs": [],
   "source": []
  },
  {
   "cell_type": "markdown",
   "id": "e0eb20cc-4467-4251-aa0b-c911c17a6142",
   "metadata": {},
   "source": [
    "OR"
   ]
  },
  {
   "cell_type": "code",
   "execution_count": 11,
   "id": "31aca1eb-c55d-4756-84eb-c8d8120576e2",
   "metadata": {},
   "outputs": [],
   "source": [
    "sona=[]\n",
    "restdetails=[]"
   ]
  },
  {
   "cell_type": "code",
   "execution_count": 12,
   "id": "55359cb7-4f69-4fdc-b43c-29355c7b6af8",
   "metadata": {},
   "outputs": [],
   "source": [
    "song=driver.find_elements(By.XPATH,'//li[@class=\"lrv-u-width-100p\"]/ul/li/h3')\n",
    "for i in song:\n",
    "    sona.append(i.text)\n",
    "\n",
    "rd=driver.find_elements(By.XPATH,'//li[@class=\"lrv-u-width-100p\"]/ul/li/span')\n",
    "for i in rd:\n",
    "    restdetails.append(i.text)"
   ]
  },
  {
   "cell_type": "code",
   "execution_count": 13,
   "id": "7c0859c7-8e89-4349-9bd8-a051b657fe40",
   "metadata": {},
   "outputs": [
    {
     "name": "stdout",
     "output_type": "stream",
     "text": [
      "['A Bar Song (Tipsy)', 'I Had Some Help', 'Not Like Us', 'Million Dollar Baby', 'Espresso', 'Please Please Please', 'Too Sweet', 'Lose Control', 'Beautiful Things', 'Houdini', 'Good Luck, Babe!', 'Lies Lies Lies', 'Birds Of A Feather', 'Cowgirls', 'Pink Skies', '28', 'Fortnight', 'Like That', 'Habits', 'Renaissance', 'Fuel', 'Saturn', 'Miles On It', 'Tobey', 'Brand New Dance', 'Austin', 'Somebody Save Me', 'High Road', 'I Remember Everything', 'Evil', 'Trouble', \"Ain't No Love In Oklahoma\", 'Pour Me A Drink', 'Wanna Be', \"We Can't Be Friends (Wait For Your Love)\", 'Lunch', 'Lucifer', 'Feather', 'Antichrist', 'Hot To Go!', 'Si Antes Te Hubiera Conocido', 'Whiskey Whiskey', 'I Can Do It With A Broken Heart', 'Stick Season', 'Guilty Conscience 2', 'I Am Not Okay', 'TGIF', 'Lovin On Me', 'Slow It Down', 'Yeah Glo!', 'Mamushi', 'You Look Like You Love Me', 'Gata Only', 'Bulletproof', 'Stargazing', 'Temporary', 'American Nights', 'Devil Is A Lie', 'Road Rage', 'Tough', 'Dirt Cheap', 'Did It First', \"Woman's World\", 'BAND4BAND', 'Red Wine Supernova', 'Pink Pony Club', 'Illusion', 'Kehlani', 'Bad One', 'Get It Sexyy', 'Nights Like This', 'Head Honcho', 'I Like The Way You Kiss Me', 'Type Shit', 'Euphoria', 'One Of Wun', 'Chihiro', '360', 'We Ride', 'Nasty', 'The Door', 'The Boy Is Mine', \"Wind Up Missin' You\", 'Better Days', 'Wildflower', 'PJ', 'U My Everything', 'Scared To Start', 'Si No Quieres No', 'Casual', 'Indifferent', 'Chevrolet', 'Girls', 'Hang Tight Honey', 'Oak Island', 'Bass Boat', \"Think I'm In Love With You\", 'Beautiful As You', 'Sweet Dreams', 'Sandpaper'] ['Shaboozey', '2', '1', '14', 'Post Malone Featuring Morgan Wallen', '3', '1', '10', 'Kendrick Lamar', '1', '1', '11', 'Tommy Richman', '4', '2', '12', 'Sabrina Carpenter', '5', '3', '14', 'Sabrina Carpenter', '6', '1', '6', 'Hozier', '8', '1', '17', 'Teddy Swims', '10', '1', '49', 'Benson Boone', '9', '2', '26', 'Eminem', '18', '2', '7', 'Chappell Roan', '13', '10', '15', 'Morgan Wallen', '7', '7', '2', 'Billie Eilish', '11', '9', '9', 'Morgan Wallen Featuring ERNEST', '15', '12', '31', 'Zach Bryan', '12', '6', '8', 'Zach Bryan', '14', '14', '2', 'Taylor Swift Featuring Post Malone', '16', '1', '13', 'Future, Metro Boomin & Kendrick Lamar', '17', '1', '17', 'Eminem & White Gold', '-', '19', '1', 'Eminem', '-', '20', '1', 'Eminem & JID', '-', '21', '1', 'SZA', '19', '6', '21', 'Marshmello & Kane Brown', '20', '20', '11', 'Eminem, Big Sean & BabyTron', '27', '24', '3', 'Eminem', '-', '25', '1', 'Dasha', '23', '19', '19', 'Eminem & Jelly Roll', '-', '27', '1', 'Koe Wetzel & Jessie Murph', '36', '27', '6', 'Zach Bryan Featuring Kacey Musgraves', '22', '1', '47', 'Eminem', '-', '30', '1', 'Eminem', '-', '31', '1', 'Luke Combs', '31', '23', '9', 'Post Malone Featuring Blake Shelton', '25', '12', '4', 'GloRilla & Megan Thee Stallion', '26', '11', '15', 'Ariana Grande', '24', '1', '19', 'Billie Eilish', '28', '5', '9', 'Eminem & Sly Pyper', '-', '37', '1', 'Sabrina Carpenter', '30', '21', '33', 'Eminem', '-', '39', '1', 'Chappell Roan', '39', '35', '7', 'Karol G', '44', '34', '4', 'Moneybagg Yo Featuring Morgan Wallen', '29', '21', '5', 'Taylor Swift', '65', '3', '13', 'Noah Kahan', '37', '9', '42', 'Eminem', '-', '45', '1', 'Jelly Roll', '34', '29', '5', 'GloRilla', '32', '28', '4', 'Jack Harlow', '35', '1', '36', 'Benson Boone', '42', '34', '17', 'GloRilla', '38', '28', '23', 'Megan Thee Stallion Featuring Yuki Chiba', '45', '45', '3', 'Ella Langley Featuring Riley Green', '40', '36', '4', 'FloyyMenor X Cris Mj', '43', '27', '18', 'Nate Smith', '51', '37', '15', 'Myles Smith', '47', '41', '10', 'Eminem & Skylar Grey', '-', '56', '1', 'Zach Bryan', '21', '21', '2', 'Tommy Richman', '41', '32', '5', 'Eminem, Dem Jointz & Sly Pyper', '-', '59', '1', 'Quavo & Lana Del Rey', '33', '33', '2', 'Cody Johnson', '50', '43', '13', 'Ice Spice & Central Cee', '-', '62', '1', 'Katy Perry', '-', '63', '1', 'Central Cee & Lil Baby', '53', '18', '8', 'Chappell Roan', '55', '46', '7', 'Chappell Roan', '59', '56', '5', 'Dua Lipa', '63', '43', '14', 'Jordan Adetunji', '62', '52', '4', 'Eminem & White Gold', '-', '69', '1', 'Sexyy Red', '52', '20', '18', 'The Kid LAROI', '54', '47', '4', 'Eminem & Ez Mil', '-', '72', '1', 'Artemas', '64', '12', '17', 'Future, Metro Boomin, Travis Scott & Playboi Carti', '66', '2', '17', 'Kendrick Lamar', '60', '3', '12', 'Gunna', '72', '26', '10', 'Billie Eilish', '70', '12', '9', 'Charli XCX', '79', '73', '6', 'Bryan Martin', '56', '56', '15', 'Tinashe', '67', '61', '7', 'Teddy Swims', '80', '76', '7', 'Ariana Grande', '68', '16', '11', 'Tucker Wetmore', '75', '63', '16', 'Zach Bryan Featuring John Mayer', '46', '46', '2', 'Billie Eilish', '85', '17', '9', 'BossMan DLow & Lil Baby', '-', '86', '1', 'Sexyy Red & Drake', '76', '44', '8', 'Michael Marcagi', '81', '54', '22', 'Luis R Conriquez x Neton Vega', '82', '53', '11', 'Chappell Roan', '90', '82', '4', 'Megan Moroney', '-', '91', '1', 'Dustin Lynch Featuring Jelly Roll', '89', '89', '5', 'The Kid LAROI', '77', '51', '3', 'Lainey Wilson', '86', '86', '5', 'Zach Bryan', '48', '48', '2', 'Zach Bryan', '61', '61', '2', 'Chris Stapleton', '87', '49', '11', 'Thomas Rhett', '95', '83', '6', 'Koe Wetzel', '88', '35', '9', 'Zach Bryan Featuring Bruce Springsteen', '71', '71', '2']\n"
     ]
    }
   ],
   "source": [
    "print(sona,restdetails)"
   ]
  },
  {
   "cell_type": "code",
   "execution_count": null,
   "id": "412eb7b7-626b-44c3-b15b-aed363a5b8b5",
   "metadata": {},
   "outputs": [],
   "source": []
  },
  {
   "cell_type": "markdown",
   "id": "35b6f334-ef2b-4245-855c-56df5fd86868",
   "metadata": {},
   "source": [
    "6."
   ]
  },
  {
   "cell_type": "code",
   "execution_count": 14,
   "id": "e0bd47de-ab6e-4671-a4e1-e97e989fc9b5",
   "metadata": {},
   "outputs": [],
   "source": [
    "driver=webdriver.Chrome()"
   ]
  },
  {
   "cell_type": "code",
   "execution_count": 15,
   "id": "bdec134d-c0d9-4abf-8c64-6925a13e644a",
   "metadata": {},
   "outputs": [],
   "source": [
    "driver.get(\"https://www.theguardian.com/news/datablog/2012/aug/09/best-selling-books-all-time-fifty-shades-grey-compare\")"
   ]
  },
  {
   "cell_type": "code",
   "execution_count": 16,
   "id": "70eb89c3-150c-46a9-a11e-2194811f3c37",
   "metadata": {},
   "outputs": [],
   "source": [
    "novels=[]"
   ]
  },
  {
   "cell_type": "code",
   "execution_count": 17,
   "id": "4bb7e045-f838-4f9c-bf8d-a1898c5ba4cb",
   "metadata": {},
   "outputs": [],
   "source": [
    "table=driver.find_element(By.TAG_NAME,'table')"
   ]
  },
  {
   "cell_type": "code",
   "execution_count": 18,
   "id": "3311c0d9-2ba7-41c2-a852-6b10818328ce",
   "metadata": {},
   "outputs": [],
   "source": [
    "rows=table.find_elements(By.TAG_NAME,'tr')"
   ]
  },
  {
   "cell_type": "code",
   "execution_count": 19,
   "id": "88a38dd1-fd29-49cf-8c88-f5fb3a6a1ae6",
   "metadata": {},
   "outputs": [
    {
     "name": "stdout",
     "output_type": "stream",
     "text": [
      "[]\n",
      "['SOURCE: NIELSEN BOOK SCAN']\n",
      "['1', 'Da Vinci Code,The', 'Brown, Dan', '5,094,805', 'Transworld', 'Crime, Thriller & Adventure']\n",
      "['2', 'Harry Potter and the Deathly Hallows', 'Rowling, J.K.', '4,475,152', 'Bloomsbury', \"Children's Fiction\"]\n",
      "['3', \"Harry Potter and the Philosopher's Stone\", 'Rowling, J.K.', '4,200,654', 'Bloomsbury', \"Children's Fiction\"]\n",
      "['4', 'Harry Potter and the Order of the Phoenix', 'Rowling, J.K.', '4,179,479', 'Bloomsbury', \"Children's Fiction\"]\n",
      "['5', 'Fifty Shades of Grey', 'James, E. L.', '3,758,936', 'Random House', 'Romance & Sagas']\n",
      "['6', 'Harry Potter and the Goblet of Fire', 'Rowling, J.K.', '3,583,215', 'Bloomsbury', \"Children's Fiction\"]\n",
      "['7', 'Harry Potter and the Chamber of Secrets', 'Rowling, J.K.', '3,484,047', 'Bloomsbury', \"Children's Fiction\"]\n",
      "['8', 'Harry Potter and the Prisoner of Azkaban', 'Rowling, J.K.', '3,377,906', 'Bloomsbury', \"Children's Fiction\"]\n",
      "['9', 'Angels and Demons', 'Brown, Dan', '3,193,946', 'Transworld', 'Crime, Thriller & Adventure']\n",
      "['10', \"Harry Potter and the Half-blood Prince:Children's Edition\", 'Rowling, J.K.', '2,950,264', 'Bloomsbury', \"Children's Fiction\"]\n",
      "['11', 'Fifty Shades Darker', 'James, E. L.', '2,479,784', 'Random House', 'Romance & Sagas']\n",
      "['12', 'Twilight', 'Meyer, Stephenie', '2,315,405', 'Little, Brown Book', 'Young Adult Fiction']\n",
      "['13', 'Girl with the Dragon Tattoo,The:Millennium Trilogy', 'Larsson, Stieg', '2,233,570', 'Quercus', 'Crime, Thriller & Adventure']\n",
      "['14', 'Fifty Shades Freed', 'James, E. L.', '2,193,928', 'Random House', 'Romance & Sagas']\n",
      "['15', 'Lost Symbol,The', 'Brown, Dan', '2,183,031', 'Transworld', 'Crime, Thriller & Adventure']\n",
      "['16', 'New Moon', 'Meyer, Stephenie', '2,152,737', 'Little, Brown Book', 'Young Adult Fiction']\n",
      "['17', 'Deception Point', 'Brown, Dan', '2,062,145', 'Transworld', 'Crime, Thriller & Adventure']\n",
      "['18', 'Eclipse', 'Meyer, Stephenie', '2,052,876', 'Little, Brown Book', 'Young Adult Fiction']\n",
      "['19', 'Lovely Bones,The', 'Sebold, Alice', '2,005,598', 'Pan Macmillan', 'General & Literary Fiction']\n",
      "['20', 'Curious Incident of the Dog in the Night-time,The', 'Haddon, Mark', '1,979,552', 'Random House', 'General & Literary Fiction']\n",
      "['21', 'Digital Fortress', 'Brown, Dan', '1,928,900', 'Transworld', 'Crime, Thriller & Adventure']\n",
      "['22', 'Short History of Nearly Everything,A', 'Bryson, Bill', '1,852,919', 'Transworld', 'Popular Science']\n",
      "['23', 'Girl Who Played with Fire,The:Millennium Trilogy', 'Larsson, Stieg', '1,814,784', 'Quercus', 'Crime, Thriller & Adventure']\n",
      "['24', 'Breaking Dawn', 'Meyer, Stephenie', '1,787,118', 'Little, Brown Book', 'Young Adult Fiction']\n",
      "['25', 'Very Hungry Caterpillar,The:The Very Hungry Caterpillar', 'Carle, Eric', '1,783,535', 'Penguin', 'Picture Books']\n",
      "['26', 'Gruffalo,The', 'Donaldson, Julia', '1,781,269', 'Pan Macmillan', 'Picture Books']\n",
      "['27', \"Jamie's 30-Minute Meals\", 'Oliver, Jamie', '1,743,266', 'Penguin', 'Food & Drink: General']\n",
      "['28', 'Kite Runner,The', 'Hosseini, Khaled', '1,629,119', 'Bloomsbury', 'General & Literary Fiction']\n",
      "['29', 'One Day', 'Nicholls, David', '1,616,068', 'Hodder & Stoughton', 'General & Literary Fiction']\n",
      "['30', 'Thousand Splendid Suns,A', 'Hosseini, Khaled', '1,583,992', 'Bloomsbury', 'General & Literary Fiction']\n",
      "['31', \"Girl Who Kicked the Hornets' Nest,The:Millennium Trilogy\", 'Larsson, Stieg', '1,555,135', 'Quercus', 'Crime, Thriller & Adventure']\n",
      "['32', \"Time Traveler's Wife,The\", 'Niffenegger, Audrey', '1,546,886', 'Random House', 'General & Literary Fiction']\n",
      "['33', 'Atonement', 'McEwan, Ian', '1,539,428', 'Random House', 'General & Literary Fiction']\n",
      "['34', \"Bridget Jones's Diary:A Novel\", 'Fielding, Helen', '1,508,205', 'Pan Macmillan', 'General & Literary Fiction']\n",
      "['35', 'World According to Clarkson,The', 'Clarkson, Jeremy', '1,489,403', 'Penguin', 'Humour: Collections & General']\n",
      "['36', \"Captain Corelli's Mandolin\", 'Bernieres, Louis de', '1,352,318', 'Random House', 'General & Literary Fiction']\n",
      "['37', 'Sound of Laughter,The', 'Kay, Peter', '1,310,207', 'Random House', 'Autobiography: General']\n",
      "['38', 'Life of Pi', 'Martel, Yann', '1,310,176', 'Canongate', 'General & Literary Fiction']\n",
      "['39', 'Billy Connolly', 'Stephenson, Pamela', '1,231,957', 'HarperCollins', 'Biography: The Arts']\n",
      "['40', 'Child Called It,A', 'Pelzer, Dave', '1,217,712', 'Orion', 'Autobiography: General']\n",
      "['41', \"Gruffalo's Child,The\", 'Donaldson, Julia', '1,208,711', 'Pan Macmillan', 'Picture Books']\n",
      "['42', \"Angela's Ashes:A Memoir of a Childhood\", 'McCourt, Frank', '1,204,058', 'HarperCollins', 'Autobiography: General']\n",
      "['43', 'Birdsong', 'Faulks, Sebastian', '1,184,967', 'Random House', 'General & Literary Fiction']\n",
      "['44', 'Northern Lights:His Dark Materials S.', 'Pullman, Philip', '1,181,503', 'Scholastic Ltd.', 'Young Adult Fiction']\n",
      "['45', 'Labyrinth', 'Mosse, Kate', '1,181,093', 'Orion', 'General & Literary Fiction']\n",
      "['46', 'Harry Potter and the Half-blood Prince', 'Rowling, J.K.', '1,153,181', 'Bloomsbury', 'Science Fiction & Fantasy']\n",
      "['47', 'Help,The', 'Stockett, Kathryn', '1,132,336', 'Penguin', 'General & Literary Fiction']\n",
      "['48', 'Man and Boy', 'Parsons, Tony', '1,130,802', 'HarperCollins', 'General & Literary Fiction']\n",
      "['49', 'Memoirs of a Geisha', 'Golden, Arthur', '1,126,337', 'Random House', 'General & Literary Fiction']\n",
      "['50', \"No.1 Ladies' Detective Agency,The:No.1 Ladies' Detective Agency S.\", 'McCall Smith, Alexander', '1,115,549', 'Little, Brown Book', 'Crime, Thriller & Adventure']\n",
      "['51', 'Island,The', 'Hislop, Victoria', '1,108,328', 'Headline', 'General & Literary Fiction']\n",
      "['52', 'PS, I Love You', 'Ahern, Cecelia', '1,107,379', 'HarperCollins', 'General & Literary Fiction']\n",
      "['53', 'You are What You Eat:The Plan That Will Change Your Life', 'McKeith, Gillian', '1,104,403', 'Penguin', 'Fitness & Diet']\n",
      "['54', 'Shadow of the Wind,The', 'Zafon, Carlos Ruiz', '1,092,349', 'Orion', 'General & Literary Fiction']\n",
      "['55', 'Tales of Beedle the Bard,The', 'Rowling, J.K.', '1,090,847', 'Bloomsbury', \"Children's Fiction\"]\n",
      "['56', 'Broker,The', 'Grisham, John', '1,087,262', 'Random House', 'Crime, Thriller & Adventure']\n",
      "['57', \"Dr. Atkins' New Diet Revolution:The No-hunger, Luxurious Weight Loss P\", 'Atkins, Robert C.', '1,054,196', 'Random House', 'Fitness & Diet']\n",
      "['58', 'Subtle Knife,The:His Dark Materials S.', 'Pullman, Philip', '1,037,160', 'Scholastic Ltd.', 'Young Adult Fiction']\n",
      "['59', 'Eats, Shoots and Leaves:The Zero Tolerance Approach to Punctuation', 'Truss, Lynne', '1,023,688', 'Profile Books Group', 'Usage & Writing Guides']\n",
      "['60', \"Delia's How to Cook:(Bk.1)\", 'Smith, Delia', '1,015,956', 'Random House', 'Food & Drink: General']\n",
      "['61', 'Chocolat', 'Harris, Joanne', '1,009,873', 'Transworld', 'General & Literary Fiction']\n",
      "['62', 'Boy in the Striped Pyjamas,The', 'Boyne, John', '1,004,414', 'Random House Childrens Books G', 'Young Adult Fiction']\n",
      "['63', \"My Sister's Keeper\", 'Picoult, Jodi', '1,003,780', 'Hodder & Stoughton', 'General & Literary Fiction']\n",
      "['64', 'Amber Spyglass,The:His Dark Materials S.', 'Pullman, Philip', '1,002,314', 'Scholastic Ltd.', 'Young Adult Fiction']\n",
      "['65', 'To Kill a Mockingbird', 'Lee, Harper', '998,213', 'Random House', 'General & Literary Fiction']\n",
      "['66', 'Men are from Mars, Women are from Venus:A Practical Guide for Improvin', 'Gray, John', '992,846', 'HarperCollins', 'Popular Culture & Media: General Interest']\n",
      "['67', 'Dear Fatty', 'French, Dawn', '986,753', 'Random House', 'Autobiography: The Arts']\n",
      "['68', 'Short History of Tractors in Ukrainian,A', 'Lewycka, Marina', '986,115', 'Penguin', 'General & Literary Fiction']\n",
      "['69', 'Hannibal', 'Harris, Thomas', '970,509', 'Random House', 'Crime, Thriller & Adventure']\n",
      "['70', 'Lord of the Rings,The', 'Tolkien, J. R. R.', '967,466', 'HarperCollins', 'Science Fiction & Fantasy']\n",
      "['71', 'Stupid White Men:...and Other Sorry Excuses for the State of the Natio', 'Moore, Michael', '963,353', 'Penguin', 'Current Affairs & Issues']\n",
      "['72', 'Interpretation of Murder,The', 'Rubenfeld, Jed', '962,515', 'Headline', 'Crime, Thriller & Adventure']\n",
      "['73', 'Sharon Osbourne Extreme:My Autobiography', 'Osbourne, Sharon', '959,496', 'Little, Brown Book', 'Autobiography: The Arts']\n",
      "['74', 'Alchemist,The:A Fable About Following Your Dream', 'Coelho, Paulo', '956,114', 'HarperCollins', 'General & Literary Fiction']\n",
      "['75', \"At My Mother's Knee ...:and Other Low Joints\", \"O'Grady, Paul\", '945,640', 'Transworld', 'Autobiography: The Arts']\n",
      "['76', 'Notes from a Small Island', 'Bryson, Bill', '931,312', 'Transworld', 'Travel Writing']\n",
      "['77', 'Return of the Naked Chef,The', 'Oliver, Jamie', '925,425', 'Penguin', 'Food & Drink: General']\n",
      "['78', 'Bridget Jones: The Edge of Reason', 'Fielding, Helen', '924,695', 'Pan Macmillan', 'General & Literary Fiction']\n",
      "['79', \"Jamie's Italy\", 'Oliver, Jamie', '906,968', 'Penguin', 'National & Regional Cuisine']\n",
      "['80', 'I Can Make You Thin', 'McKenna, Paul', '905,086', 'Transworld', 'Fitness & Diet']\n",
      "['81', 'Down Under', 'Bryson, Bill', '890,847', 'Transworld', 'Travel Writing']\n",
      "['82', 'Summons,The', 'Grisham, John', '869,671', 'Random House', 'Crime, Thriller & Adventure']\n",
      "['83', 'Small Island', 'Levy, Andrea', '869,659', 'Headline', 'General & Literary Fiction']\n",
      "['84', 'Nigella Express', 'Lawson, Nigella', '862,602', 'Random House', 'Food & Drink: General']\n",
      "['85', 'Brick Lane', 'Ali, Monica', '856,540', 'Transworld', 'General & Literary Fiction']\n",
      "['86', \"Memory Keeper's Daughter,The\", 'Edwards, Kim', '845,858', 'Penguin', 'General & Literary Fiction']\n",
      "['87', 'Room on the Broom', 'Donaldson, Julia', '842,535', 'Pan Macmillan', 'Picture Books']\n",
      "['88', 'About a Boy', 'Hornby, Nick', '828,215', 'Penguin', 'General & Literary Fiction']\n",
      "['89', 'My Booky Wook', 'Brand, Russell', '820,563', 'Hodder & Stoughton', 'Autobiography: The Arts']\n",
      "['90', 'God Delusion,The', 'Dawkins, Richard', '816,907', 'Transworld', 'Popular Science']\n",
      "['91', '\"Beano\" Annual,The', '0', '816,585', 'D.C. Thomson', \"Children's Annuals\"]\n",
      "['92', 'White Teeth', 'Smith, Zadie', '815,586', 'Penguin', 'General & Literary Fiction']\n",
      "['93', 'House at Riverton,The', 'Morton, Kate', '814,370', 'Pan Macmillan', 'General & Literary Fiction']\n",
      "['94', 'Book Thief,The', 'Zusak, Markus', '809,641', 'Transworld', 'General & Literary Fiction']\n",
      "['95', 'Nights of Rain and Stars', 'Binchy, Maeve', '808,900', 'Orion', 'General & Literary Fiction']\n",
      "['96', 'Ghost,The', 'Harris, Robert', '807,311', 'Random House', 'General & Literary Fiction']\n",
      "['97', 'Happy Days with the Naked Chef', 'Oliver, Jamie', '794,201', 'Penguin', 'Food & Drink: General']\n",
      "['98', 'Hunger Games,The:Hunger Games Trilogy', 'Collins, Suzanne', '792,187', 'Scholastic Ltd.', 'Young Adult Fiction']\n",
      "['99', \"Lost Boy,The:A Foster Child's Search for the Love of a Family\", 'Pelzer, Dave', '791,507', 'Orion', 'Biography: General']\n",
      "['100', \"Jamie's Ministry of Food:Anyone Can Learn to Cook in 24 Hours\", 'Oliver, Jamie', '791,095', 'Penguin', 'Food & Drink: General']\n"
     ]
    }
   ],
   "source": [
    "for r in rows:\n",
    "    c=r.find_elements(By.TAG_NAME,'td')\n",
    "    rd=[i.text for i in c]\n",
    "    novels.append(rd)\n",
    "\n",
    "for r in novels:\n",
    "    print(r)"
   ]
  },
  {
   "cell_type": "code",
   "execution_count": null,
   "id": "f27e4d01-0fc7-4f45-8108-7bb9dd92a2ff",
   "metadata": {},
   "outputs": [],
   "source": []
  },
  {
   "cell_type": "markdown",
   "id": "3ee60840-4253-4980-a898-20fe8a0a9c52",
   "metadata": {},
   "source": [
    "7."
   ]
  },
  {
   "cell_type": "code",
   "execution_count": 1,
   "id": "287728b6-2bb2-4085-b77d-c86b2a9ce651",
   "metadata": {},
   "outputs": [
    {
     "name": "stdout",
     "output_type": "stream",
     "text": [
      "Requirement already satisfied: selenium in c:\\users\\a k sharma\\anaconda3\\lib\\site-packages (4.21.0)\n",
      "Requirement already satisfied: urllib3<3,>=1.26 in c:\\users\\a k sharma\\anaconda3\\lib\\site-packages (from urllib3[socks]<3,>=1.26->selenium) (2.0.7)\n",
      "Requirement already satisfied: trio~=0.17 in c:\\users\\a k sharma\\anaconda3\\lib\\site-packages (from selenium) (0.25.1)\n",
      "Requirement already satisfied: trio-websocket~=0.9 in c:\\users\\a k sharma\\anaconda3\\lib\\site-packages (from selenium) (0.11.1)\n",
      "Requirement already satisfied: certifi>=2021.10.8 in c:\\users\\a k sharma\\anaconda3\\lib\\site-packages (from selenium) (2024.2.2)\n",
      "Requirement already satisfied: typing_extensions>=4.9.0 in c:\\users\\a k sharma\\anaconda3\\lib\\site-packages (from selenium) (4.9.0)\n",
      "Requirement already satisfied: attrs>=23.2.0 in c:\\users\\a k sharma\\anaconda3\\lib\\site-packages (from trio~=0.17->selenium) (23.2.0)\n",
      "Requirement already satisfied: sortedcontainers in c:\\users\\a k sharma\\anaconda3\\lib\\site-packages (from trio~=0.17->selenium) (2.4.0)\n",
      "Requirement already satisfied: idna in c:\\users\\a k sharma\\anaconda3\\lib\\site-packages (from trio~=0.17->selenium) (3.4)\n",
      "Requirement already satisfied: outcome in c:\\users\\a k sharma\\anaconda3\\lib\\site-packages (from trio~=0.17->selenium) (1.3.0.post0)\n",
      "Requirement already satisfied: sniffio>=1.3.0 in c:\\users\\a k sharma\\anaconda3\\lib\\site-packages (from trio~=0.17->selenium) (1.3.0)\n",
      "Requirement already satisfied: cffi>=1.14 in c:\\users\\a k sharma\\anaconda3\\lib\\site-packages (from trio~=0.17->selenium) (1.16.0)\n",
      "Requirement already satisfied: wsproto>=0.14 in c:\\users\\a k sharma\\anaconda3\\lib\\site-packages (from trio-websocket~=0.9->selenium) (1.2.0)\n",
      "Requirement already satisfied: pysocks!=1.5.7,<2.0,>=1.5.6 in c:\\users\\a k sharma\\anaconda3\\lib\\site-packages (from urllib3[socks]<3,>=1.26->selenium) (1.7.1)\n",
      "Requirement already satisfied: pycparser in c:\\users\\a k sharma\\anaconda3\\lib\\site-packages (from cffi>=1.14->trio~=0.17->selenium) (2.21)\n",
      "Requirement already satisfied: h11<1,>=0.9.0 in c:\\users\\a k sharma\\anaconda3\\lib\\site-packages (from wsproto>=0.14->trio-websocket~=0.9->selenium) (0.14.0)\n",
      "Note: you may need to restart the kernel to use updated packages.\n"
     ]
    }
   ],
   "source": [
    "pip install selenium"
   ]
  },
  {
   "cell_type": "code",
   "execution_count": 2,
   "id": "e563c454-9c1d-4e92-8e93-5e1c74f14c3a",
   "metadata": {},
   "outputs": [],
   "source": [
    "import selenium\n",
    "import pandas as pd\n",
    "from selenium import webdriver\n",
    "import warnings\n",
    "warnings.filterwarnings('ignore')\n",
    "from selenium.webdriver.common.by import By\n",
    "import time"
   ]
  },
  {
   "cell_type": "code",
   "execution_count": 3,
   "id": "2341db21-8698-4098-8f90-034916d50a13",
   "metadata": {},
   "outputs": [],
   "source": [
    "driver=webdriver.Chrome()"
   ]
  },
  {
   "cell_type": "code",
   "execution_count": 4,
   "id": "a6660c16-0c9e-4333-8849-55888242c042",
   "metadata": {},
   "outputs": [],
   "source": [
    "driver.get(\"https://archive.ics.uci.edu/\")"
   ]
  },
  {
   "cell_type": "code",
   "execution_count": 5,
   "id": "8da398af-f277-4950-aef8-f7a9afdfd9f4",
   "metadata": {},
   "outputs": [],
   "source": [
    "ds=driver.find_element(By.XPATH,'/html/body/div/div[1]/div[1]/header/nav/ul/li[1]/a')\n",
    "ds.click()"
   ]
  },
  {
   "cell_type": "code",
   "execution_count": 6,
   "id": "38861179-f4f7-4365-a71e-c5977114be4e",
   "metadata": {},
   "outputs": [],
   "source": [
    "ex=driver.find_element(By.XPATH,'/html/body/div/div[1]/div[1]/main/div/div[2]/div[1]/div/label[2]/div[2]/span[2]')\n",
    "ex.click()"
   ]
  },
  {
   "cell_type": "code",
   "execution_count": 8,
   "id": "1b13e10a-a780-4989-bc8c-222a9f53dde1",
   "metadata": {},
   "outputs": [],
   "source": [
    "dn=[]\n",
    "dt=[]\n",
    "t=[]\n",
    "at=[]\n",
    "ni=[]\n",
    "na=[]\n",
    "y=[]"
   ]
  },
  {
   "cell_type": "code",
   "execution_count": 9,
   "id": "ff51e839-dddf-4f6c-8929-f86424acc71a",
   "metadata": {},
   "outputs": [],
   "source": [
    "dan=driver.find_elements(By.XPATH,'//a[@class=\"link-hover link text-xl font-semibold\"]')\n",
    "for i in dan:\n",
    "    dn.append(i.text)\n",
    "\n",
    "dat=driver.find_elements(By.XPATH,'//div[@class=\"col-span-3 flex items-center gap-2\"][2]/span')\n",
    "for i in dat:\n",
    "    dt.append(i.text)\n",
    "\n",
    "ta=driver.find_elements(By.XPATH,'//p[@class=\"truncate\"]')\n",
    "for i in ta:\n",
    "    t.append(i.text)\n",
    "\n",
    "att=driver.find_elements(By.XPATH,'//tbody[@class=\"border\"]/tr/td[2]')\n",
    "for i in att:\n",
    "    at.append(i.text)\n",
    "\n",
    "noi=driver.find_elements(By.XPATH,'//div[@class=\"col-span-3 flex items-center gap-2\"][3]/span')\n",
    "for i in noi:\n",
    "    ni.append(i.text)\n",
    "\n",
    "noa=driver.find_elements(By.XPATH,'//div[@class=\"col-span-3 flex items-center gap-2\"][4]/span')\n",
    "for i in noa:\n",
    "    na.append(i.text)\n",
    "\n",
    "ye=driver.find_elements(By.XPATH,'//tbody[@class=\"border\"]/tr/td[3]')\n",
    "for i in ye:\n",
    "    y.append(i.text.split('/')[-1])"
   ]
  },
  {
   "cell_type": "code",
   "execution_count": 10,
   "id": "3bbd4671-ec08-48d1-8593-4f07c0550454",
   "metadata": {},
   "outputs": [
    {
     "name": "stdout",
     "output_type": "stream",
     "text": [
      "['Iris', 'Dry Bean', 'Heart Disease', 'Rice (Cammeo and Osmancik)', 'Raisin', 'Adult', 'Breast Cancer Wisconsin (Diagnostic)', 'Wine', 'Wine Quality', 'Bank Marketing'] ['Tabular', 'Multivariate', 'Multivariate', 'Multivariate', 'Multivariate', 'Multivariate', 'Multivariate', 'Tabular', 'Multivariate', 'Multivariate'] ['A small classic dataset from Fisher, 1936. One of the earliest known datasets used for evaluating classification methods.', 'Images of 13,611 grains of 7 different registered dry beans were taken with a high-resolution camera. A total of 16 features; 12 dimensions and 4 shape forms, were obtained from the grains.', '4 databases: Cleveland, Hungary, Switzerland, and the VA Long Beach', \"A total of 3810 rice grain's images were taken for the two species, processed and feature inferences were made. 7 morphological features were obtained for each grain of rice.\", 'Images of the Kecimen and Besni raisin varieties were obtained with CVS. A total of 900 raisins were used, including 450 from both varieties, and 7 morphological features were extracted.', 'Predict whether income exceeds $50K/yr based on census data. Also known as \"Census Income\" dataset.', 'Diagnostic Wisconsin Breast Cancer Database.', 'Using chemical analysis to determine the origin of wines', 'Two datasets are included, related to red and white vinho verde wine samples, from the north of Portugal. The goal is to model wine quality based on physicochemical tests (see [Cortez et al., 2009], http://www3.dsi.uminho.pt/pcortez/wine/).', 'The data is related with direct marketing campaigns (phone calls) of a Portuguese banking institution. The classification goal is to predict if the client will subscribe a term deposit (variable y).'] ['Real', 'Integer, Real', 'Categorical, Integer, Real', 'Real', 'Real, Integer', 'Categorical, Integer', 'Real', 'Integer, Real', 'Real', 'Categorical, Integer'] ['150 Instances', '13.61K Instances', '303 Instances', '3.81K Instances', '900 Instances', '48.84K Instances', '569 Instances', '178 Instances', '4.9K Instances', '45.21K Instances'] ['4 Features', '16 Features', '13 Features', '7 Features', '8 Features', '14 Features', '30 Features', '13 Features', '12 Features', '17 Features'] ['1988', '2020', '1988', '2019', '2023', '1996', '1995', '1991', '2009', '2012']\n"
     ]
    }
   ],
   "source": [
    "print(dn,dt,t,at,ni,na,y)"
   ]
  },
  {
   "cell_type": "code",
   "execution_count": null,
   "id": "61ecf946-d211-4ee8-8a23-687f76131e32",
   "metadata": {},
   "outputs": [],
   "source": []
  },
  {
   "cell_type": "code",
   "execution_count": null,
   "id": "721b4c24-f67d-43df-81dd-d27b237855fa",
   "metadata": {},
   "outputs": [],
   "source": []
  }
 ],
 "metadata": {
  "kernelspec": {
   "display_name": "Python 3 (ipykernel)",
   "language": "python",
   "name": "python3"
  },
  "language_info": {
   "codemirror_mode": {
    "name": "ipython",
    "version": 3
   },
   "file_extension": ".py",
   "mimetype": "text/x-python",
   "name": "python",
   "nbconvert_exporter": "python",
   "pygments_lexer": "ipython3",
   "version": "3.11.7"
  }
 },
 "nbformat": 4,
 "nbformat_minor": 5
}
