{
 "cells": [
  {
   "cell_type": "code",
   "execution_count": 1,
   "id": "b8346b22-a9b3-4425-be2b-dc2178ac82a8",
   "metadata": {},
   "outputs": [
    {
     "name": "stdout",
     "output_type": "stream",
     "text": [
      "Requirement already satisfied: selenium in c:\\users\\a k sharma\\anaconda3\\lib\\site-packages (4.21.0)\n",
      "Requirement already satisfied: urllib3<3,>=1.26 in c:\\users\\a k sharma\\anaconda3\\lib\\site-packages (from urllib3[socks]<3,>=1.26->selenium) (2.0.7)\n",
      "Requirement already satisfied: trio~=0.17 in c:\\users\\a k sharma\\anaconda3\\lib\\site-packages (from selenium) (0.25.1)\n",
      "Requirement already satisfied: trio-websocket~=0.9 in c:\\users\\a k sharma\\anaconda3\\lib\\site-packages (from selenium) (0.11.1)\n",
      "Requirement already satisfied: certifi>=2021.10.8 in c:\\users\\a k sharma\\anaconda3\\lib\\site-packages (from selenium) (2024.2.2)\n",
      "Requirement already satisfied: typing_extensions>=4.9.0 in c:\\users\\a k sharma\\anaconda3\\lib\\site-packages (from selenium) (4.9.0)\n",
      "Requirement already satisfied: attrs>=23.2.0 in c:\\users\\a k sharma\\anaconda3\\lib\\site-packages (from trio~=0.17->selenium) (23.2.0)\n",
      "Requirement already satisfied: sortedcontainers in c:\\users\\a k sharma\\anaconda3\\lib\\site-packages (from trio~=0.17->selenium) (2.4.0)\n",
      "Requirement already satisfied: idna in c:\\users\\a k sharma\\anaconda3\\lib\\site-packages (from trio~=0.17->selenium) (3.4)\n",
      "Requirement already satisfied: outcome in c:\\users\\a k sharma\\anaconda3\\lib\\site-packages (from trio~=0.17->selenium) (1.3.0.post0)\n",
      "Requirement already satisfied: sniffio>=1.3.0 in c:\\users\\a k sharma\\anaconda3\\lib\\site-packages (from trio~=0.17->selenium) (1.3.0)\n",
      "Requirement already satisfied: cffi>=1.14 in c:\\users\\a k sharma\\anaconda3\\lib\\site-packages (from trio~=0.17->selenium) (1.16.0)\n",
      "Requirement already satisfied: wsproto>=0.14 in c:\\users\\a k sharma\\anaconda3\\lib\\site-packages (from trio-websocket~=0.9->selenium) (1.2.0)\n",
      "Requirement already satisfied: pysocks!=1.5.7,<2.0,>=1.5.6 in c:\\users\\a k sharma\\anaconda3\\lib\\site-packages (from urllib3[socks]<3,>=1.26->selenium) (1.7.1)\n",
      "Requirement already satisfied: pycparser in c:\\users\\a k sharma\\anaconda3\\lib\\site-packages (from cffi>=1.14->trio~=0.17->selenium) (2.21)\n",
      "Requirement already satisfied: h11<1,>=0.9.0 in c:\\users\\a k sharma\\anaconda3\\lib\\site-packages (from wsproto>=0.14->trio-websocket~=0.9->selenium) (0.14.0)\n",
      "Note: you may need to restart the kernel to use updated packages.\n"
     ]
    }
   ],
   "source": [
    "pip install selenium"
   ]
  },
  {
   "cell_type": "code",
   "execution_count": 2,
   "id": "85c8e327-34d6-4796-8cea-9998479f8952",
   "metadata": {},
   "outputs": [],
   "source": [
    "import selenium\n",
    "import pandas as pd\n",
    "from selenium import webdriver\n",
    "import warnings\n",
    "warnings.filterwarnings('ignore')\n",
    "from selenium.webdriver.common.by import By\n",
    "import time"
   ]
  },
  {
   "cell_type": "code",
   "execution_count": 3,
   "id": "12fab1fe-3255-4a01-a4d9-805e19726781",
   "metadata": {},
   "outputs": [],
   "source": [
    "driver=webdriver.Chrome()"
   ]
  },
  {
   "cell_type": "code",
   "execution_count": 4,
   "id": "8f869c63-8ac9-40a8-9aa1-f4f74dd9b2bd",
   "metadata": {},
   "outputs": [],
   "source": [
    "driver.get(\"https://www.naukri.com/\")"
   ]
  },
  {
   "cell_type": "code",
   "execution_count": 5,
   "id": "ce715bb2-bff9-45ab-a5b0-db4ad1b5cfbe",
   "metadata": {},
   "outputs": [],
   "source": [
    "designation=driver.find_element(By.CLASS_NAME,'suggestor-input ')\n",
    "designation.send_keys('Data Analyst')"
   ]
  },
  {
   "cell_type": "code",
   "execution_count": 6,
   "id": "f29b67dc-e9a8-4b71-aab0-170a1d1e7f3e",
   "metadata": {},
   "outputs": [],
   "source": [
    "search=driver.find_element(By.CLASS_NAME,'qsbSubmit')\n",
    "search.click()"
   ]
  },
  {
   "cell_type": "code",
   "execution_count": 7,
   "id": "7a51ff7f-10ef-4889-b2b3-0b6b6455700a",
   "metadata": {},
   "outputs": [],
   "source": [
    "location=driver.find_element(By.XPATH,'/html/body/div/div/main/div[1]/div[1]/div/div/div[2]/div[4]/div[2]/div[2]/label/i')\n",
    "location.click()"
   ]
  },
  {
   "cell_type": "code",
   "execution_count": 8,
   "id": "29d0def4-f973-4550-851f-4fa372785282",
   "metadata": {},
   "outputs": [],
   "source": [
    "salary=driver.find_element(By.XPATH,'/html/body/div/div/main/div[1]/div[1]/div/div/div[2]/div[5]/div[2]/div[2]/label/i')\n",
    "salary.click()"
   ]
  },
  {
   "cell_type": "code",
   "execution_count": 9,
   "id": "da129dc9-7443-4710-8ca1-0d4f397641f1",
   "metadata": {},
   "outputs": [],
   "source": [
    "job_title=[]\n",
    "job_location=[]\n",
    "company_name=[]\n",
    "experience_required=[]"
   ]
  },
  {
   "cell_type": "code",
   "execution_count": 10,
   "id": "074c2cfc-3906-499e-ad78-6eec7f574f4c",
   "metadata": {},
   "outputs": [],
   "source": [
    "title_tags=driver.find_elements(By.XPATH,'//div[@class=\"cust-job-tuple layout-wrapper lay-2 sjw__tuple \"]/div/a')\n",
    "f_t=title_tags[0:10]\n",
    "for i in f_t:\n",
    "    title=i.text\n",
    "    job_title.append(title)\n",
    "\n",
    "location_tags=driver.find_elements(By.XPATH,'//span[@class=\"locWdth\"]')\n",
    "f_l=location_tags[0:10]\n",
    "for i in f_l:\n",
    "    location=i.text\n",
    "    job_location.append(location)\n",
    "\n",
    "company_tags=driver.find_elements(By.XPATH,'//div[@class=\" row2\"]/span/a[1]')\n",
    "f_c=company_tags[0:10]\n",
    "for i in f_c:\n",
    "    company=i.text\n",
    "    company_name.append(company)\n",
    "\n",
    "experience_tags=driver.find_elements(By.XPATH,'//span[@class=\"expwdth\"]')\n",
    "f_e=experience_tags[0:10]\n",
    "for i in f_e:\n",
    "    experience=i.text\n",
    "    experience_required.append(experience)"
   ]
  },
  {
   "cell_type": "code",
   "execution_count": 11,
   "id": "275c57ad-b0c7-4478-b51f-65b0ddd84808",
   "metadata": {},
   "outputs": [
    {
     "name": "stdout",
     "output_type": "stream",
     "text": [
      "10 10 10 10\n"
     ]
    }
   ],
   "source": [
    "print(len(job_title),len(job_location),len(company_name),len(experience_required))"
   ]
  },
  {
   "cell_type": "code",
   "execution_count": 12,
   "id": "cc395fa8-1d20-408b-9c72-8f1cd37512e2",
   "metadata": {},
   "outputs": [
    {
     "data": {
      "text/html": [
       "<div>\n",
       "<style scoped>\n",
       "    .dataframe tbody tr th:only-of-type {\n",
       "        vertical-align: middle;\n",
       "    }\n",
       "\n",
       "    .dataframe tbody tr th {\n",
       "        vertical-align: top;\n",
       "    }\n",
       "\n",
       "    .dataframe thead th {\n",
       "        text-align: right;\n",
       "    }\n",
       "</style>\n",
       "<table border=\"1\" class=\"dataframe\">\n",
       "  <thead>\n",
       "    <tr style=\"text-align: right;\">\n",
       "      <th></th>\n",
       "      <th>Title</th>\n",
       "      <th>Location</th>\n",
       "      <th>Company_name</th>\n",
       "      <th>Experience</th>\n",
       "    </tr>\n",
       "  </thead>\n",
       "  <tbody>\n",
       "    <tr>\n",
       "      <th>0</th>\n",
       "      <td>Data Analyst</td>\n",
       "      <td>Mumbai</td>\n",
       "      <td>P S International HR Consultants</td>\n",
       "      <td>0-4 Yrs</td>\n",
       "    </tr>\n",
       "    <tr>\n",
       "      <th>1</th>\n",
       "      <td>Data Analyst</td>\n",
       "      <td>Gurgaon</td>\n",
       "      <td>DecisionTree Analytics and Services Private Li...</td>\n",
       "      <td>1-3 Yrs</td>\n",
       "    </tr>\n",
       "    <tr>\n",
       "      <th>2</th>\n",
       "      <td>Data Analyst</td>\n",
       "      <td>banda</td>\n",
       "      <td>Rochem Separation Systems</td>\n",
       "      <td>2-3 Yrs</td>\n",
       "    </tr>\n",
       "    <tr>\n",
       "      <th>3</th>\n",
       "      <td>Data Analyst (ETL Tools)</td>\n",
       "      <td>Pune</td>\n",
       "      <td>Alpha Analytics Services</td>\n",
       "      <td>2-4 Yrs</td>\n",
       "    </tr>\n",
       "    <tr>\n",
       "      <th>4</th>\n",
       "      <td>Data Analyst</td>\n",
       "      <td>Chennai</td>\n",
       "      <td>CONTUS TECH</td>\n",
       "      <td>5-10 Yrs</td>\n",
       "    </tr>\n",
       "    <tr>\n",
       "      <th>5</th>\n",
       "      <td>Data Analyst</td>\n",
       "      <td>Mangalore</td>\n",
       "      <td>Diya Systems (Mangalore) Pvt. Ltd.</td>\n",
       "      <td>4-9 Yrs</td>\n",
       "    </tr>\n",
       "    <tr>\n",
       "      <th>6</th>\n",
       "      <td>DATA ANALYST</td>\n",
       "      <td>Mumbai</td>\n",
       "      <td>Blocklogy Edutech</td>\n",
       "      <td>1-3 Yrs</td>\n",
       "    </tr>\n",
       "    <tr>\n",
       "      <th>7</th>\n",
       "      <td>Data Analyst</td>\n",
       "      <td>Chennai</td>\n",
       "      <td>Diverse Lynx</td>\n",
       "      <td>1-5 Yrs</td>\n",
       "    </tr>\n",
       "    <tr>\n",
       "      <th>8</th>\n",
       "      <td>Senior Lead Business Intelligence Analyst - Da...</td>\n",
       "      <td>Bengaluru</td>\n",
       "      <td>Alp Consulting Ltd</td>\n",
       "      <td>5-8 Yrs</td>\n",
       "    </tr>\n",
       "    <tr>\n",
       "      <th>9</th>\n",
       "      <td>Executive QA- Data Analyst</td>\n",
       "      <td>Mumbai (All Areas)</td>\n",
       "      <td>Parle</td>\n",
       "      <td>2-5 Yrs</td>\n",
       "    </tr>\n",
       "  </tbody>\n",
       "</table>\n",
       "</div>"
      ],
      "text/plain": [
       "                                               Title            Location  \\\n",
       "0                                       Data Analyst              Mumbai   \n",
       "1                                       Data Analyst             Gurgaon   \n",
       "2                                       Data Analyst               banda   \n",
       "3                           Data Analyst (ETL Tools)                Pune   \n",
       "4                                       Data Analyst             Chennai   \n",
       "5                                       Data Analyst           Mangalore   \n",
       "6                                       DATA ANALYST              Mumbai   \n",
       "7                                       Data Analyst             Chennai   \n",
       "8  Senior Lead Business Intelligence Analyst - Da...           Bengaluru   \n",
       "9                         Executive QA- Data Analyst  Mumbai (All Areas)   \n",
       "\n",
       "                                        Company_name Experience  \n",
       "0                   P S International HR Consultants    0-4 Yrs  \n",
       "1  DecisionTree Analytics and Services Private Li...    1-3 Yrs  \n",
       "2                          Rochem Separation Systems    2-3 Yrs  \n",
       "3                           Alpha Analytics Services    2-4 Yrs  \n",
       "4                                        CONTUS TECH   5-10 Yrs  \n",
       "5                 Diya Systems (Mangalore) Pvt. Ltd.    4-9 Yrs  \n",
       "6                                  Blocklogy Edutech    1-3 Yrs  \n",
       "7                                       Diverse Lynx    1-5 Yrs  \n",
       "8                                 Alp Consulting Ltd    5-8 Yrs  \n",
       "9                                              Parle    2-5 Yrs  "
      ]
     },
     "execution_count": 12,
     "metadata": {},
     "output_type": "execute_result"
    }
   ],
   "source": [
    "df=pd.DataFrame({'Title':job_title,'Location':job_location,'Company_name':company_name,'Experience':experience_required})\n",
    "df"
   ]
  },
  {
   "cell_type": "code",
   "execution_count": null,
   "id": "33f38579-d4c8-4c45-b804-34d153798b0f",
   "metadata": {},
   "outputs": [],
   "source": []
  },
  {
   "cell_type": "markdown",
   "id": "d09c45a7-2f60-4455-a28a-bad68b2da6e5",
   "metadata": {},
   "source": [
    "2."
   ]
  },
  {
   "cell_type": "code",
   "execution_count": 13,
   "id": "35478734-6448-4499-a9b0-f11ea676c908",
   "metadata": {},
   "outputs": [],
   "source": [
    "driver.get(\"https://www.shine.com/\")"
   ]
  },
  {
   "cell_type": "code",
   "execution_count": 15,
   "id": "3cd2fcdc-89c4-4f56-b640-6744bf44d0e6",
   "metadata": {},
   "outputs": [],
   "source": [
    "enter=driver.find_element(By.XPATH,'/html/body/div/header/div[3]/div/div/div[1]/div/input')\n",
    "enter.click()"
   ]
  },
  {
   "cell_type": "code",
   "execution_count": 16,
   "id": "367a511d-8d71-4e4f-99cb-99505771973e",
   "metadata": {},
   "outputs": [],
   "source": [
    "designation=driver.find_element(By.XPATH,'/html/body/div/div[4]/div/div[2]/div[2]/div/form/div/div[1]/ul/li[1]/div/input')\n",
    "designation.send_keys('Data Analyst')"
   ]
  },
  {
   "cell_type": "code",
   "execution_count": 17,
   "id": "c95379ca-080b-469f-8800-ba239b432e1d",
   "metadata": {},
   "outputs": [],
   "source": [
    "location=driver.find_element(By.XPATH,'/html/body/div/div[4]/div/div[2]/div[2]/div/form/div/div[1]/ul/li[2]/div/input')\n",
    "location.send_keys('Bangalore')"
   ]
  },
  {
   "cell_type": "code",
   "execution_count": 18,
   "id": "791ddd23-e05c-4508-92a5-1a5a4e6d550c",
   "metadata": {},
   "outputs": [],
   "source": [
    "search=driver.find_element(By.XPATH,'/html/body/div/div[4]/div/div[2]/div[2]/div/form/div/div[2]/div/button')\n",
    "search.click()"
   ]
  },
  {
   "cell_type": "code",
   "execution_count": 19,
   "id": "918903d4-2c43-4465-a287-65215c798b91",
   "metadata": {},
   "outputs": [],
   "source": [
    "job_title=[]\n",
    "job_location=[]\n",
    "company_name=[]\n",
    "experience_required=[]"
   ]
  },
  {
   "cell_type": "code",
   "execution_count": 20,
   "id": "92eb68e7-64e1-450c-8aa8-e23b835194b7",
   "metadata": {},
   "outputs": [],
   "source": [
    "title_tags=driver.find_elements(By.XPATH,'//strong[@class=\"jobCard_pReplaceH2__xWmHg\"]/p/a')\n",
    "f_t=title_tags[0:10]\n",
    "for i in f_t:\n",
    "    title=i.text\n",
    "    job_title.append(title)\n",
    "\n",
    "location_tags=driver.find_elements(By.XPATH,'//div[@class=\"jobCard_jobCard_lists_item__YxRkV jobCard_locationIcon__zrWt2\"]')\n",
    "f_l=location_tags[0:10]\n",
    "for i in f_l:\n",
    "    location=i.text\n",
    "    job_location.append(location)\n",
    "\n",
    "company_tags=driver.find_elements(By.XPATH,'//div[@class=\"jobCard_jobCard_cName__mYnow\"]/span')\n",
    "f_c=company_tags[0:10]\n",
    "for i in f_c:\n",
    "    company=i.text\n",
    "    company_name.append(company)\n",
    "\n",
    "experience_tags=driver.find_elements(By.XPATH,'//div[@class=\" jobCard_jobCard_lists_item__YxRkV jobCard_jobIcon__3FB1t\"]')\n",
    "f_e=experience_tags[0:10]\n",
    "for i in f_e:\n",
    "    experience=i.text\n",
    "    experience_required.append(experience)"
   ]
  },
  {
   "cell_type": "code",
   "execution_count": 21,
   "id": "c7b3fae5-0853-4dbd-b49f-928cfa7c402a",
   "metadata": {},
   "outputs": [
    {
     "name": "stdout",
     "output_type": "stream",
     "text": [
      "10 10 10 10\n"
     ]
    }
   ],
   "source": [
    "print(len(job_title),len(job_location),len(company_name),len(experience_required))"
   ]
  },
  {
   "cell_type": "code",
   "execution_count": 22,
   "id": "42a33faf-376e-4781-b8ee-ef7c7914a0ac",
   "metadata": {},
   "outputs": [
    {
     "data": {
      "text/html": [
       "<div>\n",
       "<style scoped>\n",
       "    .dataframe tbody tr th:only-of-type {\n",
       "        vertical-align: middle;\n",
       "    }\n",
       "\n",
       "    .dataframe tbody tr th {\n",
       "        vertical-align: top;\n",
       "    }\n",
       "\n",
       "    .dataframe thead th {\n",
       "        text-align: right;\n",
       "    }\n",
       "</style>\n",
       "<table border=\"1\" class=\"dataframe\">\n",
       "  <thead>\n",
       "    <tr style=\"text-align: right;\">\n",
       "      <th></th>\n",
       "      <th>Title</th>\n",
       "      <th>Location</th>\n",
       "      <th>Company_name</th>\n",
       "      <th>Experience</th>\n",
       "    </tr>\n",
       "  </thead>\n",
       "  <tbody>\n",
       "    <tr>\n",
       "      <th>0</th>\n",
       "      <td>Data Analyst , Senior Data Analyst , Data Anal...</td>\n",
       "      <td>Bangalore\\n+8</td>\n",
       "      <td>appsoft solutions</td>\n",
       "      <td>0 to 4 Yrs</td>\n",
       "    </tr>\n",
       "    <tr>\n",
       "      <th>1</th>\n",
       "      <td>Data Analyst</td>\n",
       "      <td>Bangalore\\n+4</td>\n",
       "      <td>aryan technology</td>\n",
       "      <td>0 to 4 Yrs</td>\n",
       "    </tr>\n",
       "    <tr>\n",
       "      <th>2</th>\n",
       "      <td>Hr Data Analyst</td>\n",
       "      <td>Bangalore</td>\n",
       "      <td>leverage business solutions private...</td>\n",
       "      <td>4 to 8 Yrs</td>\n",
       "    </tr>\n",
       "    <tr>\n",
       "      <th>3</th>\n",
       "      <td>Data Analyst</td>\n",
       "      <td>Bangalore</td>\n",
       "      <td>phoenix global re settlement servic...</td>\n",
       "      <td>3 to 8 Yrs</td>\n",
       "    </tr>\n",
       "    <tr>\n",
       "      <th>4</th>\n",
       "      <td>Data Analyst</td>\n",
       "      <td>Bangalore</td>\n",
       "      <td>subhadra jobs consultancy hiring fo...</td>\n",
       "      <td>2 to 7 Yrs</td>\n",
       "    </tr>\n",
       "    <tr>\n",
       "      <th>5</th>\n",
       "      <td>Data Analyst</td>\n",
       "      <td>Bangalore</td>\n",
       "      <td>subhadra jobs consultancy hiring fo...</td>\n",
       "      <td>2 to 7 Yrs</td>\n",
       "    </tr>\n",
       "    <tr>\n",
       "      <th>6</th>\n",
       "      <td>Clinical Data Analyst</td>\n",
       "      <td>Bangalore\\n+6</td>\n",
       "      <td>techno endura</td>\n",
       "      <td>0 to 1 Yr</td>\n",
       "    </tr>\n",
       "    <tr>\n",
       "      <th>7</th>\n",
       "      <td>Clinical Data Analyst</td>\n",
       "      <td>Bangalore\\n+6</td>\n",
       "      <td>techno endura</td>\n",
       "      <td>0 to 1 Yr</td>\n",
       "    </tr>\n",
       "    <tr>\n",
       "      <th>8</th>\n",
       "      <td>Clinical Data Analyst</td>\n",
       "      <td>Bangalore\\n+6</td>\n",
       "      <td>techno endura</td>\n",
       "      <td>0 to 1 Yr</td>\n",
       "    </tr>\n",
       "    <tr>\n",
       "      <th>9</th>\n",
       "      <td>Data Analyst</td>\n",
       "      <td>Bangalore</td>\n",
       "      <td>ltimindtree limited</td>\n",
       "      <td>5 to 10 Yrs</td>\n",
       "    </tr>\n",
       "  </tbody>\n",
       "</table>\n",
       "</div>"
      ],
      "text/plain": [
       "                                               Title       Location  \\\n",
       "0  Data Analyst , Senior Data Analyst , Data Anal...  Bangalore\\n+8   \n",
       "1                                       Data Analyst  Bangalore\\n+4   \n",
       "2                                    Hr Data Analyst      Bangalore   \n",
       "3                                       Data Analyst      Bangalore   \n",
       "4                                       Data Analyst      Bangalore   \n",
       "5                                       Data Analyst      Bangalore   \n",
       "6                              Clinical Data Analyst  Bangalore\\n+6   \n",
       "7                              Clinical Data Analyst  Bangalore\\n+6   \n",
       "8                              Clinical Data Analyst  Bangalore\\n+6   \n",
       "9                                       Data Analyst      Bangalore   \n",
       "\n",
       "                             Company_name   Experience  \n",
       "0                       appsoft solutions   0 to 4 Yrs  \n",
       "1                        aryan technology   0 to 4 Yrs  \n",
       "2  leverage business solutions private...   4 to 8 Yrs  \n",
       "3  phoenix global re settlement servic...   3 to 8 Yrs  \n",
       "4  subhadra jobs consultancy hiring fo...   2 to 7 Yrs  \n",
       "5  subhadra jobs consultancy hiring fo...   2 to 7 Yrs  \n",
       "6                           techno endura    0 to 1 Yr  \n",
       "7                           techno endura    0 to 1 Yr  \n",
       "8                           techno endura    0 to 1 Yr  \n",
       "9                     ltimindtree limited  5 to 10 Yrs  "
      ]
     },
     "execution_count": 22,
     "metadata": {},
     "output_type": "execute_result"
    }
   ],
   "source": [
    "df=pd.DataFrame({'Title':job_title,'Location':job_location,'Company_name':company_name,'Experience':experience_required})\n",
    "df"
   ]
  },
  {
   "cell_type": "code",
   "execution_count": null,
   "id": "992c3b24-e8a1-473d-aef0-71bf0ac4e698",
   "metadata": {},
   "outputs": [],
   "source": []
  },
  {
   "cell_type": "markdown",
   "id": "0a9462e5-ccfb-48ad-a048-5bf49ec7546c",
   "metadata": {},
   "source": [
    "3."
   ]
  },
  {
   "cell_type": "code",
   "execution_count": 26,
   "id": "a0e2e9a5-d4c4-4a2c-9f02-b178a20629a7",
   "metadata": {},
   "outputs": [
    {
     "name": "stdout",
     "output_type": "stream",
     "text": [
      "Requirement already satisfied: selenium in c:\\users\\a k sharma\\anaconda3\\lib\\site-packages (4.21.0)Note: you may need to restart the kernel to use updated packages.\n",
      "\n",
      "Requirement already satisfied: urllib3<3,>=1.26 in c:\\users\\a k sharma\\anaconda3\\lib\\site-packages (from urllib3[socks]<3,>=1.26->selenium) (2.0.7)\n",
      "Requirement already satisfied: trio~=0.17 in c:\\users\\a k sharma\\anaconda3\\lib\\site-packages (from selenium) (0.25.1)\n",
      "Requirement already satisfied: trio-websocket~=0.9 in c:\\users\\a k sharma\\anaconda3\\lib\\site-packages (from selenium) (0.11.1)\n",
      "Requirement already satisfied: certifi>=2021.10.8 in c:\\users\\a k sharma\\anaconda3\\lib\\site-packages (from selenium) (2024.2.2)\n",
      "Requirement already satisfied: typing_extensions>=4.9.0 in c:\\users\\a k sharma\\anaconda3\\lib\\site-packages (from selenium) (4.9.0)\n",
      "Requirement already satisfied: attrs>=23.2.0 in c:\\users\\a k sharma\\anaconda3\\lib\\site-packages (from trio~=0.17->selenium) (23.2.0)\n",
      "Requirement already satisfied: sortedcontainers in c:\\users\\a k sharma\\anaconda3\\lib\\site-packages (from trio~=0.17->selenium) (2.4.0)\n",
      "Requirement already satisfied: idna in c:\\users\\a k sharma\\anaconda3\\lib\\site-packages (from trio~=0.17->selenium) (3.4)\n",
      "Requirement already satisfied: outcome in c:\\users\\a k sharma\\anaconda3\\lib\\site-packages (from trio~=0.17->selenium) (1.3.0.post0)\n",
      "Requirement already satisfied: sniffio>=1.3.0 in c:\\users\\a k sharma\\anaconda3\\lib\\site-packages (from trio~=0.17->selenium) (1.3.0)\n",
      "Requirement already satisfied: cffi>=1.14 in c:\\users\\a k sharma\\anaconda3\\lib\\site-packages (from trio~=0.17->selenium) (1.16.0)\n",
      "Requirement already satisfied: wsproto>=0.14 in c:\\users\\a k sharma\\anaconda3\\lib\\site-packages (from trio-websocket~=0.9->selenium) (1.2.0)\n",
      "Requirement already satisfied: pysocks!=1.5.7,<2.0,>=1.5.6 in c:\\users\\a k sharma\\anaconda3\\lib\\site-packages (from urllib3[socks]<3,>=1.26->selenium) (1.7.1)\n",
      "Requirement already satisfied: pycparser in c:\\users\\a k sharma\\anaconda3\\lib\\site-packages (from cffi>=1.14->trio~=0.17->selenium) (2.21)\n",
      "Requirement already satisfied: h11<1,>=0.9.0 in c:\\users\\a k sharma\\anaconda3\\lib\\site-packages (from wsproto>=0.14->trio-websocket~=0.9->selenium) (0.14.0)\n"
     ]
    }
   ],
   "source": [
    "pip install selenium"
   ]
  },
  {
   "cell_type": "code",
   "execution_count": 27,
   "id": "b13db6ef-0461-4fdf-9b4f-2020a57204ce",
   "metadata": {},
   "outputs": [],
   "source": [
    "import selenium\n",
    "import pandas as pd\n",
    "from selenium import webdriver\n",
    "import warnings\n",
    "warnings.filterwarnings('ignore')\n",
    "from selenium.webdriver.common.by import By\n",
    "import time"
   ]
  },
  {
   "cell_type": "code",
   "execution_count": 28,
   "id": "84ad165f-10c5-4a76-8773-75fccb77d595",
   "metadata": {},
   "outputs": [],
   "source": [
    "driver=webdriver.Chrome()"
   ]
  },
  {
   "cell_type": "code",
   "execution_count": 29,
   "id": "d346e9bb-46b8-498e-aec3-ed09d70e7f5d",
   "metadata": {},
   "outputs": [],
   "source": [
    "driver.get(\"https://www.flipkart.com/apple-iphone-11-black-64-gb/product-reviews/itm4e5041ba101fd?pid=MOBFWQ6BXGJCEYNY&lid=LSTMOBFWQ6BXGJCEYNYZXSHRJ&marketplace=FLIPKART\")"
   ]
  },
  {
   "cell_type": "code",
   "execution_count": 30,
   "id": "c1ec9583-abdb-4f61-a5bc-3bf6a9da8634",
   "metadata": {},
   "outputs": [
    {
     "data": {
      "text/plain": [
       "[<selenium.webdriver.remote.webelement.WebElement (session=\"52ad769e4012ee6067b6b4a4f488427c\", element=\"f.47F668EC16AA47AE309D1084E5ED37EA.d.FFC5579573911155910196EBA0CB1A95.e.382\")>,\n",
       " <selenium.webdriver.remote.webelement.WebElement (session=\"52ad769e4012ee6067b6b4a4f488427c\", element=\"f.47F668EC16AA47AE309D1084E5ED37EA.d.FFC5579573911155910196EBA0CB1A95.e.441\")>,\n",
       " <selenium.webdriver.remote.webelement.WebElement (session=\"52ad769e4012ee6067b6b4a4f488427c\", element=\"f.47F668EC16AA47AE309D1084E5ED37EA.d.FFC5579573911155910196EBA0CB1A95.e.501\")>,\n",
       " <selenium.webdriver.remote.webelement.WebElement (session=\"52ad769e4012ee6067b6b4a4f488427c\", element=\"f.47F668EC16AA47AE309D1084E5ED37EA.d.FFC5579573911155910196EBA0CB1A95.e.562\")>,\n",
       " <selenium.webdriver.remote.webelement.WebElement (session=\"52ad769e4012ee6067b6b4a4f488427c\", element=\"f.47F668EC16AA47AE309D1084E5ED37EA.d.FFC5579573911155910196EBA0CB1A95.e.623\")>,\n",
       " <selenium.webdriver.remote.webelement.WebElement (session=\"52ad769e4012ee6067b6b4a4f488427c\", element=\"f.47F668EC16AA47AE309D1084E5ED37EA.d.FFC5579573911155910196EBA0CB1A95.e.685\")>,\n",
       " <selenium.webdriver.remote.webelement.WebElement (session=\"52ad769e4012ee6067b6b4a4f488427c\", element=\"f.47F668EC16AA47AE309D1084E5ED37EA.d.FFC5579573911155910196EBA0CB1A95.e.749\")>,\n",
       " <selenium.webdriver.remote.webelement.WebElement (session=\"52ad769e4012ee6067b6b4a4f488427c\", element=\"f.47F668EC16AA47AE309D1084E5ED37EA.d.FFC5579573911155910196EBA0CB1A95.e.815\")>,\n",
       " <selenium.webdriver.remote.webelement.WebElement (session=\"52ad769e4012ee6067b6b4a4f488427c\", element=\"f.47F668EC16AA47AE309D1084E5ED37EA.d.FFC5579573911155910196EBA0CB1A95.e.876\")>,\n",
       " <selenium.webdriver.remote.webelement.WebElement (session=\"52ad769e4012ee6067b6b4a4f488427c\", element=\"f.47F668EC16AA47AE309D1084E5ED37EA.d.FFC5579573911155910196EBA0CB1A95.e.938\")>]"
      ]
     },
     "execution_count": 30,
     "metadata": {},
     "output_type": "execute_result"
    }
   ],
   "source": [
    "rating=driver.find_elements(By.XPATH,'//div[@class=\"XQDdHH Ga3i8K\"]')\n",
    "rating[0:10]"
   ]
  },
  {
   "cell_type": "code",
   "execution_count": 32,
   "id": "3c69e492-d199-4208-b418-03a8c715e95a",
   "metadata": {},
   "outputs": [
    {
     "name": "stdout",
     "output_type": "stream",
     "text": [
      "5\n",
      "5\n",
      "5\n",
      "5\n",
      "5\n",
      "5\n",
      "5\n",
      "5\n",
      "5\n",
      "5\n"
     ]
    }
   ],
   "source": [
    "for i in rating[0:10]:\n",
    "    print(i.text)"
   ]
  },
  {
   "cell_type": "code",
   "execution_count": 43,
   "id": "4c5eb369-460d-4585-85aa-e83b5dc2d0f0",
   "metadata": {},
   "outputs": [],
   "source": [
    "ra_l=[]\n",
    "re_su_l=[]\n",
    "re_l=[]"
   ]
  },
  {
   "cell_type": "code",
   "execution_count": 45,
   "id": "1d4aa36c-cdb6-4e1c-aac0-cb78064bfc0d",
   "metadata": {},
   "outputs": [],
   "source": [
    "start=0\n",
    "end=10\n",
    "for page in range(start,end):\n",
    "    ratings=driver.find_elements(By.XPATH,'//div[@class=\"XQDdHH Ga3i8K\"]')\n",
    "    for i in ratings:\n",
    "        ra_l.append(i.text)\n",
    "\n",
    "    review_summary=driver.find_elements(By.XPATH,'//p[@class=\"z9E0IG\"]')\n",
    "    for i in review_summary:\n",
    "        re_su_l.append(i.text)\n",
    "\n",
    "    review=driver.find_elements(By.XPATH,'//div[@class=\"ZmyHeo\"]/div/div')\n",
    "    for i in review:\n",
    "        re_l.append(i.text)\n",
    "\n",
    "next_button=driver.find_element(By.XPATH,'//nav[@class=\"WSL9JP\"]/a[11]')\n",
    "next_button.click()\n",
    "time.sleep(3)"
   ]
  },
  {
   "cell_type": "code",
   "execution_count": 46,
   "id": "30751c9f-352d-45b0-bb7b-96c0300886fc",
   "metadata": {},
   "outputs": [
    {
     "name": "stdout",
     "output_type": "stream",
     "text": [
      "200 200 200\n"
     ]
    }
   ],
   "source": [
    "print(len(ra_l),len(re_su_l),len(re_l))"
   ]
  },
  {
   "cell_type": "code",
   "execution_count": 47,
   "id": "0b17c978-cf27-4e61-b520-c71c72da7adf",
   "metadata": {},
   "outputs": [],
   "source": [
    "ra_l = ra_l[0:100]\n",
    "re_su_l = re_su_l[0:100]\n",
    "re_l = re_l[0:100]"
   ]
  },
  {
   "cell_type": "code",
   "execution_count": 48,
   "id": "a0e2a9f5-6adc-489b-88ec-442df221c959",
   "metadata": {},
   "outputs": [
    {
     "data": {
      "text/html": [
       "<div>\n",
       "<style scoped>\n",
       "    .dataframe tbody tr th:only-of-type {\n",
       "        vertical-align: middle;\n",
       "    }\n",
       "\n",
       "    .dataframe tbody tr th {\n",
       "        vertical-align: top;\n",
       "    }\n",
       "\n",
       "    .dataframe thead th {\n",
       "        text-align: right;\n",
       "    }\n",
       "</style>\n",
       "<table border=\"1\" class=\"dataframe\">\n",
       "  <thead>\n",
       "    <tr style=\"text-align: right;\">\n",
       "      <th></th>\n",
       "      <th>Rating</th>\n",
       "      <th>Review_Summary</th>\n",
       "      <th>Full_Review</th>\n",
       "    </tr>\n",
       "  </thead>\n",
       "  <tbody>\n",
       "    <tr>\n",
       "      <th>0</th>\n",
       "      <td>5</td>\n",
       "      <td>Worth every penny</td>\n",
       "      <td>Feeling awesome after getting the delivery of ...</td>\n",
       "    </tr>\n",
       "    <tr>\n",
       "      <th>1</th>\n",
       "      <td>5</td>\n",
       "      <td>Best in the market!</td>\n",
       "      <td>Good Camera</td>\n",
       "    </tr>\n",
       "    <tr>\n",
       "      <th>2</th>\n",
       "      <td>5</td>\n",
       "      <td>Terrific</td>\n",
       "      <td>Very very good</td>\n",
       "    </tr>\n",
       "    <tr>\n",
       "      <th>3</th>\n",
       "      <td>5</td>\n",
       "      <td>Wonderful</td>\n",
       "      <td>This is amazing at all</td>\n",
       "    </tr>\n",
       "    <tr>\n",
       "      <th>4</th>\n",
       "      <td>5</td>\n",
       "      <td>Just wow!</td>\n",
       "      <td>Perfect Product!!</td>\n",
       "    </tr>\n",
       "    <tr>\n",
       "      <th>...</th>\n",
       "      <td>...</td>\n",
       "      <td>...</td>\n",
       "      <td>...</td>\n",
       "    </tr>\n",
       "    <tr>\n",
       "      <th>95</th>\n",
       "      <td>5</td>\n",
       "      <td>Perfect product!</td>\n",
       "      <td>Photos super</td>\n",
       "    </tr>\n",
       "    <tr>\n",
       "      <th>96</th>\n",
       "      <td>5</td>\n",
       "      <td>Classy product</td>\n",
       "      <td>Camera is awesome\\nBest battery backup\\nA perf...</td>\n",
       "    </tr>\n",
       "    <tr>\n",
       "      <th>97</th>\n",
       "      <td>5</td>\n",
       "      <td>Must buy!</td>\n",
       "      <td>It’s really awesome</td>\n",
       "    </tr>\n",
       "    <tr>\n",
       "      <th>98</th>\n",
       "      <td>5</td>\n",
       "      <td>Fabulous!</td>\n",
       "      <td>It’s very good battery life and display and vi...</td>\n",
       "    </tr>\n",
       "    <tr>\n",
       "      <th>99</th>\n",
       "      <td>5</td>\n",
       "      <td>Terrific purchase</td>\n",
       "      <td>Value for money 😍</td>\n",
       "    </tr>\n",
       "  </tbody>\n",
       "</table>\n",
       "<p>100 rows × 3 columns</p>\n",
       "</div>"
      ],
      "text/plain": [
       "   Rating       Review_Summary  \\\n",
       "0       5    Worth every penny   \n",
       "1       5  Best in the market!   \n",
       "2       5             Terrific   \n",
       "3       5            Wonderful   \n",
       "4       5            Just wow!   \n",
       "..    ...                  ...   \n",
       "95      5     Perfect product!   \n",
       "96      5       Classy product   \n",
       "97      5            Must buy!   \n",
       "98      5            Fabulous!   \n",
       "99      5    Terrific purchase   \n",
       "\n",
       "                                          Full_Review  \n",
       "0   Feeling awesome after getting the delivery of ...  \n",
       "1                                         Good Camera  \n",
       "2                                      Very very good  \n",
       "3                              This is amazing at all  \n",
       "4                                   Perfect Product!!  \n",
       "..                                                ...  \n",
       "95                                       Photos super  \n",
       "96  Camera is awesome\\nBest battery backup\\nA perf...  \n",
       "97                                It’s really awesome  \n",
       "98  It’s very good battery life and display and vi...  \n",
       "99                                  Value for money 😍  \n",
       "\n",
       "[100 rows x 3 columns]"
      ]
     },
     "execution_count": 48,
     "metadata": {},
     "output_type": "execute_result"
    }
   ],
   "source": [
    "df=pd.DataFrame({'Rating':ra_l,'Review_Summary':re_su_l,'Full_Review':re_l})\n",
    "df"
   ]
  },
  {
   "cell_type": "code",
   "execution_count": null,
   "id": "a7b2cfda-f3ab-4703-8c07-efcdafc9b794",
   "metadata": {},
   "outputs": [],
   "source": []
  },
  {
   "cell_type": "markdown",
   "id": "ff5a8ee9-1541-4cef-a731-7a1bac6b5605",
   "metadata": {},
   "source": [
    "4."
   ]
  },
  {
   "cell_type": "code",
   "execution_count": 1,
   "id": "fa05f83a-f387-42e7-a2f9-66106ca86ccf",
   "metadata": {},
   "outputs": [
    {
     "name": "stdout",
     "output_type": "stream",
     "text": [
      "Requirement already satisfied: selenium in c:\\users\\a k sharma\\anaconda3\\lib\\site-packages (4.21.0)\n",
      "Requirement already satisfied: urllib3<3,>=1.26 in c:\\users\\a k sharma\\anaconda3\\lib\\site-packages (from urllib3[socks]<3,>=1.26->selenium) (2.0.7)\n",
      "Requirement already satisfied: trio~=0.17 in c:\\users\\a k sharma\\anaconda3\\lib\\site-packages (from selenium) (0.25.1)\n",
      "Requirement already satisfied: trio-websocket~=0.9 in c:\\users\\a k sharma\\anaconda3\\lib\\site-packages (from selenium) (0.11.1)\n",
      "Requirement already satisfied: certifi>=2021.10.8 in c:\\users\\a k sharma\\anaconda3\\lib\\site-packages (from selenium) (2024.2.2)\n",
      "Requirement already satisfied: typing_extensions>=4.9.0 in c:\\users\\a k sharma\\anaconda3\\lib\\site-packages (from selenium) (4.9.0)\n",
      "Requirement already satisfied: attrs>=23.2.0 in c:\\users\\a k sharma\\anaconda3\\lib\\site-packages (from trio~=0.17->selenium) (23.2.0)\n",
      "Requirement already satisfied: sortedcontainers in c:\\users\\a k sharma\\anaconda3\\lib\\site-packages (from trio~=0.17->selenium) (2.4.0)\n",
      "Requirement already satisfied: idna in c:\\users\\a k sharma\\anaconda3\\lib\\site-packages (from trio~=0.17->selenium) (3.4)\n",
      "Requirement already satisfied: outcome in c:\\users\\a k sharma\\anaconda3\\lib\\site-packages (from trio~=0.17->selenium) (1.3.0.post0)\n",
      "Requirement already satisfied: sniffio>=1.3.0 in c:\\users\\a k sharma\\anaconda3\\lib\\site-packages (from trio~=0.17->selenium) (1.3.0)\n",
      "Requirement already satisfied: cffi>=1.14 in c:\\users\\a k sharma\\anaconda3\\lib\\site-packages (from trio~=0.17->selenium) (1.16.0)\n",
      "Requirement already satisfied: wsproto>=0.14 in c:\\users\\a k sharma\\anaconda3\\lib\\site-packages (from trio-websocket~=0.9->selenium) (1.2.0)\n",
      "Requirement already satisfied: pysocks!=1.5.7,<2.0,>=1.5.6 in c:\\users\\a k sharma\\anaconda3\\lib\\site-packages (from urllib3[socks]<3,>=1.26->selenium) (1.7.1)\n",
      "Requirement already satisfied: pycparser in c:\\users\\a k sharma\\anaconda3\\lib\\site-packages (from cffi>=1.14->trio~=0.17->selenium) (2.21)\n",
      "Requirement already satisfied: h11<1,>=0.9.0 in c:\\users\\a k sharma\\anaconda3\\lib\\site-packages (from wsproto>=0.14->trio-websocket~=0.9->selenium) (0.14.0)\n",
      "Note: you may need to restart the kernel to use updated packages.\n"
     ]
    }
   ],
   "source": [
    "pip install selenium"
   ]
  },
  {
   "cell_type": "code",
   "execution_count": 3,
   "id": "e9248119-1cf1-4697-a9db-9354f5da231a",
   "metadata": {},
   "outputs": [],
   "source": [
    "import selenium\n",
    "import pandas as pd\n",
    "from selenium import webdriver\n",
    "import warnings\n",
    "warnings.filterwarnings('ignore')\n",
    "from selenium.webdriver.common.by import By\n",
    "import time"
   ]
  },
  {
   "cell_type": "code",
   "execution_count": 4,
   "id": "ab277c8d-161c-43d5-afad-0b12f68d5f85",
   "metadata": {},
   "outputs": [],
   "source": [
    "driver=webdriver.Chrome()"
   ]
  },
  {
   "cell_type": "code",
   "execution_count": 5,
   "id": "ffbfa34f-56e1-4c20-a4a8-c7cea1d7c9ad",
   "metadata": {},
   "outputs": [],
   "source": [
    "driver.get(\"https://www.flipkart.com/\")"
   ]
  },
  {
   "cell_type": "code",
   "execution_count": 6,
   "id": "23f5cc33-426c-4ffc-9e9c-0ada685a75a6",
   "metadata": {},
   "outputs": [],
   "source": [
    "enter=driver.find_element(By.XPATH,'/html/body/div[1]/div/div[1]/div/div/div/div/div[1]/div/div[1]/div/div[1]/div[1]/header/div[1]/div[2]/form/div/div/input')\n",
    "enter.send_keys('sneakers')"
   ]
  },
  {
   "cell_type": "code",
   "execution_count": 7,
   "id": "fb1b872d-cdf2-4b18-9934-ba4e43330435",
   "metadata": {},
   "outputs": [],
   "source": [
    "search=driver.find_element(By.XPATH,'/html/body/div[1]/div/div[1]/div/div/div/div/div[1]/div/div[1]/div/div[1]/div[1]/header/div[1]/div[2]/form/div/button')\n",
    "search.click()"
   ]
  },
  {
   "cell_type": "code",
   "execution_count": 12,
   "id": "ac9c0788-c04b-4304-b0d4-956d6ddb8c83",
   "metadata": {},
   "outputs": [],
   "source": [
    "b_l=[]\n",
    "p_d_l=[]\n",
    "p_l=[]"
   ]
  },
  {
   "cell_type": "code",
   "execution_count": 13,
   "id": "f65a7d43-a161-4863-bdd7-be25ec4206f9",
   "metadata": {},
   "outputs": [],
   "source": [
    "brand=driver.find_elements(By.XPATH,'//div[@class=\"syl9yP\"]')\n",
    "br=brand[0:40]\n",
    "for i in br:\n",
    "    brands=i.text\n",
    "    b_l.append(brands)\n",
    "\n",
    "product_descriptions = driver.find_elements(By.XPATH, '//a[@class=\"WKTcLC\" or @class=\"WKTcLC BwBZTg\"]')\n",
    "pd=product_descriptions[0:40]\n",
    "for i in pd:\n",
    "    productd=i.text\n",
    "    p_d_l.append(productd)\n",
    "\n",
    "price=driver.find_elements(By.XPATH,'//div[@class=\"hl05eU\"]/div[1]')\n",
    "pr=price[0:40]\n",
    "for i in pr:\n",
    "    prices=i.text\n",
    "    p_l.append(prices)"
   ]
  },
  {
   "cell_type": "code",
   "execution_count": 14,
   "id": "07f80815-27e0-4492-89ef-2a54a649788a",
   "metadata": {},
   "outputs": [
    {
     "name": "stdout",
     "output_type": "stream",
     "text": [
      "40 40 40\n"
     ]
    }
   ],
   "source": [
    "print(len(b_l),len(p_d_l),len(p_l))"
   ]
  },
  {
   "cell_type": "code",
   "execution_count": 15,
   "id": "5fba5a3d-3922-449e-8290-183bbb631887",
   "metadata": {},
   "outputs": [
    {
     "name": "stdout",
     "output_type": "stream",
     "text": [
      "['BRUTON', 'URBANBOX', 'PUMA', 'Deals4you', 'aadi', 'bacca bucci', 'BRUTON', 'BRUTON', 'Abros', 'aadi', 'BRUTON', 'BRUTON', 'U.S. POLO ASSN.', 'PM TRADERS', 'URBANBOX', 'ATOM', 'BRUTON', 'BRUTON', 'RapidBox', 'asian', 'BRUTON', 'aadi', 'aadi', 'aadi', 'asian', 'asian', 'BRUTON', 'BRUTON', 'PM TRADERS', 'PUMA', 'BRUTON', 'BRUTON', 'VENDOZ', 'VENDOZ', 'PM TRADERS', 'asian', 'BRUTON', 'BRUTON', 'HRX by Hrithik Roshan', 'Red Tape'] ['Modern Trendy Shoes Sneakers For Men', 'Trending Stylish Casual Outdoor Shoes Sneakers For Men', 'Cliff IDP Sneakers For Men', 'Sneakers For Women', 'Lightweight,Comfort,Summer,Trendy,Walking,Outdoor,Styli...', 'OG TerraForge Low-Top Series: Bold Street-Ready Sneaker...', 'Modern Trendy Sneakers For Men', 'Exclusive Sneaker Shoes Sneakers For Men', 'LEXUS Sneakers For Men', 'Sneakers For Men', 'Modern Trendy Sneakers Shoes Sneakers For Men', 'Lite Casual Shoes Sneakers For Men', 'CLARKIN Sneakers For Men', 'Mesh| Lightweight| Premiun| Comfort| Summer Tendy| Outd...', 'Trending Stylish Casual Outdoor Shoes Sneakers For Men', 'Spring Edge Alpha 2 Sneakers For Men', 'Sneaker Sneakers For Men', 'Modern Trendy Shoes Sneakers For Men', 'Sneakers For Men', 'Sneaker Casual Shoes For Men | Soft Cushion Insole || B...', 'Modern Trendy Shoes Sneakers For Men', 'Mesh |Lightweight|Comfort|Summer|Trendy|Walking|Outdoor...', 'Mesh |Lightweight|Comfort|Summer|Trendy|Walking|Outdoor...', 'Sneakers For Men', 'Flat Sole Sneakers Shoes for all Day wear with Memory C...', 'Casual Sneakers Shoes For Men Mexico-11 Sneakers For Me...', 'Trendy & Stylish Casual Shoes Sneakers For Men', 'Trendy & Stylish Casual Shoes Sneakers For Men', 'Mesh| Lightweight| Premiun| Comfort| Summer Tendy| Outd...', 'Puma Shuffle Ultra Sneakers For Men', 'Combo Pack Of 4 Casual Loafer Shoes Sneakers For Men', 'Trendy & Stylish Sneakers Shoes Sneakers For Men', 'Casual Stylish Trending Sneakers For Women', 'Sneakers For Women', 'Mesh| Lightweight| Premiun| Comfort| Summer Tendy| Outd...', 'Casual Sneakers Shoes For Men Mexico-11 Sneakers For Me...', 'Trendy & Stylish Casual Shoes Sneakers For Men', 'Modern Trendy Sneakers Shoes Sneakers For Men', 'URBAN CHUNKY Sneakers For Men', 'Sneaker Casual Shoes for Men | Soft Cushioned Insole, S...'] ['₹297', '₹449', '₹1,047', '₹399', '₹299', '₹1,699', '₹297', '₹297', '₹949', '₹439', '₹297', '₹499', '₹1,249', '₹1,039', '₹449', '₹1,139', '₹297', '₹297', '₹795', '₹777', '₹297', '₹299', '₹299', '₹425', '₹777', '₹749', '₹449', '₹297', '₹1,039', '₹1,699', '₹599', '₹297', '₹629', '₹599', '₹1,039', '₹749', '₹498', '₹297', '₹814', '₹1,029']\n"
     ]
    }
   ],
   "source": [
    "print (b_l,p_d_l,p_l)"
   ]
  },
  {
   "cell_type": "code",
   "execution_count": 17,
   "id": "c8d45a5e-a8fc-4c34-8c02-a80a3b40b748",
   "metadata": {},
   "outputs": [],
   "source": [
    "import pandas as pd"
   ]
  },
  {
   "cell_type": "code",
   "execution_count": 18,
   "id": "419e48cf-7025-4eb7-9096-08f3b04f135b",
   "metadata": {},
   "outputs": [
    {
     "data": {
      "text/html": [
       "<div>\n",
       "<style scoped>\n",
       "    .dataframe tbody tr th:only-of-type {\n",
       "        vertical-align: middle;\n",
       "    }\n",
       "\n",
       "    .dataframe tbody tr th {\n",
       "        vertical-align: top;\n",
       "    }\n",
       "\n",
       "    .dataframe thead th {\n",
       "        text-align: right;\n",
       "    }\n",
       "</style>\n",
       "<table border=\"1\" class=\"dataframe\">\n",
       "  <thead>\n",
       "    <tr style=\"text-align: right;\">\n",
       "      <th></th>\n",
       "      <th>Brands</th>\n",
       "      <th>Product_Description</th>\n",
       "      <th>Prices</th>\n",
       "    </tr>\n",
       "  </thead>\n",
       "  <tbody>\n",
       "    <tr>\n",
       "      <th>0</th>\n",
       "      <td>BRUTON</td>\n",
       "      <td>Modern Trendy Shoes Sneakers For Men</td>\n",
       "      <td>₹297</td>\n",
       "    </tr>\n",
       "    <tr>\n",
       "      <th>1</th>\n",
       "      <td>URBANBOX</td>\n",
       "      <td>Trending Stylish Casual Outdoor Shoes Sneakers...</td>\n",
       "      <td>₹449</td>\n",
       "    </tr>\n",
       "    <tr>\n",
       "      <th>2</th>\n",
       "      <td>PUMA</td>\n",
       "      <td>Cliff IDP Sneakers For Men</td>\n",
       "      <td>₹1,047</td>\n",
       "    </tr>\n",
       "    <tr>\n",
       "      <th>3</th>\n",
       "      <td>Deals4you</td>\n",
       "      <td>Sneakers For Women</td>\n",
       "      <td>₹399</td>\n",
       "    </tr>\n",
       "    <tr>\n",
       "      <th>4</th>\n",
       "      <td>aadi</td>\n",
       "      <td>Lightweight,Comfort,Summer,Trendy,Walking,Outd...</td>\n",
       "      <td>₹299</td>\n",
       "    </tr>\n",
       "    <tr>\n",
       "      <th>5</th>\n",
       "      <td>bacca bucci</td>\n",
       "      <td>OG TerraForge Low-Top Series: Bold Street-Read...</td>\n",
       "      <td>₹1,699</td>\n",
       "    </tr>\n",
       "    <tr>\n",
       "      <th>6</th>\n",
       "      <td>BRUTON</td>\n",
       "      <td>Modern Trendy Sneakers For Men</td>\n",
       "      <td>₹297</td>\n",
       "    </tr>\n",
       "    <tr>\n",
       "      <th>7</th>\n",
       "      <td>BRUTON</td>\n",
       "      <td>Exclusive Sneaker Shoes Sneakers For Men</td>\n",
       "      <td>₹297</td>\n",
       "    </tr>\n",
       "    <tr>\n",
       "      <th>8</th>\n",
       "      <td>Abros</td>\n",
       "      <td>LEXUS Sneakers For Men</td>\n",
       "      <td>₹949</td>\n",
       "    </tr>\n",
       "    <tr>\n",
       "      <th>9</th>\n",
       "      <td>aadi</td>\n",
       "      <td>Sneakers For Men</td>\n",
       "      <td>₹439</td>\n",
       "    </tr>\n",
       "    <tr>\n",
       "      <th>10</th>\n",
       "      <td>BRUTON</td>\n",
       "      <td>Modern Trendy Sneakers Shoes Sneakers For Men</td>\n",
       "      <td>₹297</td>\n",
       "    </tr>\n",
       "    <tr>\n",
       "      <th>11</th>\n",
       "      <td>BRUTON</td>\n",
       "      <td>Lite Casual Shoes Sneakers For Men</td>\n",
       "      <td>₹499</td>\n",
       "    </tr>\n",
       "    <tr>\n",
       "      <th>12</th>\n",
       "      <td>U.S. POLO ASSN.</td>\n",
       "      <td>CLARKIN Sneakers For Men</td>\n",
       "      <td>₹1,249</td>\n",
       "    </tr>\n",
       "    <tr>\n",
       "      <th>13</th>\n",
       "      <td>PM TRADERS</td>\n",
       "      <td>Mesh| Lightweight| Premiun| Comfort| Summer Te...</td>\n",
       "      <td>₹1,039</td>\n",
       "    </tr>\n",
       "    <tr>\n",
       "      <th>14</th>\n",
       "      <td>URBANBOX</td>\n",
       "      <td>Trending Stylish Casual Outdoor Shoes Sneakers...</td>\n",
       "      <td>₹449</td>\n",
       "    </tr>\n",
       "    <tr>\n",
       "      <th>15</th>\n",
       "      <td>ATOM</td>\n",
       "      <td>Spring Edge Alpha 2 Sneakers For Men</td>\n",
       "      <td>₹1,139</td>\n",
       "    </tr>\n",
       "    <tr>\n",
       "      <th>16</th>\n",
       "      <td>BRUTON</td>\n",
       "      <td>Sneaker Sneakers For Men</td>\n",
       "      <td>₹297</td>\n",
       "    </tr>\n",
       "    <tr>\n",
       "      <th>17</th>\n",
       "      <td>BRUTON</td>\n",
       "      <td>Modern Trendy Shoes Sneakers For Men</td>\n",
       "      <td>₹297</td>\n",
       "    </tr>\n",
       "    <tr>\n",
       "      <th>18</th>\n",
       "      <td>RapidBox</td>\n",
       "      <td>Sneakers For Men</td>\n",
       "      <td>₹795</td>\n",
       "    </tr>\n",
       "    <tr>\n",
       "      <th>19</th>\n",
       "      <td>asian</td>\n",
       "      <td>Sneaker Casual Shoes For Men | Soft Cushion In...</td>\n",
       "      <td>₹777</td>\n",
       "    </tr>\n",
       "    <tr>\n",
       "      <th>20</th>\n",
       "      <td>BRUTON</td>\n",
       "      <td>Modern Trendy Shoes Sneakers For Men</td>\n",
       "      <td>₹297</td>\n",
       "    </tr>\n",
       "    <tr>\n",
       "      <th>21</th>\n",
       "      <td>aadi</td>\n",
       "      <td>Mesh |Lightweight|Comfort|Summer|Trendy|Walkin...</td>\n",
       "      <td>₹299</td>\n",
       "    </tr>\n",
       "    <tr>\n",
       "      <th>22</th>\n",
       "      <td>aadi</td>\n",
       "      <td>Mesh |Lightweight|Comfort|Summer|Trendy|Walkin...</td>\n",
       "      <td>₹299</td>\n",
       "    </tr>\n",
       "    <tr>\n",
       "      <th>23</th>\n",
       "      <td>aadi</td>\n",
       "      <td>Sneakers For Men</td>\n",
       "      <td>₹425</td>\n",
       "    </tr>\n",
       "    <tr>\n",
       "      <th>24</th>\n",
       "      <td>asian</td>\n",
       "      <td>Flat Sole Sneakers Shoes for all Day wear with...</td>\n",
       "      <td>₹777</td>\n",
       "    </tr>\n",
       "    <tr>\n",
       "      <th>25</th>\n",
       "      <td>asian</td>\n",
       "      <td>Casual Sneakers Shoes For Men Mexico-11 Sneake...</td>\n",
       "      <td>₹749</td>\n",
       "    </tr>\n",
       "    <tr>\n",
       "      <th>26</th>\n",
       "      <td>BRUTON</td>\n",
       "      <td>Trendy &amp; Stylish Casual Shoes Sneakers For Men</td>\n",
       "      <td>₹449</td>\n",
       "    </tr>\n",
       "    <tr>\n",
       "      <th>27</th>\n",
       "      <td>BRUTON</td>\n",
       "      <td>Trendy &amp; Stylish Casual Shoes Sneakers For Men</td>\n",
       "      <td>₹297</td>\n",
       "    </tr>\n",
       "    <tr>\n",
       "      <th>28</th>\n",
       "      <td>PM TRADERS</td>\n",
       "      <td>Mesh| Lightweight| Premiun| Comfort| Summer Te...</td>\n",
       "      <td>₹1,039</td>\n",
       "    </tr>\n",
       "    <tr>\n",
       "      <th>29</th>\n",
       "      <td>PUMA</td>\n",
       "      <td>Puma Shuffle Ultra Sneakers For Men</td>\n",
       "      <td>₹1,699</td>\n",
       "    </tr>\n",
       "    <tr>\n",
       "      <th>30</th>\n",
       "      <td>BRUTON</td>\n",
       "      <td>Combo Pack Of 4 Casual Loafer Shoes Sneakers F...</td>\n",
       "      <td>₹599</td>\n",
       "    </tr>\n",
       "    <tr>\n",
       "      <th>31</th>\n",
       "      <td>BRUTON</td>\n",
       "      <td>Trendy &amp; Stylish Sneakers Shoes Sneakers For Men</td>\n",
       "      <td>₹297</td>\n",
       "    </tr>\n",
       "    <tr>\n",
       "      <th>32</th>\n",
       "      <td>VENDOZ</td>\n",
       "      <td>Casual Stylish Trending Sneakers For Women</td>\n",
       "      <td>₹629</td>\n",
       "    </tr>\n",
       "    <tr>\n",
       "      <th>33</th>\n",
       "      <td>VENDOZ</td>\n",
       "      <td>Sneakers For Women</td>\n",
       "      <td>₹599</td>\n",
       "    </tr>\n",
       "    <tr>\n",
       "      <th>34</th>\n",
       "      <td>PM TRADERS</td>\n",
       "      <td>Mesh| Lightweight| Premiun| Comfort| Summer Te...</td>\n",
       "      <td>₹1,039</td>\n",
       "    </tr>\n",
       "    <tr>\n",
       "      <th>35</th>\n",
       "      <td>asian</td>\n",
       "      <td>Casual Sneakers Shoes For Men Mexico-11 Sneake...</td>\n",
       "      <td>₹749</td>\n",
       "    </tr>\n",
       "    <tr>\n",
       "      <th>36</th>\n",
       "      <td>BRUTON</td>\n",
       "      <td>Trendy &amp; Stylish Casual Shoes Sneakers For Men</td>\n",
       "      <td>₹498</td>\n",
       "    </tr>\n",
       "    <tr>\n",
       "      <th>37</th>\n",
       "      <td>BRUTON</td>\n",
       "      <td>Modern Trendy Sneakers Shoes Sneakers For Men</td>\n",
       "      <td>₹297</td>\n",
       "    </tr>\n",
       "    <tr>\n",
       "      <th>38</th>\n",
       "      <td>HRX by Hrithik Roshan</td>\n",
       "      <td>URBAN CHUNKY Sneakers For Men</td>\n",
       "      <td>₹814</td>\n",
       "    </tr>\n",
       "    <tr>\n",
       "      <th>39</th>\n",
       "      <td>Red Tape</td>\n",
       "      <td>Sneaker Casual Shoes for Men | Soft Cushioned ...</td>\n",
       "      <td>₹1,029</td>\n",
       "    </tr>\n",
       "  </tbody>\n",
       "</table>\n",
       "</div>"
      ],
      "text/plain": [
       "                   Brands                                Product_Description  \\\n",
       "0                  BRUTON               Modern Trendy Shoes Sneakers For Men   \n",
       "1                URBANBOX  Trending Stylish Casual Outdoor Shoes Sneakers...   \n",
       "2                    PUMA                         Cliff IDP Sneakers For Men   \n",
       "3               Deals4you                                 Sneakers For Women   \n",
       "4                    aadi  Lightweight,Comfort,Summer,Trendy,Walking,Outd...   \n",
       "5             bacca bucci  OG TerraForge Low-Top Series: Bold Street-Read...   \n",
       "6                  BRUTON                     Modern Trendy Sneakers For Men   \n",
       "7                  BRUTON           Exclusive Sneaker Shoes Sneakers For Men   \n",
       "8                   Abros                             LEXUS Sneakers For Men   \n",
       "9                    aadi                                   Sneakers For Men   \n",
       "10                 BRUTON      Modern Trendy Sneakers Shoes Sneakers For Men   \n",
       "11                 BRUTON                 Lite Casual Shoes Sneakers For Men   \n",
       "12        U.S. POLO ASSN.                           CLARKIN Sneakers For Men   \n",
       "13             PM TRADERS  Mesh| Lightweight| Premiun| Comfort| Summer Te...   \n",
       "14               URBANBOX  Trending Stylish Casual Outdoor Shoes Sneakers...   \n",
       "15                   ATOM               Spring Edge Alpha 2 Sneakers For Men   \n",
       "16                 BRUTON                           Sneaker Sneakers For Men   \n",
       "17                 BRUTON               Modern Trendy Shoes Sneakers For Men   \n",
       "18               RapidBox                                   Sneakers For Men   \n",
       "19                  asian  Sneaker Casual Shoes For Men | Soft Cushion In...   \n",
       "20                 BRUTON               Modern Trendy Shoes Sneakers For Men   \n",
       "21                   aadi  Mesh |Lightweight|Comfort|Summer|Trendy|Walkin...   \n",
       "22                   aadi  Mesh |Lightweight|Comfort|Summer|Trendy|Walkin...   \n",
       "23                   aadi                                   Sneakers For Men   \n",
       "24                  asian  Flat Sole Sneakers Shoes for all Day wear with...   \n",
       "25                  asian  Casual Sneakers Shoes For Men Mexico-11 Sneake...   \n",
       "26                 BRUTON     Trendy & Stylish Casual Shoes Sneakers For Men   \n",
       "27                 BRUTON     Trendy & Stylish Casual Shoes Sneakers For Men   \n",
       "28             PM TRADERS  Mesh| Lightweight| Premiun| Comfort| Summer Te...   \n",
       "29                   PUMA                Puma Shuffle Ultra Sneakers For Men   \n",
       "30                 BRUTON  Combo Pack Of 4 Casual Loafer Shoes Sneakers F...   \n",
       "31                 BRUTON   Trendy & Stylish Sneakers Shoes Sneakers For Men   \n",
       "32                 VENDOZ         Casual Stylish Trending Sneakers For Women   \n",
       "33                 VENDOZ                                 Sneakers For Women   \n",
       "34             PM TRADERS  Mesh| Lightweight| Premiun| Comfort| Summer Te...   \n",
       "35                  asian  Casual Sneakers Shoes For Men Mexico-11 Sneake...   \n",
       "36                 BRUTON     Trendy & Stylish Casual Shoes Sneakers For Men   \n",
       "37                 BRUTON      Modern Trendy Sneakers Shoes Sneakers For Men   \n",
       "38  HRX by Hrithik Roshan                      URBAN CHUNKY Sneakers For Men   \n",
       "39               Red Tape  Sneaker Casual Shoes for Men | Soft Cushioned ...   \n",
       "\n",
       "    Prices  \n",
       "0     ₹297  \n",
       "1     ₹449  \n",
       "2   ₹1,047  \n",
       "3     ₹399  \n",
       "4     ₹299  \n",
       "5   ₹1,699  \n",
       "6     ₹297  \n",
       "7     ₹297  \n",
       "8     ₹949  \n",
       "9     ₹439  \n",
       "10    ₹297  \n",
       "11    ₹499  \n",
       "12  ₹1,249  \n",
       "13  ₹1,039  \n",
       "14    ₹449  \n",
       "15  ₹1,139  \n",
       "16    ₹297  \n",
       "17    ₹297  \n",
       "18    ₹795  \n",
       "19    ₹777  \n",
       "20    ₹297  \n",
       "21    ₹299  \n",
       "22    ₹299  \n",
       "23    ₹425  \n",
       "24    ₹777  \n",
       "25    ₹749  \n",
       "26    ₹449  \n",
       "27    ₹297  \n",
       "28  ₹1,039  \n",
       "29  ₹1,699  \n",
       "30    ₹599  \n",
       "31    ₹297  \n",
       "32    ₹629  \n",
       "33    ₹599  \n",
       "34  ₹1,039  \n",
       "35    ₹749  \n",
       "36    ₹498  \n",
       "37    ₹297  \n",
       "38    ₹814  \n",
       "39  ₹1,029  "
      ]
     },
     "execution_count": 18,
     "metadata": {},
     "output_type": "execute_result"
    }
   ],
   "source": [
    "df=pd.DataFrame({'Brands':b_l,'Product_Description':p_d_l,'Prices':p_l})\n",
    "df"
   ]
  },
  {
   "cell_type": "code",
   "execution_count": null,
   "id": "84465f05-1c52-45ec-a199-a725b0fc5c9b",
   "metadata": {},
   "outputs": [],
   "source": []
  },
  {
   "cell_type": "markdown",
   "id": "96c8bdf8-bcca-410c-8ad2-fb61bf48fdab",
   "metadata": {},
   "source": [
    "5."
   ]
  },
  {
   "cell_type": "code",
   "execution_count": 1,
   "id": "94abe4e2-bacd-4967-8072-f0d3506bcd64",
   "metadata": {},
   "outputs": [
    {
     "name": "stdout",
     "output_type": "stream",
     "text": [
      "Requirement already satisfied: selenium in c:\\users\\a k sharma\\anaconda3\\lib\\site-packages (4.21.0)\n",
      "Requirement already satisfied: urllib3<3,>=1.26 in c:\\users\\a k sharma\\anaconda3\\lib\\site-packages (from urllib3[socks]<3,>=1.26->selenium) (2.0.7)\n",
      "Requirement already satisfied: trio~=0.17 in c:\\users\\a k sharma\\anaconda3\\lib\\site-packages (from selenium) (0.25.1)\n",
      "Requirement already satisfied: trio-websocket~=0.9 in c:\\users\\a k sharma\\anaconda3\\lib\\site-packages (from selenium) (0.11.1)\n",
      "Requirement already satisfied: certifi>=2021.10.8 in c:\\users\\a k sharma\\anaconda3\\lib\\site-packages (from selenium) (2024.2.2)\n",
      "Requirement already satisfied: typing_extensions>=4.9.0 in c:\\users\\a k sharma\\anaconda3\\lib\\site-packages (from selenium) (4.9.0)\n",
      "Requirement already satisfied: attrs>=23.2.0 in c:\\users\\a k sharma\\anaconda3\\lib\\site-packages (from trio~=0.17->selenium) (23.2.0)\n",
      "Requirement already satisfied: sortedcontainers in c:\\users\\a k sharma\\anaconda3\\lib\\site-packages (from trio~=0.17->selenium) (2.4.0)\n",
      "Requirement already satisfied: idna in c:\\users\\a k sharma\\anaconda3\\lib\\site-packages (from trio~=0.17->selenium) (3.4)\n",
      "Requirement already satisfied: outcome in c:\\users\\a k sharma\\anaconda3\\lib\\site-packages (from trio~=0.17->selenium) (1.3.0.post0)\n",
      "Requirement already satisfied: sniffio>=1.3.0 in c:\\users\\a k sharma\\anaconda3\\lib\\site-packages (from trio~=0.17->selenium) (1.3.0)\n",
      "Requirement already satisfied: cffi>=1.14 in c:\\users\\a k sharma\\anaconda3\\lib\\site-packages (from trio~=0.17->selenium) (1.16.0)\n",
      "Requirement already satisfied: wsproto>=0.14 in c:\\users\\a k sharma\\anaconda3\\lib\\site-packages (from trio-websocket~=0.9->selenium) (1.2.0)\n",
      "Requirement already satisfied: pysocks!=1.5.7,<2.0,>=1.5.6 in c:\\users\\a k sharma\\anaconda3\\lib\\site-packages (from urllib3[socks]<3,>=1.26->selenium) (1.7.1)\n",
      "Requirement already satisfied: pycparser in c:\\users\\a k sharma\\anaconda3\\lib\\site-packages (from cffi>=1.14->trio~=0.17->selenium) (2.21)\n",
      "Requirement already satisfied: h11<1,>=0.9.0 in c:\\users\\a k sharma\\anaconda3\\lib\\site-packages (from wsproto>=0.14->trio-websocket~=0.9->selenium) (0.14.0)\n",
      "Note: you may need to restart the kernel to use updated packages.\n"
     ]
    }
   ],
   "source": [
    "pip install selenium"
   ]
  },
  {
   "cell_type": "code",
   "execution_count": 2,
   "id": "40740982-6415-48ba-ae39-351cec5fbbf6",
   "metadata": {},
   "outputs": [],
   "source": [
    "import selenium\n",
    "import pandas as pd\n",
    "from selenium import webdriver\n",
    "import warnings\n",
    "warnings.filterwarnings('ignore')\n",
    "from selenium.webdriver.common.by import By\n",
    "import time"
   ]
  },
  {
   "cell_type": "code",
   "execution_count": 3,
   "id": "8c381a31-247a-43ce-89e6-8eeabebdf2be",
   "metadata": {},
   "outputs": [],
   "source": [
    "driver=webdriver.Chrome()"
   ]
  },
  {
   "cell_type": "code",
   "execution_count": 4,
   "id": "8f647f9c-c3c0-4ac9-bfbd-524205e63919",
   "metadata": {},
   "outputs": [],
   "source": [
    "driver.get(\"https://www.amazon.in/\")"
   ]
  },
  {
   "cell_type": "code",
   "execution_count": 5,
   "id": "b189357f-2c47-4059-b9ae-1a7d182fb2c6",
   "metadata": {},
   "outputs": [],
   "source": [
    "enter=driver.find_element(By.XPATH,'/html/body/div[1]/header/div/div[1]/div[2]/div/form/div[2]/div[1]/input')\n",
    "enter.send_keys('Laptop')"
   ]
  },
  {
   "cell_type": "code",
   "execution_count": 6,
   "id": "3d5293d1-a1d6-49c8-ad64-7019fb05c48c",
   "metadata": {},
   "outputs": [],
   "source": [
    "search=driver.find_element(By.XPATH,'/html/body/div[1]/header/div/div[1]/div[2]/div/form/div[3]/div/span/input')\n",
    "search.click()"
   ]
  },
  {
   "cell_type": "code",
   "execution_count": 9,
   "id": "20cf7f71-a8cd-493f-94c5-a984fea554e4",
   "metadata": {},
   "outputs": [],
   "source": [
    "filter=driver.find_element(By.XPATH,'/html/body/div[1]/div[1]/div[1]/div[2]/div/div[3]/span/div/div/div/div[6]/ul[2]/span/span[10]/li/span/a/div/label/i')\n",
    "filter.click()"
   ]
  },
  {
   "cell_type": "code",
   "execution_count": 15,
   "id": "2efc4c40-186d-481f-8ce8-c1ddef19eafa",
   "metadata": {},
   "outputs": [],
   "source": [
    "tl=[]\n",
    "rl=[]\n",
    "pl=[]"
   ]
  },
  {
   "cell_type": "code",
   "execution_count": 16,
   "id": "6e836405-2759-4dbe-b51a-ebd71c050c42",
   "metadata": {},
   "outputs": [],
   "source": [
    "titles=driver.find_elements(By.XPATH,'//span[@class=\"a-size-medium a-color-base a-text-normal\"]')\n",
    "t=titles[0:10]\n",
    "for i in t:\n",
    "    title=i.text\n",
    "    tl.append(title)\n",
    "\n",
    "ratings=driver.find_elements(By.XPATH,'//span[@class=\"a-icon-alt\"]')\n",
    "r=ratings[0:10]\n",
    "for i in r:\n",
    "    rating=i.text\n",
    "    rl.append(rating)\n",
    "\n",
    "prices=driver.find_elements(By.XPATH,'//span[@class=\"a-price-whole\"]')\n",
    "p=prices[0:10]\n",
    "for i in p:\n",
    "    price=i.text\n",
    "    pl.append(price)"
   ]
  },
  {
   "cell_type": "code",
   "execution_count": 17,
   "id": "e4310d27-5dcf-4d66-afb3-e5d41d83b744",
   "metadata": {},
   "outputs": [
    {
     "name": "stdout",
     "output_type": "stream",
     "text": [
      "10 10 10\n"
     ]
    }
   ],
   "source": [
    "print(len(tl),len(rl),len(pl))"
   ]
  },
  {
   "cell_type": "code",
   "execution_count": 18,
   "id": "4bb31d54-f7e1-47de-8a19-1c1708c19cd1",
   "metadata": {},
   "outputs": [
    {
     "data": {
      "text/html": [
       "<div>\n",
       "<style scoped>\n",
       "    .dataframe tbody tr th:only-of-type {\n",
       "        vertical-align: middle;\n",
       "    }\n",
       "\n",
       "    .dataframe tbody tr th {\n",
       "        vertical-align: top;\n",
       "    }\n",
       "\n",
       "    .dataframe thead th {\n",
       "        text-align: right;\n",
       "    }\n",
       "</style>\n",
       "<table border=\"1\" class=\"dataframe\">\n",
       "  <thead>\n",
       "    <tr style=\"text-align: right;\">\n",
       "      <th></th>\n",
       "      <th>Title</th>\n",
       "      <th>Rating</th>\n",
       "      <th>Price</th>\n",
       "    </tr>\n",
       "  </thead>\n",
       "  <tbody>\n",
       "    <tr>\n",
       "      <th>0</th>\n",
       "      <td>MSI Modern 14, Intel 12th Gen. i7-1255U, 36CM ...</td>\n",
       "      <td></td>\n",
       "      <td>47,990</td>\n",
       "    </tr>\n",
       "    <tr>\n",
       "      <th>1</th>\n",
       "      <td>HP Laptop 15s, 12th Gen Intel Core i7-1255U, 1...</td>\n",
       "      <td></td>\n",
       "      <td>65,490</td>\n",
       "    </tr>\n",
       "    <tr>\n",
       "      <th>2</th>\n",
       "      <td>Lenovo IdeaPad 3 Intel Core i7 12th Gen 1255U ...</td>\n",
       "      <td></td>\n",
       "      <td>62,009</td>\n",
       "    </tr>\n",
       "    <tr>\n",
       "      <th>3</th>\n",
       "      <td>Chuwi HeroBook Pro 14.1'' Intel Celeron N4020 ...</td>\n",
       "      <td></td>\n",
       "      <td>16,990</td>\n",
       "    </tr>\n",
       "    <tr>\n",
       "      <th>4</th>\n",
       "      <td>ASUS Vivobook 15, Intel Core i7-12650H 12th Ge...</td>\n",
       "      <td></td>\n",
       "      <td>64,990</td>\n",
       "    </tr>\n",
       "    <tr>\n",
       "      <th>5</th>\n",
       "      <td>Lenovo IdeaPad Slim 5 Intel Core i7 13700H 16\"...</td>\n",
       "      <td></td>\n",
       "      <td>84,190</td>\n",
       "    </tr>\n",
       "    <tr>\n",
       "      <th>6</th>\n",
       "      <td>HP Pavilion 14 12th Gen Intel Core i7 16GB SDR...</td>\n",
       "      <td></td>\n",
       "      <td>78,850</td>\n",
       "    </tr>\n",
       "    <tr>\n",
       "      <th>7</th>\n",
       "      <td>Dell [Smartchoice Inspiron 5430 Thin &amp; Light L...</td>\n",
       "      <td></td>\n",
       "      <td>80,490</td>\n",
       "    </tr>\n",
       "    <tr>\n",
       "      <th>8</th>\n",
       "      <td>HP Pavilion 14, 11th Gen Intel Core i7-1195G7,...</td>\n",
       "      <td></td>\n",
       "      <td>66,990</td>\n",
       "    </tr>\n",
       "    <tr>\n",
       "      <th>9</th>\n",
       "      <td>Dell Inspiron 3530 Laptop, 13th Generation Int...</td>\n",
       "      <td></td>\n",
       "      <td>70,149</td>\n",
       "    </tr>\n",
       "  </tbody>\n",
       "</table>\n",
       "</div>"
      ],
      "text/plain": [
       "                                               Title Rating   Price\n",
       "0  MSI Modern 14, Intel 12th Gen. i7-1255U, 36CM ...         47,990\n",
       "1  HP Laptop 15s, 12th Gen Intel Core i7-1255U, 1...         65,490\n",
       "2  Lenovo IdeaPad 3 Intel Core i7 12th Gen 1255U ...         62,009\n",
       "3  Chuwi HeroBook Pro 14.1'' Intel Celeron N4020 ...         16,990\n",
       "4  ASUS Vivobook 15, Intel Core i7-12650H 12th Ge...         64,990\n",
       "5  Lenovo IdeaPad Slim 5 Intel Core i7 13700H 16\"...         84,190\n",
       "6  HP Pavilion 14 12th Gen Intel Core i7 16GB SDR...         78,850\n",
       "7  Dell [Smartchoice Inspiron 5430 Thin & Light L...         80,490\n",
       "8  HP Pavilion 14, 11th Gen Intel Core i7-1195G7,...         66,990\n",
       "9  Dell Inspiron 3530 Laptop, 13th Generation Int...         70,149"
      ]
     },
     "execution_count": 18,
     "metadata": {},
     "output_type": "execute_result"
    }
   ],
   "source": [
    "df=pd.DataFrame({'Title':tl,'Rating':rl,'Price':pl})\n",
    "df"
   ]
  },
  {
   "cell_type": "code",
   "execution_count": null,
   "id": "cf9b719c-e4e0-4cac-8c5e-85774824079c",
   "metadata": {},
   "outputs": [],
   "source": []
  },
  {
   "cell_type": "markdown",
   "id": "b11e8a9f-1371-41f3-ba4b-b7b48b779713",
   "metadata": {},
   "source": [
    "6."
   ]
  },
  {
   "cell_type": "code",
   "execution_count": 19,
   "id": "d415dbd1-4bd8-4908-9e9b-cc3c7f1a7e30",
   "metadata": {},
   "outputs": [
    {
     "name": "stdout",
     "output_type": "stream",
     "text": [
      "Requirement already satisfied: selenium in c:\\users\\a k sharma\\anaconda3\\lib\\site-packages (4.21.0)Note: you may need to restart the kernel to use updated packages.\n",
      "\n",
      "Requirement already satisfied: urllib3<3,>=1.26 in c:\\users\\a k sharma\\anaconda3\\lib\\site-packages (from urllib3[socks]<3,>=1.26->selenium) (2.0.7)\n",
      "Requirement already satisfied: trio~=0.17 in c:\\users\\a k sharma\\anaconda3\\lib\\site-packages (from selenium) (0.25.1)\n",
      "Requirement already satisfied: trio-websocket~=0.9 in c:\\users\\a k sharma\\anaconda3\\lib\\site-packages (from selenium) (0.11.1)\n",
      "Requirement already satisfied: certifi>=2021.10.8 in c:\\users\\a k sharma\\anaconda3\\lib\\site-packages (from selenium) (2024.2.2)\n",
      "Requirement already satisfied: typing_extensions>=4.9.0 in c:\\users\\a k sharma\\anaconda3\\lib\\site-packages (from selenium) (4.9.0)\n",
      "Requirement already satisfied: attrs>=23.2.0 in c:\\users\\a k sharma\\anaconda3\\lib\\site-packages (from trio~=0.17->selenium) (23.2.0)\n",
      "Requirement already satisfied: sortedcontainers in c:\\users\\a k sharma\\anaconda3\\lib\\site-packages (from trio~=0.17->selenium) (2.4.0)\n",
      "Requirement already satisfied: idna in c:\\users\\a k sharma\\anaconda3\\lib\\site-packages (from trio~=0.17->selenium) (3.4)\n",
      "Requirement already satisfied: outcome in c:\\users\\a k sharma\\anaconda3\\lib\\site-packages (from trio~=0.17->selenium) (1.3.0.post0)\n",
      "Requirement already satisfied: sniffio>=1.3.0 in c:\\users\\a k sharma\\anaconda3\\lib\\site-packages (from trio~=0.17->selenium) (1.3.0)\n",
      "Requirement already satisfied: cffi>=1.14 in c:\\users\\a k sharma\\anaconda3\\lib\\site-packages (from trio~=0.17->selenium) (1.16.0)\n",
      "Requirement already satisfied: wsproto>=0.14 in c:\\users\\a k sharma\\anaconda3\\lib\\site-packages (from trio-websocket~=0.9->selenium) (1.2.0)\n",
      "Requirement already satisfied: pysocks!=1.5.7,<2.0,>=1.5.6 in c:\\users\\a k sharma\\anaconda3\\lib\\site-packages (from urllib3[socks]<3,>=1.26->selenium) (1.7.1)\n",
      "Requirement already satisfied: pycparser in c:\\users\\a k sharma\\anaconda3\\lib\\site-packages (from cffi>=1.14->trio~=0.17->selenium) (2.21)\n",
      "Requirement already satisfied: h11<1,>=0.9.0 in c:\\users\\a k sharma\\anaconda3\\lib\\site-packages (from wsproto>=0.14->trio-websocket~=0.9->selenium) (0.14.0)\n"
     ]
    }
   ],
   "source": [
    "pip install selenium"
   ]
  },
  {
   "cell_type": "code",
   "execution_count": 20,
   "id": "5f452f58-83a0-4316-a206-3d61f220d068",
   "metadata": {},
   "outputs": [],
   "source": [
    "import selenium\n",
    "import pandas as pd\n",
    "from selenium import webdriver\n",
    "import warnings\n",
    "warnings.filterwarnings('ignore')\n",
    "from selenium.webdriver.common.by import By\n",
    "import time"
   ]
  },
  {
   "cell_type": "code",
   "execution_count": 23,
   "id": "e9dd29ea-342c-4dc3-b63d-91a943486e06",
   "metadata": {},
   "outputs": [],
   "source": [
    "driver=webdriver.Chrome()"
   ]
  },
  {
   "cell_type": "code",
   "execution_count": 24,
   "id": "87de14c1-ed14-4a50-888f-8fadd5b03239",
   "metadata": {},
   "outputs": [],
   "source": [
    "driver.get(\"https://www.azquotes.com/\")"
   ]
  },
  {
   "cell_type": "code",
   "execution_count": 25,
   "id": "0425ab5a-7e56-4823-9dc8-04e296225c4c",
   "metadata": {},
   "outputs": [],
   "source": [
    "topquotes=driver.find_element(By.XPATH,'/html/body/div[1]/div[1]/div[1]/div/div[3]/ul/li[5]/a')\n",
    "topquotes.click()"
   ]
  },
  {
   "cell_type": "code",
   "execution_count": 32,
   "id": "3fdbb1dc-8b62-480d-989f-c32fc952f720",
   "metadata": {},
   "outputs": [],
   "source": [
    "ql=[]\n",
    "al=[]\n",
    "toql=[]"
   ]
  },
  {
   "cell_type": "code",
   "execution_count": 33,
   "id": "cd0f5989-569f-4fe2-abd6-8648870c791a",
   "metadata": {},
   "outputs": [],
   "source": [
    "start=0\n",
    "end=10\n",
    "for page in range(start,end):\n",
    "    quotes=driver.find_elements(By.XPATH,'//div[@class=\"wrap-block\"]/p/a[2]')\n",
    "    for i in quotes:\n",
    "        ql.append(i.text)\n",
    "\n",
    "    authors=driver.find_elements(By.XPATH,'//div[@class=\"author\"]/a')\n",
    "    for i in authors:\n",
    "        al.append(i.text)\n",
    "\n",
    "    type_of_quotes=driver.find_elements(By.XPATH,'//div[@class=\"ZmyHeo\"]/div/div')\n",
    "    for i in type_of_quotes:\n",
    "        toql.append(i.text)\n",
    "\n",
    "next_button=driver.find_element(By.XPATH,'//div[@class=\"tags\"]/a[1]')\n",
    "next_button.click()\n",
    "time.sleep(3)"
   ]
  },
  {
   "cell_type": "code",
   "execution_count": 34,
   "id": "2a048eb3-4a83-4d2d-9673-444007fba48f",
   "metadata": {},
   "outputs": [
    {
     "name": "stdout",
     "output_type": "stream",
     "text": [
      "1000 1000 0\n"
     ]
    }
   ],
   "source": [
    "print(len(ql),len(al),len(toql))"
   ]
  },
  {
   "cell_type": "code",
   "execution_count": 36,
   "id": "2d4a6330-9fea-4d3d-a63a-44c1409f79d8",
   "metadata": {},
   "outputs": [
    {
     "data": {
      "text/html": [
       "<div>\n",
       "<style scoped>\n",
       "    .dataframe tbody tr th:only-of-type {\n",
       "        vertical-align: middle;\n",
       "    }\n",
       "\n",
       "    .dataframe tbody tr th {\n",
       "        vertical-align: top;\n",
       "    }\n",
       "\n",
       "    .dataframe thead th {\n",
       "        text-align: right;\n",
       "    }\n",
       "</style>\n",
       "<table border=\"1\" class=\"dataframe\">\n",
       "  <thead>\n",
       "    <tr style=\"text-align: right;\">\n",
       "      <th></th>\n",
       "      <th>Quote</th>\n",
       "      <th>Author</th>\n",
       "    </tr>\n",
       "  </thead>\n",
       "  <tbody>\n",
       "    <tr>\n",
       "      <th>0</th>\n",
       "      <td>The essence of strategy is choosing what not t...</td>\n",
       "      <td>Michael Porter</td>\n",
       "    </tr>\n",
       "    <tr>\n",
       "      <th>1</th>\n",
       "      <td>One cannot and must not try to erase the past ...</td>\n",
       "      <td>Golda Meir</td>\n",
       "    </tr>\n",
       "    <tr>\n",
       "      <th>2</th>\n",
       "      <td>Patriotism means to stand by the country. It d...</td>\n",
       "      <td>Theodore Roosevelt</td>\n",
       "    </tr>\n",
       "    <tr>\n",
       "      <th>3</th>\n",
       "      <td>Death is something inevitable. When a man has ...</td>\n",
       "      <td>Nelson Mandela</td>\n",
       "    </tr>\n",
       "    <tr>\n",
       "      <th>4</th>\n",
       "      <td>You have to love a nation that celebrates its ...</td>\n",
       "      <td>Erma Bombeck</td>\n",
       "    </tr>\n",
       "    <tr>\n",
       "      <th>...</th>\n",
       "      <td>...</td>\n",
       "      <td>...</td>\n",
       "    </tr>\n",
       "    <tr>\n",
       "      <th>995</th>\n",
       "      <td>When the going gets weird, the weird turn pro.</td>\n",
       "      <td>Hunter S. Thompson</td>\n",
       "    </tr>\n",
       "    <tr>\n",
       "      <th>996</th>\n",
       "      <td>When a train goes through a tunnel and it gets...</td>\n",
       "      <td>Corrie Ten Boom</td>\n",
       "    </tr>\n",
       "    <tr>\n",
       "      <th>997</th>\n",
       "      <td>If you think you are too small to make a diffe...</td>\n",
       "      <td>Dalai Lama</td>\n",
       "    </tr>\n",
       "    <tr>\n",
       "      <th>998</th>\n",
       "      <td>God doesn't require us to succeed, he only req...</td>\n",
       "      <td>Mother Teresa</td>\n",
       "    </tr>\n",
       "    <tr>\n",
       "      <th>999</th>\n",
       "      <td>Change your thoughts and you change your world.</td>\n",
       "      <td>Norman Vincent Peale</td>\n",
       "    </tr>\n",
       "  </tbody>\n",
       "</table>\n",
       "<p>1000 rows × 2 columns</p>\n",
       "</div>"
      ],
      "text/plain": [
       "                                                 Quote                Author\n",
       "0    The essence of strategy is choosing what not t...        Michael Porter\n",
       "1    One cannot and must not try to erase the past ...            Golda Meir\n",
       "2    Patriotism means to stand by the country. It d...    Theodore Roosevelt\n",
       "3    Death is something inevitable. When a man has ...        Nelson Mandela\n",
       "4    You have to love a nation that celebrates its ...          Erma Bombeck\n",
       "..                                                 ...                   ...\n",
       "995     When the going gets weird, the weird turn pro.    Hunter S. Thompson\n",
       "996  When a train goes through a tunnel and it gets...       Corrie Ten Boom\n",
       "997  If you think you are too small to make a diffe...            Dalai Lama\n",
       "998  God doesn't require us to succeed, he only req...         Mother Teresa\n",
       "999    Change your thoughts and you change your world.  Norman Vincent Peale\n",
       "\n",
       "[1000 rows x 2 columns]"
      ]
     },
     "execution_count": 36,
     "metadata": {},
     "output_type": "execute_result"
    }
   ],
   "source": [
    "df=pd.DataFrame({'Quote':ql,'Author':al})\n",
    "df"
   ]
  },
  {
   "cell_type": "code",
   "execution_count": null,
   "id": "9d072803-49f0-4b7f-bf87-b387cb670351",
   "metadata": {},
   "outputs": [],
   "source": []
  },
  {
   "cell_type": "code",
   "execution_count": null,
   "id": "23af5645-b460-4394-aec9-ce369fbfdc0e",
   "metadata": {},
   "outputs": [],
   "source": []
  },
  {
   "cell_type": "code",
   "execution_count": null,
   "id": "2c13f635-6f18-4079-8ddd-5611239d100d",
   "metadata": {},
   "outputs": [],
   "source": []
  },
  {
   "cell_type": "code",
   "execution_count": null,
   "id": "c871a732-d30b-437c-b4af-37bd1ede39db",
   "metadata": {},
   "outputs": [],
   "source": []
  },
  {
   "cell_type": "code",
   "execution_count": null,
   "id": "1611b6ee-5632-4bac-8109-8c3eac4433e8",
   "metadata": {},
   "outputs": [],
   "source": []
  },
  {
   "cell_type": "code",
   "execution_count": null,
   "id": "8ef4de92-7af9-4137-9cb3-261e4bf0837a",
   "metadata": {},
   "outputs": [],
   "source": []
  },
  {
   "cell_type": "code",
   "execution_count": null,
   "id": "38916b0d-0d36-43bd-823d-e56861950147",
   "metadata": {},
   "outputs": [],
   "source": []
  }
 ],
 "metadata": {
  "kernelspec": {
   "display_name": "Python 3 (ipykernel)",
   "language": "python",
   "name": "python3"
  },
  "language_info": {
   "codemirror_mode": {
    "name": "ipython",
    "version": 3
   },
   "file_extension": ".py",
   "mimetype": "text/x-python",
   "name": "python",
   "nbconvert_exporter": "python",
   "pygments_lexer": "ipython3",
   "version": "3.11.7"
  }
 },
 "nbformat": 4,
 "nbformat_minor": 5
}
