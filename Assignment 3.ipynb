{
 "cells": [
  {
   "cell_type": "markdown",
   "id": "aef07479-a5ae-4664-9305-42e683bab771",
   "metadata": {},
   "source": [
    "1. Sample Text:'Python Exercises, PHP exercises.'\n",
    "Expected Output: Python:Exercises::PHP:exercises:\n"
   ]
  },
  {
   "cell_type": "code",
   "execution_count": 9,
   "id": "ba4f7dc8-7777-4701-b4e4-f47dd80fb0b6",
   "metadata": {},
   "outputs": [],
   "source": [
    "a=('Python Exercises, PHP exercises.')"
   ]
  },
  {
   "cell_type": "code",
   "execution_count": 15,
   "id": "e9663845-03c4-41c1-bc02-fb6eae9c106a",
   "metadata": {},
   "outputs": [
    {
     "data": {
      "text/plain": [
       "'Python:Exercises::PHP:exercises:'"
      ]
     },
     "execution_count": 15,
     "metadata": {},
     "output_type": "execute_result"
    }
   ],
   "source": [
    "a.replace(',', ':'). replace('.',':'). replace(' ',':')"
   ]
  },
  {
   "cell_type": "code",
   "execution_count": null,
   "id": "ac50f13b-9bad-4641-8776-98fef90c940f",
   "metadata": {},
   "outputs": [],
   "source": []
  },
  {
   "cell_type": "markdown",
   "id": "cd824c5a-71a0-480b-a26d-922774774bd2",
   "metadata": {},
   "source": [
    "2.Dictionary- {'SUMMARY' : ['hello, world!', 'XXXXX test', '123four, five:; six...']}\n",
    "Expected output-\n",
    "0      hello world\n",
    "1             test\n",
    "2    four five six\n"
   ]
  },
  {
   "cell_type": "code",
   "execution_count": 2,
   "id": "af62ac94-3f6e-41f9-bca5-1ef693770903",
   "metadata": {},
   "outputs": [],
   "source": [
    "d1={'SUMMARY' : ['hello, world!', 'XXXXX test', '123four, five:; six...']}"
   ]
  },
  {
   "cell_type": "code",
   "execution_count": 3,
   "id": "189d8ce8-0487-4ee6-83bd-ba63446dd6b6",
   "metadata": {},
   "outputs": [
    {
     "data": {
      "text/plain": [
       "{'SUMMARY': ['hello, world!', 'XXXXX test', '123four, five:; six...']}"
      ]
     },
     "execution_count": 3,
     "metadata": {},
     "output_type": "execute_result"
    }
   ],
   "source": [
    "d1"
   ]
  },
  {
   "cell_type": "code",
   "execution_count": 7,
   "id": "9d3a9a6b-8027-4113-99b0-54770aad58ec",
   "metadata": {},
   "outputs": [],
   "source": [
    "import pandas as pd"
   ]
  },
  {
   "cell_type": "code",
   "execution_count": 9,
   "id": "dae791ba-ab57-45d9-8ca1-f06015fc8297",
   "metadata": {},
   "outputs": [],
   "source": [
    "d1={'SUMMARY' : ['hello, world!', 'XXXXX test', '123four, five:; six...']}"
   ]
  },
  {
   "cell_type": "code",
   "execution_count": 11,
   "id": "f16c895e-4ae3-49d8-92d9-809efb043600",
   "metadata": {},
   "outputs": [],
   "source": [
    "df=pd.DataFrame(d1)"
   ]
  },
  {
   "cell_type": "code",
   "execution_count": 12,
   "id": "86136d5e-3380-46fc-825c-806a2015c671",
   "metadata": {},
   "outputs": [
    {
     "name": "stdout",
     "output_type": "stream",
     "text": [
      "                  SUMMARY\n",
      "0           hello, world!\n",
      "1              XXXXX test\n",
      "2  123four, five:; six...\n"
     ]
    }
   ],
   "source": [
    "print(df)"
   ]
  },
  {
   "cell_type": "code",
   "execution_count": 20,
   "id": "d76ed4fa-f90b-4e47-b954-7b5d1b1bceaa",
   "metadata": {},
   "outputs": [],
   "source": [
    "d1['SUMMARY'][0]='hello world'"
   ]
  },
  {
   "cell_type": "code",
   "execution_count": 21,
   "id": "2b02b44e-07a6-4c47-ba84-4d26cb41bfa6",
   "metadata": {},
   "outputs": [
    {
     "data": {
      "text/plain": [
       "{'SUMMARY': ['hello world', 'XXXXX test', '123four, five:; six...']}"
      ]
     },
     "execution_count": 21,
     "metadata": {},
     "output_type": "execute_result"
    }
   ],
   "source": [
    "d1"
   ]
  },
  {
   "cell_type": "code",
   "execution_count": 22,
   "id": "766f4f24-a0fd-45f8-ada4-f81fcbde1bce",
   "metadata": {},
   "outputs": [],
   "source": [
    "d1['SUMMARY'][1]='test'"
   ]
  },
  {
   "cell_type": "code",
   "execution_count": 23,
   "id": "92fe38ac-fba1-4681-9fd3-a6e386b2451d",
   "metadata": {},
   "outputs": [
    {
     "data": {
      "text/plain": [
       "{'SUMMARY': ['hello world', 'test', '123four, five:; six...']}"
      ]
     },
     "execution_count": 23,
     "metadata": {},
     "output_type": "execute_result"
    }
   ],
   "source": [
    "d1"
   ]
  },
  {
   "cell_type": "code",
   "execution_count": 24,
   "id": "ed2f7818-297d-4b4b-8d46-3b29cfdbda21",
   "metadata": {},
   "outputs": [],
   "source": [
    "d1['SUMMARY'][2]='four five six'"
   ]
  },
  {
   "cell_type": "code",
   "execution_count": 25,
   "id": "dfb4cb93-a9af-4baf-8bfd-af2e8e7a3167",
   "metadata": {},
   "outputs": [
    {
     "data": {
      "text/plain": [
       "{'SUMMARY': ['hello world', 'test', 'four five six']}"
      ]
     },
     "execution_count": 25,
     "metadata": {},
     "output_type": "execute_result"
    }
   ],
   "source": [
    "d1"
   ]
  },
  {
   "cell_type": "code",
   "execution_count": 27,
   "id": "53befa0e-499b-43dd-8e40-b6d2224816ff",
   "metadata": {},
   "outputs": [],
   "source": [
    "d2=d1"
   ]
  },
  {
   "cell_type": "code",
   "execution_count": 28,
   "id": "c313dc16-19a0-4845-a7ad-94027861b6a6",
   "metadata": {},
   "outputs": [
    {
     "data": {
      "text/plain": [
       "{'SUMMARY': ['hello world', 'test', 'four five six']}"
      ]
     },
     "execution_count": 28,
     "metadata": {},
     "output_type": "execute_result"
    }
   ],
   "source": [
    "d2"
   ]
  },
  {
   "cell_type": "code",
   "execution_count": 29,
   "id": "8f86a8d1-04c6-4448-a136-7438b4212a97",
   "metadata": {},
   "outputs": [],
   "source": [
    "df=pd.DataFrame(d2)"
   ]
  },
  {
   "cell_type": "code",
   "execution_count": 30,
   "id": "f7e08309-8a66-40df-a88a-2432fecc8fc4",
   "metadata": {},
   "outputs": [
    {
     "data": {
      "text/html": [
       "<div>\n",
       "<style scoped>\n",
       "    .dataframe tbody tr th:only-of-type {\n",
       "        vertical-align: middle;\n",
       "    }\n",
       "\n",
       "    .dataframe tbody tr th {\n",
       "        vertical-align: top;\n",
       "    }\n",
       "\n",
       "    .dataframe thead th {\n",
       "        text-align: right;\n",
       "    }\n",
       "</style>\n",
       "<table border=\"1\" class=\"dataframe\">\n",
       "  <thead>\n",
       "    <tr style=\"text-align: right;\">\n",
       "      <th></th>\n",
       "      <th>SUMMARY</th>\n",
       "    </tr>\n",
       "  </thead>\n",
       "  <tbody>\n",
       "    <tr>\n",
       "      <th>0</th>\n",
       "      <td>hello world</td>\n",
       "    </tr>\n",
       "    <tr>\n",
       "      <th>1</th>\n",
       "      <td>test</td>\n",
       "    </tr>\n",
       "    <tr>\n",
       "      <th>2</th>\n",
       "      <td>four five six</td>\n",
       "    </tr>\n",
       "  </tbody>\n",
       "</table>\n",
       "</div>"
      ],
      "text/plain": [
       "         SUMMARY\n",
       "0    hello world\n",
       "1           test\n",
       "2  four five six"
      ]
     },
     "execution_count": 30,
     "metadata": {},
     "output_type": "execute_result"
    }
   ],
   "source": [
    "df"
   ]
  },
  {
   "cell_type": "code",
   "execution_count": null,
   "id": "74ec4b6b-1a0d-4db4-b686-9e5d390fe080",
   "metadata": {},
   "outputs": [],
   "source": []
  },
  {
   "cell_type": "markdown",
   "id": "594ae8b0-38b3-4326-8c62-d6b5accd4755",
   "metadata": {},
   "source": [
    "3. "
   ]
  },
  {
   "cell_type": "code",
   "execution_count": 35,
   "id": "f6104b2d-f74b-4a7b-805f-68d0445941d7",
   "metadata": {},
   "outputs": [],
   "source": [
    "string1= 'Mango is a sweet fruit and we know it'"
   ]
  },
  {
   "cell_type": "code",
   "execution_count": 36,
   "id": "8e4c242c-0f18-4a38-aa90-f9a9b25d50d9",
   "metadata": {},
   "outputs": [
    {
     "data": {
      "text/plain": [
       "['Mango', 'is', 'a', 'sweet', 'fruit', 'and', 'we', 'know', 'it']"
      ]
     },
     "execution_count": 36,
     "metadata": {},
     "output_type": "execute_result"
    }
   ],
   "source": [
    "string1.split()"
   ]
  },
  {
   "cell_type": "code",
   "execution_count": 37,
   "id": "f68347a1-cb7d-4eeb-99ca-e4ad8fbda55e",
   "metadata": {},
   "outputs": [],
   "source": [
    "import re"
   ]
  },
  {
   "cell_type": "code",
   "execution_count": 52,
   "id": "e33de950-4ff8-427b-bc11-3607794df750",
   "metadata": {},
   "outputs": [
    {
     "name": "stdout",
     "output_type": "stream",
     "text": [
      "['Mango', 'sweet', 'fruit', 'know']\n"
     ]
    }
   ],
   "source": [
    "pattern='\\w{4,}'\n",
    "string1= \"Mango is a sweet fruit and we know it\"\n",
    "matches=re.findall(pattern,string1)\n",
    "print(matches)"
   ]
  },
  {
   "cell_type": "code",
   "execution_count": 56,
   "id": "617ce039-3026-4f29-96c6-60cbcdb0fadb",
   "metadata": {},
   "outputs": [
    {
     "name": "stdout",
     "output_type": "stream",
     "text": [
      "['Mango', 'sweet', 'fruit', 'know']\n"
     ]
    }
   ],
   "source": [
    "pattern=re.compile('\\w{4,}')\n",
    "string1= \"Mango is a sweet fruit and we know it\"\n",
    "matches=pattern.findall(string1)\n",
    "print(matches)"
   ]
  },
  {
   "cell_type": "code",
   "execution_count": 57,
   "id": "efabc3d9-24b8-4ecb-8e78-93dd0bcb694f",
   "metadata": {},
   "outputs": [
    {
     "name": "stdin",
     "output_type": "stream",
     "text": [
      "Enter a Sentence Mango is a sweet fruit and we know it\n"
     ]
    },
    {
     "name": "stdout",
     "output_type": "stream",
     "text": [
      "['Mango', 'sweet', 'fruit', 'know']\n"
     ]
    }
   ],
   "source": [
    "pattern=re.compile('\\w{4,}')\n",
    "string1= input(str(\"Enter a Sentence\"))\n",
    "matches=pattern.findall(string1)\n",
    "print(matches)"
   ]
  },
  {
   "cell_type": "code",
   "execution_count": 60,
   "id": "03ce13c1-22fd-4251-b9ad-9deaf1ffc4be",
   "metadata": {},
   "outputs": [
    {
     "name": "stdin",
     "output_type": "stream",
     "text": [
      "Enter a Sentence Mango is a sweet fruit and we know it\n"
     ]
    },
    {
     "name": "stdout",
     "output_type": "stream",
     "text": [
      "['Mango', 'sweet', 'fruit', 'and', 'know']\n"
     ]
    }
   ],
   "source": [
    "pattern=re.compile('\\w{3,5}')\n",
    "string1= input(str(\"Enter a Sentence\"))\n",
    "matches=pattern.findall(string1)\n",
    "print(matches)"
   ]
  },
  {
   "cell_type": "code",
   "execution_count": null,
   "id": "dcfa6ac6-ec38-4522-9275-9a4706c96f5c",
   "metadata": {},
   "outputs": [],
   "source": []
  },
  {
   "cell_type": "markdown",
   "id": "fbdf70e8-daad-4534-aef2-bb2d72f872ee",
   "metadata": {},
   "source": [
    "5. Sample Text: [\"example (.com)\", \"hr@fliprobo (.com)\", \"github (.com)\", \"Hello (Data Science World)\", \"Data (Scientist)\"]\n",
    "Expected Output:\n",
    "example.com\n",
    "hr@fliprobo.com\n",
    "github.com\n",
    "Hello Data Science World\n",
    "Data Scientist\n"
   ]
  },
  {
   "cell_type": "code",
   "execution_count": 1,
   "id": "4b5c55e0-2c7a-4164-bc9e-be607f4dc83f",
   "metadata": {},
   "outputs": [],
   "source": [
    "list1=[\"example (.com)\", \"hr@fliprobo (.com)\", \"github (.com)\", \"Hello (Data Science World)\", \"Data (Scientist)\"]"
   ]
  },
  {
   "cell_type": "code",
   "execution_count": 2,
   "id": "e3aa50ce-1367-4547-a595-3a585310c08e",
   "metadata": {},
   "outputs": [
    {
     "data": {
      "text/plain": [
       "'example (.com), hr@fliprobo (.com), github (.com), Hello (Data Science World), Data (Scientist)'"
      ]
     },
     "execution_count": 2,
     "metadata": {},
     "output_type": "execute_result"
    }
   ],
   "source": [
    "string1=', '.join(list1)\n",
    "string1"
   ]
  },
  {
   "cell_type": "code",
   "execution_count": 4,
   "id": "c36f9ef3-439e-4ff3-af52-659e9bfa0eaf",
   "metadata": {},
   "outputs": [],
   "source": [
    "import re"
   ]
  },
  {
   "cell_type": "code",
   "execution_count": 49,
   "id": "0c368255-4391-4047-b3bf-a5b5f500075f",
   "metadata": {},
   "outputs": [
    {
     "name": "stdout",
     "output_type": "stream",
     "text": [
      "example .com, hr@fliprobo .com, github .com, Hello Data Science World, Data Scientist\n"
     ]
    }
   ],
   "source": [
    "pattern=re.compile('[()]')\n",
    "string1='example (.com), hr@fliprobo (.com), github (.com), Hello (Data Science World), Data (Scientist)'\n",
    "matches=pattern.sub('',string1)\n",
    "print(matches)"
   ]
  },
  {
   "cell_type": "code",
   "execution_count": 33,
   "id": "ace1b53d-987a-4083-8fa2-2689691dfcbc",
   "metadata": {},
   "outputs": [
    {
     "name": "stdout",
     "output_type": "stream",
     "text": [
      "example.com, hr@fliprobo.com, github.com, Hello Data Science World, Data Scientist\n"
     ]
    }
   ],
   "source": [
    "pattern=re.compile('\\s+\\.')\n",
    "matches='example .com, hr@fliprobo .com, github .com, Hello Data Science World, Data Scientist'\n",
    "endresult=pattern.sub('.',matches)\n",
    "print(endresult)"
   ]
  },
  {
   "cell_type": "code",
   "execution_count": 46,
   "id": "f8901a87-7fdc-48bc-8df5-85d783be6803",
   "metadata": {},
   "outputs": [
    {
     "name": "stdout",
     "output_type": "stream",
     "text": [
      "['hr@fliprobo .com', 'github .com', 'Hello Data Science World', 'Data Scientist']\n"
     ]
    }
   ],
   "source": [
    "pattern=re.compile(',\\s*([^,]+)')\n",
    "matches='example .com, hr@fliprobo .com, github .com, Hello Data Science World, Data Scientist'\n",
    "endresult=pattern.findall(matches)\n",
    "print(endresult)"
   ]
  },
  {
   "cell_type": "code",
   "execution_count": null,
   "id": "2cdba649-199f-4240-a2d0-d0aa965d5d19",
   "metadata": {},
   "outputs": [],
   "source": []
  },
  {
   "cell_type": "markdown",
   "id": "06073f1a-59e3-4c39-8056-eeec0161807a",
   "metadata": {},
   "source": [
    "6. Sample Text: [\"example (.com)\", \"hr@fliprobo (.com)\", \"github (.com)\", \"Hello (Data Science World)\", \"Data (Scientist)\"]\n",
    "Expected Output: [\"example\", \"hr@fliprobo\", \"github\", \"Hello\", \"Data\"]"
   ]
  },
  {
   "cell_type": "code",
   "execution_count": 51,
   "id": "4776d55f-e38f-438d-b63b-7acb64998a23",
   "metadata": {},
   "outputs": [],
   "source": [
    "text1=[\"example (.com)\", \"hr@fliprobo (.com)\", \"github (.com)\", \"Hello (Data Science World)\", \"Data (Scientist)\"]"
   ]
  },
  {
   "cell_type": "code",
   "execution_count": 52,
   "id": "aea4423f-d956-45e9-83c0-77686ea64b4c",
   "metadata": {},
   "outputs": [],
   "source": [
    "string1=', '.join(text1)"
   ]
  },
  {
   "cell_type": "code",
   "execution_count": 53,
   "id": "3fd09b49-29cc-4ab2-8fb9-62800a07095a",
   "metadata": {},
   "outputs": [
    {
     "data": {
      "text/plain": [
       "'example (.com), hr@fliprobo (.com), github (.com), Hello (Data Science World), Data (Scientist)'"
      ]
     },
     "execution_count": 53,
     "metadata": {},
     "output_type": "execute_result"
    }
   ],
   "source": [
    "string1"
   ]
  },
  {
   "cell_type": "code",
   "execution_count": 80,
   "id": "8a2230c5-ff2a-4a07-9e64-a7a0ae33c59a",
   "metadata": {},
   "outputs": [],
   "source": [
    "dd=open('C:\\\\assignment\\\\question.text','w')"
   ]
  },
  {
   "cell_type": "code",
   "execution_count": 81,
   "id": "2cc74804-970d-49d7-9bc5-3be11958c04f",
   "metadata": {},
   "outputs": [],
   "source": [
    "dd.write('example (.com), hr@fliprobo (.com), github (.com), Hello (Data Science World), Data (Scientist). ')\n",
    "dd.close()"
   ]
  },
  {
   "cell_type": "code",
   "execution_count": 104,
   "id": "ecffc6cc-9050-47ba-ba42-332baf092845",
   "metadata": {},
   "outputs": [
    {
     "name": "stdout",
     "output_type": "stream",
     "text": [
      "example (.com), hr@fliprobo (.com), github (.com), Hello (Data Science World), Data (Scientist). \n"
     ]
    }
   ],
   "source": [
    "rfile=open('C:\\\\assignment\\\\question.text','r')\n",
    "file=rfile.read()\n",
    "print(file)"
   ]
  },
  {
   "cell_type": "code",
   "execution_count": 105,
   "id": "15b2d1a5-84b9-4684-bc01-f846397bda99",
   "metadata": {},
   "outputs": [
    {
     "name": "stdout",
     "output_type": "stream",
     "text": [
      "example , hr@fliprobo , github , Hello , Data . \n"
     ]
    }
   ],
   "source": [
    "pattern=re.compile('\\([^)]*\\)')\n",
    "matches=pattern.sub('',file)\n",
    "print(matches)"
   ]
  },
  {
   "cell_type": "code",
   "execution_count": null,
   "id": "edb6ee40-9414-4c14-988a-a3d0bf48ca69",
   "metadata": {},
   "outputs": [],
   "source": []
  },
  {
   "cell_type": "markdown",
   "id": "84668c2b-3530-4333-bf56-f468b31278db",
   "metadata": {},
   "source": [
    "7. Sample text: “ImportanceOfRegularExpressionsInPython\n",
    "Expected Output: [‘Importance’, ‘Of’, ‘Regular’, ‘Expression’, ‘In’, ‘Python’]"
   ]
  },
  {
   "cell_type": "code",
   "execution_count": 62,
   "id": "f35d4408-d59d-4ef3-b92f-75532ecc2f67",
   "metadata": {},
   "outputs": [
    {
     "name": "stdout",
     "output_type": "stream",
     "text": [
      "['Importance', 'Of', 'Regular', 'Expressions', 'In', 'Python']\n"
     ]
    }
   ],
   "source": [
    "pattern=re.compile('[A-Z][a-z]*')\n",
    "string1='ImportanceOfRegularExpressionsInPython'\n",
    "matches=pattern.findall(string1)\n",
    "print(matches)"
   ]
  },
  {
   "cell_type": "code",
   "execution_count": null,
   "id": "13b45f3c-c484-42e2-9a7a-32f5cc3bf35c",
   "metadata": {},
   "outputs": [],
   "source": []
  },
  {
   "cell_type": "markdown",
   "id": "663d6835-3fee-488e-9d92-e4dccd5e82a9",
   "metadata": {},
   "source": [
    "8. Sample Text: “RegularExpression1IsAn2ImportantTopic3InPython\"\n",
    "Expected Output: RegularExpression 1IsAn 2ImportantTopic 3InPython\n"
   ]
  },
  {
   "cell_type": "code",
   "execution_count": 2,
   "id": "b5980238-0ec5-4de0-b4d1-dde170f7e602",
   "metadata": {},
   "outputs": [],
   "source": [
    "import re"
   ]
  },
  {
   "cell_type": "code",
   "execution_count": 37,
   "id": "915111c8-f179-4453-8750-5a62f973a43d",
   "metadata": {},
   "outputs": [
    {
     "name": "stdout",
     "output_type": "stream",
     "text": [
      "RegularExpression \u0001IsAn \u0001ImportantTopic \u0001InPython\n"
     ]
    }
   ],
   "source": [
    "pattern=re.compile('(\\d)')\n",
    "string1='RegularExpression1IsAn2ImportantTopic3InPython'\n",
    "matches=pattern.sub(' \\1',string1)\n",
    "print(matches)"
   ]
  },
  {
   "cell_type": "code",
   "execution_count": null,
   "id": "8b39d375-e800-436f-b61a-e010bd24d041",
   "metadata": {},
   "outputs": [],
   "source": []
  },
  {
   "cell_type": "markdown",
   "id": "cee4b8f3-0dbe-49c6-b623-52d96eec609b",
   "metadata": {},
   "source": [
    "10. Question 10- Use the github link below to read the data and create a dataframe. After creating the dataframe extract the first 6 letters of each country and store in the dataframe under a new column called first_five_letters.\r\n",
    "Github Link-  https://raw.githubusercontent.com/dsrscientist/DSData/master/happiness_score_dataset.csv\r\n"
   ]
  },
  {
   "cell_type": "code",
   "execution_count": 3,
   "id": "eb5f3f83-9f03-4c75-8097-9bf7f95cae8a",
   "metadata": {},
   "outputs": [],
   "source": [
    "import pandas as pd"
   ]
  },
  {
   "cell_type": "code",
   "execution_count": 4,
   "id": "67a89ebe-5453-4f2b-9e04-e505145d1871",
   "metadata": {},
   "outputs": [
    {
     "name": "stdout",
     "output_type": "stream",
     "text": [
      "Country,Region,Happiness Rank,Happiness Score,Standard Error,Economy (GDP per Capita),Family,Health (Life Expectancy),Freedom,Trust (Government Corruption),Generosity,Dystopia Residual\n",
      "Switzerland,Western Europe,1,7.587,0.03411,1.39651,1.34951,0.94143,0.66557,0.41978,0.29678,2.51738\n",
      "Iceland,Western Europe,2,7.561,0.04884,1.30232,1.40223,0.94784,0.62877,0.14145,0.4363,2.70201\n",
      "Denmark,Western Europe,3,7.527,0.03328,1.32548,1.36058,0.87464,0.64938,0.48357,0.34139,2.49204\n",
      "Norway,Western Europe,4,7.522,0.0388,1.459,1.33095,0.88521,0.66973,0.36503,0.34699,2.46531\n",
      "Canada,North America,5,7.427,0.03553,1.32629,1.32261,0.90563,0.63297,0.32957,0.45811,2.45176\n",
      "Finland,Western Europe,6,7.406,0.0314,1.29025,1.31826,0.88911,0.64169,0.41372,0.23351,2.61955\n",
      "Netherlands,Western Europe,7,7.378,0.02799,1.32944,1.28017,0.89284,0.61576,0.31814,0.4761,2.4657\n",
      "Sweden,Western Europe,8,7.364,0.03157,1.33171,1.28907,0.91087,0.6598,0.43844,0.36262,2.37119\n",
      "New Zealand,Australia and New Zealand,9,7.286,0.03371,1.25018,1.31967,0.90837,0.63938,0.42922,0.47501,2.26425\n",
      "Australia,Australia and New Zealand,10,7.284,0.04083,1.33358,1.30923,0.93156,0.65124,0.35637,0.43562,2.26646\n",
      "Israel,Middle East and Northern Africa,11,7.278,0.0347,1.22857,1.22393,0.91387,0.41319,0.07785,0.33172,3.08854\n",
      "Costa Rica,Latin America and Caribbean,12,7.226,0.04454,0.95578,1.23788,0.86027,0.63376,0.10583,0.25497,3.17728\n",
      "Austria,Western Europe,13,7.2,0.03751,1.33723,1.29704,0.89042,0.62433,0.18676,0.33088,2.5332\n",
      "Mexico,Latin America and Caribbean,14,7.187,0.04176,1.02054,0.91451,0.81444,0.48181,0.21312,0.14074,3.60214\n",
      "United States,North America,15,7.119,0.03839,1.39451,1.24711,0.86179,0.54604,0.1589,0.40105,2.51011\n",
      "Brazil,Latin America and Caribbean,16,6.983,0.04076,0.98124,1.23287,0.69702,0.49049,0.17521,0.14574,3.26001\n",
      "Luxembourg,Western Europe,17,6.946,0.03499,1.56391,1.21963,0.91894,0.61583,0.37798,0.28034,1.96961\n",
      "Ireland,Western Europe,18,6.94,0.03676,1.33596,1.36948,0.89533,0.61777,0.28703,0.45901,1.9757\n",
      "Belgium,Western Europe,19,6.937,0.03595,1.30782,1.28566,0.89667,0.5845,0.2254,0.2225,2.41484\n",
      "United Arab Emirates,Middle East and Northern Africa,20,6.901,0.03729,1.42727,1.12575,0.80925,0.64157,0.38583,0.26428,2.24743\n",
      "United Kingdom,Western Europe,21,6.867,0.01866,1.26637,1.28548,0.90943,0.59625,0.32067,0.51912,1.96994\n",
      "Oman,Middle East and Northern Africa,22,6.853,0.05335,1.36011,1.08182,0.76276,0.63274,0.32524,0.21542,2.47489\n",
      "Venezuela,Latin America and Caribbean,23,6.81,0.06476,1.04424,1.25596,0.72052,0.42908,0.11069,0.05841,3.19131\n",
      "Singapore,Southeastern Asia,24,6.798,0.0378,1.52186,1.02,1.02525,0.54252,0.4921,0.31105,1.88501\n",
      "Panama,Latin America and Caribbean,25,6.786,0.0491,1.06353,1.1985,0.79661,0.5421,0.0927,0.24434,2.84848\n",
      "Germany,Western Europe,26,6.75,0.01848,1.32792,1.29937,0.89186,0.61477,0.21843,0.28214,2.11569\n",
      "Chile,Latin America and Caribbean,27,6.67,0.058,1.10715,1.12447,0.85857,0.44132,0.12869,0.33363,2.67585\n",
      "Qatar,Middle East and Northern Africa,28,6.611,0.06257,1.69042,1.0786,0.79733,0.6404,0.52208,0.32573,1.55674\n",
      "France,Western Europe,29,6.575,0.03512,1.27778,1.26038,0.94579,0.55011,0.20646,0.12332,2.21126\n",
      "Argentina,Latin America and Caribbean,30,6.574,0.04612,1.05351,1.24823,0.78723,0.44974,0.08484,0.11451,2.836\n",
      "Czech Republic,Central and Eastern Europe,31,6.505,0.04168,1.17898,1.20643,0.84483,0.46364,0.02652,0.10686,2.67782\n",
      "Uruguay,Latin America and Caribbean,32,6.485,0.04539,1.06166,1.2089,0.8116,0.60362,0.24558,0.2324,2.32142\n",
      "Colombia,Latin America and Caribbean,33,6.477,0.05051,0.91861,1.24018,0.69077,0.53466,0.0512,0.18401,2.85737\n",
      "Thailand,Southeastern Asia,34,6.455,0.03557,0.9669,1.26504,0.7385,0.55664,0.03187,0.5763,2.31945\n",
      "Saudi Arabia,Middle East and Northern Africa,35,6.411,0.04633,1.39541,1.08393,0.72025,0.31048,0.32524,0.13706,2.43872\n",
      "Spain,Western Europe,36,6.329,0.03468,1.23011,1.31379,0.95562,0.45951,0.06398,0.18227,2.12367\n",
      "Malta,Western Europe,37,6.302,0.04206,1.2074,1.30203,0.88721,0.60365,0.13586,0.51752,1.6488\n",
      "Taiwan,Eastern Asia,38,6.298,0.03868,1.29098,1.07617,0.8753,0.3974,0.08129,0.25376,2.32323\n",
      "Kuwait,Middle East and Northern Africa,39,6.295,0.04456,1.55422,1.16594,0.72492,0.55499,0.25609,0.16228,1.87634\n",
      "Suriname,Latin America and Caribbean,40,6.269,0.09811,0.99534,0.972,0.6082,0.59657,0.13633,0.16991,2.79094\n",
      "Trinidad and Tobago,Latin America and Caribbean,41,6.168,0.10895,1.21183,1.18354,0.61483,0.55884,0.0114,0.31844,2.26882\n",
      "El Salvador,Latin America and Caribbean,42,6.13,0.05618,0.76454,1.02507,0.67737,0.4035,0.11776,0.10692,3.035\n",
      "Guatemala,Latin America and Caribbean,43,6.123,0.05224,0.74553,1.04356,0.64425,0.57733,0.09472,0.27489,2.74255\n",
      "Uzbekistan,Central and Eastern Europe,44,6.003,0.04361,0.63244,1.34043,0.59772,0.65821,0.30826,0.22837,2.23741\n",
      "Slovakia,Central and Eastern Europe,45,5.995,0.04267,1.16891,1.26999,0.78902,0.31751,0.03431,0.16893,2.24639\n",
      "Japan,Eastern Asia,46,5.987,0.03581,1.27074,1.25712,0.99111,0.49615,0.1806,0.10705,1.68435\n",
      "South Korea,Eastern Asia,47,5.984,0.04098,1.24461,0.95774,0.96538,0.33208,0.07857,0.18557,2.21978\n",
      "Ecuador,Latin America and Caribbean,48,5.975,0.04528,0.86402,0.99903,0.79075,0.48574,0.1809,0.11541,2.53942\n",
      "Bahrain,Middle East and Northern Africa,49,5.96,0.05412,1.32376,1.21624,0.74716,0.45492,0.306,0.17362,1.73797\n",
      "Italy,Western Europe,50,5.948,0.03914,1.25114,1.19777,0.95446,0.26236,0.02901,0.22823,2.02518\n",
      "Bolivia,Latin America and Caribbean,51,5.89,0.05642,0.68133,0.97841,0.5392,0.57414,0.088,0.20536,2.82334\n",
      "Moldova,Central and Eastern Europe,52,5.889,0.03799,0.59448,1.01528,0.61826,0.32818,0.01615,0.20951,3.10712\n",
      "Paraguay,Latin America and Caribbean,53,5.878,0.04563,0.75985,1.30477,0.66098,0.53899,0.08242,0.3424,2.18896\n",
      "Kazakhstan,Central and Eastern Europe,54,5.855,0.04114,1.12254,1.12241,0.64368,0.51649,0.08454,0.11827,2.24729\n",
      "Slovenia,Central and Eastern Europe,55,5.848,0.04251,1.18498,1.27385,0.87337,0.60855,0.03787,0.25328,1.61583\n",
      "Lithuania,Central and Eastern Europe,56,5.833,0.03843,1.14723,1.25745,0.73128,0.21342,0.01031,0.02641,2.44649\n",
      "Nicaragua,Latin America and Caribbean,57,5.828,0.05371,0.59325,1.14184,0.74314,0.55475,0.19317,0.27815,2.32407\n",
      "Peru,Latin America and Caribbean,58,5.824,0.04615,0.90019,0.97459,0.73017,0.41496,0.05989,0.14982,2.5945\n",
      "Belarus,Central and Eastern Europe,59,5.813,0.03938,1.03192,1.23289,0.73608,0.37938,0.1909,0.11046,2.1309\n",
      "Poland,Central and Eastern Europe,60,5.791,0.04263,1.12555,1.27948,0.77903,0.53122,0.04212,0.16759,1.86565\n",
      "Malaysia,Southeastern Asia,61,5.77,0.0433,1.12486,1.07023,0.72394,0.53024,0.10501,0.33075,1.88541\n",
      "Croatia,Central and Eastern Europe,62,5.759,0.04394,1.08254,0.79624,0.78805,0.25883,0.0243,0.05444,2.75414\n",
      "Libya,Middle East and Northern Africa,63,5.754,0.07832,1.13145,1.11862,0.7038,0.41668,0.11023,0.18295,2.09066\n",
      "Russia,Central and Eastern Europe,64,5.716,0.03135,1.13764,1.23617,0.66926,0.36679,0.03005,0.00199,2.27394\n",
      "Jamaica,Latin America and Caribbean,65,5.709,0.13693,0.81038,1.15102,0.68741,0.50442,0.02299,0.2123,2.32038\n",
      "North Cyprus,Western Europe,66,5.695,0.05635,1.20806,1.07008,0.92356,0.49027,0.1428,0.26169,1.59888\n",
      "Cyprus,Western Europe,67,5.689,0.0558,1.20813,0.89318,0.92356,0.40672,0.06146,0.30638,1.88931\n",
      "Algeria,Middle East and Northern Africa,68,5.605,0.05099,0.93929,1.07772,0.61766,0.28579,0.17383,0.07822,2.43209\n",
      "Kosovo,Central and Eastern Europe,69,5.589,0.05018,0.80148,0.81198,0.63132,0.24749,0.04741,0.2831,2.76579\n",
      "Turkmenistan,Central and Eastern Europe,70,5.548,0.04175,0.95847,1.22668,0.53886,0.4761,0.30844,0.16979,1.86984\n",
      "Mauritius,Sub-Saharan Africa,71,5.477,0.07197,1.00761,0.98521,0.7095,0.56066,0.07521,0.37744,1.76145\n",
      "Hong Kong,Eastern Asia,72,5.474,0.05051,1.38604,1.05818,1.01328,0.59608,0.37124,0.39478,0.65429\n",
      "Estonia,Central and Eastern Europe,73,5.429,0.04013,1.15174,1.22791,0.77361,0.44888,0.15184,0.0868,1.58782\n",
      "Indonesia,Southeastern Asia,74,5.399,0.02596,0.82827,1.08708,0.63793,0.46611,0,0.51535,1.86399\n",
      "Vietnam,Southeastern Asia,75,5.36,0.03107,0.63216,0.91226,0.74676,0.59444,0.10441,0.1686,2.20173\n",
      "Turkey,Middle East and Northern Africa,76,5.332,0.03864,1.06098,0.94632,0.73172,0.22815,0.15746,0.12253,2.08528\n",
      "Kyrgyzstan,Central and Eastern Europe,77,5.286,0.03823,0.47428,1.15115,0.65088,0.43477,0.04232,0.3003,2.2327\n",
      "Nigeria,Sub-Saharan Africa,78,5.268,0.04192,0.65435,0.90432,0.16007,0.34334,0.0403,0.27233,2.89319\n",
      "Bhutan,Southern Asia,79,5.253,0.03225,0.77042,1.10395,0.57407,0.53206,0.15445,0.47998,1.63794\n",
      "Azerbaijan,Central and Eastern Europe,80,5.212,0.03363,1.02389,0.93793,0.64045,0.3703,0.16065,0.07799,2.00073\n",
      "Pakistan,Southern Asia,81,5.194,0.03726,0.59543,0.41411,0.51466,0.12102,0.10464,0.33671,3.10709\n",
      "Jordan,Middle East and Northern Africa,82,5.192,0.04524,0.90198,1.05392,0.69639,0.40661,0.14293,0.11053,1.87996\n",
      "Montenegro,Central and Eastern Europe,82,5.192,0.05235,0.97438,0.90557,0.72521,0.1826,0.14296,0.1614,2.10017\n",
      "China,Eastern Asia,84,5.14,0.02424,0.89012,0.94675,0.81658,0.51697,0.02781,0.08185,1.8604\n",
      "Zambia,Sub-Saharan Africa,85,5.129,0.06988,0.47038,0.91612,0.29924,0.48827,0.12468,0.19591,2.6343\n",
      "Romania,Central and Eastern Europe,86,5.124,0.06607,1.04345,0.88588,0.7689,0.35068,0.00649,0.13748,1.93129\n",
      "Serbia,Central and Eastern Europe,87,5.123,0.04864,0.92053,1.00964,0.74836,0.20107,0.02617,0.19231,2.025\n",
      "Portugal,Western Europe,88,5.102,0.04802,1.15991,1.13935,0.87519,0.51469,0.01078,0.13719,1.26462\n",
      "Latvia,Central and Eastern Europe,89,5.098,0.0464,1.11312,1.09562,0.72437,0.29671,0.06332,0.18226,1.62215\n",
      "Philippines,Southeastern Asia,90,5.073,0.04934,0.70532,1.03516,0.58114,0.62545,0.12279,0.24991,1.7536\n",
      "Somaliland region,Sub-Saharan Africa,91,5.057,0.06161,0.18847,0.95152,0.43873,0.46582,0.39928,0.50318,2.11032\n",
      "Morocco,Middle East and Northern Africa,92,5.013,0.0342,0.73479,0.64095,0.60954,0.41691,0.08546,0.07172,2.45373\n",
      "Macedonia,Central and Eastern Europe,93,5.007,0.05376,0.91851,1.00232,0.73545,0.33457,0.05327,0.22359,1.73933\n",
      "Mozambique,Sub-Saharan Africa,94,4.971,0.07896,0.08308,1.02626,0.09131,0.34037,0.15603,0.22269,3.05137\n",
      "Albania,Central and Eastern Europe,95,4.959,0.05013,0.87867,0.80434,0.81325,0.35733,0.06413,0.14272,1.89894\n",
      "Bosnia and Herzegovina,Central and Eastern Europe,96,4.949,0.06913,0.83223,0.91916,0.79081,0.09245,0.00227,0.24808,2.06367\n",
      "Lesotho,Sub-Saharan Africa,97,4.898,0.09438,0.37545,1.04103,0.07612,0.31767,0.12504,0.16388,2.79832\n",
      "Dominican Republic,Latin America and Caribbean,98,4.885,0.07446,0.89537,1.17202,0.66825,0.57672,0.14234,0.21684,1.21305\n",
      "Laos,Southeastern Asia,99,4.876,0.06698,0.59066,0.73803,0.54909,0.59591,0.24249,0.42192,1.73799\n",
      "Mongolia,Eastern Asia,100,4.874,0.03313,0.82819,1.3006,0.60268,0.43626,0.02666,0.3323,1.34759\n",
      "Swaziland,Sub-Saharan Africa,101,4.867,0.08742,0.71206,1.07284,0.07566,0.30658,0.0306,0.18259,2.48676\n",
      "Greece,Western Europe,102,4.857,0.05062,1.15406,0.92933,0.88213,0.07699,0.01397,0,1.80101\n",
      "Lebanon,Middle East and Northern Africa,103,4.839,0.04337,1.02564,0.80001,0.83947,0.33916,0.04582,0.21854,1.57059\n",
      "Hungary,Central and Eastern Europe,104,4.8,0.06107,1.12094,1.20215,0.75905,0.32112,0.02758,0.128,1.24074\n",
      "Honduras,Latin America and Caribbean,105,4.788,0.05648,0.59532,0.95348,0.6951,0.40148,0.06825,0.23027,1.84408\n",
      "Tajikistan,Central and Eastern Europe,106,4.786,0.03198,0.39047,0.85563,0.57379,0.47216,0.15072,0.22974,2.11399\n",
      "Tunisia,Middle East and Northern Africa,107,4.739,0.03589,0.88113,0.60429,0.73793,0.26268,0.06358,0.06431,2.12466\n",
      "Palestinian Territories,Middle East and Northern Africa,108,4.715,0.04394,0.59867,0.92558,0.66015,0.24499,0.12905,0.11251,2.04384\n",
      "Bangladesh,Southern Asia,109,4.694,0.03077,0.39753,0.43106,0.60164,0.4082,0.12569,0.21222,2.51767\n",
      "Iran,Middle East and Northern Africa,110,4.686,0.04449,1.0088,0.54447,0.69805,0.30033,0.05863,0.38086,1.6944\n",
      "Ukraine,Central and Eastern Europe,111,4.681,0.04412,0.79907,1.20278,0.6739,0.25123,0.02961,0.15275,1.5714\n",
      "Iraq,Middle East and Northern Africa,112,4.677,0.05232,0.98549,0.81889,0.60237,0,0.13788,0.17922,1.95335\n",
      "South Africa,Sub-Saharan Africa,113,4.642,0.04585,0.92049,1.18468,0.27688,0.33207,0.08884,0.11973,1.71956\n",
      "Ghana,Sub-Saharan Africa,114,4.633,0.04742,0.54558,0.67954,0.40132,0.42342,0.04355,0.23087,2.30919\n",
      "Zimbabwe,Sub-Saharan Africa,115,4.61,0.0429,0.271,1.03276,0.33475,0.25861,0.08079,0.18987,2.44191\n",
      "Liberia,Sub-Saharan Africa,116,4.571,0.11068,0.0712,0.78968,0.34201,0.28531,0.06232,0.24362,2.77729\n",
      "India,Southern Asia,117,4.565,0.02043,0.64499,0.38174,0.51529,0.39786,0.08492,0.26475,2.27513\n",
      "Sudan,Sub-Saharan Africa,118,4.55,0.0674,0.52107,1.01404,0.36878,0.10081,0.1466,0.19062,2.20857\n",
      "Haiti,Latin America and Caribbean,119,4.518,0.07331,0.26673,0.74302,0.38847,0.24425,0.17175,0.46187,2.24173\n",
      "Congo (Kinshasa),Sub-Saharan Africa,120,4.517,0.0368,0,1.0012,0.09806,0.22605,0.07625,0.24834,2.86712\n",
      "Nepal,Southern Asia,121,4.514,0.03607,0.35997,0.86449,0.56874,0.38282,0.05907,0.32296,1.95637\n",
      "Ethiopia,Sub-Saharan Africa,122,4.512,0.0378,0.19073,0.60406,0.44055,0.4345,0.15048,0.24325,2.44876\n",
      "Sierra Leone,Sub-Saharan Africa,123,4.507,0.07068,0.33024,0.95571,0,0.4084,0.08786,0.21488,2.51009\n",
      "Mauritania,Sub-Saharan Africa,124,4.436,0.03947,0.45407,0.86908,0.35874,0.24232,0.17461,0.219,2.11773\n",
      "Kenya,Sub-Saharan Africa,125,4.419,0.04734,0.36471,0.99876,0.41435,0.42215,0.05839,0.37542,1.78555\n",
      "Djibouti,Sub-Saharan Africa,126,4.369,0.08096,0.44025,0.59207,0.36291,0.46074,0.28105,0.18093,2.05125\n",
      "Armenia,Central and Eastern Europe,127,4.35,0.04763,0.76821,0.77711,0.7299,0.19847,0.039,0.07855,1.75873\n",
      "Botswana,Sub-Saharan Africa,128,4.332,0.04934,0.99355,1.10464,0.04776,0.49495,0.12474,0.10461,1.46181\n",
      "Myanmar,Southeastern Asia,129,4.307,0.04351,0.27108,0.70905,0.48246,0.44017,0.19034,0.79588,1.41805\n",
      "Georgia,Central and Eastern Europe,130,4.297,0.04221,0.7419,0.38562,0.72926,0.40577,0.38331,0.05547,1.59541\n",
      "Malawi,Sub-Saharan Africa,131,4.292,0.0613,0.01604,0.41134,0.22562,0.43054,0.06977,0.33128,2.80791\n",
      "Sri Lanka,Southern Asia,132,4.271,0.03751,0.83524,1.01905,0.70806,0.53726,0.09179,0.40828,0.67108\n",
      "Cameroon,Sub-Saharan Africa,133,4.252,0.04678,0.4225,0.88767,0.23402,0.49309,0.05786,0.20618,1.95071\n",
      "Bulgaria,Central and Eastern Europe,134,4.218,0.04828,1.01216,1.10614,0.76649,0.30587,0.00872,0.11921,0.89991\n",
      "Egypt,Middle East and Northern Africa,135,4.194,0.0326,0.8818,0.747,0.61712,0.17288,0.06324,0.11291,1.59927\n",
      "Yemen,Middle East and Northern Africa,136,4.077,0.04367,0.54649,0.68093,0.40064,0.35571,0.07854,0.09131,1.92313\n",
      "Angola,Sub-Saharan Africa,137,4.033,0.04758,0.75778,0.8604,0.16683,0.10384,0.07122,0.12344,1.94939\n",
      "Mali,Sub-Saharan Africa,138,3.995,0.05602,0.26074,1.03526,0.20583,0.38857,0.12352,0.18798,1.79293\n",
      "Congo (Brazzaville),Sub-Saharan Africa,139,3.989,0.06682,0.67866,0.6629,0.31051,0.41466,0.11686,0.12388,1.68135\n",
      "Comoros,Sub-Saharan Africa,140,3.956,0.04797,0.23906,0.79273,0.36315,0.22917,0.199,0.17441,1.95812\n",
      "Uganda,Sub-Saharan Africa,141,3.931,0.04317,0.21102,1.13299,0.33861,0.45727,0.07267,0.29066,1.42766\n",
      "Senegal,Sub-Saharan Africa,142,3.904,0.03608,0.36498,0.97619,0.4354,0.36772,0.10713,0.20843,1.44395\n",
      "Gabon,Sub-Saharan Africa,143,3.896,0.04547,1.06024,0.90528,0.43372,0.31914,0.11091,0.06822,0.99895\n",
      "Niger,Sub-Saharan Africa,144,3.845,0.03602,0.0694,0.77265,0.29707,0.47692,0.15639,0.19387,1.87877\n",
      "Cambodia,Southeastern Asia,145,3.819,0.05069,0.46038,0.62736,0.61114,0.66246,0.07247,0.40359,0.98195\n",
      "Tanzania,Sub-Saharan Africa,146,3.781,0.05061,0.2852,1.00268,0.38215,0.32878,0.05747,0.34377,1.38079\n",
      "Madagascar,Sub-Saharan Africa,147,3.681,0.03633,0.20824,0.66801,0.46721,0.19184,0.08124,0.21333,1.851\n",
      "Central African Republic,Sub-Saharan Africa,148,3.678,0.06112,0.0785,0,0.06699,0.48879,0.08289,0.23835,2.7223\n",
      "Chad,Sub-Saharan Africa,149,3.667,0.0383,0.34193,0.76062,0.1501,0.23501,0.05269,0.18386,1.94296\n",
      "Guinea,Sub-Saharan Africa,150,3.656,0.0359,0.17417,0.46475,0.24009,0.37725,0.12139,0.28657,1.99172\n",
      "Ivory Coast,Sub-Saharan Africa,151,3.655,0.05141,0.46534,0.77115,0.15185,0.46866,0.17922,0.20165,1.41723\n",
      "Burkina Faso,Sub-Saharan Africa,152,3.587,0.04324,0.25812,0.85188,0.27125,0.39493,0.12832,0.21747,1.46494\n",
      "Afghanistan,Southern Asia,153,3.575,0.03084,0.31982,0.30285,0.30335,0.23414,0.09719,0.3651,1.9521\n",
      "Rwanda,Sub-Saharan Africa,154,3.465,0.03464,0.22208,0.7737,0.42864,0.59201,0.55191,0.22628,0.67042\n",
      "Benin,Sub-Saharan Africa,155,3.34,0.03656,0.28665,0.35386,0.3191,0.4845,0.0801,0.1826,1.63328\n",
      "Syria,Middle East and Northern Africa,156,3.006,0.05015,0.6632,0.47489,0.72193,0.15684,0.18906,0.47179,0.32858\n",
      "Burundi,Sub-Saharan Africa,157,2.905,0.08658,0.0153,0.41587,0.22396,0.1185,0.10062,0.19727,1.83302\n",
      "Togo,Sub-Saharan Africa,158,2.839,0.06727,0.20868,0.13995,0.28443,0.36453,0.10731,0.16681,1.56726\n"
     ]
    }
   ],
   "source": [
    "rfile=open('C:\\\\assignment\\\\answer.csv','r')\n",
    "print(rfile.read())"
   ]
  },
  {
   "cell_type": "code",
   "execution_count": 5,
   "id": "bcd005bf-07a8-4b34-b68a-b90a49802769",
   "metadata": {},
   "outputs": [],
   "source": [
    "df=pd.read_csv('C:\\\\assignment\\\\answer.csv')"
   ]
  },
  {
   "cell_type": "code",
   "execution_count": 6,
   "id": "4dadd4ab-53bf-411d-ab54-6e182c87f1bd",
   "metadata": {},
   "outputs": [
    {
     "data": {
      "text/html": [
       "<div>\n",
       "<style scoped>\n",
       "    .dataframe tbody tr th:only-of-type {\n",
       "        vertical-align: middle;\n",
       "    }\n",
       "\n",
       "    .dataframe tbody tr th {\n",
       "        vertical-align: top;\n",
       "    }\n",
       "\n",
       "    .dataframe thead th {\n",
       "        text-align: right;\n",
       "    }\n",
       "</style>\n",
       "<table border=\"1\" class=\"dataframe\">\n",
       "  <thead>\n",
       "    <tr style=\"text-align: right;\">\n",
       "      <th></th>\n",
       "      <th>Country</th>\n",
       "      <th>Region</th>\n",
       "      <th>Happiness Rank</th>\n",
       "      <th>Happiness Score</th>\n",
       "      <th>Standard Error</th>\n",
       "      <th>Economy (GDP per Capita)</th>\n",
       "      <th>Family</th>\n",
       "      <th>Health (Life Expectancy)</th>\n",
       "      <th>Freedom</th>\n",
       "      <th>Trust (Government Corruption)</th>\n",
       "      <th>Generosity</th>\n",
       "      <th>Dystopia Residual</th>\n",
       "    </tr>\n",
       "  </thead>\n",
       "  <tbody>\n",
       "    <tr>\n",
       "      <th>0</th>\n",
       "      <td>Switzerland</td>\n",
       "      <td>Western Europe</td>\n",
       "      <td>1</td>\n",
       "      <td>7.587</td>\n",
       "      <td>0.03411</td>\n",
       "      <td>1.39651</td>\n",
       "      <td>1.34951</td>\n",
       "      <td>0.94143</td>\n",
       "      <td>0.66557</td>\n",
       "      <td>0.41978</td>\n",
       "      <td>0.29678</td>\n",
       "      <td>2.51738</td>\n",
       "    </tr>\n",
       "    <tr>\n",
       "      <th>1</th>\n",
       "      <td>Iceland</td>\n",
       "      <td>Western Europe</td>\n",
       "      <td>2</td>\n",
       "      <td>7.561</td>\n",
       "      <td>0.04884</td>\n",
       "      <td>1.30232</td>\n",
       "      <td>1.40223</td>\n",
       "      <td>0.94784</td>\n",
       "      <td>0.62877</td>\n",
       "      <td>0.14145</td>\n",
       "      <td>0.43630</td>\n",
       "      <td>2.70201</td>\n",
       "    </tr>\n",
       "    <tr>\n",
       "      <th>2</th>\n",
       "      <td>Denmark</td>\n",
       "      <td>Western Europe</td>\n",
       "      <td>3</td>\n",
       "      <td>7.527</td>\n",
       "      <td>0.03328</td>\n",
       "      <td>1.32548</td>\n",
       "      <td>1.36058</td>\n",
       "      <td>0.87464</td>\n",
       "      <td>0.64938</td>\n",
       "      <td>0.48357</td>\n",
       "      <td>0.34139</td>\n",
       "      <td>2.49204</td>\n",
       "    </tr>\n",
       "    <tr>\n",
       "      <th>3</th>\n",
       "      <td>Norway</td>\n",
       "      <td>Western Europe</td>\n",
       "      <td>4</td>\n",
       "      <td>7.522</td>\n",
       "      <td>0.03880</td>\n",
       "      <td>1.45900</td>\n",
       "      <td>1.33095</td>\n",
       "      <td>0.88521</td>\n",
       "      <td>0.66973</td>\n",
       "      <td>0.36503</td>\n",
       "      <td>0.34699</td>\n",
       "      <td>2.46531</td>\n",
       "    </tr>\n",
       "    <tr>\n",
       "      <th>4</th>\n",
       "      <td>Canada</td>\n",
       "      <td>North America</td>\n",
       "      <td>5</td>\n",
       "      <td>7.427</td>\n",
       "      <td>0.03553</td>\n",
       "      <td>1.32629</td>\n",
       "      <td>1.32261</td>\n",
       "      <td>0.90563</td>\n",
       "      <td>0.63297</td>\n",
       "      <td>0.32957</td>\n",
       "      <td>0.45811</td>\n",
       "      <td>2.45176</td>\n",
       "    </tr>\n",
       "    <tr>\n",
       "      <th>...</th>\n",
       "      <td>...</td>\n",
       "      <td>...</td>\n",
       "      <td>...</td>\n",
       "      <td>...</td>\n",
       "      <td>...</td>\n",
       "      <td>...</td>\n",
       "      <td>...</td>\n",
       "      <td>...</td>\n",
       "      <td>...</td>\n",
       "      <td>...</td>\n",
       "      <td>...</td>\n",
       "      <td>...</td>\n",
       "    </tr>\n",
       "    <tr>\n",
       "      <th>153</th>\n",
       "      <td>Rwanda</td>\n",
       "      <td>Sub-Saharan Africa</td>\n",
       "      <td>154</td>\n",
       "      <td>3.465</td>\n",
       "      <td>0.03464</td>\n",
       "      <td>0.22208</td>\n",
       "      <td>0.77370</td>\n",
       "      <td>0.42864</td>\n",
       "      <td>0.59201</td>\n",
       "      <td>0.55191</td>\n",
       "      <td>0.22628</td>\n",
       "      <td>0.67042</td>\n",
       "    </tr>\n",
       "    <tr>\n",
       "      <th>154</th>\n",
       "      <td>Benin</td>\n",
       "      <td>Sub-Saharan Africa</td>\n",
       "      <td>155</td>\n",
       "      <td>3.340</td>\n",
       "      <td>0.03656</td>\n",
       "      <td>0.28665</td>\n",
       "      <td>0.35386</td>\n",
       "      <td>0.31910</td>\n",
       "      <td>0.48450</td>\n",
       "      <td>0.08010</td>\n",
       "      <td>0.18260</td>\n",
       "      <td>1.63328</td>\n",
       "    </tr>\n",
       "    <tr>\n",
       "      <th>155</th>\n",
       "      <td>Syria</td>\n",
       "      <td>Middle East and Northern Africa</td>\n",
       "      <td>156</td>\n",
       "      <td>3.006</td>\n",
       "      <td>0.05015</td>\n",
       "      <td>0.66320</td>\n",
       "      <td>0.47489</td>\n",
       "      <td>0.72193</td>\n",
       "      <td>0.15684</td>\n",
       "      <td>0.18906</td>\n",
       "      <td>0.47179</td>\n",
       "      <td>0.32858</td>\n",
       "    </tr>\n",
       "    <tr>\n",
       "      <th>156</th>\n",
       "      <td>Burundi</td>\n",
       "      <td>Sub-Saharan Africa</td>\n",
       "      <td>157</td>\n",
       "      <td>2.905</td>\n",
       "      <td>0.08658</td>\n",
       "      <td>0.01530</td>\n",
       "      <td>0.41587</td>\n",
       "      <td>0.22396</td>\n",
       "      <td>0.11850</td>\n",
       "      <td>0.10062</td>\n",
       "      <td>0.19727</td>\n",
       "      <td>1.83302</td>\n",
       "    </tr>\n",
       "    <tr>\n",
       "      <th>157</th>\n",
       "      <td>Togo</td>\n",
       "      <td>Sub-Saharan Africa</td>\n",
       "      <td>158</td>\n",
       "      <td>2.839</td>\n",
       "      <td>0.06727</td>\n",
       "      <td>0.20868</td>\n",
       "      <td>0.13995</td>\n",
       "      <td>0.28443</td>\n",
       "      <td>0.36453</td>\n",
       "      <td>0.10731</td>\n",
       "      <td>0.16681</td>\n",
       "      <td>1.56726</td>\n",
       "    </tr>\n",
       "  </tbody>\n",
       "</table>\n",
       "<p>158 rows × 12 columns</p>\n",
       "</div>"
      ],
      "text/plain": [
       "         Country                           Region  Happiness Rank  \\\n",
       "0    Switzerland                   Western Europe               1   \n",
       "1        Iceland                   Western Europe               2   \n",
       "2        Denmark                   Western Europe               3   \n",
       "3         Norway                   Western Europe               4   \n",
       "4         Canada                    North America               5   \n",
       "..           ...                              ...             ...   \n",
       "153       Rwanda               Sub-Saharan Africa             154   \n",
       "154        Benin               Sub-Saharan Africa             155   \n",
       "155        Syria  Middle East and Northern Africa             156   \n",
       "156      Burundi               Sub-Saharan Africa             157   \n",
       "157         Togo               Sub-Saharan Africa             158   \n",
       "\n",
       "     Happiness Score  Standard Error  Economy (GDP per Capita)   Family  \\\n",
       "0              7.587         0.03411                   1.39651  1.34951   \n",
       "1              7.561         0.04884                   1.30232  1.40223   \n",
       "2              7.527         0.03328                   1.32548  1.36058   \n",
       "3              7.522         0.03880                   1.45900  1.33095   \n",
       "4              7.427         0.03553                   1.32629  1.32261   \n",
       "..               ...             ...                       ...      ...   \n",
       "153            3.465         0.03464                   0.22208  0.77370   \n",
       "154            3.340         0.03656                   0.28665  0.35386   \n",
       "155            3.006         0.05015                   0.66320  0.47489   \n",
       "156            2.905         0.08658                   0.01530  0.41587   \n",
       "157            2.839         0.06727                   0.20868  0.13995   \n",
       "\n",
       "     Health (Life Expectancy)  Freedom  Trust (Government Corruption)  \\\n",
       "0                     0.94143  0.66557                        0.41978   \n",
       "1                     0.94784  0.62877                        0.14145   \n",
       "2                     0.87464  0.64938                        0.48357   \n",
       "3                     0.88521  0.66973                        0.36503   \n",
       "4                     0.90563  0.63297                        0.32957   \n",
       "..                        ...      ...                            ...   \n",
       "153                   0.42864  0.59201                        0.55191   \n",
       "154                   0.31910  0.48450                        0.08010   \n",
       "155                   0.72193  0.15684                        0.18906   \n",
       "156                   0.22396  0.11850                        0.10062   \n",
       "157                   0.28443  0.36453                        0.10731   \n",
       "\n",
       "     Generosity  Dystopia Residual  \n",
       "0       0.29678            2.51738  \n",
       "1       0.43630            2.70201  \n",
       "2       0.34139            2.49204  \n",
       "3       0.34699            2.46531  \n",
       "4       0.45811            2.45176  \n",
       "..          ...                ...  \n",
       "153     0.22628            0.67042  \n",
       "154     0.18260            1.63328  \n",
       "155     0.47179            0.32858  \n",
       "156     0.19727            1.83302  \n",
       "157     0.16681            1.56726  \n",
       "\n",
       "[158 rows x 12 columns]"
      ]
     },
     "execution_count": 6,
     "metadata": {},
     "output_type": "execute_result"
    }
   ],
   "source": [
    "df"
   ]
  },
  {
   "cell_type": "code",
   "execution_count": 36,
   "id": "7b1af098-aac3-43c2-88b4-6b9181891773",
   "metadata": {},
   "outputs": [
    {
     "data": {
      "text/plain": [
       "0      Switzerland\n",
       "1          Iceland\n",
       "2          Denmark\n",
       "3           Norway\n",
       "4           Canada\n",
       "          ...     \n",
       "153         Rwanda\n",
       "154          Benin\n",
       "155          Syria\n",
       "156        Burundi\n",
       "157           Togo\n",
       "Name: Country, Length: 158, dtype: object"
      ]
     },
     "execution_count": 36,
     "metadata": {},
     "output_type": "execute_result"
    }
   ],
   "source": [
    "df.Country"
   ]
  },
  {
   "cell_type": "code",
   "execution_count": 38,
   "id": "63d100e6-3db9-402d-822e-6a3169144926",
   "metadata": {},
   "outputs": [
    {
     "data": {
      "text/plain": [
       "0      Switze\n",
       "1      Icelan\n",
       "2      Denmar\n",
       "3      Norway\n",
       "4      Canada\n",
       "        ...  \n",
       "153    Rwanda\n",
       "154     Benin\n",
       "155     Syria\n",
       "156    Burund\n",
       "157      Togo\n",
       "Name: Country, Length: 158, dtype: object"
      ]
     },
     "execution_count": 38,
     "metadata": {},
     "output_type": "execute_result"
    }
   ],
   "source": [
    "df.Country.str[:6]"
   ]
  },
  {
   "cell_type": "code",
   "execution_count": 16,
   "id": "69af4670-79db-4ebe-b7a4-c400990d468b",
   "metadata": {},
   "outputs": [],
   "source": [
    "df['firstsix']=df.Country.str[:6]"
   ]
  },
  {
   "cell_type": "code",
   "execution_count": 17,
   "id": "50cdd808-670f-435a-a016-34d696f3ba66",
   "metadata": {},
   "outputs": [
    {
     "data": {
      "text/plain": [
       "0      Switze\n",
       "1      Icelan\n",
       "2      Denmar\n",
       "3      Norway\n",
       "4      Canada\n",
       "        ...  \n",
       "153    Rwanda\n",
       "154     Benin\n",
       "155     Syria\n",
       "156    Burund\n",
       "157      Togo\n",
       "Name: firstsix, Length: 158, dtype: object"
      ]
     },
     "execution_count": 17,
     "metadata": {},
     "output_type": "execute_result"
    }
   ],
   "source": [
    "df.firstsix"
   ]
  },
  {
   "cell_type": "code",
   "execution_count": 18,
   "id": "93eb587e-ca38-489f-bec0-4e6f5f2413b9",
   "metadata": {},
   "outputs": [
    {
     "data": {
      "text/html": [
       "<div>\n",
       "<style scoped>\n",
       "    .dataframe tbody tr th:only-of-type {\n",
       "        vertical-align: middle;\n",
       "    }\n",
       "\n",
       "    .dataframe tbody tr th {\n",
       "        vertical-align: top;\n",
       "    }\n",
       "\n",
       "    .dataframe thead th {\n",
       "        text-align: right;\n",
       "    }\n",
       "</style>\n",
       "<table border=\"1\" class=\"dataframe\">\n",
       "  <thead>\n",
       "    <tr style=\"text-align: right;\">\n",
       "      <th></th>\n",
       "      <th>Country</th>\n",
       "      <th>Region</th>\n",
       "      <th>Happiness Rank</th>\n",
       "      <th>Happiness Score</th>\n",
       "      <th>Standard Error</th>\n",
       "      <th>Economy (GDP per Capita)</th>\n",
       "      <th>Family</th>\n",
       "      <th>Health (Life Expectancy)</th>\n",
       "      <th>Freedom</th>\n",
       "      <th>Trust (Government Corruption)</th>\n",
       "      <th>Generosity</th>\n",
       "      <th>Dystopia Residual</th>\n",
       "      <th>firstsix</th>\n",
       "    </tr>\n",
       "  </thead>\n",
       "  <tbody>\n",
       "    <tr>\n",
       "      <th>0</th>\n",
       "      <td>Switzerland</td>\n",
       "      <td>Western Europe</td>\n",
       "      <td>1</td>\n",
       "      <td>7.587</td>\n",
       "      <td>0.03411</td>\n",
       "      <td>1.39651</td>\n",
       "      <td>1.34951</td>\n",
       "      <td>0.94143</td>\n",
       "      <td>0.66557</td>\n",
       "      <td>0.41978</td>\n",
       "      <td>0.29678</td>\n",
       "      <td>2.51738</td>\n",
       "      <td>Switze</td>\n",
       "    </tr>\n",
       "    <tr>\n",
       "      <th>1</th>\n",
       "      <td>Iceland</td>\n",
       "      <td>Western Europe</td>\n",
       "      <td>2</td>\n",
       "      <td>7.561</td>\n",
       "      <td>0.04884</td>\n",
       "      <td>1.30232</td>\n",
       "      <td>1.40223</td>\n",
       "      <td>0.94784</td>\n",
       "      <td>0.62877</td>\n",
       "      <td>0.14145</td>\n",
       "      <td>0.43630</td>\n",
       "      <td>2.70201</td>\n",
       "      <td>Icelan</td>\n",
       "    </tr>\n",
       "    <tr>\n",
       "      <th>2</th>\n",
       "      <td>Denmark</td>\n",
       "      <td>Western Europe</td>\n",
       "      <td>3</td>\n",
       "      <td>7.527</td>\n",
       "      <td>0.03328</td>\n",
       "      <td>1.32548</td>\n",
       "      <td>1.36058</td>\n",
       "      <td>0.87464</td>\n",
       "      <td>0.64938</td>\n",
       "      <td>0.48357</td>\n",
       "      <td>0.34139</td>\n",
       "      <td>2.49204</td>\n",
       "      <td>Denmar</td>\n",
       "    </tr>\n",
       "    <tr>\n",
       "      <th>3</th>\n",
       "      <td>Norway</td>\n",
       "      <td>Western Europe</td>\n",
       "      <td>4</td>\n",
       "      <td>7.522</td>\n",
       "      <td>0.03880</td>\n",
       "      <td>1.45900</td>\n",
       "      <td>1.33095</td>\n",
       "      <td>0.88521</td>\n",
       "      <td>0.66973</td>\n",
       "      <td>0.36503</td>\n",
       "      <td>0.34699</td>\n",
       "      <td>2.46531</td>\n",
       "      <td>Norway</td>\n",
       "    </tr>\n",
       "    <tr>\n",
       "      <th>4</th>\n",
       "      <td>Canada</td>\n",
       "      <td>North America</td>\n",
       "      <td>5</td>\n",
       "      <td>7.427</td>\n",
       "      <td>0.03553</td>\n",
       "      <td>1.32629</td>\n",
       "      <td>1.32261</td>\n",
       "      <td>0.90563</td>\n",
       "      <td>0.63297</td>\n",
       "      <td>0.32957</td>\n",
       "      <td>0.45811</td>\n",
       "      <td>2.45176</td>\n",
       "      <td>Canada</td>\n",
       "    </tr>\n",
       "    <tr>\n",
       "      <th>...</th>\n",
       "      <td>...</td>\n",
       "      <td>...</td>\n",
       "      <td>...</td>\n",
       "      <td>...</td>\n",
       "      <td>...</td>\n",
       "      <td>...</td>\n",
       "      <td>...</td>\n",
       "      <td>...</td>\n",
       "      <td>...</td>\n",
       "      <td>...</td>\n",
       "      <td>...</td>\n",
       "      <td>...</td>\n",
       "      <td>...</td>\n",
       "    </tr>\n",
       "    <tr>\n",
       "      <th>153</th>\n",
       "      <td>Rwanda</td>\n",
       "      <td>Sub-Saharan Africa</td>\n",
       "      <td>154</td>\n",
       "      <td>3.465</td>\n",
       "      <td>0.03464</td>\n",
       "      <td>0.22208</td>\n",
       "      <td>0.77370</td>\n",
       "      <td>0.42864</td>\n",
       "      <td>0.59201</td>\n",
       "      <td>0.55191</td>\n",
       "      <td>0.22628</td>\n",
       "      <td>0.67042</td>\n",
       "      <td>Rwanda</td>\n",
       "    </tr>\n",
       "    <tr>\n",
       "      <th>154</th>\n",
       "      <td>Benin</td>\n",
       "      <td>Sub-Saharan Africa</td>\n",
       "      <td>155</td>\n",
       "      <td>3.340</td>\n",
       "      <td>0.03656</td>\n",
       "      <td>0.28665</td>\n",
       "      <td>0.35386</td>\n",
       "      <td>0.31910</td>\n",
       "      <td>0.48450</td>\n",
       "      <td>0.08010</td>\n",
       "      <td>0.18260</td>\n",
       "      <td>1.63328</td>\n",
       "      <td>Benin</td>\n",
       "    </tr>\n",
       "    <tr>\n",
       "      <th>155</th>\n",
       "      <td>Syria</td>\n",
       "      <td>Middle East and Northern Africa</td>\n",
       "      <td>156</td>\n",
       "      <td>3.006</td>\n",
       "      <td>0.05015</td>\n",
       "      <td>0.66320</td>\n",
       "      <td>0.47489</td>\n",
       "      <td>0.72193</td>\n",
       "      <td>0.15684</td>\n",
       "      <td>0.18906</td>\n",
       "      <td>0.47179</td>\n",
       "      <td>0.32858</td>\n",
       "      <td>Syria</td>\n",
       "    </tr>\n",
       "    <tr>\n",
       "      <th>156</th>\n",
       "      <td>Burundi</td>\n",
       "      <td>Sub-Saharan Africa</td>\n",
       "      <td>157</td>\n",
       "      <td>2.905</td>\n",
       "      <td>0.08658</td>\n",
       "      <td>0.01530</td>\n",
       "      <td>0.41587</td>\n",
       "      <td>0.22396</td>\n",
       "      <td>0.11850</td>\n",
       "      <td>0.10062</td>\n",
       "      <td>0.19727</td>\n",
       "      <td>1.83302</td>\n",
       "      <td>Burund</td>\n",
       "    </tr>\n",
       "    <tr>\n",
       "      <th>157</th>\n",
       "      <td>Togo</td>\n",
       "      <td>Sub-Saharan Africa</td>\n",
       "      <td>158</td>\n",
       "      <td>2.839</td>\n",
       "      <td>0.06727</td>\n",
       "      <td>0.20868</td>\n",
       "      <td>0.13995</td>\n",
       "      <td>0.28443</td>\n",
       "      <td>0.36453</td>\n",
       "      <td>0.10731</td>\n",
       "      <td>0.16681</td>\n",
       "      <td>1.56726</td>\n",
       "      <td>Togo</td>\n",
       "    </tr>\n",
       "  </tbody>\n",
       "</table>\n",
       "<p>158 rows × 13 columns</p>\n",
       "</div>"
      ],
      "text/plain": [
       "         Country                           Region  Happiness Rank  \\\n",
       "0    Switzerland                   Western Europe               1   \n",
       "1        Iceland                   Western Europe               2   \n",
       "2        Denmark                   Western Europe               3   \n",
       "3         Norway                   Western Europe               4   \n",
       "4         Canada                    North America               5   \n",
       "..           ...                              ...             ...   \n",
       "153       Rwanda               Sub-Saharan Africa             154   \n",
       "154        Benin               Sub-Saharan Africa             155   \n",
       "155        Syria  Middle East and Northern Africa             156   \n",
       "156      Burundi               Sub-Saharan Africa             157   \n",
       "157         Togo               Sub-Saharan Africa             158   \n",
       "\n",
       "     Happiness Score  Standard Error  Economy (GDP per Capita)   Family  \\\n",
       "0              7.587         0.03411                   1.39651  1.34951   \n",
       "1              7.561         0.04884                   1.30232  1.40223   \n",
       "2              7.527         0.03328                   1.32548  1.36058   \n",
       "3              7.522         0.03880                   1.45900  1.33095   \n",
       "4              7.427         0.03553                   1.32629  1.32261   \n",
       "..               ...             ...                       ...      ...   \n",
       "153            3.465         0.03464                   0.22208  0.77370   \n",
       "154            3.340         0.03656                   0.28665  0.35386   \n",
       "155            3.006         0.05015                   0.66320  0.47489   \n",
       "156            2.905         0.08658                   0.01530  0.41587   \n",
       "157            2.839         0.06727                   0.20868  0.13995   \n",
       "\n",
       "     Health (Life Expectancy)  Freedom  Trust (Government Corruption)  \\\n",
       "0                     0.94143  0.66557                        0.41978   \n",
       "1                     0.94784  0.62877                        0.14145   \n",
       "2                     0.87464  0.64938                        0.48357   \n",
       "3                     0.88521  0.66973                        0.36503   \n",
       "4                     0.90563  0.63297                        0.32957   \n",
       "..                        ...      ...                            ...   \n",
       "153                   0.42864  0.59201                        0.55191   \n",
       "154                   0.31910  0.48450                        0.08010   \n",
       "155                   0.72193  0.15684                        0.18906   \n",
       "156                   0.22396  0.11850                        0.10062   \n",
       "157                   0.28443  0.36453                        0.10731   \n",
       "\n",
       "     Generosity  Dystopia Residual firstsix  \n",
       "0       0.29678            2.51738   Switze  \n",
       "1       0.43630            2.70201   Icelan  \n",
       "2       0.34139            2.49204   Denmar  \n",
       "3       0.34699            2.46531   Norway  \n",
       "4       0.45811            2.45176   Canada  \n",
       "..          ...                ...      ...  \n",
       "153     0.22628            0.67042   Rwanda  \n",
       "154     0.18260            1.63328    Benin  \n",
       "155     0.47179            0.32858    Syria  \n",
       "156     0.19727            1.83302   Burund  \n",
       "157     0.16681            1.56726     Togo  \n",
       "\n",
       "[158 rows x 13 columns]"
      ]
     },
     "execution_count": 18,
     "metadata": {},
     "output_type": "execute_result"
    }
   ],
   "source": [
    "df"
   ]
  },
  {
   "cell_type": "code",
   "execution_count": null,
   "id": "9e0f8115-2a80-4959-8b37-4e02a4134d58",
   "metadata": {},
   "outputs": [],
   "source": []
  },
  {
   "cell_type": "markdown",
   "id": "a9f80cd2-2a77-45bf-a352-a24a0c1d7188",
   "metadata": {},
   "source": [
    "11. Question 11- Write a Python program to match a string that contains only upper and lowercase letters, numbers, and underscores."
   ]
  },
  {
   "cell_type": "code",
   "execution_count": 44,
   "id": "c822927b-8334-4caa-8688-e014a657dd56",
   "metadata": {},
   "outputs": [],
   "source": [
    "import re"
   ]
  },
  {
   "cell_type": "code",
   "execution_count": 50,
   "id": "750937d1-1d9e-4125-b8ba-51c9e7836c03",
   "metadata": {},
   "outputs": [
    {
     "name": "stdout",
     "output_type": "stream",
     "text": [
      "['Importance1_O23fRegul_arExpressionsInPython', '']\n"
     ]
    }
   ],
   "source": [
    "pattern=re.compile('[A-Za-z0-9_]*')\n",
    "string1='Importance1_O23fRegul_arExpressionsInPython'\n",
    "matches=pattern.findall(string1)\n",
    "print(matches)"
   ]
  },
  {
   "cell_type": "code",
   "execution_count": null,
   "id": "f3cd9814-828e-4ba3-b98d-27028c708cf9",
   "metadata": {},
   "outputs": [],
   "source": []
  },
  {
   "cell_type": "markdown",
   "id": "cff32108-f810-4e04-b3e5-841325309613",
   "metadata": {},
   "source": [
    "Question 12- Write a Python program where a string will start with a specific number. "
   ]
  },
  {
   "cell_type": "code",
   "execution_count": 61,
   "id": "fef5a47f-073d-45ab-a088-a25f18ac14e5",
   "metadata": {},
   "outputs": [
    {
     "name": "stdin",
     "output_type": "stream",
     "text": [
      "Enter a string 5Importance1_O23fRegul_arExpressionsInPython\n"
     ]
    },
    {
     "name": "stdout",
     "output_type": "stream",
     "text": [
      "['5Importance1_O23fRegul_arExpressionsInPython']\n"
     ]
    }
   ],
   "source": [
    "#start with 5 digit\n",
    "pattern=re.compile('^5[A-Za-z0-9_]*')\n",
    "string1=input(str('Enter a string'))\n",
    "matches=pattern.findall(string1)\n",
    "print(matches)"
   ]
  },
  {
   "cell_type": "code",
   "execution_count": null,
   "id": "1a04bc0a-a48c-4848-964f-e8585345e287",
   "metadata": {},
   "outputs": [],
   "source": []
  },
  {
   "cell_type": "markdown",
   "id": "7172d2a9-aec4-4bf1-b955-5471fdc7cbfc",
   "metadata": {},
   "source": [
    "Question 13- Write a Python program to remove leading zeros from an IP address"
   ]
  },
  {
   "cell_type": "code",
   "execution_count": 64,
   "id": "d06998a3-90ec-4748-a973-a2fc23a6a671",
   "metadata": {},
   "outputs": [
    {
     "name": "stdin",
     "output_type": "stream",
     "text": [
      "Enter a string 192.002.008\n"
     ]
    },
    {
     "name": "stdout",
     "output_type": "stream",
     "text": [
      "192.2.8\n"
     ]
    }
   ],
   "source": [
    "pattern=re.compile('[0]*')\n",
    "string1=input(str('Enter a string'))\n",
    "matches=pattern.sub('',string1)\n",
    "print(matches)"
   ]
  },
  {
   "cell_type": "code",
   "execution_count": 65,
   "id": "460d770d-4617-417e-93d8-16f5aca49059",
   "metadata": {},
   "outputs": [
    {
     "data": {
      "text/plain": [
       "'192.2.8'"
      ]
     },
     "execution_count": 65,
     "metadata": {},
     "output_type": "execute_result"
    }
   ],
   "source": [
    "matches"
   ]
  },
  {
   "cell_type": "code",
   "execution_count": null,
   "id": "01370bb4-3995-4c26-a746-60b93a7bb350",
   "metadata": {},
   "outputs": [],
   "source": []
  },
  {
   "cell_type": "markdown",
   "id": "bd1c0a65-0597-479f-9106-40e017128a56",
   "metadata": {},
   "source": [
    "Question 14- Write a regular expression in python to match a date string in the form of Month name followed by day number and year stored in a text file.\n",
    "Sample text :  ' On August 15th 1947 that India was declared independent from British colonialism, and the reins of control were handed over to the leaders of the Country’.\n",
    "Expected Output- August 15th 1947\n",
    "Note- Store given sample text in the text file and then extract the date string asked format."
   ]
  },
  {
   "cell_type": "code",
   "execution_count": 6,
   "id": "5492af2a-2696-4ede-9120-cb7f91288663",
   "metadata": {},
   "outputs": [],
   "source": [
    "dd=open('C:\\\\assignment\\\\date.text','w')"
   ]
  },
  {
   "cell_type": "code",
   "execution_count": 8,
   "id": "f5d35f15-9d20-4d4b-9487-7561c70bd7b4",
   "metadata": {},
   "outputs": [],
   "source": [
    "dd.write('On August 15th 1947 that India was declared independent from British colonialism, and the reins of control were handed over to the leaders of the Country. ')\n",
    "dd.close()"
   ]
  },
  {
   "cell_type": "code",
   "execution_count": 106,
   "id": "4d8df88d-9dc1-481d-9cff-224242fe5e66",
   "metadata": {},
   "outputs": [
    {
     "name": "stdout",
     "output_type": "stream",
     "text": [
      "On August 15th 1947 that India was declared independent from British colonialism, and the reins of control were handed over to the leaders of the Country. \n"
     ]
    }
   ],
   "source": [
    "rfile=open('C:\\\\assignment\\\\date.text','r')\n",
    "file=rfile.read()\n",
    "print(file)"
   ]
  },
  {
   "cell_type": "code",
   "execution_count": 9,
   "id": "4ecd1d78-f1fe-4799-9a39-837053aab276",
   "metadata": {},
   "outputs": [],
   "source": [
    "import re"
   ]
  },
  {
   "cell_type": "code",
   "execution_count": 172,
   "id": "4863e5f2-08d9-4eb8-b6fb-e55f86949160",
   "metadata": {},
   "outputs": [
    {
     "name": "stdout",
     "output_type": "stream",
     "text": [
      "[('August', '15', 'th', '1947')]\n"
     ]
    }
   ],
   "source": [
    "pattern=re.compile('(January|February|March|April|May|June|July|August|September|October|November|December) (\\d+){1,2}(st|nd|rd|th) (\\d+){1,4}')\n",
    "matches=pattern.findall(file)\n",
    "print(matches)"
   ]
  },
  {
   "cell_type": "code",
   "execution_count": null,
   "id": "6ceddb74-d696-4fd8-aec0-039f13cb8b89",
   "metadata": {},
   "outputs": [],
   "source": []
  },
  {
   "cell_type": "markdown",
   "id": "515a747a-a7ee-4864-b184-1c358ad430d5",
   "metadata": {},
   "source": [
    "15. Question 15- Write a Python program to search some literals strings in a string. \n",
    "Sample text : 'The quick brown fox jumps over the lazy dog.'\n",
    "Searched words : 'fox', 'dog', 'horse'"
   ]
  },
  {
   "cell_type": "code",
   "execution_count": 22,
   "id": "808142c3-effe-40dd-adaa-4b01364fc0e5",
   "metadata": {},
   "outputs": [
    {
     "name": "stdout",
     "output_type": "stream",
     "text": [
      "['fox', 'dog']\n"
     ]
    }
   ],
   "source": [
    "pattern=re.compile('(fox|dog|horse)')\n",
    "string1='The quick brown fox jumps over the lazy dog.'\n",
    "matches=pattern.findall(string1)\n",
    "print(matches)"
   ]
  },
  {
   "cell_type": "code",
   "execution_count": null,
   "id": "21cc9de6-289e-4626-84ba-7aa310e75fe0",
   "metadata": {},
   "outputs": [],
   "source": []
  },
  {
   "cell_type": "markdown",
   "id": "8560bbda-fb91-46bf-aee8-372ae854b357",
   "metadata": {},
   "source": [
    "16. Question 16- Write a Python program to search a literals string in a string and also find the location within the original string where the pattern occurs\n",
    "Sample text : 'The quick brown fox jumps over the lazy dog.'\n",
    "Searched words : 'fox'"
   ]
  },
  {
   "cell_type": "code",
   "execution_count": 42,
   "id": "4a8d4358-cac1-478b-a41f-cc47576a378c",
   "metadata": {},
   "outputs": [
    {
     "name": "stdout",
     "output_type": "stream",
     "text": [
      "['fox']\n"
     ]
    },
    {
     "data": {
      "text/plain": [
       "16"
      ]
     },
     "execution_count": 42,
     "metadata": {},
     "output_type": "execute_result"
    }
   ],
   "source": [
    "pattern=re.compile('(fox)')\n",
    "string1='The quick brown fox jumps over the lazy dog.'\n",
    "matches=pattern.findall(string1)\n",
    "print(matches)\n",
    "string1.find('fox')"
   ]
  },
  {
   "cell_type": "code",
   "execution_count": null,
   "id": "00bf4fa3-0250-4e0f-a3e4-1e4f42bc04ba",
   "metadata": {},
   "outputs": [],
   "source": []
  },
  {
   "cell_type": "markdown",
   "id": "6604d605-b96d-4f26-a4e1-bb025cc1dea0",
   "metadata": {},
   "source": [
    "Question 17- Write a Python program to find the substrings within a string.\n",
    "Sample text : 'Python exercises, PHP exercises, C# exercises'\n",
    "Pattern : 'exercises'."
   ]
  },
  {
   "cell_type": "code",
   "execution_count": 44,
   "id": "26472d7b-22a8-426a-bb55-b58e7b8164b1",
   "metadata": {},
   "outputs": [
    {
     "name": "stdout",
     "output_type": "stream",
     "text": [
      "['exercises', 'exercises', 'exercises']\n"
     ]
    }
   ],
   "source": [
    "pattern=re.compile('(exercises)')\n",
    "string1='Python exercises, PHP exercises, C# exercises'\n",
    "matches=pattern.findall(string1)\n",
    "print(matches)"
   ]
  },
  {
   "cell_type": "code",
   "execution_count": null,
   "id": "c85de948-205c-4ec7-8a24-bb5dc92547eb",
   "metadata": {},
   "outputs": [],
   "source": []
  },
  {
   "cell_type": "markdown",
   "id": "20658f04-b713-4580-a321-0cad9911d57e",
   "metadata": {},
   "source": [
    "18. Question 18- Write a Python program to find the occurrence and position of the substrings within a string."
   ]
  },
  {
   "cell_type": "code",
   "execution_count": 31,
   "id": "d6f4c3bf-f4d8-4254-9c8b-8eeee2f8f338",
   "metadata": {},
   "outputs": [
    {
     "name": "stdout",
     "output_type": "stream",
     "text": [
      "['exercises', 'exercises', 'exercises']\n"
     ]
    }
   ],
   "source": [
    "pattern=re.compile('(exercises)')\n",
    "string1='Python exercises, PHP exercises, C# exercises'\n",
    "matches=pattern.findall(string1)\n",
    "print(matches)"
   ]
  },
  {
   "cell_type": "code",
   "execution_count": 36,
   "id": "2fb2d420-9825-437b-9006-275e494b0b63",
   "metadata": {},
   "outputs": [
    {
     "name": "stdout",
     "output_type": "stream",
     "text": [
      "0\n",
      "1\n",
      "2\n"
     ]
    }
   ],
   "source": [
    "for i,number in enumerate(matches):\n",
    "    if number=='exercises':\n",
    "        print(i)"
   ]
  },
  {
   "cell_type": "code",
   "execution_count": null,
   "id": "5f3655d9-9d12-4ced-9388-dac3bf2edece",
   "metadata": {},
   "outputs": [],
   "source": []
  },
  {
   "cell_type": "markdown",
   "id": "5641e521-4eb2-4ca1-8008-26ef398c17c8",
   "metadata": {},
   "source": [
    "19. Question 19- Write a Python program to convert a date of yyyy-mm-dd format to dd-mm-yyyy format."
   ]
  },
  {
   "cell_type": "code",
   "execution_count": 9,
   "id": "19997638-7832-4cdb-8e84-5c23fe8e6d9c",
   "metadata": {},
   "outputs": [],
   "source": [
    "datein='2024-05-25'\n",
    "dateout=datein.split('-')"
   ]
  },
  {
   "cell_type": "code",
   "execution_count": 10,
   "id": "4d315624-880b-46d3-94ee-43fb49774fea",
   "metadata": {},
   "outputs": [
    {
     "data": {
      "text/plain": [
       "['2024', '05', '25']"
      ]
     },
     "execution_count": 10,
     "metadata": {},
     "output_type": "execute_result"
    }
   ],
   "source": [
    "dateout"
   ]
  },
  {
   "cell_type": "code",
   "execution_count": 14,
   "id": "054b010f-1595-42ef-88cb-f5fc2be6a9c5",
   "metadata": {},
   "outputs": [],
   "source": [
    "datefinal=list(dateout)"
   ]
  },
  {
   "cell_type": "code",
   "execution_count": 15,
   "id": "b75bfca0-0f40-4249-9a34-ec1f210c9757",
   "metadata": {},
   "outputs": [
    {
     "data": {
      "text/plain": [
       "['2024', '05', '25']"
      ]
     },
     "execution_count": 15,
     "metadata": {},
     "output_type": "execute_result"
    }
   ],
   "source": [
    "datefinal"
   ]
  },
  {
   "cell_type": "code",
   "execution_count": 17,
   "id": "13d10762-32d6-4cda-a3ad-c542af9891e8",
   "metadata": {},
   "outputs": [],
   "source": [
    "datefinal.reverse()"
   ]
  },
  {
   "cell_type": "code",
   "execution_count": 19,
   "id": "3d16d78b-5ad2-485d-a86a-60ed60976447",
   "metadata": {},
   "outputs": [
    {
     "name": "stdout",
     "output_type": "stream",
     "text": [
      "['25', '05', '2024']\n"
     ]
    }
   ],
   "source": [
    "print(datefinal)"
   ]
  },
  {
   "cell_type": "code",
   "execution_count": 21,
   "id": "e6fc5c63-553a-4e0c-8c07-0fe4ed4bdb6b",
   "metadata": {},
   "outputs": [],
   "source": [
    "expecteddate= '-'.join(datefinal)"
   ]
  },
  {
   "cell_type": "code",
   "execution_count": 22,
   "id": "be43a790-1ad0-43c1-acb1-f2022396ac4c",
   "metadata": {},
   "outputs": [
    {
     "data": {
      "text/plain": [
       "'25-05-2024'"
      ]
     },
     "execution_count": 22,
     "metadata": {},
     "output_type": "execute_result"
    }
   ],
   "source": [
    "expecteddate"
   ]
  },
  {
   "cell_type": "code",
   "execution_count": 6,
   "id": "397364cb-4f64-4ec6-93b9-fdc058e098a3",
   "metadata": {},
   "outputs": [],
   "source": [
    "from datetime import datetime"
   ]
  },
  {
   "cell_type": "code",
   "execution_count": 7,
   "id": "cd5cd8f2-29a7-4814-be08-269b0c4b72ed",
   "metadata": {},
   "outputs": [
    {
     "name": "stdout",
     "output_type": "stream",
     "text": [
      "25-05-2024\n"
     ]
    }
   ],
   "source": [
    "date1='2024-05-25'\n",
    "dateobject=datetime.strptime(date1,'%Y-%m-%d')\n",
    "date2=dateobject.strftime('%d-%m-%Y')\n",
    "print(date2)"
   ]
  },
  {
   "cell_type": "code",
   "execution_count": null,
   "id": "ce094bfe-c0f7-43c1-aac5-ab5bc8ca9f4c",
   "metadata": {},
   "outputs": [],
   "source": []
  },
  {
   "cell_type": "markdown",
   "id": "fd201dd0-c184-4006-8413-9461e29bb705",
   "metadata": {},
   "source": [
    "20. Question 20- Create a function in python to find all decimal numbers with a precision of 1 or 2 in a string. The use of the re.compile() method is mandatory.\n",
    "Sample Text: \"01.12 0132.123 2.31875 145.8 3.01 27.25 0.25\"\n",
    "Expected Output: ['01.12', '145.8', '3.01', '27.25', '0.25']"
   ]
  },
  {
   "cell_type": "code",
   "execution_count": 24,
   "id": "48776fce-f9fe-43d2-aa59-2433078e9d19",
   "metadata": {},
   "outputs": [],
   "source": [
    "import re"
   ]
  },
  {
   "cell_type": "code",
   "execution_count": 114,
   "id": "b5220e94-94ed-4f3c-93dd-bf4dfbf02b9c",
   "metadata": {},
   "outputs": [
    {
     "name": "stdout",
     "output_type": "stream",
     "text": [
      "['01.12', '0132.12', '2.31', '145.8', '3.01', '27.25', '0.25']\n"
     ]
    }
   ],
   "source": [
    "pattern=re.compile('\\d*\\.\\d{1,2}')\n",
    "string1='01.12 0132.123 2.31875 145.8 3.01 27.25 0.25'\n",
    "matches=pattern.findall(string1)\n",
    "print(matches)"
   ]
  },
  {
   "cell_type": "code",
   "execution_count": null,
   "id": "48c03608-093c-43f0-a508-f44447587b83",
   "metadata": {},
   "outputs": [],
   "source": []
  },
  {
   "cell_type": "markdown",
   "id": "bd830db8-26dd-4a02-9c60-6566e1f5a124",
   "metadata": {},
   "source": [
    "21. Question 21- Write a Python program to separate and print the numbers and their position of a given string."
   ]
  },
  {
   "cell_type": "code",
   "execution_count": 115,
   "id": "7a69a6dd-631c-48cc-b2ea-4122982582c4",
   "metadata": {},
   "outputs": [
    {
     "data": {
      "text/plain": [
       "['01.12', '0132.12', '2.31', '145.8', '3.01', '27.25', '0.25']"
      ]
     },
     "execution_count": 115,
     "metadata": {},
     "output_type": "execute_result"
    }
   ],
   "source": [
    "matches"
   ]
  },
  {
   "cell_type": "code",
   "execution_count": 48,
   "id": "97291004-585a-4547-b2b0-01251a6c4b4c",
   "metadata": {},
   "outputs": [
    {
     "ename": "TypeError",
     "evalue": "list indices must be integers or slices, not str",
     "output_type": "error",
     "traceback": [
      "\u001b[1;31m---------------------------------------------------------------------------\u001b[0m",
      "\u001b[1;31mTypeError\u001b[0m                                 Traceback (most recent call last)",
      "Cell \u001b[1;32mIn[48], line 6\u001b[0m\n\u001b[0;32m      4\u001b[0m     positions[number]\u001b[38;5;241m.\u001b[39mappend(i)\n\u001b[0;32m      5\u001b[0m \u001b[38;5;28;01melse\u001b[39;00m:\n\u001b[1;32m----> 6\u001b[0m     positions[number]\u001b[38;5;241m=\u001b[39m[i]\n\u001b[0;32m      7\u001b[0m     \u001b[38;5;28;01mfor\u001b[39;00m number, positions \u001b[38;5;129;01min\u001b[39;00m positions\u001b[38;5;241m.\u001b[39mitems():\n\u001b[0;32m      8\u001b[0m         \u001b[38;5;28mprint\u001b[39m(i)\n",
      "\u001b[1;31mTypeError\u001b[0m: list indices must be integers or slices, not str"
     ]
    }
   ],
   "source": [
    "positions=[]\n",
    "for i,number in enumerate(matches):\n",
    "    if number in positions:\n",
    "        positions[number].append(i)\n",
    "    else:\n",
    "        positions[number]=[i]\n",
    "        for number, positions in positions.items():\n",
    "            print(i)"
   ]
  },
  {
   "cell_type": "code",
   "execution_count": null,
   "id": "a3566acd-a27a-4063-9716-7ea9685340dd",
   "metadata": {},
   "outputs": [],
   "source": []
  },
  {
   "cell_type": "markdown",
   "id": "b9ae3385-2726-46a9-a5c2-e1ba5077e494",
   "metadata": {},
   "source": [
    "22. Question 22- Write a regular expression in python program to extract maximum/largest numeric value from a string.\n",
    "Sample Text:  'My marks in each semester are: 947, 896, 926, 524, 734, 950, 642'\n",
    "Expected Output: 950"
   ]
  },
  {
   "cell_type": "code",
   "execution_count": 51,
   "id": "7e9f240a-d855-4cbe-9067-3861832dae28",
   "metadata": {},
   "outputs": [
    {
     "name": "stdout",
     "output_type": "stream",
     "text": [
      "['947', '896', '926', '524', '734', '950', '642']\n"
     ]
    }
   ],
   "source": [
    "pattern=re.compile('\\d+')\n",
    "string1='My marks in each semester are: 947, 896, 926, 524, 734, 950, 642'\n",
    "matches=pattern.findall(string1)\n",
    "print(matches)"
   ]
  },
  {
   "cell_type": "code",
   "execution_count": 53,
   "id": "c228c6f0-3073-4400-a654-de81e54ef309",
   "metadata": {},
   "outputs": [],
   "source": [
    "big=max(matches)"
   ]
  },
  {
   "cell_type": "code",
   "execution_count": 54,
   "id": "d19a8385-438a-4ce9-8f24-a178d6dd7180",
   "metadata": {},
   "outputs": [
    {
     "data": {
      "text/plain": [
       "'950'"
      ]
     },
     "execution_count": 54,
     "metadata": {},
     "output_type": "execute_result"
    }
   ],
   "source": [
    "big"
   ]
  },
  {
   "cell_type": "code",
   "execution_count": null,
   "id": "2500dfe6-d00a-4fdb-a244-dee186b1f058",
   "metadata": {},
   "outputs": [],
   "source": []
  },
  {
   "cell_type": "markdown",
   "id": "cea5d585-aa5d-42ee-9f2a-276352d560db",
   "metadata": {},
   "source": [
    "23. Question 23- Create a function in python to insert spaces between words starting with capital letters.\n",
    "Sample Text: “RegularExpressionIsAnImportantTopicInPython\"\n",
    "Expected Output: Regular Expression Is An Important Topic In Python"
   ]
  },
  {
   "cell_type": "code",
   "execution_count": 67,
   "id": "87c937c9-23d9-4348-904a-11e1b4d06e82",
   "metadata": {},
   "outputs": [
    {
     "name": "stdout",
     "output_type": "stream",
     "text": [
      "['Regular', 'Expression', 'Is', 'An', 'Important', 'Topic', 'In', 'Python']\n"
     ]
    }
   ],
   "source": [
    "pattern=re.compile('[A-Z][a-z]*')\n",
    "string1='RegularExpressionIsAnImportantTopicInPython'\n",
    "matches=pattern.findall(string1)\n",
    "print(matches)"
   ]
  },
  {
   "cell_type": "code",
   "execution_count": 68,
   "id": "04ecf046-4694-4a1b-886a-bf19208af99f",
   "metadata": {},
   "outputs": [],
   "source": [
    "final=' '.join(matches)"
   ]
  },
  {
   "cell_type": "code",
   "execution_count": 69,
   "id": "19f8de46-3335-470c-aaa1-a6b42c0ddbdc",
   "metadata": {},
   "outputs": [
    {
     "data": {
      "text/plain": [
       "'Regular Expression Is An Important Topic In Python'"
      ]
     },
     "execution_count": 69,
     "metadata": {},
     "output_type": "execute_result"
    }
   ],
   "source": [
    "final"
   ]
  },
  {
   "cell_type": "code",
   "execution_count": null,
   "id": "08c675f2-8127-438c-8fdd-b10f373c4dda",
   "metadata": {},
   "outputs": [],
   "source": []
  },
  {
   "cell_type": "markdown",
   "id": "314a3183-f59d-4483-9c50-1c2da367c45d",
   "metadata": {},
   "source": [
    "24. Question 24- Python regex to find sequences of one upper case letter followed by lower case letters"
   ]
  },
  {
   "cell_type": "code",
   "execution_count": 77,
   "id": "20a5eaf3-7a97-473c-b74c-255fc4814045",
   "metadata": {},
   "outputs": [
    {
     "name": "stdout",
     "output_type": "stream",
     "text": [
      "['Regular', 'Expression', 'Is', 'An', 'Important', 'Topic', 'In', 'Python', 'Daaaa']\n"
     ]
    }
   ],
   "source": [
    "pattern=re.compile('[A-Z][a-z]+')\n",
    "string1='RegularExpressionIsAnImportantTopicInPython, aaaaadddDDDDaaaa'\n",
    "matches=pattern.findall(string1)\n",
    "print(matches)"
   ]
  },
  {
   "cell_type": "code",
   "execution_count": null,
   "id": "4feebfc0-429e-43a3-893b-056cba8a6e20",
   "metadata": {},
   "outputs": [],
   "source": []
  },
  {
   "cell_type": "markdown",
   "id": "d377e6fb-67b8-45bb-af81-8faf6e8393d5",
   "metadata": {},
   "source": [
    "Question 25- Write a Python program to remove continuous duplicate words from Sentence using Regular Expression.\n",
    "Sample Text: \"Hello hello world world\"\n",
    "Expected Output: Hello hello world"
   ]
  },
  {
   "cell_type": "code",
   "execution_count": 81,
   "id": "c0e25404-db95-415e-9bf2-e36aed407c1a",
   "metadata": {},
   "outputs": [
    {
     "name": "stdout",
     "output_type": "stream",
     "text": [
      "Hello hello world world\n"
     ]
    }
   ],
   "source": [
    "pattern=re.compile('\\b(\\w+)\\b(?:\\s+\\1\\b)+')\n",
    "string1='Hello hello world world'\n",
    "matches=pattern.sub(' \\1',string1)\n",
    "print(matches)"
   ]
  },
  {
   "cell_type": "code",
   "execution_count": null,
   "id": "1e13cd6b-02da-4b89-8798-e83295edcdef",
   "metadata": {},
   "outputs": [],
   "source": []
  },
  {
   "cell_type": "markdown",
   "id": "ffcd32c9-4115-40e2-8967-fbe9a4f437cc",
   "metadata": {},
   "source": [
    "26. Question 26-  Write a python program using RegEx to accept string ending with alphanumeric character."
   ]
  },
  {
   "cell_type": "code",
   "execution_count": 2,
   "id": "0e029f00-e036-4f57-bf4b-1a3fac6859b2",
   "metadata": {},
   "outputs": [],
   "source": [
    "import re"
   ]
  },
  {
   "cell_type": "code",
   "execution_count": 27,
   "id": "af494765-1dd3-4fd0-b3d4-85137ee6645e",
   "metadata": {},
   "outputs": [
    {
     "name": "stdin",
     "output_type": "stream",
     "text": [
      "Enter a sentence hello world!\n"
     ]
    },
    {
     "name": "stdout",
     "output_type": "stream",
     "text": [
      "[]\n"
     ]
    }
   ],
   "source": [
    "pattern=re.compile('.*[A-Za-z0-9]$')\n",
    "string1=input(str('Enter a sentence'))\n",
    "matches=pattern.findall(string1)\n",
    "print(matches)"
   ]
  },
  {
   "cell_type": "code",
   "execution_count": null,
   "id": "a183e26b-0f23-48b8-8c7b-94a5e5e16960",
   "metadata": {},
   "outputs": [],
   "source": []
  },
  {
   "cell_type": "markdown",
   "id": "4a51b441-1622-4c06-9f02-6ba6b6400788",
   "metadata": {},
   "source": [
    "27. Question 27-Write a python program using RegEx to extract the hashtags.\n",
    "Sample Text:  \"\"\"RT @kapil_kausik: #Doltiwal I mean #xyzabc is \"hurt\" by #Demonetization as the same has rendered USELESS <ed><U+00A0><U+00BD><ed><U+00B1><U+0089> \"acquired funds\" No wo\"\"\"\n",
    "Expected Output: ['#Doltiwal', '#xyzabc', '#Demonetization']"
   ]
  },
  {
   "cell_type": "code",
   "execution_count": 48,
   "id": "cd3edc30-1ce5-4269-9c23-76ce73d4364e",
   "metadata": {},
   "outputs": [
    {
     "name": "stdout",
     "output_type": "stream",
     "text": [
      "['#Doltiwal', '#xyzabc', '#Demonetization']\n"
     ]
    }
   ],
   "source": [
    "pattern=re.compile('#[A-Za-z]+')\n",
    "string1=\"\"\"RT @kapil_kausik: #Doltiwal I mean #xyzabc is \"hurt\" by #Demonetization as the same has rendered USELESS <U+00A0><U+00BD><U+00B1><U+0089> \"acquired funds\" No wo\"\"\"\n",
    "matches=pattern.findall(string1)\n",
    "print(matches)"
   ]
  },
  {
   "cell_type": "code",
   "execution_count": null,
   "id": "457b14fb-6091-45a9-8b7c-a29a06e0e8f6",
   "metadata": {},
   "outputs": [],
   "source": []
  },
  {
   "cell_type": "markdown",
   "id": "bad0e04b-53eb-4415-975c-b59aead0c8b3",
   "metadata": {},
   "source": [
    "28. Question 28- Write a python program using RegEx to remove <U+..> like symbols\n",
    "Check the below sample text, there are strange symbols something of the sort <U+..> all over the place. You need to come up with a general Regex expression that will cover all such symbols.\n",
    "Sample Text: \"@Jags123456 Bharat band on 28??<ed><U+00A0><U+00BD><ed><U+00B8><U+0082>Those who  are protesting #demonetization  are all different party leaders\"\n",
    "Expected Output: @Jags123456 Bharat band on 28??<ed><ed>Those who  are protesting #demonetization  are all different party leaders"
   ]
  },
  {
   "cell_type": "code",
   "execution_count": 122,
   "id": "e47d4bd6-8e51-4d50-bc62-27fe979ce7c4",
   "metadata": {},
   "outputs": [
    {
     "name": "stdout",
     "output_type": "stream",
     "text": [
      "@Jags123456 Bharat band on 28??Those who are protesting #demonetization are all different party leaders\n"
     ]
    }
   ],
   "source": [
    "pattern=re.compile('<U.*?>')\n",
    "string1=\"@Jags123456 Bharat band on 28??<U+00A0><U+00BD><U+00B8><U+0082>Those who are protesting #demonetization are all different party leaders\"\n",
    "matches=pattern.sub('',string1)\n",
    "print(matches)"
   ]
  },
  {
   "cell_type": "code",
   "execution_count": null,
   "id": "805b432d-cf00-4637-a808-d2ca6aabb3f5",
   "metadata": {},
   "outputs": [],
   "source": []
  },
  {
   "cell_type": "markdown",
   "id": "4fd823ea-f79d-42c4-88ec-ec1a5b8ac92a",
   "metadata": {},
   "source": [
    "29. Question 29- Write a python program to extract dates from the text stored in the text file.\n",
    "Sample Text: Ron was born on 12-09-1992 and he was admitted to school 15-12-1999.\n",
    "Note- Store this sample text in the file and then extract dates."
   ]
  },
  {
   "cell_type": "code",
   "execution_count": 63,
   "id": "d1f221c9-a276-4992-998a-3f047034cc19",
   "metadata": {},
   "outputs": [],
   "source": [
    "dd=open('C:\\\\assignment\\\\datedata.text','w')"
   ]
  },
  {
   "cell_type": "code",
   "execution_count": 64,
   "id": "3695f2f2-a7d2-48ca-b192-1cd59ddddb86",
   "metadata": {},
   "outputs": [],
   "source": [
    "dd.write('Ron was born on 12-09-1992 and he was admitted to school 15-12-1999 .')\n",
    "dd.close()"
   ]
  },
  {
   "cell_type": "code",
   "execution_count": 71,
   "id": "693e3ac6-3ba7-4f22-b100-a5728fda0fae",
   "metadata": {},
   "outputs": [
    {
     "name": "stdout",
     "output_type": "stream",
     "text": [
      "Ron was born on 12-09-1992 and he was admitted to school 15-12-1999 .\n"
     ]
    }
   ],
   "source": [
    "rfile=open('C:\\\\assignment\\\\datedata.text','r')\n",
    "file=rfile.read()\n",
    "print(file)"
   ]
  },
  {
   "cell_type": "code",
   "execution_count": 72,
   "id": "ea74903b-dd51-43d0-899e-581a7ebe58cd",
   "metadata": {},
   "outputs": [
    {
     "data": {
      "text/plain": [
       "'Ron was born on 12-09-1992 and he was admitted to school 15-12-1999 .'"
      ]
     },
     "execution_count": 72,
     "metadata": {},
     "output_type": "execute_result"
    }
   ],
   "source": [
    "file"
   ]
  },
  {
   "cell_type": "code",
   "execution_count": 73,
   "id": "418a25cb-1949-48b2-b0b3-88bd50311014",
   "metadata": {},
   "outputs": [
    {
     "name": "stdout",
     "output_type": "stream",
     "text": [
      "['12-09-1992', '15-12-1999']\n"
     ]
    }
   ],
   "source": [
    "pattern=re.compile('\\d{2}-\\d{2}-\\d{4}')\n",
    "matches=pattern.findall(file)\n",
    "print(matches)"
   ]
  },
  {
   "cell_type": "code",
   "execution_count": null,
   "id": "c9ac3fcd-61f9-452d-bf8b-d8991ff994e4",
   "metadata": {},
   "outputs": [],
   "source": []
  },
  {
   "cell_type": "markdown",
   "id": "b5368251-f0e3-4d1b-9fd4-4f196ef654ad",
   "metadata": {},
   "source": [
    "30. Question 30- Create a function in python to remove all words from a string of length between 2 and 4.\n",
    "The use of the re.compile() method is mandatory.\n",
    "Sample Text: \"The following example creates an ArrayList with a capacity of 50 elements. 4 elements are then added to the ArrayList and the ArrayList is trimmed accordingly.\"\n",
    "Expected Output:  following example creates ArrayList a capacity elements. 4 elements added ArrayList ArrayList trimmed accordingly."
   ]
  },
  {
   "cell_type": "code",
   "execution_count": 120,
   "id": "07982fe7-d2b4-45a1-b790-0754e39537b1",
   "metadata": {},
   "outputs": [
    {
     "name": "stdout",
     "output_type": "stream",
     "text": [
      "The following example creates an ArrayList with a capacity of 50 elements. 4 elements are then added to the ArrayList and the ArrayList is trimmed accordingly.\n"
     ]
    }
   ],
   "source": [
    "pattern=re.compile('\\b\\w{2,4}\\b')\n",
    "string1='The following example creates an ArrayList with a capacity of 50 elements. 4 elements are then added to the ArrayList and the ArrayList is trimmed accordingly.'\n",
    "matches=pattern.sub('',string1)\n",
    "print(matches)"
   ]
  },
  {
   "cell_type": "code",
   "execution_count": null,
   "id": "d8641149-06dc-4371-b99c-9c8dbe9273e2",
   "metadata": {},
   "outputs": [],
   "source": []
  },
  {
   "cell_type": "code",
   "execution_count": null,
   "id": "3d2ddd55-e3e7-4524-9d2f-e6c9f52db8a6",
   "metadata": {},
   "outputs": [],
   "source": []
  },
  {
   "cell_type": "code",
   "execution_count": null,
   "id": "ff4bda44-a2c2-4299-9d5c-526004df99c3",
   "metadata": {},
   "outputs": [],
   "source": []
  },
  {
   "cell_type": "code",
   "execution_count": null,
   "id": "6b51a980-40a7-4dec-accd-04e97cc1f15b",
   "metadata": {},
   "outputs": [],
   "source": []
  },
  {
   "cell_type": "code",
   "execution_count": null,
   "id": "ddf342b4-eeb8-4c86-9c97-fc00020a013f",
   "metadata": {},
   "outputs": [],
   "source": []
  },
  {
   "cell_type": "code",
   "execution_count": null,
   "id": "5bc91866-753d-4340-8f82-08d4e82641ae",
   "metadata": {},
   "outputs": [],
   "source": []
  },
  {
   "cell_type": "code",
   "execution_count": null,
   "id": "63c9128a-89ef-402e-b1bc-e71eb7133f82",
   "metadata": {},
   "outputs": [],
   "source": []
  },
  {
   "cell_type": "code",
   "execution_count": null,
   "id": "01918e22-cd0c-4f8e-abe7-376e57fec485",
   "metadata": {},
   "outputs": [],
   "source": []
  },
  {
   "cell_type": "code",
   "execution_count": null,
   "id": "d29e848d-8d6d-4cc2-ae97-1bb583c4dd5e",
   "metadata": {},
   "outputs": [],
   "source": []
  },
  {
   "cell_type": "code",
   "execution_count": null,
   "id": "89d902a1-5247-416f-8f9f-9fec2e9b34c0",
   "metadata": {},
   "outputs": [],
   "source": []
  },
  {
   "cell_type": "code",
   "execution_count": null,
   "id": "6f5e415b-4afa-4f79-ac83-de07b9b44c87",
   "metadata": {},
   "outputs": [],
   "source": []
  },
  {
   "cell_type": "code",
   "execution_count": null,
   "id": "92862ac9-9cb0-44cd-910f-260835910e04",
   "metadata": {},
   "outputs": [],
   "source": []
  },
  {
   "cell_type": "code",
   "execution_count": null,
   "id": "5c69f78d-6f3c-4a58-8df2-83961daf4523",
   "metadata": {},
   "outputs": [],
   "source": []
  },
  {
   "cell_type": "code",
   "execution_count": null,
   "id": "e57498bd-17cb-4061-aa9d-b1fe60fa4bec",
   "metadata": {},
   "outputs": [],
   "source": []
  },
  {
   "cell_type": "code",
   "execution_count": null,
   "id": "553e4f45-7696-4fb4-baba-39e64e312f47",
   "metadata": {},
   "outputs": [],
   "source": []
  },
  {
   "cell_type": "code",
   "execution_count": null,
   "id": "1cbc2645-257a-4c0d-874b-54a63d8af326",
   "metadata": {},
   "outputs": [],
   "source": []
  },
  {
   "cell_type": "code",
   "execution_count": null,
   "id": "a015e125-5979-4ebd-9c4a-caa211b5bcdd",
   "metadata": {},
   "outputs": [],
   "source": []
  },
  {
   "cell_type": "code",
   "execution_count": null,
   "id": "c5836753-a915-422e-9c91-b29f826c523c",
   "metadata": {},
   "outputs": [],
   "source": []
  },
  {
   "cell_type": "code",
   "execution_count": null,
   "id": "31468f6e-71b5-448f-a34e-09df603aad16",
   "metadata": {},
   "outputs": [],
   "source": []
  },
  {
   "cell_type": "code",
   "execution_count": null,
   "id": "a0f121a9-0f9a-4487-9788-2f7603f6ec67",
   "metadata": {},
   "outputs": [],
   "source": []
  },
  {
   "cell_type": "code",
   "execution_count": null,
   "id": "180e9749-d68d-4ace-b0c3-7e094beb29b5",
   "metadata": {},
   "outputs": [],
   "source": []
  },
  {
   "cell_type": "code",
   "execution_count": null,
   "id": "af911ac0-af3c-4fdd-889f-785811c09dcd",
   "metadata": {},
   "outputs": [],
   "source": []
  },
  {
   "cell_type": "code",
   "execution_count": null,
   "id": "d537d915-a932-41c0-95ef-395352521c67",
   "metadata": {},
   "outputs": [],
   "source": []
  },
  {
   "cell_type": "code",
   "execution_count": null,
   "id": "81e66dd3-03c2-46cc-99e8-98f14de89dd5",
   "metadata": {},
   "outputs": [],
   "source": []
  },
  {
   "cell_type": "code",
   "execution_count": null,
   "id": "8e7ecf38-9ccb-4d94-b3ef-2708314a7260",
   "metadata": {},
   "outputs": [],
   "source": []
  },
  {
   "cell_type": "code",
   "execution_count": null,
   "id": "0635c9b3-23d0-41ad-a8c8-66c1b9ad2e73",
   "metadata": {},
   "outputs": [],
   "source": []
  },
  {
   "cell_type": "code",
   "execution_count": null,
   "id": "dfc8f8a1-041a-42fe-85b4-5998f524f0f1",
   "metadata": {},
   "outputs": [],
   "source": []
  },
  {
   "cell_type": "code",
   "execution_count": null,
   "id": "3c6dcae7-df9c-4ed2-8682-9a6a63e1ac21",
   "metadata": {},
   "outputs": [],
   "source": []
  },
  {
   "cell_type": "code",
   "execution_count": null,
   "id": "a35de4a5-18d4-422a-b531-1bf74288b60b",
   "metadata": {},
   "outputs": [],
   "source": []
  },
  {
   "cell_type": "code",
   "execution_count": null,
   "id": "a6a8e4c6-3a86-421f-ba29-889281e4db8a",
   "metadata": {},
   "outputs": [],
   "source": []
  },
  {
   "cell_type": "code",
   "execution_count": null,
   "id": "e8722711-4158-4011-b95d-3d7ab76fb23c",
   "metadata": {},
   "outputs": [],
   "source": []
  },
  {
   "cell_type": "code",
   "execution_count": null,
   "id": "ba92443b-7789-4cbd-9d38-f91a16145e20",
   "metadata": {},
   "outputs": [],
   "source": []
  },
  {
   "cell_type": "code",
   "execution_count": null,
   "id": "c9db2b0e-2478-4575-8362-a7ec44e2b6a1",
   "metadata": {},
   "outputs": [],
   "source": []
  },
  {
   "cell_type": "code",
   "execution_count": null,
   "id": "1d5e08b9-c455-47f0-87d3-47e62ece5e0f",
   "metadata": {},
   "outputs": [],
   "source": []
  },
  {
   "cell_type": "code",
   "execution_count": null,
   "id": "205d325e-d225-4bde-8f39-85eebf4cd597",
   "metadata": {},
   "outputs": [],
   "source": []
  },
  {
   "cell_type": "code",
   "execution_count": null,
   "id": "aa7f2f91-1762-4880-be50-0c7d57d22326",
   "metadata": {},
   "outputs": [],
   "source": []
  },
  {
   "cell_type": "code",
   "execution_count": null,
   "id": "6edd4dba-fa50-4fd6-982d-14e4e800ac3a",
   "metadata": {},
   "outputs": [],
   "source": []
  },
  {
   "cell_type": "code",
   "execution_count": null,
   "id": "b6744e13-c8b6-4b34-b947-7be868274e7a",
   "metadata": {},
   "outputs": [],
   "source": []
  },
  {
   "cell_type": "code",
   "execution_count": null,
   "id": "d972ebf8-5fe1-482b-978c-52e2be0070a3",
   "metadata": {},
   "outputs": [],
   "source": []
  },
  {
   "cell_type": "code",
   "execution_count": null,
   "id": "58f439ec-4758-4388-bb7a-615ad47dabe2",
   "metadata": {},
   "outputs": [],
   "source": []
  },
  {
   "cell_type": "code",
   "execution_count": null,
   "id": "18b41cab-880a-410f-b578-1cc38c6d0809",
   "metadata": {},
   "outputs": [],
   "source": []
  },
  {
   "cell_type": "code",
   "execution_count": null,
   "id": "703f7363-3253-4b4d-81ee-4bda9262451f",
   "metadata": {},
   "outputs": [],
   "source": []
  },
  {
   "cell_type": "code",
   "execution_count": null,
   "id": "69f189bf-03d4-4fb1-84ba-8c22f2f0f265",
   "metadata": {},
   "outputs": [],
   "source": []
  },
  {
   "cell_type": "code",
   "execution_count": null,
   "id": "805d55c2-3ff4-49a1-9555-600487100316",
   "metadata": {},
   "outputs": [],
   "source": []
  },
  {
   "cell_type": "code",
   "execution_count": null,
   "id": "6c5cd5e2-9877-4c05-a5d5-dc29956095a7",
   "metadata": {},
   "outputs": [],
   "source": []
  },
  {
   "cell_type": "code",
   "execution_count": null,
   "id": "90089cda-6bc4-471f-ac33-d1bb2b3f03d9",
   "metadata": {},
   "outputs": [],
   "source": []
  },
  {
   "cell_type": "code",
   "execution_count": null,
   "id": "3b3f86c1-036a-4799-831f-8a0afec52331",
   "metadata": {},
   "outputs": [],
   "source": []
  },
  {
   "cell_type": "code",
   "execution_count": null,
   "id": "ec5d0b12-90b2-4171-bb47-9e1fc5bd9cae",
   "metadata": {},
   "outputs": [],
   "source": []
  },
  {
   "cell_type": "code",
   "execution_count": null,
   "id": "9072e398-f169-4f37-836f-1e140891a635",
   "metadata": {},
   "outputs": [],
   "source": []
  },
  {
   "cell_type": "code",
   "execution_count": null,
   "id": "99bafead-2f15-4f05-b5ba-8bd5e5cafdb7",
   "metadata": {},
   "outputs": [],
   "source": []
  },
  {
   "cell_type": "code",
   "execution_count": null,
   "id": "0ed17b7f-d5ef-4ecf-9bb1-4377b46322b6",
   "metadata": {},
   "outputs": [],
   "source": []
  },
  {
   "cell_type": "code",
   "execution_count": null,
   "id": "dbf03631-e300-4f1e-b9a5-89ad7e9df3cf",
   "metadata": {},
   "outputs": [],
   "source": []
  },
  {
   "cell_type": "code",
   "execution_count": null,
   "id": "78bf4e7b-c86a-4bf2-9052-c8663c04ca65",
   "metadata": {},
   "outputs": [],
   "source": []
  },
  {
   "cell_type": "code",
   "execution_count": null,
   "id": "7e7b822a-7f39-44e6-80fd-bd19d02ffd07",
   "metadata": {},
   "outputs": [],
   "source": []
  },
  {
   "cell_type": "code",
   "execution_count": null,
   "id": "1ee2bbe3-17b8-44f4-81c1-45107344ce8d",
   "metadata": {},
   "outputs": [],
   "source": []
  },
  {
   "cell_type": "code",
   "execution_count": null,
   "id": "79fbf7db-8005-4be0-bb56-089bea905d43",
   "metadata": {},
   "outputs": [],
   "source": []
  },
  {
   "cell_type": "code",
   "execution_count": null,
   "id": "5af415aa-0197-4a85-88ac-dc982863c067",
   "metadata": {},
   "outputs": [],
   "source": []
  },
  {
   "cell_type": "code",
   "execution_count": null,
   "id": "d12e1d00-a606-44c8-82c6-9b4633f0f753",
   "metadata": {},
   "outputs": [],
   "source": []
  },
  {
   "cell_type": "code",
   "execution_count": null,
   "id": "0496a67a-d7cc-4608-a43a-6981df8f7e6d",
   "metadata": {},
   "outputs": [],
   "source": []
  },
  {
   "cell_type": "code",
   "execution_count": null,
   "id": "94777e9a-0f0d-4a26-8f20-b77b8c51eef0",
   "metadata": {},
   "outputs": [],
   "source": []
  },
  {
   "cell_type": "code",
   "execution_count": null,
   "id": "304424b7-6398-4a0c-8035-0520818181a3",
   "metadata": {},
   "outputs": [],
   "source": []
  },
  {
   "cell_type": "code",
   "execution_count": null,
   "id": "f2da644f-accc-4f0b-9f1e-4d84007fc3a2",
   "metadata": {},
   "outputs": [],
   "source": []
  },
  {
   "cell_type": "code",
   "execution_count": null,
   "id": "0d44831b-0a09-4309-8519-ef224a4f3ff8",
   "metadata": {},
   "outputs": [],
   "source": []
  },
  {
   "cell_type": "code",
   "execution_count": null,
   "id": "68e58970-7b43-402d-924c-1d41f80defda",
   "metadata": {},
   "outputs": [],
   "source": []
  },
  {
   "cell_type": "code",
   "execution_count": null,
   "id": "77aa27a7-36d4-412b-b170-a70e025438ff",
   "metadata": {},
   "outputs": [],
   "source": []
  },
  {
   "cell_type": "code",
   "execution_count": null,
   "id": "7d363f6b-150f-4ff5-a31e-a4f0b40a11cd",
   "metadata": {},
   "outputs": [],
   "source": []
  },
  {
   "cell_type": "code",
   "execution_count": null,
   "id": "0ed80dcd-6bb9-44e6-81e7-7d3c5138f76f",
   "metadata": {},
   "outputs": [],
   "source": []
  },
  {
   "cell_type": "code",
   "execution_count": null,
   "id": "cbedeaae-2b19-4792-806a-9b3e24680660",
   "metadata": {},
   "outputs": [],
   "source": []
  },
  {
   "cell_type": "code",
   "execution_count": null,
   "id": "e2a69bd7-e0ad-4a02-8615-502525988e2d",
   "metadata": {},
   "outputs": [],
   "source": []
  },
  {
   "cell_type": "code",
   "execution_count": null,
   "id": "628b286f-27c7-4188-a865-4b5dcc8cca10",
   "metadata": {},
   "outputs": [],
   "source": []
  },
  {
   "cell_type": "code",
   "execution_count": null,
   "id": "b3c70d11-c27c-41f0-b4c0-dfd21c4c158a",
   "metadata": {},
   "outputs": [],
   "source": []
  },
  {
   "cell_type": "code",
   "execution_count": null,
   "id": "fc37b9a3-7f7e-42b7-894e-1cb5c5dbab75",
   "metadata": {},
   "outputs": [],
   "source": []
  },
  {
   "cell_type": "code",
   "execution_count": null,
   "id": "29688bc2-8099-48b9-85b6-0139e30b36e1",
   "metadata": {},
   "outputs": [],
   "source": []
  },
  {
   "cell_type": "code",
   "execution_count": null,
   "id": "1c5d5ffe-0e4c-4496-b4d1-ce1ff5602897",
   "metadata": {},
   "outputs": [],
   "source": []
  },
  {
   "cell_type": "code",
   "execution_count": null,
   "id": "ab099d09-1576-415f-a047-2d917ecd49d0",
   "metadata": {},
   "outputs": [],
   "source": []
  },
  {
   "cell_type": "code",
   "execution_count": null,
   "id": "d7076afb-3785-4a77-bad1-ae5792cfbedd",
   "metadata": {},
   "outputs": [],
   "source": []
  },
  {
   "cell_type": "code",
   "execution_count": null,
   "id": "78b973e8-d5d1-4f43-bd29-1f1d7418b8e8",
   "metadata": {},
   "outputs": [],
   "source": []
  },
  {
   "cell_type": "code",
   "execution_count": null,
   "id": "da9306f8-6919-4866-89f6-4992b73f9808",
   "metadata": {},
   "outputs": [],
   "source": []
  },
  {
   "cell_type": "code",
   "execution_count": null,
   "id": "ce8e956c-d074-4428-b53b-c219910f1ab7",
   "metadata": {},
   "outputs": [],
   "source": []
  },
  {
   "cell_type": "code",
   "execution_count": null,
   "id": "3953696e-8a33-44d5-a6d8-c58c11031068",
   "metadata": {},
   "outputs": [],
   "source": []
  },
  {
   "cell_type": "code",
   "execution_count": null,
   "id": "ae14fe49-a031-4067-a841-6a142f9645b5",
   "metadata": {},
   "outputs": [],
   "source": []
  },
  {
   "cell_type": "code",
   "execution_count": null,
   "id": "21ffb732-aaa4-4cda-a835-9b530e136b97",
   "metadata": {},
   "outputs": [],
   "source": []
  },
  {
   "cell_type": "code",
   "execution_count": null,
   "id": "e42efe8b-772a-4923-84ee-73bacedfb538",
   "metadata": {},
   "outputs": [],
   "source": []
  },
  {
   "cell_type": "code",
   "execution_count": null,
   "id": "6a9e910b-41d5-4173-a82b-52a30142f4b9",
   "metadata": {},
   "outputs": [],
   "source": []
  },
  {
   "cell_type": "code",
   "execution_count": null,
   "id": "f5902159-9316-4145-8063-f347b1269bf1",
   "metadata": {},
   "outputs": [],
   "source": []
  },
  {
   "cell_type": "code",
   "execution_count": null,
   "id": "a0bea599-a6a4-4d5f-ad25-39fdc73c1b8f",
   "metadata": {},
   "outputs": [],
   "source": []
  },
  {
   "cell_type": "code",
   "execution_count": null,
   "id": "9a029910-5add-4c85-b548-787e92e5142c",
   "metadata": {},
   "outputs": [],
   "source": []
  },
  {
   "cell_type": "code",
   "execution_count": null,
   "id": "7e1cbcaa-59bf-43fe-ada5-9cab9ed45c2e",
   "metadata": {},
   "outputs": [],
   "source": []
  },
  {
   "cell_type": "code",
   "execution_count": null,
   "id": "e5482a25-3c75-4cc1-82d3-330122525e6d",
   "metadata": {},
   "outputs": [],
   "source": []
  },
  {
   "cell_type": "code",
   "execution_count": null,
   "id": "f7f6bed0-4867-4a77-9da7-bd490f4b5c67",
   "metadata": {},
   "outputs": [],
   "source": []
  },
  {
   "cell_type": "code",
   "execution_count": null,
   "id": "d9475407-95f5-456d-a1b9-b84a6b53761f",
   "metadata": {},
   "outputs": [],
   "source": []
  },
  {
   "cell_type": "code",
   "execution_count": null,
   "id": "7869ce1c-4af0-44db-9ea1-2fe152c2f77d",
   "metadata": {},
   "outputs": [],
   "source": []
  },
  {
   "cell_type": "code",
   "execution_count": null,
   "id": "dbe6950b-6ee4-4d7d-818c-678a25349143",
   "metadata": {},
   "outputs": [],
   "source": []
  },
  {
   "cell_type": "code",
   "execution_count": null,
   "id": "f10e15a3-108f-4526-8cba-43aa99dbffbd",
   "metadata": {},
   "outputs": [],
   "source": []
  },
  {
   "cell_type": "code",
   "execution_count": null,
   "id": "4790ef60-b6ec-4a5d-a998-dd08a603b851",
   "metadata": {},
   "outputs": [],
   "source": []
  },
  {
   "cell_type": "code",
   "execution_count": null,
   "id": "25037a40-8136-480c-8d3d-89cdf8e9ee5c",
   "metadata": {},
   "outputs": [],
   "source": []
  },
  {
   "cell_type": "code",
   "execution_count": null,
   "id": "38361cfe-08d5-445d-a479-797779dca8fd",
   "metadata": {},
   "outputs": [],
   "source": []
  },
  {
   "cell_type": "code",
   "execution_count": null,
   "id": "cd8e8b23-4757-4c1e-9e5e-3cc26038af03",
   "metadata": {},
   "outputs": [],
   "source": []
  },
  {
   "cell_type": "code",
   "execution_count": null,
   "id": "966b657c-40de-4034-b13e-e4885653ad05",
   "metadata": {},
   "outputs": [],
   "source": []
  },
  {
   "cell_type": "code",
   "execution_count": null,
   "id": "ed9e1980-9e9b-4705-98a0-2d2839c9116d",
   "metadata": {},
   "outputs": [],
   "source": []
  },
  {
   "cell_type": "code",
   "execution_count": null,
   "id": "298f559e-03d0-4523-95d8-09265d476a10",
   "metadata": {},
   "outputs": [],
   "source": []
  },
  {
   "cell_type": "code",
   "execution_count": null,
   "id": "7220adfe-0e09-43d6-abf9-d6a6028d342b",
   "metadata": {},
   "outputs": [],
   "source": []
  },
  {
   "cell_type": "code",
   "execution_count": null,
   "id": "49b065b7-1907-4367-affd-d3b1247495a9",
   "metadata": {},
   "outputs": [],
   "source": []
  },
  {
   "cell_type": "code",
   "execution_count": null,
   "id": "5f44694a-b3ee-4d39-ac6a-b737c9762a45",
   "metadata": {},
   "outputs": [],
   "source": []
  },
  {
   "cell_type": "code",
   "execution_count": null,
   "id": "844bf4d7-756e-430a-9521-289db65a4526",
   "metadata": {},
   "outputs": [],
   "source": []
  },
  {
   "cell_type": "code",
   "execution_count": null,
   "id": "72e42ef3-d067-40be-846c-78efe8bf807d",
   "metadata": {},
   "outputs": [],
   "source": []
  },
  {
   "cell_type": "code",
   "execution_count": null,
   "id": "8322bcd2-dc9f-4147-a256-885aac1cd087",
   "metadata": {},
   "outputs": [],
   "source": []
  },
  {
   "cell_type": "code",
   "execution_count": null,
   "id": "fa1ede83-015b-4944-891b-1f65cc4aa692",
   "metadata": {},
   "outputs": [],
   "source": []
  },
  {
   "cell_type": "code",
   "execution_count": null,
   "id": "3762593f-7a3a-4c54-a319-bb90c348354b",
   "metadata": {},
   "outputs": [],
   "source": []
  },
  {
   "cell_type": "code",
   "execution_count": null,
   "id": "d6861ef6-a48b-4b34-aad7-dde2deb465c9",
   "metadata": {},
   "outputs": [],
   "source": []
  },
  {
   "cell_type": "code",
   "execution_count": null,
   "id": "ef2bd62f-e488-437a-a15c-66bfbf813ff1",
   "metadata": {},
   "outputs": [],
   "source": []
  },
  {
   "cell_type": "code",
   "execution_count": null,
   "id": "11eea829-c451-45d3-852e-ca227c748e2b",
   "metadata": {},
   "outputs": [],
   "source": []
  },
  {
   "cell_type": "code",
   "execution_count": null,
   "id": "08dbf0c5-3cff-4be3-83cb-418fac769996",
   "metadata": {},
   "outputs": [],
   "source": []
  },
  {
   "cell_type": "code",
   "execution_count": null,
   "id": "914ad562-3df2-49b2-bc37-7d6fb90fad41",
   "metadata": {},
   "outputs": [],
   "source": []
  },
  {
   "cell_type": "code",
   "execution_count": null,
   "id": "0e88963a-d477-443c-8a4d-44715b93b5bb",
   "metadata": {},
   "outputs": [],
   "source": []
  },
  {
   "cell_type": "code",
   "execution_count": null,
   "id": "28c7e2f8-f6a3-457f-b4d5-f935122220ce",
   "metadata": {},
   "outputs": [],
   "source": []
  },
  {
   "cell_type": "code",
   "execution_count": null,
   "id": "f1cfa50b-9311-4572-a456-971fe20d57c5",
   "metadata": {},
   "outputs": [],
   "source": []
  },
  {
   "cell_type": "code",
   "execution_count": null,
   "id": "4cc238bc-7b53-4c7d-937e-23cee3b37b02",
   "metadata": {},
   "outputs": [],
   "source": []
  },
  {
   "cell_type": "code",
   "execution_count": null,
   "id": "369a0ddb-f319-44f6-9b02-a1a6f5cfefee",
   "metadata": {},
   "outputs": [],
   "source": []
  },
  {
   "cell_type": "code",
   "execution_count": null,
   "id": "398382c0-0ba5-4d74-a940-86a381f5908b",
   "metadata": {},
   "outputs": [],
   "source": []
  },
  {
   "cell_type": "code",
   "execution_count": null,
   "id": "af837c99-f586-4a27-a596-513d2e875154",
   "metadata": {},
   "outputs": [],
   "source": []
  },
  {
   "cell_type": "code",
   "execution_count": null,
   "id": "d0b393db-53cd-4fa9-bb6e-8022a5f36575",
   "metadata": {},
   "outputs": [],
   "source": []
  },
  {
   "cell_type": "code",
   "execution_count": null,
   "id": "2ed43f33-0701-4df3-b120-b49d353227c8",
   "metadata": {},
   "outputs": [],
   "source": []
  },
  {
   "cell_type": "code",
   "execution_count": null,
   "id": "bb82b38a-cc12-46c2-bda4-d8637ad365e5",
   "metadata": {},
   "outputs": [],
   "source": []
  },
  {
   "cell_type": "code",
   "execution_count": null,
   "id": "f0f8ea73-7a61-4bb6-bb30-c1e05e88b70d",
   "metadata": {},
   "outputs": [],
   "source": []
  },
  {
   "cell_type": "code",
   "execution_count": null,
   "id": "d962ba98-c337-4c76-b3d2-562a97806384",
   "metadata": {},
   "outputs": [],
   "source": []
  },
  {
   "cell_type": "code",
   "execution_count": null,
   "id": "52f83230-5cfd-4281-a710-00c5cbc7c21f",
   "metadata": {},
   "outputs": [],
   "source": []
  },
  {
   "cell_type": "code",
   "execution_count": null,
   "id": "e05e00a7-358b-4ef2-8d58-2a8db9581145",
   "metadata": {},
   "outputs": [],
   "source": []
  },
  {
   "cell_type": "code",
   "execution_count": null,
   "id": "650d2454-5f06-40c9-b127-8ea9e1777ff9",
   "metadata": {},
   "outputs": [],
   "source": []
  },
  {
   "cell_type": "code",
   "execution_count": null,
   "id": "41b9f3c5-9f6d-4d7a-b714-94d51805be4c",
   "metadata": {},
   "outputs": [],
   "source": []
  },
  {
   "cell_type": "code",
   "execution_count": null,
   "id": "9e0cb47c-abfc-45ee-af2d-563bda7f3112",
   "metadata": {},
   "outputs": [],
   "source": []
  },
  {
   "cell_type": "code",
   "execution_count": null,
   "id": "909763d7-97a4-4f2e-95c2-c171dd231b28",
   "metadata": {},
   "outputs": [],
   "source": []
  },
  {
   "cell_type": "code",
   "execution_count": null,
   "id": "a17b143e-d284-48b1-8c1b-924d5a3a765e",
   "metadata": {},
   "outputs": [],
   "source": []
  },
  {
   "cell_type": "code",
   "execution_count": null,
   "id": "a1a39480-f358-482a-8c42-5b12d1cc3a0b",
   "metadata": {},
   "outputs": [],
   "source": []
  },
  {
   "cell_type": "code",
   "execution_count": null,
   "id": "1adac6d0-88d7-44b3-8901-e9f70f81bbc5",
   "metadata": {},
   "outputs": [],
   "source": []
  },
  {
   "cell_type": "code",
   "execution_count": null,
   "id": "38a72514-0731-4d2c-847a-696766d91bcf",
   "metadata": {},
   "outputs": [],
   "source": []
  },
  {
   "cell_type": "code",
   "execution_count": null,
   "id": "511d2200-2656-4875-9788-82fc6a244564",
   "metadata": {},
   "outputs": [],
   "source": []
  },
  {
   "cell_type": "code",
   "execution_count": null,
   "id": "f8859188-3ebb-4be9-b0b1-5818749df2eb",
   "metadata": {},
   "outputs": [],
   "source": []
  },
  {
   "cell_type": "code",
   "execution_count": null,
   "id": "e85d93c3-8a2d-41de-a53e-a8e6610e192c",
   "metadata": {},
   "outputs": [],
   "source": []
  },
  {
   "cell_type": "code",
   "execution_count": null,
   "id": "2c0650e5-c8cc-4daf-9bb0-2d03b519d19f",
   "metadata": {},
   "outputs": [],
   "source": []
  },
  {
   "cell_type": "code",
   "execution_count": null,
   "id": "f5e04b30-e7ff-4d0d-9788-d6bf85e76b81",
   "metadata": {},
   "outputs": [],
   "source": []
  },
  {
   "cell_type": "code",
   "execution_count": null,
   "id": "0c379390-ca21-4549-9933-d9bf04352562",
   "metadata": {},
   "outputs": [],
   "source": []
  },
  {
   "cell_type": "code",
   "execution_count": null,
   "id": "b4357070-3657-450b-8358-afda657760d9",
   "metadata": {},
   "outputs": [],
   "source": []
  },
  {
   "cell_type": "code",
   "execution_count": null,
   "id": "69f712ac-55a3-4382-be24-bc8a082d6e47",
   "metadata": {},
   "outputs": [],
   "source": []
  },
  {
   "cell_type": "code",
   "execution_count": null,
   "id": "00a76c9a-1448-4172-987b-f5faa516bdd4",
   "metadata": {},
   "outputs": [],
   "source": []
  },
  {
   "cell_type": "code",
   "execution_count": null,
   "id": "aead5a8d-1eb9-44bb-8184-002747cbcee4",
   "metadata": {},
   "outputs": [],
   "source": []
  },
  {
   "cell_type": "code",
   "execution_count": null,
   "id": "ca9fc778-cce2-4e11-aea7-9b9208747b1a",
   "metadata": {},
   "outputs": [],
   "source": []
  },
  {
   "cell_type": "code",
   "execution_count": null,
   "id": "fae78a79-4086-4eb2-bbab-69d884b1c65d",
   "metadata": {},
   "outputs": [],
   "source": []
  },
  {
   "cell_type": "code",
   "execution_count": null,
   "id": "88ffc733-b5f0-413f-b0aa-b9db4374b569",
   "metadata": {},
   "outputs": [],
   "source": []
  },
  {
   "cell_type": "code",
   "execution_count": null,
   "id": "67cd635c-2589-4be8-a202-9a41dccefb44",
   "metadata": {},
   "outputs": [],
   "source": []
  },
  {
   "cell_type": "code",
   "execution_count": null,
   "id": "b61da737-ef1e-4db2-9cbf-6f05ac12500b",
   "metadata": {},
   "outputs": [],
   "source": []
  },
  {
   "cell_type": "code",
   "execution_count": null,
   "id": "c3125541-3476-4e76-b1ca-4e8ddafd01c9",
   "metadata": {},
   "outputs": [],
   "source": []
  },
  {
   "cell_type": "code",
   "execution_count": null,
   "id": "94315fe7-e792-4725-859c-e849beb0e69f",
   "metadata": {},
   "outputs": [],
   "source": [
    "6. "
   ]
  },
  {
   "cell_type": "code",
   "execution_count": null,
   "id": "3085bc80-e5b1-4c22-803c-652e788dfd80",
   "metadata": {},
   "outputs": [],
   "source": []
  },
  {
   "cell_type": "code",
   "execution_count": null,
   "id": "e00d3d6f-cd75-4cd3-bec0-d6fe7dc4602c",
   "metadata": {},
   "outputs": [],
   "source": []
  },
  {
   "cell_type": "code",
   "execution_count": null,
   "id": "0ab9176f-fb9f-423f-8b62-d3ed759aa4ad",
   "metadata": {},
   "outputs": [],
   "source": []
  },
  {
   "cell_type": "code",
   "execution_count": null,
   "id": "72646490-eaf9-44c2-b63c-d20ffb0d3f12",
   "metadata": {},
   "outputs": [],
   "source": []
  },
  {
   "cell_type": "code",
   "execution_count": null,
   "id": "5e832b2f-f0b2-4722-8343-92b570be9cfc",
   "metadata": {},
   "outputs": [],
   "source": []
  },
  {
   "cell_type": "code",
   "execution_count": null,
   "id": "48efcd80-442c-4854-a893-73f63fe5be74",
   "metadata": {},
   "outputs": [],
   "source": []
  },
  {
   "cell_type": "code",
   "execution_count": null,
   "id": "1223fdbf-096d-47a0-9aae-5d911cd16821",
   "metadata": {},
   "outputs": [],
   "source": []
  },
  {
   "cell_type": "code",
   "execution_count": null,
   "id": "c0ab107d-fc01-41aa-9729-d5fd5a03462e",
   "metadata": {},
   "outputs": [],
   "source": []
  },
  {
   "cell_type": "code",
   "execution_count": null,
   "id": "670c8e79-ef73-4103-8edc-1a393ae03edd",
   "metadata": {},
   "outputs": [],
   "source": []
  },
  {
   "cell_type": "code",
   "execution_count": null,
   "id": "101820b1-a21b-418b-8f74-c4be7ccb2170",
   "metadata": {},
   "outputs": [],
   "source": []
  },
  {
   "cell_type": "code",
   "execution_count": null,
   "id": "151fd3b6-e28c-4fec-85fa-1a30f921a9b6",
   "metadata": {},
   "outputs": [],
   "source": []
  },
  {
   "cell_type": "code",
   "execution_count": null,
   "id": "db0dbc78-ee95-431a-b486-a5015190c678",
   "metadata": {},
   "outputs": [],
   "source": []
  },
  {
   "cell_type": "code",
   "execution_count": null,
   "id": "e7ba9ae1-f93b-477b-a291-f5233bb175f5",
   "metadata": {},
   "outputs": [],
   "source": []
  },
  {
   "cell_type": "code",
   "execution_count": null,
   "id": "4a85d095-341f-45db-bc7e-ccc125fefa4e",
   "metadata": {},
   "outputs": [],
   "source": []
  },
  {
   "cell_type": "code",
   "execution_count": null,
   "id": "667868c7-2fa8-4121-920b-6d33e849cd89",
   "metadata": {},
   "outputs": [],
   "source": []
  },
  {
   "cell_type": "code",
   "execution_count": null,
   "id": "281b96ee-dfc9-464f-8ae4-f4c4c0212987",
   "metadata": {},
   "outputs": [],
   "source": []
  },
  {
   "cell_type": "code",
   "execution_count": null,
   "id": "8740c85f-f55b-4872-9206-cabd16854d4a",
   "metadata": {},
   "outputs": [],
   "source": []
  },
  {
   "cell_type": "code",
   "execution_count": null,
   "id": "8c55f769-7f20-4563-9046-d00539dc697c",
   "metadata": {},
   "outputs": [],
   "source": []
  },
  {
   "cell_type": "code",
   "execution_count": null,
   "id": "f259b4a0-3c7e-4b91-a84a-1176cd40c317",
   "metadata": {},
   "outputs": [],
   "source": []
  },
  {
   "cell_type": "code",
   "execution_count": null,
   "id": "72dffeee-375b-4898-ba19-0c967ba8be7c",
   "metadata": {},
   "outputs": [],
   "source": []
  },
  {
   "cell_type": "code",
   "execution_count": null,
   "id": "d31310c5-bc4b-45b1-9def-ca4041845501",
   "metadata": {},
   "outputs": [],
   "source": []
  },
  {
   "cell_type": "code",
   "execution_count": null,
   "id": "8d204415-fa80-4e97-a66d-58ccd1b3b9af",
   "metadata": {},
   "outputs": [],
   "source": []
  },
  {
   "cell_type": "code",
   "execution_count": null,
   "id": "24f2a10e-fd85-4f55-a90e-cfe6877fc03a",
   "metadata": {},
   "outputs": [],
   "source": []
  },
  {
   "cell_type": "code",
   "execution_count": null,
   "id": "948e6fe5-daf9-4a90-9ee2-d9f6396438d9",
   "metadata": {},
   "outputs": [],
   "source": []
  },
  {
   "cell_type": "code",
   "execution_count": null,
   "id": "54417024-27eb-4aa9-b183-7a5d44bec310",
   "metadata": {},
   "outputs": [],
   "source": []
  },
  {
   "cell_type": "code",
   "execution_count": null,
   "id": "60a418ee-18ec-42e4-8a3b-cb3f634c6610",
   "metadata": {},
   "outputs": [],
   "source": []
  },
  {
   "cell_type": "code",
   "execution_count": null,
   "id": "3315e854-191d-45f5-9431-15942b08e694",
   "metadata": {},
   "outputs": [],
   "source": []
  },
  {
   "cell_type": "code",
   "execution_count": null,
   "id": "bf093c28-2b1d-4d0c-a5c4-21ec74f1246a",
   "metadata": {},
   "outputs": [],
   "source": []
  },
  {
   "cell_type": "code",
   "execution_count": null,
   "id": "43ca0d7f-981b-489d-8999-4f071cf351a9",
   "metadata": {},
   "outputs": [],
   "source": []
  },
  {
   "cell_type": "code",
   "execution_count": null,
   "id": "044af2ec-91b8-4066-96cb-a752e998544d",
   "metadata": {},
   "outputs": [],
   "source": []
  },
  {
   "cell_type": "code",
   "execution_count": null,
   "id": "c95e1baf-72b8-442d-b922-c05776bea0c0",
   "metadata": {},
   "outputs": [],
   "source": []
  },
  {
   "cell_type": "code",
   "execution_count": null,
   "id": "315e5d43-4122-4fd2-aa00-8e5cdbe3dad4",
   "metadata": {},
   "outputs": [],
   "source": []
  },
  {
   "cell_type": "code",
   "execution_count": null,
   "id": "cc104e7d-e27a-463e-a414-cff7751b4606",
   "metadata": {},
   "outputs": [],
   "source": []
  },
  {
   "cell_type": "code",
   "execution_count": null,
   "id": "9402e1de-485a-4508-8bf2-b8db21cbc8f6",
   "metadata": {},
   "outputs": [],
   "source": []
  },
  {
   "cell_type": "code",
   "execution_count": null,
   "id": "0751ae28-e566-4575-a605-23b0e51cd097",
   "metadata": {},
   "outputs": [],
   "source": []
  },
  {
   "cell_type": "code",
   "execution_count": null,
   "id": "2e9e4069-3b8a-4b7f-8cc4-7337f7d4683a",
   "metadata": {},
   "outputs": [],
   "source": []
  },
  {
   "cell_type": "code",
   "execution_count": null,
   "id": "99207f05-7bba-4446-ad79-2f1c48f0ee44",
   "metadata": {},
   "outputs": [],
   "source": []
  },
  {
   "cell_type": "code",
   "execution_count": null,
   "id": "6c68f9dc-0721-4571-a61c-3bdd64d3cf8b",
   "metadata": {},
   "outputs": [],
   "source": []
  },
  {
   "cell_type": "code",
   "execution_count": null,
   "id": "bb579bf6-e847-4916-8856-fd56e09518d5",
   "metadata": {},
   "outputs": [],
   "source": []
  },
  {
   "cell_type": "code",
   "execution_count": null,
   "id": "169ec9e4-f06b-4998-b2e9-91b63b32d467",
   "metadata": {},
   "outputs": [],
   "source": []
  },
  {
   "cell_type": "code",
   "execution_count": null,
   "id": "2e3dc0ce-99d0-4c91-8f77-550b47869000",
   "metadata": {},
   "outputs": [],
   "source": []
  },
  {
   "cell_type": "code",
   "execution_count": null,
   "id": "7b78b0b7-d0f3-4ba5-80da-f4ef25981f13",
   "metadata": {},
   "outputs": [],
   "source": []
  },
  {
   "cell_type": "code",
   "execution_count": null,
   "id": "54fa1c47-0066-4954-8227-8f08beaa6ddf",
   "metadata": {},
   "outputs": [],
   "source": []
  },
  {
   "cell_type": "code",
   "execution_count": null,
   "id": "e2999c6c-dcef-4333-9a12-49e8b576382e",
   "metadata": {},
   "outputs": [],
   "source": []
  },
  {
   "cell_type": "code",
   "execution_count": null,
   "id": "674157be-4c07-414f-8158-8b4fa3aaa82f",
   "metadata": {},
   "outputs": [],
   "source": []
  },
  {
   "cell_type": "code",
   "execution_count": null,
   "id": "ac1f19d4-b72c-4f8e-af7e-eda6cd51e7a3",
   "metadata": {},
   "outputs": [],
   "source": []
  },
  {
   "cell_type": "code",
   "execution_count": null,
   "id": "b3928f5b-658a-4ce8-9b70-5ff387ff1218",
   "metadata": {},
   "outputs": [],
   "source": []
  },
  {
   "cell_type": "code",
   "execution_count": null,
   "id": "6b2ae011-01d3-4d13-a06e-c4a0c3c6adff",
   "metadata": {},
   "outputs": [],
   "source": []
  },
  {
   "cell_type": "code",
   "execution_count": null,
   "id": "5f5a6058-04b1-4f47-9d6b-fc420a6e964f",
   "metadata": {},
   "outputs": [],
   "source": []
  },
  {
   "cell_type": "code",
   "execution_count": null,
   "id": "e1672dae-b761-4d6f-a4b0-737569406d69",
   "metadata": {},
   "outputs": [],
   "source": []
  }
 ],
 "metadata": {
  "kernelspec": {
   "display_name": "Python 3 (ipykernel)",
   "language": "python",
   "name": "python3"
  },
  "language_info": {
   "codemirror_mode": {
    "name": "ipython",
    "version": 3
   },
   "file_extension": ".py",
   "mimetype": "text/x-python",
   "name": "python",
   "nbconvert_exporter": "python",
   "pygments_lexer": "ipython3",
   "version": "3.11.7"
  }
 },
 "nbformat": 4,
 "nbformat_minor": 5
}
